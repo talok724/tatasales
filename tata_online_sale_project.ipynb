{
 "cells": [
  {
   "cell_type": "code",
   "execution_count": 1,
   "id": "f96cef24-570b-47d3-b4c5-51dc5405452c",
   "metadata": {},
   "outputs": [],
   "source": [
    "import pandas as pd  # pandas library for dataframe\n",
    "import numpy as np   # numpy library for number\n",
    "import matplotlib.pyplot as plt\n",
    "%matplotlib inline\n",
    "from sklearn.preprocessing import PowerTransformer\n",
    "import seaborn as sns\n",
    "from sklearn.impute import SimpleImputer\n",
    "\n"
   ]
  },
  {
   "cell_type": "code",
   "execution_count": 2,
   "id": "038fb75d-12cb-4fca-a3f1-dce4841022af",
   "metadata": {},
   "outputs": [],
   "source": [
    "raw_df = pd.read_csv(\"Online Retail Data Set.csv\",encoding=\"latin1\")"
   ]
  },
  {
   "cell_type": "code",
   "execution_count": 3,
   "id": "741af6cb-574c-46c2-8fa5-5405b8b97bea",
   "metadata": {},
   "outputs": [
    {
     "data": {
      "text/html": [
       "<div>\n",
       "<style scoped>\n",
       "    .dataframe tbody tr th:only-of-type {\n",
       "        vertical-align: middle;\n",
       "    }\n",
       "\n",
       "    .dataframe tbody tr th {\n",
       "        vertical-align: top;\n",
       "    }\n",
       "\n",
       "    .dataframe thead th {\n",
       "        text-align: right;\n",
       "    }\n",
       "</style>\n",
       "<table border=\"1\" class=\"dataframe\">\n",
       "  <thead>\n",
       "    <tr style=\"text-align: right;\">\n",
       "      <th></th>\n",
       "      <th>InvoiceNo</th>\n",
       "      <th>StockCode</th>\n",
       "      <th>Description</th>\n",
       "      <th>Quantity</th>\n",
       "      <th>InvoiceDate</th>\n",
       "      <th>UnitPrice</th>\n",
       "      <th>CustomerID</th>\n",
       "      <th>Country</th>\n",
       "    </tr>\n",
       "  </thead>\n",
       "  <tbody>\n",
       "    <tr>\n",
       "      <th>0</th>\n",
       "      <td>536365</td>\n",
       "      <td>85123A</td>\n",
       "      <td>WHITE HANGING HEART T-LIGHT HOLDER</td>\n",
       "      <td>6</td>\n",
       "      <td>01-12-2010 08:26</td>\n",
       "      <td>2.55</td>\n",
       "      <td>17850.0</td>\n",
       "      <td>United Kingdom</td>\n",
       "    </tr>\n",
       "    <tr>\n",
       "      <th>1</th>\n",
       "      <td>536365</td>\n",
       "      <td>71053</td>\n",
       "      <td>WHITE METAL LANTERN</td>\n",
       "      <td>6</td>\n",
       "      <td>01-12-2010 08:26</td>\n",
       "      <td>3.39</td>\n",
       "      <td>17850.0</td>\n",
       "      <td>United Kingdom</td>\n",
       "    </tr>\n",
       "    <tr>\n",
       "      <th>2</th>\n",
       "      <td>536365</td>\n",
       "      <td>84406B</td>\n",
       "      <td>CREAM CUPID HEARTS COAT HANGER</td>\n",
       "      <td>8</td>\n",
       "      <td>01-12-2010 08:26</td>\n",
       "      <td>2.75</td>\n",
       "      <td>17850.0</td>\n",
       "      <td>United Kingdom</td>\n",
       "    </tr>\n",
       "    <tr>\n",
       "      <th>3</th>\n",
       "      <td>536365</td>\n",
       "      <td>84029G</td>\n",
       "      <td>KNITTED UNION FLAG HOT WATER BOTTLE</td>\n",
       "      <td>6</td>\n",
       "      <td>01-12-2010 08:26</td>\n",
       "      <td>3.39</td>\n",
       "      <td>17850.0</td>\n",
       "      <td>United Kingdom</td>\n",
       "    </tr>\n",
       "    <tr>\n",
       "      <th>4</th>\n",
       "      <td>536365</td>\n",
       "      <td>84029E</td>\n",
       "      <td>RED WOOLLY HOTTIE WHITE HEART.</td>\n",
       "      <td>6</td>\n",
       "      <td>01-12-2010 08:26</td>\n",
       "      <td>3.39</td>\n",
       "      <td>17850.0</td>\n",
       "      <td>United Kingdom</td>\n",
       "    </tr>\n",
       "    <tr>\n",
       "      <th>...</th>\n",
       "      <td>...</td>\n",
       "      <td>...</td>\n",
       "      <td>...</td>\n",
       "      <td>...</td>\n",
       "      <td>...</td>\n",
       "      <td>...</td>\n",
       "      <td>...</td>\n",
       "      <td>...</td>\n",
       "    </tr>\n",
       "    <tr>\n",
       "      <th>541904</th>\n",
       "      <td>581587</td>\n",
       "      <td>22613</td>\n",
       "      <td>PACK OF 20 SPACEBOY NAPKINS</td>\n",
       "      <td>12</td>\n",
       "      <td>09-12-2011 12:50</td>\n",
       "      <td>0.85</td>\n",
       "      <td>12680.0</td>\n",
       "      <td>France</td>\n",
       "    </tr>\n",
       "    <tr>\n",
       "      <th>541905</th>\n",
       "      <td>581587</td>\n",
       "      <td>22899</td>\n",
       "      <td>CHILDREN'S APRON DOLLY GIRL</td>\n",
       "      <td>6</td>\n",
       "      <td>09-12-2011 12:50</td>\n",
       "      <td>2.10</td>\n",
       "      <td>12680.0</td>\n",
       "      <td>France</td>\n",
       "    </tr>\n",
       "    <tr>\n",
       "      <th>541906</th>\n",
       "      <td>581587</td>\n",
       "      <td>23254</td>\n",
       "      <td>CHILDRENS CUTLERY DOLLY GIRL</td>\n",
       "      <td>4</td>\n",
       "      <td>09-12-2011 12:50</td>\n",
       "      <td>4.15</td>\n",
       "      <td>12680.0</td>\n",
       "      <td>France</td>\n",
       "    </tr>\n",
       "    <tr>\n",
       "      <th>541907</th>\n",
       "      <td>581587</td>\n",
       "      <td>23255</td>\n",
       "      <td>CHILDRENS CUTLERY CIRCUS PARADE</td>\n",
       "      <td>4</td>\n",
       "      <td>09-12-2011 12:50</td>\n",
       "      <td>4.15</td>\n",
       "      <td>12680.0</td>\n",
       "      <td>France</td>\n",
       "    </tr>\n",
       "    <tr>\n",
       "      <th>541908</th>\n",
       "      <td>581587</td>\n",
       "      <td>22138</td>\n",
       "      <td>BAKING SET 9 PIECE RETROSPOT</td>\n",
       "      <td>3</td>\n",
       "      <td>09-12-2011 12:50</td>\n",
       "      <td>4.95</td>\n",
       "      <td>12680.0</td>\n",
       "      <td>France</td>\n",
       "    </tr>\n",
       "  </tbody>\n",
       "</table>\n",
       "<p>541909 rows × 8 columns</p>\n",
       "</div>"
      ],
      "text/plain": [
       "       InvoiceNo StockCode                          Description  Quantity  \\\n",
       "0         536365    85123A   WHITE HANGING HEART T-LIGHT HOLDER         6   \n",
       "1         536365     71053                  WHITE METAL LANTERN         6   \n",
       "2         536365    84406B       CREAM CUPID HEARTS COAT HANGER         8   \n",
       "3         536365    84029G  KNITTED UNION FLAG HOT WATER BOTTLE         6   \n",
       "4         536365    84029E       RED WOOLLY HOTTIE WHITE HEART.         6   \n",
       "...          ...       ...                                  ...       ...   \n",
       "541904    581587     22613          PACK OF 20 SPACEBOY NAPKINS        12   \n",
       "541905    581587     22899         CHILDREN'S APRON DOLLY GIRL          6   \n",
       "541906    581587     23254        CHILDRENS CUTLERY DOLLY GIRL          4   \n",
       "541907    581587     23255      CHILDRENS CUTLERY CIRCUS PARADE         4   \n",
       "541908    581587     22138        BAKING SET 9 PIECE RETROSPOT          3   \n",
       "\n",
       "             InvoiceDate  UnitPrice  CustomerID         Country  \n",
       "0       01-12-2010 08:26       2.55     17850.0  United Kingdom  \n",
       "1       01-12-2010 08:26       3.39     17850.0  United Kingdom  \n",
       "2       01-12-2010 08:26       2.75     17850.0  United Kingdom  \n",
       "3       01-12-2010 08:26       3.39     17850.0  United Kingdom  \n",
       "4       01-12-2010 08:26       3.39     17850.0  United Kingdom  \n",
       "...                  ...        ...         ...             ...  \n",
       "541904  09-12-2011 12:50       0.85     12680.0          France  \n",
       "541905  09-12-2011 12:50       2.10     12680.0          France  \n",
       "541906  09-12-2011 12:50       4.15     12680.0          France  \n",
       "541907  09-12-2011 12:50       4.15     12680.0          France  \n",
       "541908  09-12-2011 12:50       4.95     12680.0          France  \n",
       "\n",
       "[541909 rows x 8 columns]"
      ]
     },
     "execution_count": 3,
     "metadata": {},
     "output_type": "execute_result"
    }
   ],
   "source": [
    "raw_df"
   ]
  },
  {
   "cell_type": "code",
   "execution_count": 4,
   "id": "1485ffbf-b6a6-4501-9988-151acbc8c3d8",
   "metadata": {},
   "outputs": [
    {
     "data": {
      "text/plain": [
       "5268"
      ]
     },
     "execution_count": 4,
     "metadata": {},
     "output_type": "execute_result"
    }
   ],
   "source": [
    "raw_df.duplicated().sum()\n"
   ]
  },
  {
   "cell_type": "code",
   "execution_count": 5,
   "id": "3565a634-44d7-481b-8e92-689726495c5b",
   "metadata": {},
   "outputs": [],
   "source": [
    "raw_df.drop_duplicates(inplace=True)"
   ]
  },
  {
   "cell_type": "code",
   "execution_count": 6,
   "id": "bad0b5d3-ddd6-43ba-9b81-01e02143e676",
   "metadata": {},
   "outputs": [
    {
     "name": "stdout",
     "output_type": "stream",
     "text": [
      "<class 'pandas.core.frame.DataFrame'>\n",
      "Index: 536641 entries, 0 to 541908\n",
      "Data columns (total 8 columns):\n",
      " #   Column       Non-Null Count   Dtype  \n",
      "---  ------       --------------   -----  \n",
      " 0   InvoiceNo    536641 non-null  object \n",
      " 1   StockCode    536641 non-null  object \n",
      " 2   Description  536424 non-null  object \n",
      " 3   Quantity     536641 non-null  int64  \n",
      " 4   InvoiceDate  536641 non-null  object \n",
      " 5   UnitPrice    536641 non-null  float64\n",
      " 6   CustomerID   410109 non-null  float64\n",
      " 7   Country      536641 non-null  object \n",
      "dtypes: float64(2), int64(1), object(5)\n",
      "memory usage: 36.8+ MB\n"
     ]
    }
   ],
   "source": [
    "raw_df.info()"
   ]
  },
  {
   "cell_type": "code",
   "execution_count": 7,
   "id": "1469d129-efeb-4785-aeba-945b112156a9",
   "metadata": {},
   "outputs": [
    {
     "data": {
      "text/html": [
       "<div>\n",
       "<style scoped>\n",
       "    .dataframe tbody tr th:only-of-type {\n",
       "        vertical-align: middle;\n",
       "    }\n",
       "\n",
       "    .dataframe tbody tr th {\n",
       "        vertical-align: top;\n",
       "    }\n",
       "\n",
       "    .dataframe thead th {\n",
       "        text-align: right;\n",
       "    }\n",
       "</style>\n",
       "<table border=\"1\" class=\"dataframe\">\n",
       "  <thead>\n",
       "    <tr style=\"text-align: right;\">\n",
       "      <th></th>\n",
       "      <th>Quantity</th>\n",
       "      <th>UnitPrice</th>\n",
       "      <th>CustomerID</th>\n",
       "    </tr>\n",
       "  </thead>\n",
       "  <tbody>\n",
       "    <tr>\n",
       "      <th>count</th>\n",
       "      <td>536641.000000</td>\n",
       "      <td>536641.000000</td>\n",
       "      <td>410109.000000</td>\n",
       "    </tr>\n",
       "    <tr>\n",
       "      <th>mean</th>\n",
       "      <td>9.620029</td>\n",
       "      <td>4.632656</td>\n",
       "      <td>15284.685901</td>\n",
       "    </tr>\n",
       "    <tr>\n",
       "      <th>std</th>\n",
       "      <td>219.130156</td>\n",
       "      <td>97.233118</td>\n",
       "      <td>1713.308590</td>\n",
       "    </tr>\n",
       "    <tr>\n",
       "      <th>min</th>\n",
       "      <td>-80995.000000</td>\n",
       "      <td>-11062.060000</td>\n",
       "      <td>12346.000000</td>\n",
       "    </tr>\n",
       "    <tr>\n",
       "      <th>25%</th>\n",
       "      <td>1.000000</td>\n",
       "      <td>1.250000</td>\n",
       "      <td>13941.000000</td>\n",
       "    </tr>\n",
       "    <tr>\n",
       "      <th>50%</th>\n",
       "      <td>3.000000</td>\n",
       "      <td>2.080000</td>\n",
       "      <td>15146.000000</td>\n",
       "    </tr>\n",
       "    <tr>\n",
       "      <th>75%</th>\n",
       "      <td>10.000000</td>\n",
       "      <td>4.130000</td>\n",
       "      <td>16794.000000</td>\n",
       "    </tr>\n",
       "    <tr>\n",
       "      <th>max</th>\n",
       "      <td>80995.000000</td>\n",
       "      <td>38970.000000</td>\n",
       "      <td>18287.000000</td>\n",
       "    </tr>\n",
       "  </tbody>\n",
       "</table>\n",
       "</div>"
      ],
      "text/plain": [
       "            Quantity      UnitPrice     CustomerID\n",
       "count  536641.000000  536641.000000  410109.000000\n",
       "mean        9.620029       4.632656   15284.685901\n",
       "std       219.130156      97.233118    1713.308590\n",
       "min    -80995.000000  -11062.060000   12346.000000\n",
       "25%         1.000000       1.250000   13941.000000\n",
       "50%         3.000000       2.080000   15146.000000\n",
       "75%        10.000000       4.130000   16794.000000\n",
       "max     80995.000000   38970.000000   18287.000000"
      ]
     },
     "execution_count": 7,
     "metadata": {},
     "output_type": "execute_result"
    }
   ],
   "source": [
    "raw_df.describe()"
   ]
  },
  {
   "cell_type": "code",
   "execution_count": 8,
   "id": "81451fa2-ef8e-4605-8953-11f515e9a156",
   "metadata": {},
   "outputs": [
    {
     "data": {
      "text/plain": [
       "InvoiceNo           0\n",
       "StockCode           0\n",
       "Description       217\n",
       "Quantity            0\n",
       "InvoiceDate         0\n",
       "UnitPrice           0\n",
       "CustomerID     126532\n",
       "Country             0\n",
       "dtype: int64"
      ]
     },
     "execution_count": 8,
     "metadata": {},
     "output_type": "execute_result"
    }
   ],
   "source": [
    "raw_df.isnull().sum()"
   ]
  },
  {
   "cell_type": "code",
   "execution_count": 9,
   "id": "83983e00-9df7-49b5-8bde-cc6a430faa14",
   "metadata": {},
   "outputs": [
    {
     "name": "stdout",
     "output_type": "stream",
     "text": [
      "<class 'pandas.core.frame.DataFrame'>\n",
      "Index: 536641 entries, 0 to 541908\n",
      "Data columns (total 8 columns):\n",
      " #   Column       Non-Null Count   Dtype  \n",
      "---  ------       --------------   -----  \n",
      " 0   InvoiceNo    536641 non-null  object \n",
      " 1   StockCode    536641 non-null  object \n",
      " 2   Description  536424 non-null  object \n",
      " 3   Quantity     536641 non-null  int64  \n",
      " 4   InvoiceDate  536641 non-null  object \n",
      " 5   UnitPrice    536641 non-null  float64\n",
      " 6   CustomerID   410109 non-null  float64\n",
      " 7   Country      536641 non-null  object \n",
      "dtypes: float64(2), int64(1), object(5)\n",
      "memory usage: 36.8+ MB\n"
     ]
    }
   ],
   "source": [
    "raw_df.info()"
   ]
  },
  {
   "cell_type": "code",
   "execution_count": 10,
   "id": "9e57c52a-0b92-43d3-b52a-67b3b1ac8caf",
   "metadata": {},
   "outputs": [
    {
     "data": {
      "text/plain": [
       "InvoiceNo      25900\n",
       "StockCode       4070\n",
       "Description     4209\n",
       "Quantity         722\n",
       "InvoiceDate    23260\n",
       "UnitPrice       1630\n",
       "CustomerID      4372\n",
       "Country           38\n",
       "dtype: int64"
      ]
     },
     "execution_count": 10,
     "metadata": {},
     "output_type": "execute_result"
    }
   ],
   "source": [
    "raw_df.nunique()"
   ]
  },
  {
   "cell_type": "code",
   "execution_count": 11,
   "id": "30171f6e-0759-4021-ab2e-332ddf1afbef",
   "metadata": {},
   "outputs": [
    {
     "data": {
      "text/plain": [
       "0"
      ]
     },
     "execution_count": 11,
     "metadata": {},
     "output_type": "execute_result"
    }
   ],
   "source": [
    "raw_df.duplicated().sum()"
   ]
  },
  {
   "cell_type": "code",
   "execution_count": 12,
   "id": "a04ef193-13ff-4472-9d7d-7d4437c8da97",
   "metadata": {},
   "outputs": [],
   "source": [
    "raw_df.drop_duplicates(inplace=True)"
   ]
  },
  {
   "cell_type": "code",
   "execution_count": 13,
   "id": "736ce5d8-323a-4149-85c0-bd5b489881b7",
   "metadata": {},
   "outputs": [
    {
     "data": {
      "text/plain": [
       "23.578518972646517"
      ]
     },
     "execution_count": 13,
     "metadata": {},
     "output_type": "execute_result"
    }
   ],
   "source": [
    "#to check the percentage of the null values in the customer id col\n",
    "(raw_df[\"CustomerID\"].isnull().sum())/(len(raw_df[\"CustomerID\"]))*100"
   ]
  },
  {
   "cell_type": "code",
   "execution_count": 14,
   "id": "4a4bc862-5eec-4bf7-9a6d-2cae5031f772",
   "metadata": {},
   "outputs": [
    {
     "data": {
      "text/plain": [
       "0.040436716538617065"
      ]
     },
     "execution_count": 14,
     "metadata": {},
     "output_type": "execute_result"
    }
   ],
   "source": [
    "#to check the percentage of the null values in the customer id col\n",
    "(raw_df[\"Description\"].isnull().sum())/(len(raw_df[\"StockCode\"]))*100"
   ]
  },
  {
   "cell_type": "code",
   "execution_count": 15,
   "id": "421e2a65-ca35-4c78-a90f-f9baa3c09105",
   "metadata": {},
   "outputs": [
    {
     "data": {
      "text/plain": [
       "InvoiceNo           0\n",
       "StockCode           0\n",
       "Description       217\n",
       "Quantity            0\n",
       "InvoiceDate         0\n",
       "UnitPrice           0\n",
       "CustomerID     126532\n",
       "Country             0\n",
       "dtype: int64"
      ]
     },
     "execution_count": 15,
     "metadata": {},
     "output_type": "execute_result"
    }
   ],
   "source": [
    "raw_df.isnull().sum()"
   ]
  },
  {
   "cell_type": "code",
   "execution_count": 16,
   "id": "0912823f-9fa4-47ad-a8ce-d065899741e1",
   "metadata": {},
   "outputs": [
    {
     "data": {
      "text/html": [
       "<div>\n",
       "<style scoped>\n",
       "    .dataframe tbody tr th:only-of-type {\n",
       "        vertical-align: middle;\n",
       "    }\n",
       "\n",
       "    .dataframe tbody tr th {\n",
       "        vertical-align: top;\n",
       "    }\n",
       "\n",
       "    .dataframe thead th {\n",
       "        text-align: right;\n",
       "    }\n",
       "</style>\n",
       "<table border=\"1\" class=\"dataframe\">\n",
       "  <thead>\n",
       "    <tr style=\"text-align: right;\">\n",
       "      <th></th>\n",
       "      <th>InvoiceNo</th>\n",
       "      <th>StockCode</th>\n",
       "      <th>Description</th>\n",
       "      <th>Quantity</th>\n",
       "      <th>InvoiceDate</th>\n",
       "      <th>UnitPrice</th>\n",
       "      <th>CustomerID</th>\n",
       "      <th>Country</th>\n",
       "    </tr>\n",
       "  </thead>\n",
       "  <tbody>\n",
       "    <tr>\n",
       "      <th>0</th>\n",
       "      <td>536365</td>\n",
       "      <td>85123A</td>\n",
       "      <td>WHITE HANGING HEART T-LIGHT HOLDER</td>\n",
       "      <td>6</td>\n",
       "      <td>01-12-2010 08:26</td>\n",
       "      <td>2.55</td>\n",
       "      <td>17850.0</td>\n",
       "      <td>United Kingdom</td>\n",
       "    </tr>\n",
       "    <tr>\n",
       "      <th>1</th>\n",
       "      <td>536365</td>\n",
       "      <td>71053</td>\n",
       "      <td>WHITE METAL LANTERN</td>\n",
       "      <td>6</td>\n",
       "      <td>01-12-2010 08:26</td>\n",
       "      <td>3.39</td>\n",
       "      <td>17850.0</td>\n",
       "      <td>United Kingdom</td>\n",
       "    </tr>\n",
       "    <tr>\n",
       "      <th>2</th>\n",
       "      <td>536365</td>\n",
       "      <td>84406B</td>\n",
       "      <td>CREAM CUPID HEARTS COAT HANGER</td>\n",
       "      <td>8</td>\n",
       "      <td>01-12-2010 08:26</td>\n",
       "      <td>2.75</td>\n",
       "      <td>17850.0</td>\n",
       "      <td>United Kingdom</td>\n",
       "    </tr>\n",
       "    <tr>\n",
       "      <th>3</th>\n",
       "      <td>536365</td>\n",
       "      <td>84029G</td>\n",
       "      <td>KNITTED UNION FLAG HOT WATER BOTTLE</td>\n",
       "      <td>6</td>\n",
       "      <td>01-12-2010 08:26</td>\n",
       "      <td>3.39</td>\n",
       "      <td>17850.0</td>\n",
       "      <td>United Kingdom</td>\n",
       "    </tr>\n",
       "    <tr>\n",
       "      <th>4</th>\n",
       "      <td>536365</td>\n",
       "      <td>84029E</td>\n",
       "      <td>RED WOOLLY HOTTIE WHITE HEART.</td>\n",
       "      <td>6</td>\n",
       "      <td>01-12-2010 08:26</td>\n",
       "      <td>3.39</td>\n",
       "      <td>17850.0</td>\n",
       "      <td>United Kingdom</td>\n",
       "    </tr>\n",
       "  </tbody>\n",
       "</table>\n",
       "</div>"
      ],
      "text/plain": [
       "  InvoiceNo StockCode                          Description  Quantity  \\\n",
       "0    536365    85123A   WHITE HANGING HEART T-LIGHT HOLDER         6   \n",
       "1    536365     71053                  WHITE METAL LANTERN         6   \n",
       "2    536365    84406B       CREAM CUPID HEARTS COAT HANGER         8   \n",
       "3    536365    84029G  KNITTED UNION FLAG HOT WATER BOTTLE         6   \n",
       "4    536365    84029E       RED WOOLLY HOTTIE WHITE HEART.         6   \n",
       "\n",
       "        InvoiceDate  UnitPrice  CustomerID         Country  \n",
       "0  01-12-2010 08:26       2.55     17850.0  United Kingdom  \n",
       "1  01-12-2010 08:26       3.39     17850.0  United Kingdom  \n",
       "2  01-12-2010 08:26       2.75     17850.0  United Kingdom  \n",
       "3  01-12-2010 08:26       3.39     17850.0  United Kingdom  \n",
       "4  01-12-2010 08:26       3.39     17850.0  United Kingdom  "
      ]
     },
     "execution_count": 16,
     "metadata": {},
     "output_type": "execute_result"
    }
   ],
   "source": [
    "raw_df.head()"
   ]
  },
  {
   "cell_type": "code",
   "execution_count": 17,
   "id": "c3e83f26-bbda-40a3-a7f3-b61a9903df8b",
   "metadata": {},
   "outputs": [
    {
     "data": {
      "text/plain": [
       "InvoiceNo           0\n",
       "StockCode           0\n",
       "Description       217\n",
       "Quantity            0\n",
       "InvoiceDate         0\n",
       "UnitPrice           0\n",
       "CustomerID     125067\n",
       "Country             0\n",
       "dtype: int64"
      ]
     },
     "execution_count": 17,
     "metadata": {},
     "output_type": "execute_result"
    }
   ],
   "source": [
    "raw_df[raw_df[\"Country\"] == \"United Kingdom\"].isnull().sum()"
   ]
  },
  {
   "cell_type": "code",
   "execution_count": 18,
   "id": "3841e6a2-a729-4b00-94cd-59626c7ee817",
   "metadata": {
    "scrolled": true
   },
   "outputs": [
    {
     "data": {
      "text/plain": [
       "array(['United Kingdom', 'France', 'Australia', 'Netherlands', 'Germany',\n",
       "       'Norway', 'EIRE', 'Switzerland', 'Spain', 'Poland', 'Portugal',\n",
       "       'Italy', 'Belgium', 'Lithuania', 'Japan', 'Iceland',\n",
       "       'Channel Islands', 'Denmark', 'Cyprus', 'Sweden', 'Austria',\n",
       "       'Israel', 'Finland', 'Bahrain', 'Greece', 'Hong Kong', 'Singapore',\n",
       "       'Lebanon', 'United Arab Emirates', 'Saudi Arabia',\n",
       "       'Czech Republic', 'Canada', 'Unspecified', 'Brazil', 'USA',\n",
       "       'European Community', 'Malta', 'RSA'], dtype=object)"
      ]
     },
     "execution_count": 18,
     "metadata": {},
     "output_type": "execute_result"
    }
   ],
   "source": [
    "raw_df[\"Country\"].unique()"
   ]
  },
  {
   "cell_type": "code",
   "execution_count": 19,
   "id": "27eead86-7016-4bc2-be9b-372c70c44715",
   "metadata": {},
   "outputs": [],
   "source": [
    "UK_data = raw_df[raw_df[\"Country\"] == \"United Kingdom\"]"
   ]
  },
  {
   "cell_type": "code",
   "execution_count": 20,
   "id": "e0bba79d-8e60-4f66-ace9-3f3a07c58da5",
   "metadata": {},
   "outputs": [],
   "source": [
    "Rest_data = raw_df[raw_df[\"Country\"] != \"United Kingdom\"]"
   ]
  },
  {
   "cell_type": "code",
   "execution_count": 21,
   "id": "e44de5da-505b-4291-8f96-08390f2afa7c",
   "metadata": {},
   "outputs": [
    {
     "data": {
      "text/plain": [
       "InvoiceNo           0\n",
       "StockCode           0\n",
       "Description       217\n",
       "Quantity            0\n",
       "InvoiceDate         0\n",
       "UnitPrice           0\n",
       "CustomerID     125067\n",
       "Country             0\n",
       "dtype: int64"
      ]
     },
     "execution_count": 21,
     "metadata": {},
     "output_type": "execute_result"
    }
   ],
   "source": [
    "UK_data.isnull().sum()"
   ]
  },
  {
   "cell_type": "code",
   "execution_count": 22,
   "id": "e3aa6f1c-acfc-4d75-b5b2-b448243ae4e4",
   "metadata": {},
   "outputs": [
    {
     "data": {
      "text/plain": [
       "InvoiceNo         0\n",
       "StockCode         0\n",
       "Description       0\n",
       "Quantity          0\n",
       "InvoiceDate       0\n",
       "UnitPrice         0\n",
       "CustomerID     1465\n",
       "Country           0\n",
       "dtype: int64"
      ]
     },
     "execution_count": 22,
     "metadata": {},
     "output_type": "execute_result"
    }
   ],
   "source": [
    "Rest_data.isnull().sum()"
   ]
  },
  {
   "cell_type": "code",
   "execution_count": null,
   "id": "9f3714d7-6022-46f1-a42b-e969447a12be",
   "metadata": {},
   "outputs": [],
   "source": []
  },
  {
   "cell_type": "code",
   "execution_count": 23,
   "id": "f5776c20-b631-45ab-910c-2f68118b13bc",
   "metadata": {},
   "outputs": [
    {
     "data": {
      "text/html": [
       "<div>\n",
       "<style scoped>\n",
       "    .dataframe tbody tr th:only-of-type {\n",
       "        vertical-align: middle;\n",
       "    }\n",
       "\n",
       "    .dataframe tbody tr th {\n",
       "        vertical-align: top;\n",
       "    }\n",
       "\n",
       "    .dataframe thead th {\n",
       "        text-align: right;\n",
       "    }\n",
       "</style>\n",
       "<table border=\"1\" class=\"dataframe\">\n",
       "  <thead>\n",
       "    <tr style=\"text-align: right;\">\n",
       "      <th></th>\n",
       "      <th>InvoiceNo</th>\n",
       "      <th>StockCode</th>\n",
       "      <th>Description</th>\n",
       "      <th>Quantity</th>\n",
       "      <th>InvoiceDate</th>\n",
       "      <th>UnitPrice</th>\n",
       "      <th>CustomerID</th>\n",
       "      <th>Country</th>\n",
       "    </tr>\n",
       "  </thead>\n",
       "  <tbody>\n",
       "    <tr>\n",
       "      <th>0</th>\n",
       "      <td>536365</td>\n",
       "      <td>85123A</td>\n",
       "      <td>WHITE HANGING HEART T-LIGHT HOLDER</td>\n",
       "      <td>6</td>\n",
       "      <td>01-12-2010 08:26</td>\n",
       "      <td>2.55</td>\n",
       "      <td>17850.0</td>\n",
       "      <td>United Kingdom</td>\n",
       "    </tr>\n",
       "    <tr>\n",
       "      <th>1</th>\n",
       "      <td>536365</td>\n",
       "      <td>71053</td>\n",
       "      <td>WHITE METAL LANTERN</td>\n",
       "      <td>6</td>\n",
       "      <td>01-12-2010 08:26</td>\n",
       "      <td>3.39</td>\n",
       "      <td>17850.0</td>\n",
       "      <td>United Kingdom</td>\n",
       "    </tr>\n",
       "    <tr>\n",
       "      <th>2</th>\n",
       "      <td>536365</td>\n",
       "      <td>84406B</td>\n",
       "      <td>CREAM CUPID HEARTS COAT HANGER</td>\n",
       "      <td>8</td>\n",
       "      <td>01-12-2010 08:26</td>\n",
       "      <td>2.75</td>\n",
       "      <td>17850.0</td>\n",
       "      <td>United Kingdom</td>\n",
       "    </tr>\n",
       "    <tr>\n",
       "      <th>3</th>\n",
       "      <td>536365</td>\n",
       "      <td>84029G</td>\n",
       "      <td>KNITTED UNION FLAG HOT WATER BOTTLE</td>\n",
       "      <td>6</td>\n",
       "      <td>01-12-2010 08:26</td>\n",
       "      <td>3.39</td>\n",
       "      <td>17850.0</td>\n",
       "      <td>United Kingdom</td>\n",
       "    </tr>\n",
       "    <tr>\n",
       "      <th>4</th>\n",
       "      <td>536365</td>\n",
       "      <td>84029E</td>\n",
       "      <td>RED WOOLLY HOTTIE WHITE HEART.</td>\n",
       "      <td>6</td>\n",
       "      <td>01-12-2010 08:26</td>\n",
       "      <td>3.39</td>\n",
       "      <td>17850.0</td>\n",
       "      <td>United Kingdom</td>\n",
       "    </tr>\n",
       "  </tbody>\n",
       "</table>\n",
       "</div>"
      ],
      "text/plain": [
       "  InvoiceNo StockCode                          Description  Quantity  \\\n",
       "0    536365    85123A   WHITE HANGING HEART T-LIGHT HOLDER         6   \n",
       "1    536365     71053                  WHITE METAL LANTERN         6   \n",
       "2    536365    84406B       CREAM CUPID HEARTS COAT HANGER         8   \n",
       "3    536365    84029G  KNITTED UNION FLAG HOT WATER BOTTLE         6   \n",
       "4    536365    84029E       RED WOOLLY HOTTIE WHITE HEART.         6   \n",
       "\n",
       "        InvoiceDate  UnitPrice  CustomerID         Country  \n",
       "0  01-12-2010 08:26       2.55     17850.0  United Kingdom  \n",
       "1  01-12-2010 08:26       3.39     17850.0  United Kingdom  \n",
       "2  01-12-2010 08:26       2.75     17850.0  United Kingdom  \n",
       "3  01-12-2010 08:26       3.39     17850.0  United Kingdom  \n",
       "4  01-12-2010 08:26       3.39     17850.0  United Kingdom  "
      ]
     },
     "execution_count": 23,
     "metadata": {},
     "output_type": "execute_result"
    }
   ],
   "source": [
    "UK_data.head()"
   ]
  },
  {
   "cell_type": "code",
   "execution_count": 24,
   "id": "15d11201-7489-437b-be82-5142050cbb27",
   "metadata": {},
   "outputs": [
    {
     "data": {
      "text/plain": [
       "CustomerID\n",
       "17841.0    7812\n",
       "14096.0    5128\n",
       "12748.0    4466\n",
       "14606.0    2761\n",
       "15311.0    2558\n",
       "           ... \n",
       "17307.0       1\n",
       "15070.0       1\n",
       "16990.0       1\n",
       "16579.0       1\n",
       "16738.0       1\n",
       "Name: count, Length: 3950, dtype: int64"
      ]
     },
     "execution_count": 24,
     "metadata": {},
     "output_type": "execute_result"
    }
   ],
   "source": [
    "UK_data[\"CustomerID\"].value_counts()"
   ]
  },
  {
   "cell_type": "code",
   "execution_count": 34,
   "id": "e0cc8174-2c2a-4604-bca0-b3f272c6e88a",
   "metadata": {
    "collapsed": true,
    "jupyter": {
     "outputs_hidden": true
    }
   },
   "outputs": [
    {
     "data": {
      "text/plain": [
       "CustomerID\n",
       "10000.0    125067\n",
       "17841.0      7812\n",
       "14096.0      5128\n",
       "12748.0      4466\n",
       "14606.0      2761\n",
       "            ...  \n",
       "15753.0         1\n",
       "13256.0         1\n",
       "17715.0         1\n",
       "17291.0         1\n",
       "17448.0         1\n",
       "Name: count, Length: 3951, dtype: int64"
      ]
     },
     "execution_count": 34,
     "metadata": {},
     "output_type": "execute_result"
    }
   ],
   "source": []
  },
  {
   "cell_type": "code",
   "execution_count": 25,
   "id": "9a0007ad-392e-4add-ac63-b3f36cb0ffa6",
   "metadata": {},
   "outputs": [
    {
     "data": {
      "text/plain": [
       "CustomerID\n",
       "17841.0    7812\n",
       "14096.0    5128\n",
       "12748.0    4466\n",
       "14606.0    2761\n",
       "15311.0    2558\n",
       "           ... \n",
       "17307.0       1\n",
       "15070.0       1\n",
       "16990.0       1\n",
       "16579.0       1\n",
       "16738.0       1\n",
       "Name: count, Length: 3950, dtype: int64"
      ]
     },
     "execution_count": 25,
     "metadata": {},
     "output_type": "execute_result"
    }
   ],
   "source": [
    "UK_data[\"CustomerID\"].value_counts()"
   ]
  },
  {
   "cell_type": "code",
   "execution_count": 26,
   "id": "e50c7880-fa76-4155-95b5-7818318b7b35",
   "metadata": {},
   "outputs": [
    {
     "data": {
      "image/png": "[encoded data removed]",
      "text/plain": [
       "<Figure size 640x480 with 1 Axes>"
      ]
     },
     "metadata": {},
     "output_type": "display_data"
    }
   ],
   "source": [
    "plt.figure(10)\n",
    "sns.kdeplot(UK_data[\"CustomerID\"])\n",
    "plt.show()"
   ]
  },
  {
   "cell_type": "code",
   "execution_count": null,
   "id": "2390ac93-7888-4e56-8ad5-a5a3fcc767b9",
   "metadata": {},
   "outputs": [],
   "source": []
  },
  {
   "cell_type": "code",
   "execution_count": 27,
   "id": "b221d4be-e805-4d6b-8154-269c80b8e24d",
   "metadata": {},
   "outputs": [
    {
     "data": {
      "text/plain": [
       "<Axes: xlabel='CustomerID', ylabel='Density'>"
      ]
     },
     "execution_count": 27,
     "metadata": {},
     "output_type": "execute_result"
    },
    {
     "data": {
      "image/png": "[encoded data removed]",
      "text/plain": [
       "<Figure size 640x480 with 1 Axes>"
      ]
     },
     "metadata": {},
     "output_type": "display_data"
    }
   ],
   "source": [
    "sns.kdeplot(UK_data[\"CustomerID\"].fillna(method = \"bfill\"))"
   ]
  },
  {
   "cell_type": "code",
   "execution_count": 50,
   "id": "fc6f8346-1229-4832-8839-ac73b5d7476c",
   "metadata": {
    "scrolled": true
   },
   "outputs": [
    {
     "data": {
      "text/plain": [
       "<Axes: xlabel='CustomerID', ylabel='Density'>"
      ]
     },
     "execution_count": 50,
     "metadata": {},
     "output_type": "execute_result"
    },
    {
     "data": {
      "image/png": "[encoded data removed]",
      "text/plain": [
       "<Figure size 640x480 with 1 Axes>"
      ]
     },
     "metadata": {},
     "output_type": "display_data"
    }
   ],
   "source": [
    "sns.kdeplot(UK_data[\"CustomerID\"].fillna(method = \"ffill\"))"
   ]
  },
  {
   "cell_type": "code",
   "execution_count": null,
   "id": "4332c87d-596a-4547-b43a-814b64b26418",
   "metadata": {},
   "outputs": [],
   "source": []
  },
  {
   "cell_type": "code",
   "execution_count": null,
   "id": "a9fd3086-0431-4fc4-86a9-ce59f41839e2",
   "metadata": {},
   "outputs": [],
   "source": []
  },
  {
   "cell_type": "code",
   "execution_count": null,
   "id": "8f501d0e-efed-4216-82d6-b2a8f2f16cac",
   "metadata": {},
   "outputs": [],
   "source": []
  },
  {
   "cell_type": "code",
   "execution_count": 84,
   "id": "8d55830a-c375-4bec-9cc5-c289c0a18fe2",
   "metadata": {},
   "outputs": [
    {
     "data": {
      "text/plain": [
       "0         17850.0\n",
       "1         17850.0\n",
       "2         17850.0\n",
       "3         17850.0\n",
       "4         17850.0\n",
       "           ...   \n",
       "541889    15804.0\n",
       "541890    13113.0\n",
       "541891    13113.0\n",
       "541892    13113.0\n",
       "541893    13113.0\n",
       "Name: CustomerID, Length: 490300, dtype: float64"
      ]
     },
     "execution_count": 84,
     "metadata": {},
     "output_type": "execute_result"
    }
   ],
   "source": []
  },
  {
   "cell_type": "code",
   "execution_count": 85,
   "id": "97082dc9-3f39-402a-bcfd-f1a7d5571b14",
   "metadata": {},
   "outputs": [
    {
     "data": {
      "text/plain": [
       "InvoiceNo         0\n",
       "StockCode         0\n",
       "Description       0\n",
       "Quantity          0\n",
       "InvoiceDate       0\n",
       "UnitPrice         0\n",
       "CustomerID     1465\n",
       "Country           0\n",
       "dtype: int64"
      ]
     },
     "execution_count": 85,
     "metadata": {},
     "output_type": "execute_result"
    }
   ],
   "source": []
  },
  {
   "cell_type": "code",
   "execution_count": 30,
   "id": "f4c67de6-d879-4eaa-b9a7-989da42c1889",
   "metadata": {},
   "outputs": [
    {
     "name": "stderr",
     "output_type": "stream",
     "text": [
      "C:\\Users\\Alok\\AppData\\Local\\Temp\\ipykernel_12976\\3884265432.py:1: SettingWithCopyWarning: \n",
      "A value is trying to be set on a copy of a slice from a DataFrame\n",
      "\n",
      "See the caveats in the documentation: https://pandas.pydata.org/pandas-docs/stable/user_guide/indexing.html#returning-a-view-versus-a-copy\n",
      "  UK_data.dropna(inplace=True)\n"
     ]
    }
   ],
   "source": []
  },
  {
   "cell_type": "code",
   "execution_count": 87,
   "id": "4982ff98-0ffe-4c09-b6b7-4cf093502110",
   "metadata": {},
   "outputs": [
    {
     "name": "stderr",
     "output_type": "stream",
     "text": [
      "C:\\Users\\Alok\\AppData\\Local\\Temp\\ipykernel_10952\\1968028075.py:1: SettingWithCopyWarning: \n",
      "A value is trying to be set on a copy of a slice from a DataFrame\n",
      "\n",
      "See the caveats in the documentation: https://pandas.pydata.org/pandas-docs/stable/user_guide/indexing.html#returning-a-view-versus-a-copy\n",
      "  Rest_data.fillna(method=\"ffill\",inplace=True)\n"
     ]
    }
   ],
   "source": []
  },
  {
   "cell_type": "code",
   "execution_count": 29,
   "id": "33fe58b6-32b4-43d0-8b0a-2304dff3ec52",
   "metadata": {},
   "outputs": [
    {
     "data": {
      "text/plain": [
       "InvoiceNo         0\n",
       "StockCode         0\n",
       "Description       0\n",
       "Quantity          0\n",
       "InvoiceDate       0\n",
       "UnitPrice         0\n",
       "CustomerID     1465\n",
       "Country           0\n",
       "dtype: int64"
      ]
     },
     "execution_count": 29,
     "metadata": {},
     "output_type": "execute_result"
    }
   ],
   "source": [
    "Rest_data.isnull().sum()"
   ]
  },
  {
   "cell_type": "code",
   "execution_count": 28,
   "id": "cd1e5345-4b93-48d8-959b-6377db65812c",
   "metadata": {},
   "outputs": [
    {
     "name": "stdout",
     "output_type": "stream",
     "text": [
      "<class 'pandas.core.frame.DataFrame'>\n",
      "Index: 46341 entries, 26 to 541908\n",
      "Data columns (total 8 columns):\n",
      " #   Column       Non-Null Count  Dtype  \n",
      "---  ------       --------------  -----  \n",
      " 0   InvoiceNo    46341 non-null  object \n",
      " 1   StockCode    46341 non-null  object \n",
      " 2   Description  46341 non-null  object \n",
      " 3   Quantity     46341 non-null  int64  \n",
      " 4   InvoiceDate  46341 non-null  object \n",
      " 5   UnitPrice    46341 non-null  float64\n",
      " 6   CustomerID   44876 non-null  float64\n",
      " 7   Country      46341 non-null  object \n",
      "dtypes: float64(2), int64(1), object(5)\n",
      "memory usage: 3.2+ MB\n"
     ]
    }
   ],
   "source": [
    "Rest_data.info()"
   ]
  },
  {
   "cell_type": "code",
   "execution_count": 27,
   "id": "34d415d3-4415-4620-bfdf-3fb0d8d7f93c",
   "metadata": {},
   "outputs": [],
   "source": [
    "imputed_df = pd.read_csv(\"imputed_df.csv\",encoding=\"latin1\")"
   ]
  },
  {
   "cell_type": "code",
   "execution_count": 163,
   "id": "9bb50da7-362a-43c7-866b-f312dcbe0ce4",
   "metadata": {},
   "outputs": [
    {
     "data": {
      "text/html": [
       "<div>\n",
       "<style scoped>\n",
       "    .dataframe tbody tr th:only-of-type {\n",
       "        vertical-align: middle;\n",
       "    }\n",
       "\n",
       "    .dataframe tbody tr th {\n",
       "        vertical-align: top;\n",
       "    }\n",
       "\n",
       "    .dataframe thead th {\n",
       "        text-align: right;\n",
       "    }\n",
       "</style>\n",
       "<table border=\"1\" class=\"dataframe\">\n",
       "  <thead>\n",
       "    <tr style=\"text-align: right;\">\n",
       "      <th></th>\n",
       "      <th>InvoiceNo</th>\n",
       "      <th>StockCode</th>\n",
       "      <th>Description</th>\n",
       "      <th>Quantity</th>\n",
       "      <th>UnitPrice</th>\n",
       "      <th>CustomerID</th>\n",
       "      <th>Country</th>\n",
       "      <th>Time</th>\n",
       "      <th>Date</th>\n",
       "      <th>Year</th>\n",
       "      <th>Month</th>\n",
       "      <th>Day</th>\n",
       "      <th>Total Price</th>\n",
       "    </tr>\n",
       "  </thead>\n",
       "  <tbody>\n",
       "    <tr>\n",
       "      <th>451478</th>\n",
       "      <td>575637</td>\n",
       "      <td>22632</td>\n",
       "      <td>HAND WARMER RED RETROSPOT</td>\n",
       "      <td>3</td>\n",
       "      <td>2.10</td>\n",
       "      <td>16904</td>\n",
       "      <td>United Kingdom</td>\n",
       "      <td>13:46</td>\n",
       "      <td>10-11-2011</td>\n",
       "      <td>2011</td>\n",
       "      <td>11</td>\n",
       "      <td>10</td>\n",
       "      <td>6.30</td>\n",
       "    </tr>\n",
       "    <tr>\n",
       "      <th>277579</th>\n",
       "      <td>561371</td>\n",
       "      <td>22470</td>\n",
       "      <td>HEART OF WICKER LARGE</td>\n",
       "      <td>3</td>\n",
       "      <td>5.79</td>\n",
       "      <td>17693</td>\n",
       "      <td>United Kingdom</td>\n",
       "      <td>16:25</td>\n",
       "      <td>26-07-2011</td>\n",
       "      <td>2011</td>\n",
       "      <td>7</td>\n",
       "      <td>26</td>\n",
       "      <td>17.37</td>\n",
       "    </tr>\n",
       "    <tr>\n",
       "      <th>401634</th>\n",
       "      <td>571712</td>\n",
       "      <td>23238</td>\n",
       "      <td>SET OF 4 KNICK KNACK TINS LONDON</td>\n",
       "      <td>4</td>\n",
       "      <td>4.15</td>\n",
       "      <td>14056</td>\n",
       "      <td>United Kingdom</td>\n",
       "      <td>16:46</td>\n",
       "      <td>18-10-2011</td>\n",
       "      <td>2011</td>\n",
       "      <td>10</td>\n",
       "      <td>18</td>\n",
       "      <td>16.60</td>\n",
       "    </tr>\n",
       "    <tr>\n",
       "      <th>50434</th>\n",
       "      <td>540630</td>\n",
       "      <td>37500</td>\n",
       "      <td>TEA TIME TEAPOT IN GIFT BOX</td>\n",
       "      <td>2</td>\n",
       "      <td>9.95</td>\n",
       "      <td>17849</td>\n",
       "      <td>United Kingdom</td>\n",
       "      <td>11:59</td>\n",
       "      <td>10-01-2011</td>\n",
       "      <td>2011</td>\n",
       "      <td>1</td>\n",
       "      <td>10</td>\n",
       "      <td>19.90</td>\n",
       "    </tr>\n",
       "    <tr>\n",
       "      <th>165071</th>\n",
       "      <td>550953</td>\n",
       "      <td>21394</td>\n",
       "      <td>RED POLKADOT BEAKER</td>\n",
       "      <td>2</td>\n",
       "      <td>1.63</td>\n",
       "      <td>17961</td>\n",
       "      <td>United Kingdom</td>\n",
       "      <td>16:17</td>\n",
       "      <td>21-04-2011</td>\n",
       "      <td>2011</td>\n",
       "      <td>4</td>\n",
       "      <td>21</td>\n",
       "      <td>3.26</td>\n",
       "    </tr>\n",
       "    <tr>\n",
       "      <th>269770</th>\n",
       "      <td>560742</td>\n",
       "      <td>23245</td>\n",
       "      <td>SET OF 3 REGENCY CAKE TINS</td>\n",
       "      <td>4</td>\n",
       "      <td>4.95</td>\n",
       "      <td>14755</td>\n",
       "      <td>United Kingdom</td>\n",
       "      <td>15:44</td>\n",
       "      <td>20-07-2011</td>\n",
       "      <td>2011</td>\n",
       "      <td>7</td>\n",
       "      <td>20</td>\n",
       "      <td>19.80</td>\n",
       "    </tr>\n",
       "    <tr>\n",
       "      <th>523858</th>\n",
       "      <td>580730</td>\n",
       "      <td>23150</td>\n",
       "      <td>IVORY SWEETHEART SOAP DISH</td>\n",
       "      <td>1</td>\n",
       "      <td>4.96</td>\n",
       "      <td>15145</td>\n",
       "      <td>United Kingdom</td>\n",
       "      <td>17:28</td>\n",
       "      <td>05-12-2011</td>\n",
       "      <td>2011</td>\n",
       "      <td>12</td>\n",
       "      <td>5</td>\n",
       "      <td>4.96</td>\n",
       "    </tr>\n",
       "    <tr>\n",
       "      <th>491955</th>\n",
       "      <td>578347</td>\n",
       "      <td>22597</td>\n",
       "      <td>MUSICAL ZINC HEART DECORATION</td>\n",
       "      <td>5</td>\n",
       "      <td>0.83</td>\n",
       "      <td>15270</td>\n",
       "      <td>United Kingdom</td>\n",
       "      <td>09:26</td>\n",
       "      <td>24-11-2011</td>\n",
       "      <td>2011</td>\n",
       "      <td>11</td>\n",
       "      <td>24</td>\n",
       "      <td>4.15</td>\n",
       "    </tr>\n",
       "    <tr>\n",
       "      <th>33339</th>\n",
       "      <td>539299</td>\n",
       "      <td>21531</td>\n",
       "      <td>RED RETROSPOT SUGAR JAM BOWL</td>\n",
       "      <td>6</td>\n",
       "      <td>2.55</td>\n",
       "      <td>14180</td>\n",
       "      <td>United Kingdom</td>\n",
       "      <td>17:30</td>\n",
       "      <td>16-12-2010</td>\n",
       "      <td>2010</td>\n",
       "      <td>12</td>\n",
       "      <td>16</td>\n",
       "      <td>15.30</td>\n",
       "    </tr>\n",
       "    <tr>\n",
       "      <th>264711</th>\n",
       "      <td>560283</td>\n",
       "      <td>22169</td>\n",
       "      <td>FAMILY ALBUM WHITE PICTURE FRAME</td>\n",
       "      <td>4</td>\n",
       "      <td>8.50</td>\n",
       "      <td>12691</td>\n",
       "      <td>EIRE</td>\n",
       "      <td>08:32</td>\n",
       "      <td>18-07-2011</td>\n",
       "      <td>2011</td>\n",
       "      <td>7</td>\n",
       "      <td>18</td>\n",
       "      <td>34.00</td>\n",
       "    </tr>\n",
       "  </tbody>\n",
       "</table>\n",
       "</div>"
      ],
      "text/plain": [
       "       InvoiceNo StockCode                        Description  Quantity  \\\n",
       "451478    575637     22632          HAND WARMER RED RETROSPOT         3   \n",
       "277579    561371     22470              HEART OF WICKER LARGE         3   \n",
       "401634    571712     23238  SET OF 4 KNICK KNACK TINS LONDON          4   \n",
       "50434     540630     37500        TEA TIME TEAPOT IN GIFT BOX         2   \n",
       "165071    550953     21394               RED POLKADOT BEAKER          2   \n",
       "269770    560742     23245         SET OF 3 REGENCY CAKE TINS         4   \n",
       "523858    580730     23150         IVORY SWEETHEART SOAP DISH         1   \n",
       "491955    578347     22597     MUSICAL ZINC HEART DECORATION          5   \n",
       "33339     539299     21531       RED RETROSPOT SUGAR JAM BOWL         6   \n",
       "264711    560283     22169   FAMILY ALBUM WHITE PICTURE FRAME         4   \n",
       "\n",
       "        UnitPrice  CustomerID         Country   Time        Date  Year  Month  \\\n",
       "451478       2.10       16904  United Kingdom  13:46  10-11-2011  2011     11   \n",
       "277579       5.79       17693  United Kingdom  16:25  26-07-2011  2011      7   \n",
       "401634       4.15       14056  United Kingdom  16:46  18-10-2011  2011     10   \n",
       "50434        9.95       17849  United Kingdom  11:59  10-01-2011  2011      1   \n",
       "165071       1.63       17961  United Kingdom  16:17  21-04-2011  2011      4   \n",
       "269770       4.95       14755  United Kingdom  15:44  20-07-2011  2011      7   \n",
       "523858       4.96       15145  United Kingdom  17:28  05-12-2011  2011     12   \n",
       "491955       0.83       15270  United Kingdom  09:26  24-11-2011  2011     11   \n",
       "33339        2.55       14180  United Kingdom  17:30  16-12-2010  2010     12   \n",
       "264711       8.50       12691            EIRE  08:32  18-07-2011  2011      7   \n",
       "\n",
       "        Day  Total Price  \n",
       "451478   10         6.30  \n",
       "277579   26        17.37  \n",
       "401634   18        16.60  \n",
       "50434    10        19.90  \n",
       "165071   21         3.26  \n",
       "269770   20        19.80  \n",
       "523858    5         4.96  \n",
       "491955   24         4.15  \n",
       "33339    16        15.30  \n",
       "264711   18        34.00  "
      ]
     },
     "execution_count": 163,
     "metadata": {},
     "output_type": "execute_result"
    }
   ],
   "source": [
    "imputed_df.sample(10)"
   ]
  },
  {
   "cell_type": "code",
   "execution_count": 28,
   "id": "6c355ab6-1000-4184-b987-d35cda95fc11",
   "metadata": {},
   "outputs": [
    {
     "name": "stdout",
     "output_type": "stream",
     "text": [
      "<class 'pandas.core.frame.DataFrame'>\n",
      "RangeIndex: 536424 entries, 0 to 536423\n",
      "Data columns (total 13 columns):\n",
      " #   Column       Non-Null Count   Dtype  \n",
      "---  ------       --------------   -----  \n",
      " 0   InvoiceNo    536424 non-null  object \n",
      " 1   StockCode    536424 non-null  object \n",
      " 2   Description  536424 non-null  object \n",
      " 3   Quantity     536424 non-null  int64  \n",
      " 4   UnitPrice    536424 non-null  float64\n",
      " 5   CustomerID   536424 non-null  int64  \n",
      " 6   Country      536424 non-null  object \n",
      " 7   Time         536424 non-null  object \n",
      " 8   Date         536424 non-null  object \n",
      " 9   Year         536424 non-null  int64  \n",
      " 10  Month        536424 non-null  int64  \n",
      " 11  Day          536424 non-null  int64  \n",
      " 12  Total Price  536424 non-null  float64\n",
      "dtypes: float64(2), int64(5), object(6)\n",
      "memory usage: 53.2+ MB\n"
     ]
    }
   ],
   "source": [
    "imputed_df.info()"
   ]
  },
  {
   "cell_type": "code",
   "execution_count": 29,
   "id": "cdd3f534-3a6d-492b-8ddf-009a4c828a2c",
   "metadata": {},
   "outputs": [
    {
     "data": {
      "text/plain": [
       "InvoiceNo      0\n",
       "StockCode      0\n",
       "Description    0\n",
       "Quantity       0\n",
       "UnitPrice      0\n",
       "CustomerID     0\n",
       "Country        0\n",
       "Time           0\n",
       "Date           0\n",
       "Year           0\n",
       "Month          0\n",
       "Day            0\n",
       "Total Price    0\n",
       "dtype: int64"
      ]
     },
     "execution_count": 29,
     "metadata": {},
     "output_type": "execute_result"
    }
   ],
   "source": [
    "imputed_df.isnull().sum()"
   ]
  },
  {
   "cell_type": "code",
   "execution_count": 149,
   "id": "15fe5069-d44e-4446-a4fe-4d0cac029413",
   "metadata": {},
   "outputs": [],
   "source": [
    "imputed_df[\"Quantity\"] = imputed_df[\"Quantity\"].astype(\"int32\")"
   ]
  },
  {
   "cell_type": "code",
   "execution_count": 150,
   "id": "b45236a3-6f99-4762-b2b9-57f376de95b3",
   "metadata": {},
   "outputs": [
    {
     "name": "stdout",
     "output_type": "stream",
     "text": [
      "<class 'pandas.core.frame.DataFrame'>\n",
      "RangeIndex: 536424 entries, 0 to 536423\n",
      "Data columns (total 13 columns):\n",
      " #   Column       Non-Null Count   Dtype  \n",
      "---  ------       --------------   -----  \n",
      " 0   InvoiceNo    536424 non-null  object \n",
      " 1   StockCode    536424 non-null  object \n",
      " 2   Description  536424 non-null  object \n",
      " 3   Quantity     536424 non-null  int32  \n",
      " 4   UnitPrice    536424 non-null  float64\n",
      " 5   CustomerID   536424 non-null  int64  \n",
      " 6   Country      536424 non-null  object \n",
      " 7   Time         536424 non-null  object \n",
      " 8   Date         536424 non-null  object \n",
      " 9   Year         536424 non-null  int64  \n",
      " 10  Month        536424 non-null  int64  \n",
      " 11  Day          536424 non-null  int64  \n",
      " 12  Total Price  536424 non-null  float64\n",
      "dtypes: float64(2), int32(1), int64(4), object(6)\n",
      "memory usage: 51.2+ MB\n"
     ]
    }
   ],
   "source": [
    "imputed_df.info()"
   ]
  },
  {
   "cell_type": "code",
   "execution_count": 151,
   "id": "62c7bf27-e817-41c1-b6a3-cd2039c671c3",
   "metadata": {},
   "outputs": [],
   "source": [
    "imputed_df[\"UnitPrice\"] = imputed_df[\"UnitPrice\"].astype(\"float16\")"
   ]
  },
  {
   "cell_type": "code",
   "execution_count": 152,
   "id": "16949899-b290-4162-a40b-9ca784518023",
   "metadata": {},
   "outputs": [
    {
     "name": "stdout",
     "output_type": "stream",
     "text": [
      "<class 'pandas.core.frame.DataFrame'>\n",
      "RangeIndex: 536424 entries, 0 to 536423\n",
      "Data columns (total 13 columns):\n",
      " #   Column       Non-Null Count   Dtype  \n",
      "---  ------       --------------   -----  \n",
      " 0   InvoiceNo    536424 non-null  object \n",
      " 1   StockCode    536424 non-null  object \n",
      " 2   Description  536424 non-null  object \n",
      " 3   Quantity     536424 non-null  int32  \n",
      " 4   UnitPrice    536424 non-null  float16\n",
      " 5   CustomerID   536424 non-null  int64  \n",
      " 6   Country      536424 non-null  object \n",
      " 7   Time         536424 non-null  object \n",
      " 8   Date         536424 non-null  object \n",
      " 9   Year         536424 non-null  int64  \n",
      " 10  Month        536424 non-null  int64  \n",
      " 11  Day          536424 non-null  int64  \n",
      " 12  Total Price  536424 non-null  float64\n",
      "dtypes: float16(1), float64(1), int32(1), int64(4), object(6)\n",
      "memory usage: 48.1+ MB\n"
     ]
    }
   ],
   "source": [
    "imputed_df.info()"
   ]
  },
  {
   "cell_type": "code",
   "execution_count": 153,
   "id": "56210dbc-7bfd-4822-98f6-eba2a1281b46",
   "metadata": {},
   "outputs": [
    {
     "data": {
      "text/html": [
       "<div>\n",
       "<style scoped>\n",
       "    .dataframe tbody tr th:only-of-type {\n",
       "        vertical-align: middle;\n",
       "    }\n",
       "\n",
       "    .dataframe tbody tr th {\n",
       "        vertical-align: top;\n",
       "    }\n",
       "\n",
       "    .dataframe thead th {\n",
       "        text-align: right;\n",
       "    }\n",
       "</style>\n",
       "<table border=\"1\" class=\"dataframe\">\n",
       "  <thead>\n",
       "    <tr style=\"text-align: right;\">\n",
       "      <th></th>\n",
       "      <th>InvoiceNo</th>\n",
       "      <th>StockCode</th>\n",
       "      <th>Description</th>\n",
       "      <th>Quantity</th>\n",
       "      <th>UnitPrice</th>\n",
       "      <th>CustomerID</th>\n",
       "      <th>Country</th>\n",
       "      <th>Time</th>\n",
       "      <th>Date</th>\n",
       "      <th>Year</th>\n",
       "      <th>Month</th>\n",
       "      <th>Day</th>\n",
       "      <th>Total Price</th>\n",
       "    </tr>\n",
       "  </thead>\n",
       "  <tbody>\n",
       "    <tr>\n",
       "      <th>238068</th>\n",
       "      <td>558096</td>\n",
       "      <td>21794</td>\n",
       "      <td>CLASSIC FRENCH STYLE BASKET NATURAL</td>\n",
       "      <td>3</td>\n",
       "      <td>3.949219</td>\n",
       "      <td>15532</td>\n",
       "      <td>United Kingdom</td>\n",
       "      <td>13:24</td>\n",
       "      <td>26-06-2011</td>\n",
       "      <td>2011</td>\n",
       "      <td>6</td>\n",
       "      <td>26</td>\n",
       "      <td>11.85</td>\n",
       "    </tr>\n",
       "    <tr>\n",
       "      <th>167830</th>\n",
       "      <td>551174</td>\n",
       "      <td>22682</td>\n",
       "      <td>FRENCH BLUE METAL DOOR SIGN 7</td>\n",
       "      <td>4</td>\n",
       "      <td>1.250000</td>\n",
       "      <td>17854</td>\n",
       "      <td>United Kingdom</td>\n",
       "      <td>17:02</td>\n",
       "      <td>26-04-2011</td>\n",
       "      <td>2011</td>\n",
       "      <td>4</td>\n",
       "      <td>26</td>\n",
       "      <td>5.00</td>\n",
       "    </tr>\n",
       "    <tr>\n",
       "      <th>292017</th>\n",
       "      <td>562715</td>\n",
       "      <td>21936</td>\n",
       "      <td>RED RETROSPOT PICNIC BAG</td>\n",
       "      <td>1</td>\n",
       "      <td>5.789062</td>\n",
       "      <td>15189</td>\n",
       "      <td>United Kingdom</td>\n",
       "      <td>15:34</td>\n",
       "      <td>08-08-2011</td>\n",
       "      <td>2011</td>\n",
       "      <td>8</td>\n",
       "      <td>8</td>\n",
       "      <td>5.79</td>\n",
       "    </tr>\n",
       "    <tr>\n",
       "      <th>237741</th>\n",
       "      <td>558068</td>\n",
       "      <td>85152</td>\n",
       "      <td>HAND OVER THE CHOCOLATE   SIGN</td>\n",
       "      <td>1</td>\n",
       "      <td>4.128906</td>\n",
       "      <td>16419</td>\n",
       "      <td>United Kingdom</td>\n",
       "      <td>15:51</td>\n",
       "      <td>24-06-2011</td>\n",
       "      <td>2011</td>\n",
       "      <td>6</td>\n",
       "      <td>24</td>\n",
       "      <td>4.13</td>\n",
       "    </tr>\n",
       "    <tr>\n",
       "      <th>177765</th>\n",
       "      <td>552278</td>\n",
       "      <td>22980</td>\n",
       "      <td>PANTRY SCRUBBING BRUSH</td>\n",
       "      <td>2</td>\n",
       "      <td>1.650391</td>\n",
       "      <td>15059</td>\n",
       "      <td>United Kingdom</td>\n",
       "      <td>12:36</td>\n",
       "      <td>08-05-2011</td>\n",
       "      <td>2011</td>\n",
       "      <td>5</td>\n",
       "      <td>8</td>\n",
       "      <td>3.30</td>\n",
       "    </tr>\n",
       "  </tbody>\n",
       "</table>\n",
       "</div>"
      ],
      "text/plain": [
       "       InvoiceNo StockCode                          Description  Quantity  \\\n",
       "238068    558096     21794  CLASSIC FRENCH STYLE BASKET NATURAL         3   \n",
       "167830    551174     22682        FRENCH BLUE METAL DOOR SIGN 7         4   \n",
       "292017    562715     21936             RED RETROSPOT PICNIC BAG         1   \n",
       "237741    558068     85152      HAND OVER THE CHOCOLATE   SIGN          1   \n",
       "177765    552278     22980               PANTRY SCRUBBING BRUSH         2   \n",
       "\n",
       "        UnitPrice  CustomerID         Country   Time        Date  Year  Month  \\\n",
       "238068   3.949219       15532  United Kingdom  13:24  26-06-2011  2011      6   \n",
       "167830   1.250000       17854  United Kingdom  17:02  26-04-2011  2011      4   \n",
       "292017   5.789062       15189  United Kingdom  15:34  08-08-2011  2011      8   \n",
       "237741   4.128906       16419  United Kingdom  15:51  24-06-2011  2011      6   \n",
       "177765   1.650391       15059  United Kingdom  12:36  08-05-2011  2011      5   \n",
       "\n",
       "        Day  Total Price  \n",
       "238068   26        11.85  \n",
       "167830   26         5.00  \n",
       "292017    8         5.79  \n",
       "237741   24         4.13  \n",
       "177765    8         3.30  "
      ]
     },
     "execution_count": 153,
     "metadata": {},
     "output_type": "execute_result"
    }
   ],
   "source": [
    "imputed_df.sample(5)"
   ]
  },
  {
   "cell_type": "code",
   "execution_count": 166,
   "id": "7caca7cb-6507-4b65-992a-c3a6e6ee68fe",
   "metadata": {},
   "outputs": [],
   "source": [
    "imputed_df = imputed_df[imputed_df[\"Description\"] != \"?\"]"
   ]
  },
  {
   "cell_type": "code",
   "execution_count": null,
   "id": "34920c5b-a472-46ae-bb64-2d2779344bf1",
   "metadata": {},
   "outputs": [],
   "source": []
  },
  {
   "cell_type": "code",
   "execution_count": 30,
   "id": "55d74c8a-0c2c-4672-a6fb-838a5b63b566",
   "metadata": {},
   "outputs": [],
   "source": [
    "imputed_df[\"Quantity\"] = imputed_df[\"Quantity\"].astype(\"int32\")\n",
    "imputed_df[\"UnitPrice\"] = imputed_df[\"UnitPrice\"].astype(\"float32\")\n",
    "imputed_df[\"CustomerID\"] = imputed_df[\"CustomerID\"].astype(\"int16\")\n",
    "imputed_df[\"Total Price\"] = imputed_df[\"Total Price\"].astype(\"int32\")"
   ]
  },
  {
   "cell_type": "code",
   "execution_count": 173,
   "id": "6dac4403-1aa6-430a-b592-f01f48acbf37",
   "metadata": {},
   "outputs": [
    {
     "data": {
      "text/html": [
       "<div>\n",
       "<style scoped>\n",
       "    .dataframe tbody tr th:only-of-type {\n",
       "        vertical-align: middle;\n",
       "    }\n",
       "\n",
       "    .dataframe tbody tr th {\n",
       "        vertical-align: top;\n",
       "    }\n",
       "\n",
       "    .dataframe thead th {\n",
       "        text-align: right;\n",
       "    }\n",
       "</style>\n",
       "<table border=\"1\" class=\"dataframe\">\n",
       "  <thead>\n",
       "    <tr style=\"text-align: right;\">\n",
       "      <th></th>\n",
       "      <th>Quantity</th>\n",
       "      <th>UnitPrice</th>\n",
       "      <th>CustomerID</th>\n",
       "      <th>Year</th>\n",
       "      <th>Month</th>\n",
       "      <th>Day</th>\n",
       "      <th>Total Price</th>\n",
       "    </tr>\n",
       "  </thead>\n",
       "  <tbody>\n",
       "    <tr>\n",
       "      <th>count</th>\n",
       "      <td>536421.000000</td>\n",
       "      <td>536421.000000</td>\n",
       "      <td>536421.000000</td>\n",
       "      <td>536421.000000</td>\n",
       "      <td>536421.000000</td>\n",
       "      <td>536421.000000</td>\n",
       "      <td>536421.000000</td>\n",
       "    </tr>\n",
       "    <tr>\n",
       "      <th>mean</th>\n",
       "      <td>9.606147</td>\n",
       "      <td>4.634556</td>\n",
       "      <td>15340.534537</td>\n",
       "      <td>2010.921819</td>\n",
       "      <td>7.545711</td>\n",
       "      <td>15.024811</td>\n",
       "      <td>17.652752</td>\n",
       "    </tr>\n",
       "    <tr>\n",
       "      <th>std</th>\n",
       "      <td>219.008137</td>\n",
       "      <td>97.253006</td>\n",
       "      <td>1709.855542</td>\n",
       "      <td>0.268457</td>\n",
       "      <td>3.508255</td>\n",
       "      <td>8.662434</td>\n",
       "      <td>380.733253</td>\n",
       "    </tr>\n",
       "    <tr>\n",
       "      <th>min</th>\n",
       "      <td>-80995.000000</td>\n",
       "      <td>-11062.059570</td>\n",
       "      <td>12346.000000</td>\n",
       "      <td>2010.000000</td>\n",
       "      <td>1.000000</td>\n",
       "      <td>1.000000</td>\n",
       "      <td>-168469.000000</td>\n",
       "    </tr>\n",
       "    <tr>\n",
       "      <th>25%</th>\n",
       "      <td>1.000000</td>\n",
       "      <td>1.250000</td>\n",
       "      <td>13969.000000</td>\n",
       "      <td>2011.000000</td>\n",
       "      <td>5.000000</td>\n",
       "      <td>7.000000</td>\n",
       "      <td>3.000000</td>\n",
       "    </tr>\n",
       "    <tr>\n",
       "      <th>50%</th>\n",
       "      <td>3.000000</td>\n",
       "      <td>2.080000</td>\n",
       "      <td>15251.000000</td>\n",
       "      <td>2011.000000</td>\n",
       "      <td>8.000000</td>\n",
       "      <td>15.000000</td>\n",
       "      <td>9.000000</td>\n",
       "    </tr>\n",
       "    <tr>\n",
       "      <th>75%</th>\n",
       "      <td>10.000000</td>\n",
       "      <td>4.130000</td>\n",
       "      <td>16839.000000</td>\n",
       "      <td>2011.000000</td>\n",
       "      <td>11.000000</td>\n",
       "      <td>22.000000</td>\n",
       "      <td>17.000000</td>\n",
       "    </tr>\n",
       "    <tr>\n",
       "      <th>max</th>\n",
       "      <td>80995.000000</td>\n",
       "      <td>38970.000000</td>\n",
       "      <td>18287.000000</td>\n",
       "      <td>2011.000000</td>\n",
       "      <td>12.000000</td>\n",
       "      <td>31.000000</td>\n",
       "      <td>168469.000000</td>\n",
       "    </tr>\n",
       "  </tbody>\n",
       "</table>\n",
       "</div>"
      ],
      "text/plain": [
       "            Quantity      UnitPrice     CustomerID           Year  \\\n",
       "count  536421.000000  536421.000000  536421.000000  536421.000000   \n",
       "mean        9.606147       4.634556   15340.534537    2010.921819   \n",
       "std       219.008137      97.253006    1709.855542       0.268457   \n",
       "min    -80995.000000  -11062.059570   12346.000000    2010.000000   \n",
       "25%         1.000000       1.250000   13969.000000    2011.000000   \n",
       "50%         3.000000       2.080000   15251.000000    2011.000000   \n",
       "75%        10.000000       4.130000   16839.000000    2011.000000   \n",
       "max     80995.000000   38970.000000   18287.000000    2011.000000   \n",
       "\n",
       "               Month            Day    Total Price  \n",
       "count  536421.000000  536421.000000  536421.000000  \n",
       "mean        7.545711      15.024811      17.652752  \n",
       "std         3.508255       8.662434     380.733253  \n",
       "min         1.000000       1.000000 -168469.000000  \n",
       "25%         5.000000       7.000000       3.000000  \n",
       "50%         8.000000      15.000000       9.000000  \n",
       "75%        11.000000      22.000000      17.000000  \n",
       "max        12.000000      31.000000  168469.000000  "
      ]
     },
     "execution_count": 173,
     "metadata": {},
     "output_type": "execute_result"
    }
   ],
   "source": [
    "imputed_df.describe()"
   ]
  },
  {
   "cell_type": "code",
   "execution_count": 158,
   "id": "ebcf74d0-6bf8-46a1-8a77-7f2a8ccf26e5",
   "metadata": {},
   "outputs": [
    {
     "data": {
      "text/html": [
       "<div>\n",
       "<style scoped>\n",
       "    .dataframe tbody tr th:only-of-type {\n",
       "        vertical-align: middle;\n",
       "    }\n",
       "\n",
       "    .dataframe tbody tr th {\n",
       "        vertical-align: top;\n",
       "    }\n",
       "\n",
       "    .dataframe thead th {\n",
       "        text-align: right;\n",
       "    }\n",
       "</style>\n",
       "<table border=\"1\" class=\"dataframe\">\n",
       "  <thead>\n",
       "    <tr style=\"text-align: right;\">\n",
       "      <th></th>\n",
       "      <th>InvoiceNo</th>\n",
       "      <th>StockCode</th>\n",
       "      <th>Description</th>\n",
       "      <th>Quantity</th>\n",
       "      <th>UnitPrice</th>\n",
       "      <th>CustomerID</th>\n",
       "      <th>Country</th>\n",
       "      <th>Time</th>\n",
       "      <th>Date</th>\n",
       "      <th>Year</th>\n",
       "      <th>Month</th>\n",
       "      <th>Day</th>\n",
       "      <th>Total Price</th>\n",
       "    </tr>\n",
       "  </thead>\n",
       "  <tbody>\n",
       "    <tr>\n",
       "      <th>190784</th>\n",
       "      <td>553461</td>\n",
       "      <td>23233</td>\n",
       "      <td>WRAP POPPIES  DESIGN</td>\n",
       "      <td>25</td>\n",
       "      <td>0.419922</td>\n",
       "      <td>16316</td>\n",
       "      <td>United Kingdom</td>\n",
       "      <td>10:57</td>\n",
       "      <td>17-05-2011</td>\n",
       "      <td>2011</td>\n",
       "      <td>5</td>\n",
       "      <td>17</td>\n",
       "      <td>10</td>\n",
       "    </tr>\n",
       "    <tr>\n",
       "      <th>51218</th>\n",
       "      <td>540681</td>\n",
       "      <td>22403</td>\n",
       "      <td>MAGNETS PACK OF 4 VINTAGE LABELS</td>\n",
       "      <td>3</td>\n",
       "      <td>0.850098</td>\n",
       "      <td>15311</td>\n",
       "      <td>United Kingdom</td>\n",
       "      <td>16:25</td>\n",
       "      <td>10-01-2011</td>\n",
       "      <td>2011</td>\n",
       "      <td>1</td>\n",
       "      <td>10</td>\n",
       "      <td>2</td>\n",
       "    </tr>\n",
       "    <tr>\n",
       "      <th>330026</th>\n",
       "      <td>566115</td>\n",
       "      <td>23076</td>\n",
       "      <td>ICE CREAM SUNDAE LIP GLOSS</td>\n",
       "      <td>24</td>\n",
       "      <td>1.250000</td>\n",
       "      <td>12674</td>\n",
       "      <td>France</td>\n",
       "      <td>10:51</td>\n",
       "      <td>09-09-2011</td>\n",
       "      <td>2011</td>\n",
       "      <td>9</td>\n",
       "      <td>9</td>\n",
       "      <td>30</td>\n",
       "    </tr>\n",
       "    <tr>\n",
       "      <th>62824</th>\n",
       "      <td>541574</td>\n",
       "      <td>20723</td>\n",
       "      <td>STRAWBERRY CHARLOTTE BAG</td>\n",
       "      <td>10</td>\n",
       "      <td>0.850098</td>\n",
       "      <td>12826</td>\n",
       "      <td>United Kingdom</td>\n",
       "      <td>12:52</td>\n",
       "      <td>19-01-2011</td>\n",
       "      <td>2011</td>\n",
       "      <td>1</td>\n",
       "      <td>19</td>\n",
       "      <td>8</td>\n",
       "    </tr>\n",
       "    <tr>\n",
       "      <th>252998</th>\n",
       "      <td>559338</td>\n",
       "      <td>17012F</td>\n",
       "      <td>ORIGAMI SANDLEWOOD INCENSE/CAND SET</td>\n",
       "      <td>1</td>\n",
       "      <td>2.460938</td>\n",
       "      <td>17315</td>\n",
       "      <td>United Kingdom</td>\n",
       "      <td>16:30</td>\n",
       "      <td>07-07-2011</td>\n",
       "      <td>2011</td>\n",
       "      <td>7</td>\n",
       "      <td>7</td>\n",
       "      <td>2</td>\n",
       "    </tr>\n",
       "  </tbody>\n",
       "</table>\n",
       "</div>"
      ],
      "text/plain": [
       "       InvoiceNo StockCode                          Description  Quantity  \\\n",
       "190784    553461     23233                 WRAP POPPIES  DESIGN        25   \n",
       "51218     540681     22403    MAGNETS PACK OF 4 VINTAGE LABELS          3   \n",
       "330026    566115     23076           ICE CREAM SUNDAE LIP GLOSS        24   \n",
       "62824     541574     20723             STRAWBERRY CHARLOTTE BAG        10   \n",
       "252998    559338    17012F  ORIGAMI SANDLEWOOD INCENSE/CAND SET         1   \n",
       "\n",
       "        UnitPrice  CustomerID         Country   Time        Date  Year  Month  \\\n",
       "190784   0.419922       16316  United Kingdom  10:57  17-05-2011  2011      5   \n",
       "51218    0.850098       15311  United Kingdom  16:25  10-01-2011  2011      1   \n",
       "330026   1.250000       12674          France  10:51  09-09-2011  2011      9   \n",
       "62824    0.850098       12826  United Kingdom  12:52  19-01-2011  2011      1   \n",
       "252998   2.460938       17315  United Kingdom  16:30  07-07-2011  2011      7   \n",
       "\n",
       "        Day  Total Price  \n",
       "190784   17           10  \n",
       "51218    10            2  \n",
       "330026    9           30  \n",
       "62824    19            8  \n",
       "252998    7            2  "
      ]
     },
     "execution_count": 158,
     "metadata": {},
     "output_type": "execute_result"
    }
   ],
   "source": [
    "imputed_df.sample(5)"
   ]
  },
  {
   "cell_type": "code",
   "execution_count": 31,
   "id": "22253370-01d7-4bfa-98ce-61fd13dc63c2",
   "metadata": {},
   "outputs": [],
   "source": [
    "UK_df = imputed_df[imputed_df[\"Country\"] == \"United Kingdom\"]\n",
    "Rest_df = imputed_df[imputed_df[\"Country\"] != \"United Kingdom\"]"
   ]
  },
  {
   "cell_type": "code",
   "execution_count": 32,
   "id": "5a98206e-d8b3-4663-9b21-0f33fa08ad72",
   "metadata": {},
   "outputs": [
    {
     "data": {
      "text/html": [
       "<div>\n",
       "<style scoped>\n",
       "    .dataframe tbody tr th:only-of-type {\n",
       "        vertical-align: middle;\n",
       "    }\n",
       "\n",
       "    .dataframe tbody tr th {\n",
       "        vertical-align: top;\n",
       "    }\n",
       "\n",
       "    .dataframe thead th {\n",
       "        text-align: right;\n",
       "    }\n",
       "</style>\n",
       "<table border=\"1\" class=\"dataframe\">\n",
       "  <thead>\n",
       "    <tr style=\"text-align: right;\">\n",
       "      <th></th>\n",
       "      <th>InvoiceNo</th>\n",
       "      <th>StockCode</th>\n",
       "      <th>Description</th>\n",
       "      <th>Quantity</th>\n",
       "      <th>UnitPrice</th>\n",
       "      <th>CustomerID</th>\n",
       "      <th>Country</th>\n",
       "      <th>Time</th>\n",
       "      <th>Date</th>\n",
       "      <th>Year</th>\n",
       "      <th>Month</th>\n",
       "      <th>Day</th>\n",
       "      <th>Total Price</th>\n",
       "    </tr>\n",
       "  </thead>\n",
       "  <tbody>\n",
       "    <tr>\n",
       "      <th>517875</th>\n",
       "      <td>580502</td>\n",
       "      <td>22210</td>\n",
       "      <td>WOOD STAMP SET BEST WISHES</td>\n",
       "      <td>3</td>\n",
       "      <td>0.83</td>\n",
       "      <td>16931</td>\n",
       "      <td>United Kingdom</td>\n",
       "      <td>13:15</td>\n",
       "      <td>04-12-2011</td>\n",
       "      <td>2011</td>\n",
       "      <td>12</td>\n",
       "      <td>4</td>\n",
       "      <td>2</td>\n",
       "    </tr>\n",
       "  </tbody>\n",
       "</table>\n",
       "</div>"
      ],
      "text/plain": [
       "       InvoiceNo StockCode                 Description  Quantity  UnitPrice  \\\n",
       "517875    580502     22210  WOOD STAMP SET BEST WISHES         3       0.83   \n",
       "\n",
       "        CustomerID         Country   Time        Date  Year  Month  Day  \\\n",
       "517875       16931  United Kingdom  13:15  04-12-2011  2011     12    4   \n",
       "\n",
       "        Total Price  \n",
       "517875            2  "
      ]
     },
     "execution_count": 32,
     "metadata": {},
     "output_type": "execute_result"
    }
   ],
   "source": [
    "UK_df.sample()"
   ]
  },
  {
   "cell_type": "code",
   "execution_count": 42,
   "id": "56b62b9f-0360-4375-a550-972d6fa2197f",
   "metadata": {},
   "outputs": [
    {
     "data": {
      "text/plain": [
       "<Axes: ylabel='Quantity'>"
      ]
     },
     "execution_count": 42,
     "metadata": {},
     "output_type": "execute_result"
    },
    {
     "data": {
      "image/png": "[encoded data removed]",
      "text/plain": [
       "<Figure size 640x480 with 1 Axes>"
      ]
     },
     "metadata": {},
     "output_type": "display_data"
    }
   ],
   "source": [
    "sns.boxplot(UK_df[\"Quantity\"])"
   ]
  },
  {
   "cell_type": "code",
   "execution_count": 43,
   "id": "a767beb5-8567-4c1c-acb5-cce029786a43",
   "metadata": {},
   "outputs": [
    {
     "data": {
      "text/plain": [
       "count    490083.000000\n",
       "mean          8.653091\n",
       "std         228.643565\n",
       "min      -80995.000000\n",
       "25%           1.000000\n",
       "50%           3.000000\n",
       "75%          10.000000\n",
       "max       80995.000000\n",
       "Name: Quantity, dtype: float64"
      ]
     },
     "execution_count": 43,
     "metadata": {},
     "output_type": "execute_result"
    }
   ],
   "source": [
    "UK_df[\"Quantity\"].describe()"
   ]
  },
  {
   "cell_type": "code",
   "execution_count": 57,
   "id": "49223be7-306b-4d43-8ea5-9a9a9681c81f",
   "metadata": {},
   "outputs": [
    {
     "data": {
      "text/plain": [
       "118541"
      ]
     },
     "execution_count": 57,
     "metadata": {},
     "output_type": "execute_result"
    }
   ],
   "source": [
    "490083 - 371542"
   ]
  },
  {
   "cell_type": "code",
   "execution_count": 65,
   "id": "e0a625c2-e23c-4029-8c23-a54cc25eef50",
   "metadata": {},
   "outputs": [
    {
     "data": {
      "text/plain": [
       "311"
      ]
     },
     "execution_count": 65,
     "metadata": {},
     "output_type": "execute_result"
    }
   ],
   "source": [
    "# 8.653091 + (3*228.643565) = 694.583786\n",
    "# 8.653091 - (3*228.643565) = -677.277604\n",
    "UK_df[(UK_df[\"Quantity\"]>=694.583786) | (UK_df[\"Quantity\"]<= -677.277604)][\"Quantity\"].count()"
   ]
  },
  {
   "cell_type": "code",
   "execution_count": 66,
   "id": "295ebecd-372d-4d00-82ff-aa92bdb05b71",
   "metadata": {},
   "outputs": [
    {
     "data": {
      "text/plain": [
       "489772"
      ]
     },
     "execution_count": 66,
     "metadata": {},
     "output_type": "execute_result"
    }
   ],
   "source": [
    "UK_df[(UK_df[\"Quantity\"]<=694.583786) & (UK_df[\"Quantity\"]>= -677.277604)][\"Quantity\"].count()"
   ]
  },
  {
   "cell_type": "code",
   "execution_count": 67,
   "id": "caa205c4-1697-4c78-9042-73bbb83b9174",
   "metadata": {},
   "outputs": [
    {
     "data": {
      "text/plain": [
       "490083"
      ]
     },
     "execution_count": 67,
     "metadata": {},
     "output_type": "execute_result"
    }
   ],
   "source": []
  },
  {
   "cell_type": "code",
   "execution_count": 68,
   "id": "8e67c971-f5d4-4d6a-a57e-738d44e84b01",
   "metadata": {
    "jupyter": {
     "source_hidden": true
    }
   },
   "outputs": [
    {
     "name": "stderr",
     "output_type": "stream",
     "text": [
      "C:\\Users\\Alok\\AppData\\Local\\Temp\\ipykernel_23320\\2941720823.py:1: UserWarning: \n",
      "\n",
      "`distplot` is a deprecated function and will be removed in seaborn v0.14.0.\n",
      "\n",
      "Please adapt your code to use either `displot` (a figure-level function with\n",
      "similar flexibility) or `histplot` (an axes-level function for histograms).\n",
      "\n",
      "For a guide to updating your code to use the new functions, please see\n",
      "https://gist.github.com/mwaskom/de44147ed2974457ad6372750bbe5751\n",
      "\n",
      "  sns.distplot(UK_df[~((UK_df[\"Quantity\"]>=694.583786) | (UK_df[\"Quantity\"]<= -677.277604))][\"Quantity\"])\n"
     ]
    },
    {
     "data": {
      "text/plain": [
       "<Axes: xlabel='Quantity', ylabel='Density'>"
      ]
     },
     "execution_count": 68,
     "metadata": {},
     "output_type": "execute_result"
    },
    {
     "data": {
      "image/png": "[encoded data removed]",
      "text/plain": [
       "<Figure size 640x480 with 1 Axes>"
      ]
     },
     "metadata": {},
     "output_type": "display_data"
    }
   ],
   "source": [
    "sns.distplot(UK_df[~((UK_df[\"Quantity\"]>=694.583786) | (UK_df[\"Quantity\"]<= -677.277604))][\"Quantity\"])"
   ]
  },
  {
   "cell_type": "code",
   "execution_count": 83,
   "id": "5f301519-dc54-4392-984f-70313a1d4046",
   "metadata": {},
   "outputs": [
    {
     "name": "stderr",
     "output_type": "stream",
     "text": [
      "C:\\Users\\Alok\\AppData\\Local\\Temp\\ipykernel_23320\\2868223850.py:2: UserWarning: \n",
      "\n",
      "`distplot` is a deprecated function and will be removed in seaborn v0.14.0.\n",
      "\n",
      "Please adapt your code to use either `displot` (a figure-level function with\n",
      "similar flexibility) or `histplot` (an axes-level function for histograms).\n",
      "\n",
      "For a guide to updating your code to use the new functions, please see\n",
      "https://gist.github.com/mwaskom/de44147ed2974457ad6372750bbe5751\n",
      "\n",
      "  sns.distplot(UK_df[~((UK_df[\"Quantity\"]<=694.583786) & (UK_df[\"Quantity\"]>= -677.277604))][\"Quantity\"],bins = 100)\n"
     ]
    },
    {
     "data": {
      "text/plain": [
       "<Axes: xlabel='Quantity', ylabel='Density'>"
      ]
     },
     "execution_count": 83,
     "metadata": {},
     "output_type": "execute_result"
    },
    {
     "data": {
      "image/png": "[encoded data removed]",
      "text/plain": [
       "<Figure size 1000x500 with 1 Axes>"
      ]
     },
     "metadata": {},
     "output_type": "display_data"
    }
   ],
   "source": [
    "plt.figure(figsize = (10,5))\n",
    "sns.distplot(UK_df[~((UK_df[\"Quantity\"]<=694.583786) & (UK_df[\"Quantity\"]>= -677.277604))][\"Quantity\"],bins = 100)"
   ]
  },
  {
   "cell_type": "code",
   "execution_count": 84,
   "id": "158c9c5d-fb48-4a84-939d-9762a7cec579",
   "metadata": {},
   "outputs": [
    {
     "data": {
      "text/html": [
       "<div>\n",
       "<style scoped>\n",
       "    .dataframe tbody tr th:only-of-type {\n",
       "        vertical-align: middle;\n",
       "    }\n",
       "\n",
       "    .dataframe tbody tr th {\n",
       "        vertical-align: top;\n",
       "    }\n",
       "\n",
       "    .dataframe thead th {\n",
       "        text-align: right;\n",
       "    }\n",
       "</style>\n",
       "<table border=\"1\" class=\"dataframe\">\n",
       "  <thead>\n",
       "    <tr style=\"text-align: right;\">\n",
       "      <th></th>\n",
       "      <th>InvoiceNo</th>\n",
       "      <th>StockCode</th>\n",
       "      <th>Description</th>\n",
       "      <th>Quantity</th>\n",
       "      <th>UnitPrice</th>\n",
       "      <th>CustomerID</th>\n",
       "      <th>Country</th>\n",
       "      <th>Time</th>\n",
       "      <th>Date</th>\n",
       "      <th>Year</th>\n",
       "      <th>Month</th>\n",
       "      <th>Day</th>\n",
       "      <th>Total Price</th>\n",
       "    </tr>\n",
       "  </thead>\n",
       "  <tbody>\n",
       "    <tr>\n",
       "      <th>171013</th>\n",
       "      <td>551550</td>\n",
       "      <td>22697</td>\n",
       "      <td>GREEN REGENCY TEACUP AND SAUCER</td>\n",
       "      <td>6</td>\n",
       "      <td>2.95</td>\n",
       "      <td>17501</td>\n",
       "      <td>United Kingdom</td>\n",
       "      <td>09:47</td>\n",
       "      <td>03-05-2011</td>\n",
       "      <td>2011</td>\n",
       "      <td>5</td>\n",
       "      <td>3</td>\n",
       "      <td>17</td>\n",
       "    </tr>\n",
       "  </tbody>\n",
       "</table>\n",
       "</div>"
      ],
      "text/plain": [
       "       InvoiceNo StockCode                      Description  Quantity  \\\n",
       "171013    551550     22697  GREEN REGENCY TEACUP AND SAUCER         6   \n",
       "\n",
       "        UnitPrice  CustomerID         Country   Time        Date  Year  Month  \\\n",
       "171013       2.95       17501  United Kingdom  09:47  03-05-2011  2011      5   \n",
       "\n",
       "        Day  Total Price  \n",
       "171013    3           17  "
      ]
     },
     "execution_count": 84,
     "metadata": {},
     "output_type": "execute_result"
    }
   ],
   "source": [
    "UK_df.sample()"
   ]
  },
  {
   "cell_type": "code",
   "execution_count": 86,
   "id": "f55e7c5b-1ba0-44c4-aa0d-62459accc553",
   "metadata": {},
   "outputs": [
    {
     "data": {
      "text/plain": [
       "<Axes: ylabel='UnitPrice'>"
      ]
     },
     "execution_count": 86,
     "metadata": {},
     "output_type": "execute_result"
    },
    {
     "data": {
      "image/png": "[encoded data removed]",
      "text/plain": [
       "<Figure size 640x480 with 1 Axes>"
      ]
     },
     "metadata": {},
     "output_type": "display_data"
    }
   ],
   "source": [
    "sns.boxplot(UK_df[\"UnitPrice\"])"
   ]
  },
  {
   "cell_type": "code",
   "execution_count": 88,
   "id": "e36fe80c-384c-4880-a500-47d174ad1669",
   "metadata": {},
   "outputs": [
    {
     "name": "stderr",
     "output_type": "stream",
     "text": [
      "C:\\Users\\Alok\\AppData\\Local\\Temp\\ipykernel_23320\\737755877.py:1: UserWarning: \n",
      "\n",
      "`distplot` is a deprecated function and will be removed in seaborn v0.14.0.\n",
      "\n",
      "Please adapt your code to use either `displot` (a figure-level function with\n",
      "similar flexibility) or `histplot` (an axes-level function for histograms).\n",
      "\n",
      "For a guide to updating your code to use the new functions, please see\n",
      "https://gist.github.com/mwaskom/de44147ed2974457ad6372750bbe5751\n",
      "\n",
      "  sns.distplot(UK_df[\"UnitPrice\"])\n"
     ]
    },
    {
     "data": {
      "text/plain": [
       "<Axes: xlabel='UnitPrice', ylabel='Density'>"
      ]
     },
     "execution_count": 88,
     "metadata": {},
     "output_type": "execute_result"
    },
    {
     "data": {
      "image/png": "[encoded data removed]",
      "text/plain": [
       "<Figure size 640x480 with 1 Axes>"
      ]
     },
     "metadata": {},
     "output_type": "display_data"
    }
   ],
   "source": [
    "sns.distplot(UK_df[\"UnitPrice\"])"
   ]
  },
  {
   "cell_type": "code",
   "execution_count": 89,
   "id": "a1ae9751-476d-4e85-9529-f17a45b96b3d",
   "metadata": {},
   "outputs": [
    {
     "data": {
      "text/plain": [
       "count    490083.000000\n",
       "mean          4.556877\n",
       "std          99.860031\n",
       "min      -11062.059570\n",
       "25%           1.250000\n",
       "50%           2.100000\n",
       "75%           4.130000\n",
       "max       38970.000000\n",
       "Name: UnitPrice, dtype: float64"
      ]
     },
     "execution_count": 89,
     "metadata": {},
     "output_type": "execute_result"
    }
   ],
   "source": [
    "UK_df[\"UnitPrice\"].describe()"
   ]
  },
  {
   "cell_type": "code",
   "execution_count": 56,
   "id": "073ea73b-1bad-423e-9128-680a67de95f8",
   "metadata": {},
   "outputs": [
    {
     "data": {
      "text/plain": [
       "371542"
      ]
     },
     "execution_count": 56,
     "metadata": {},
     "output_type": "execute_result"
    }
   ],
   "source": [
    "UK_df[(UK_df[\"Quantity\"]>=1.0) & (UK_df[\"Quantity\"]<=10.0)][\"Quantity\"].count()"
   ]
  },
  {
   "cell_type": "code",
   "execution_count": 169,
   "id": "a258281b-3ea4-4e02-8346-70ebb7ad409c",
   "metadata": {},
   "outputs": [
    {
     "data": {
      "text/plain": [
       "Country\n",
       "Germany                 9480\n",
       "France                  8541\n",
       "EIRE                    8184\n",
       "Spain                   2528\n",
       "Netherlands             2371\n",
       "Belgium                 2069\n",
       "Switzerland             1994\n",
       "Portugal                1510\n",
       "Australia               1258\n",
       "Norway                  1086\n",
       "Italy                    803\n",
       "Channel Islands          757\n",
       "Finland                  695\n",
       "Cyprus                   611\n",
       "Sweden                   461\n",
       "Unspecified              442\n",
       "Austria                  401\n",
       "Denmark                  389\n",
       "Japan                    358\n",
       "Poland                   341\n",
       "Israel                   294\n",
       "USA                      291\n",
       "Hong Kong                284\n",
       "Singapore                229\n",
       "Iceland                  182\n",
       "Canada                   151\n",
       "Greece                   146\n",
       "Malta                    127\n",
       "United Arab Emirates      68\n",
       "European Community        61\n",
       "RSA                       58\n",
       "Lebanon                   45\n",
       "Lithuania                 35\n",
       "Brazil                    32\n",
       "Czech Republic            30\n",
       "Bahrain                   19\n",
       "Saudi Arabia              10\n",
       "Name: count, dtype: int64"
      ]
     },
     "execution_count": 169,
     "metadata": {},
     "output_type": "execute_result"
    }
   ],
   "source": [
    "Rest_df[\"Country\"].value_counts()"
   ]
  },
  {
   "cell_type": "code",
   "execution_count": 109,
   "id": "117824f3-5c36-4169-9a01-e0814825c1f3",
   "metadata": {},
   "outputs": [
    {
     "data": {
      "text/plain": [
       "InvoiceNo      490080\n",
       "StockCode      490080\n",
       "Description    490080\n",
       "Quantity       490080\n",
       "UnitPrice      490080\n",
       "CustomerID     490080\n",
       "Country        490080\n",
       "Time           490080\n",
       "Date           490080\n",
       "Year           490080\n",
       "Month          490080\n",
       "Day            490080\n",
       "Total Price    490080\n",
       "dtype: int64"
      ]
     },
     "execution_count": 109,
     "metadata": {},
     "output_type": "execute_result"
    }
   ],
   "source": [
    "UK_df.count()"
   ]
  },
  {
   "cell_type": "code",
   "execution_count": 35,
   "id": "59975e84-5dfd-4c66-b1db-56ea97e37520",
   "metadata": {},
   "outputs": [
    {
     "data": {
      "text/plain": [
       "46341"
      ]
     },
     "execution_count": 35,
     "metadata": {},
     "output_type": "execute_result"
    }
   ],
   "source": [
    "Rest_df[\"Country\"].count()"
   ]
  },
  {
   "cell_type": "code",
   "execution_count": 36,
   "id": "d7ea63f5-e664-458c-a698-914528cda492",
   "metadata": {},
   "outputs": [
    {
     "data": {
      "text/html": [
       "<div>\n",
       "<style scoped>\n",
       "    .dataframe tbody tr th:only-of-type {\n",
       "        vertical-align: middle;\n",
       "    }\n",
       "\n",
       "    .dataframe tbody tr th {\n",
       "        vertical-align: top;\n",
       "    }\n",
       "\n",
       "    .dataframe thead th {\n",
       "        text-align: right;\n",
       "    }\n",
       "</style>\n",
       "<table border=\"1\" class=\"dataframe\">\n",
       "  <thead>\n",
       "    <tr style=\"text-align: right;\">\n",
       "      <th></th>\n",
       "      <th>InvoiceNo</th>\n",
       "      <th>StockCode</th>\n",
       "      <th>Description</th>\n",
       "      <th>Quantity</th>\n",
       "      <th>UnitPrice</th>\n",
       "      <th>CustomerID</th>\n",
       "      <th>Country</th>\n",
       "      <th>Total Price</th>\n",
       "      <th>Time</th>\n",
       "      <th>Date</th>\n",
       "    </tr>\n",
       "  </thead>\n",
       "  <tbody>\n",
       "    <tr>\n",
       "      <th>0</th>\n",
       "      <td>536365</td>\n",
       "      <td>85123A</td>\n",
       "      <td>WHITE HANGING HEART T-LIGHT HOLDER</td>\n",
       "      <td>6</td>\n",
       "      <td>2.550781</td>\n",
       "      <td>17850.0</td>\n",
       "      <td>United Kingdom</td>\n",
       "      <td>15.304688</td>\n",
       "      <td>08:26</td>\n",
       "      <td>01-12-2010</td>\n",
       "    </tr>\n",
       "    <tr>\n",
       "      <th>1</th>\n",
       "      <td>536365</td>\n",
       "      <td>71053</td>\n",
       "      <td>WHITE METAL LANTERN</td>\n",
       "      <td>6</td>\n",
       "      <td>3.390625</td>\n",
       "      <td>17850.0</td>\n",
       "      <td>United Kingdom</td>\n",
       "      <td>20.343750</td>\n",
       "      <td>08:26</td>\n",
       "      <td>01-12-2010</td>\n",
       "    </tr>\n",
       "    <tr>\n",
       "      <th>2</th>\n",
       "      <td>536365</td>\n",
       "      <td>84406B</td>\n",
       "      <td>CREAM CUPID HEARTS COAT HANGER</td>\n",
       "      <td>8</td>\n",
       "      <td>2.750000</td>\n",
       "      <td>17850.0</td>\n",
       "      <td>United Kingdom</td>\n",
       "      <td>22.000000</td>\n",
       "      <td>08:26</td>\n",
       "      <td>01-12-2010</td>\n",
       "    </tr>\n",
       "    <tr>\n",
       "      <th>3</th>\n",
       "      <td>536365</td>\n",
       "      <td>84029G</td>\n",
       "      <td>KNITTED UNION FLAG HOT WATER BOTTLE</td>\n",
       "      <td>6</td>\n",
       "      <td>3.390625</td>\n",
       "      <td>17850.0</td>\n",
       "      <td>United Kingdom</td>\n",
       "      <td>20.343750</td>\n",
       "      <td>08:26</td>\n",
       "      <td>01-12-2010</td>\n",
       "    </tr>\n",
       "    <tr>\n",
       "      <th>4</th>\n",
       "      <td>536365</td>\n",
       "      <td>84029E</td>\n",
       "      <td>RED WOOLLY HOTTIE WHITE HEART.</td>\n",
       "      <td>6</td>\n",
       "      <td>3.390625</td>\n",
       "      <td>17850.0</td>\n",
       "      <td>United Kingdom</td>\n",
       "      <td>20.343750</td>\n",
       "      <td>08:26</td>\n",
       "      <td>01-12-2010</td>\n",
       "    </tr>\n",
       "  </tbody>\n",
       "</table>\n",
       "</div>"
      ],
      "text/plain": [
       "  InvoiceNo StockCode                          Description  Quantity  \\\n",
       "0    536365    85123A   WHITE HANGING HEART T-LIGHT HOLDER         6   \n",
       "1    536365     71053                  WHITE METAL LANTERN         6   \n",
       "2    536365    84406B       CREAM CUPID HEARTS COAT HANGER         8   \n",
       "3    536365    84029G  KNITTED UNION FLAG HOT WATER BOTTLE         6   \n",
       "4    536365    84029E       RED WOOLLY HOTTIE WHITE HEART.         6   \n",
       "\n",
       "   UnitPrice  CustomerID         Country  Total Price   Time        Date  \n",
       "0   2.550781     17850.0  United Kingdom    15.304688  08:26  01-12-2010  \n",
       "1   3.390625     17850.0  United Kingdom    20.343750  08:26  01-12-2010  \n",
       "2   2.750000     17850.0  United Kingdom    22.000000  08:26  01-12-2010  \n",
       "3   3.390625     17850.0  United Kingdom    20.343750  08:26  01-12-2010  \n",
       "4   3.390625     17850.0  United Kingdom    20.343750  08:26  01-12-2010  "
      ]
     },
     "execution_count": 36,
     "metadata": {},
     "output_type": "execute_result"
    }
   ],
   "source": [
    "UK_df.head()"
   ]
  },
  {
   "cell_type": "code",
   "execution_count": 134,
   "id": "7004e2fc-a5cb-4779-a242-9f69c5791734",
   "metadata": {},
   "outputs": [
    {
     "name": "stdout",
     "output_type": "stream",
     "text": [
      "Unique Invoice number  23274\n",
      "Unique StockCode  3953\n",
      "Unique Description of item  4189\n"
     ]
    }
   ],
   "source": [
    "print(\"Unique Invoice number \", UK_df[\"InvoiceNo\"].nunique())\n",
    "print(\"Unique StockCode \", UK_df[\"StockCode\"].nunique())\n",
    "print(\"Unique Description of item \", UK_df[\"Description\"].nunique())"
   ]
  },
  {
   "cell_type": "code",
   "execution_count": 135,
   "id": "77dcab99-c08e-4e26-a40b-ee39e6f2123f",
   "metadata": {},
   "outputs": [
    {
     "name": "stdout",
     "output_type": "stream",
     "text": [
      "Unique Invoice number  2406\n",
      "Unique StockCode  2807\n",
      "Unique Description of item  2916\n"
     ]
    }
   ],
   "source": [
    "print(\"Unique Invoice number \", Rest_df[\"InvoiceNo\"].nunique())\n",
    "print(\"Unique StockCode \", Rest_df[\"StockCode\"].nunique())\n",
    "print(\"Unique Description of item \", Rest_df[\"Description\"].nunique())"
   ]
  },
  {
   "cell_type": "code",
   "execution_count": 175,
   "id": "504cd2cf-2af5-4996-9162-5df634b91ac4",
   "metadata": {
    "scrolled": true
   },
   "outputs": [
    {
     "data": {
      "text/html": [
       "<div>\n",
       "<style scoped>\n",
       "    .dataframe tbody tr th:only-of-type {\n",
       "        vertical-align: middle;\n",
       "    }\n",
       "\n",
       "    .dataframe tbody tr th {\n",
       "        vertical-align: top;\n",
       "    }\n",
       "\n",
       "    .dataframe thead th {\n",
       "        text-align: right;\n",
       "    }\n",
       "</style>\n",
       "<table border=\"1\" class=\"dataframe\">\n",
       "  <thead>\n",
       "    <tr style=\"text-align: right;\">\n",
       "      <th></th>\n",
       "      <th>Quantity</th>\n",
       "      <th>UnitPrice</th>\n",
       "      <th>CustomerID</th>\n",
       "      <th>Year</th>\n",
       "      <th>Month</th>\n",
       "      <th>Day</th>\n",
       "      <th>Total Price</th>\n",
       "    </tr>\n",
       "  </thead>\n",
       "  <tbody>\n",
       "    <tr>\n",
       "      <th>count</th>\n",
       "      <td>490080.000000</td>\n",
       "      <td>490080.000000</td>\n",
       "      <td>490080.000000</td>\n",
       "      <td>490080.000000</td>\n",
       "      <td>490080.000000</td>\n",
       "      <td>490080.000000</td>\n",
       "      <td>490080.000000</td>\n",
       "    </tr>\n",
       "    <tr>\n",
       "      <th>mean</th>\n",
       "      <td>8.653210</td>\n",
       "      <td>4.556904</td>\n",
       "      <td>15543.944480</td>\n",
       "      <td>2010.919227</td>\n",
       "      <td>7.565030</td>\n",
       "      <td>15.011492</td>\n",
       "      <td>16.179246</td>\n",
       "    </tr>\n",
       "    <tr>\n",
       "      <th>std</th>\n",
       "      <td>228.644257</td>\n",
       "      <td>99.860336</td>\n",
       "      <td>1615.814805</td>\n",
       "      <td>0.272486</td>\n",
       "      <td>3.519311</td>\n",
       "      <td>8.688515</td>\n",
       "      <td>396.997038</td>\n",
       "    </tr>\n",
       "    <tr>\n",
       "      <th>min</th>\n",
       "      <td>-80995.000000</td>\n",
       "      <td>-11062.059570</td>\n",
       "      <td>12346.000000</td>\n",
       "      <td>2010.000000</td>\n",
       "      <td>1.000000</td>\n",
       "      <td>1.000000</td>\n",
       "      <td>-168469.000000</td>\n",
       "    </tr>\n",
       "    <tr>\n",
       "      <th>25%</th>\n",
       "      <td>1.000000</td>\n",
       "      <td>1.250000</td>\n",
       "      <td>14159.000000</td>\n",
       "      <td>2011.000000</td>\n",
       "      <td>5.000000</td>\n",
       "      <td>7.000000</td>\n",
       "      <td>3.000000</td>\n",
       "    </tr>\n",
       "    <tr>\n",
       "      <th>50%</th>\n",
       "      <td>3.000000</td>\n",
       "      <td>2.100000</td>\n",
       "      <td>15513.000000</td>\n",
       "      <td>2011.000000</td>\n",
       "      <td>8.000000</td>\n",
       "      <td>15.000000</td>\n",
       "      <td>8.000000</td>\n",
       "    </tr>\n",
       "    <tr>\n",
       "      <th>75%</th>\n",
       "      <td>10.000000</td>\n",
       "      <td>4.130000</td>\n",
       "      <td>16945.000000</td>\n",
       "      <td>2011.000000</td>\n",
       "      <td>11.000000</td>\n",
       "      <td>22.000000</td>\n",
       "      <td>16.000000</td>\n",
       "    </tr>\n",
       "    <tr>\n",
       "      <th>max</th>\n",
       "      <td>80995.000000</td>\n",
       "      <td>38970.000000</td>\n",
       "      <td>18287.000000</td>\n",
       "      <td>2011.000000</td>\n",
       "      <td>12.000000</td>\n",
       "      <td>31.000000</td>\n",
       "      <td>168469.000000</td>\n",
       "    </tr>\n",
       "  </tbody>\n",
       "</table>\n",
       "</div>"
      ],
      "text/plain": [
       "            Quantity      UnitPrice     CustomerID           Year  \\\n",
       "count  490080.000000  490080.000000  490080.000000  490080.000000   \n",
       "mean        8.653210       4.556904   15543.944480    2010.919227   \n",
       "std       228.644257      99.860336    1615.814805       0.272486   \n",
       "min    -80995.000000  -11062.059570   12346.000000    2010.000000   \n",
       "25%         1.000000       1.250000   14159.000000    2011.000000   \n",
       "50%         3.000000       2.100000   15513.000000    2011.000000   \n",
       "75%        10.000000       4.130000   16945.000000    2011.000000   \n",
       "max     80995.000000   38970.000000   18287.000000    2011.000000   \n",
       "\n",
       "               Month            Day    Total Price  \n",
       "count  490080.000000  490080.000000  490080.000000  \n",
       "mean        7.565030      15.011492      16.179246  \n",
       "std         3.519311       8.688515     396.997038  \n",
       "min         1.000000       1.000000 -168469.000000  \n",
       "25%         5.000000       7.000000       3.000000  \n",
       "50%         8.000000      15.000000       8.000000  \n",
       "75%        11.000000      22.000000      16.000000  \n",
       "max        12.000000      31.000000  168469.000000  "
      ]
     },
     "execution_count": 175,
     "metadata": {},
     "output_type": "execute_result"
    }
   ],
   "source": [
    "UK_df.describe(`)"
   ]
  },
  {
   "cell_type": "code",
   "execution_count": 176,
   "id": "79402e07-f77a-4769-9035-094434d9fd02",
   "metadata": {},
   "outputs": [
    {
     "data": {
      "text/html": [
       "<div>\n",
       "<style scoped>\n",
       "    .dataframe tbody tr th:only-of-type {\n",
       "        vertical-align: middle;\n",
       "    }\n",
       "\n",
       "    .dataframe tbody tr th {\n",
       "        vertical-align: top;\n",
       "    }\n",
       "\n",
       "    .dataframe thead th {\n",
       "        text-align: right;\n",
       "    }\n",
       "</style>\n",
       "<table border=\"1\" class=\"dataframe\">\n",
       "  <thead>\n",
       "    <tr style=\"text-align: right;\">\n",
       "      <th></th>\n",
       "      <th>Quantity</th>\n",
       "      <th>UnitPrice</th>\n",
       "      <th>CustomerID</th>\n",
       "      <th>Year</th>\n",
       "      <th>Month</th>\n",
       "      <th>Day</th>\n",
       "      <th>Total Price</th>\n",
       "    </tr>\n",
       "  </thead>\n",
       "  <tbody>\n",
       "    <tr>\n",
       "      <th>count</th>\n",
       "      <td>46341.000000</td>\n",
       "      <td>46341.000000</td>\n",
       "      <td>46341.000000</td>\n",
       "      <td>46341.000000</td>\n",
       "      <td>46341.000000</td>\n",
       "      <td>46341.000000</td>\n",
       "      <td>46341.000000</td>\n",
       "    </tr>\n",
       "    <tr>\n",
       "      <th>mean</th>\n",
       "      <td>19.683952</td>\n",
       "      <td>5.455760</td>\n",
       "      <td>13189.369371</td>\n",
       "      <td>2010.949224</td>\n",
       "      <td>7.341404</td>\n",
       "      <td>15.165663</td>\n",
       "      <td>33.235839</td>\n",
       "    </tr>\n",
       "    <tr>\n",
       "      <th>std</th>\n",
       "      <td>47.272128</td>\n",
       "      <td>63.421841</td>\n",
       "      <td>1079.824596</td>\n",
       "      <td>0.219542</td>\n",
       "      <td>3.382416</td>\n",
       "      <td>8.380446</td>\n",
       "      <td>104.520454</td>\n",
       "    </tr>\n",
       "    <tr>\n",
       "      <th>min</th>\n",
       "      <td>-624.000000</td>\n",
       "      <td>0.000000</td>\n",
       "      <td>12347.000000</td>\n",
       "      <td>2010.000000</td>\n",
       "      <td>1.000000</td>\n",
       "      <td>1.000000</td>\n",
       "      <td>-8322.000000</td>\n",
       "    </tr>\n",
       "    <tr>\n",
       "      <th>25%</th>\n",
       "      <td>4.000000</td>\n",
       "      <td>1.250000</td>\n",
       "      <td>12484.000000</td>\n",
       "      <td>2011.000000</td>\n",
       "      <td>5.000000</td>\n",
       "      <td>8.000000</td>\n",
       "      <td>12.000000</td>\n",
       "    </tr>\n",
       "    <tr>\n",
       "      <th>50%</th>\n",
       "      <td>10.000000</td>\n",
       "      <td>1.950000</td>\n",
       "      <td>12658.000000</td>\n",
       "      <td>2011.000000</td>\n",
       "      <td>8.000000</td>\n",
       "      <td>15.000000</td>\n",
       "      <td>17.000000</td>\n",
       "    </tr>\n",
       "    <tr>\n",
       "      <th>75%</th>\n",
       "      <td>16.000000</td>\n",
       "      <td>3.750000</td>\n",
       "      <td>14156.000000</td>\n",
       "      <td>2011.000000</td>\n",
       "      <td>10.000000</td>\n",
       "      <td>22.000000</td>\n",
       "      <td>30.000000</td>\n",
       "    </tr>\n",
       "    <tr>\n",
       "      <th>max</th>\n",
       "      <td>2400.000000</td>\n",
       "      <td>4161.060059</td>\n",
       "      <td>17844.000000</td>\n",
       "      <td>2011.000000</td>\n",
       "      <td>12.000000</td>\n",
       "      <td>31.000000</td>\n",
       "      <td>4992.000000</td>\n",
       "    </tr>\n",
       "  </tbody>\n",
       "</table>\n",
       "</div>"
      ],
      "text/plain": [
       "           Quantity     UnitPrice    CustomerID          Year         Month  \\\n",
       "count  46341.000000  46341.000000  46341.000000  46341.000000  46341.000000   \n",
       "mean      19.683952      5.455760  13189.369371   2010.949224      7.341404   \n",
       "std       47.272128     63.421841   1079.824596      0.219542      3.382416   \n",
       "min     -624.000000      0.000000  12347.000000   2010.000000      1.000000   \n",
       "25%        4.000000      1.250000  12484.000000   2011.000000      5.000000   \n",
       "50%       10.000000      1.950000  12658.000000   2011.000000      8.000000   \n",
       "75%       16.000000      3.750000  14156.000000   2011.000000     10.000000   \n",
       "max     2400.000000   4161.060059  17844.000000   2011.000000     12.000000   \n",
       "\n",
       "                Day   Total Price  \n",
       "count  46341.000000  46341.000000  \n",
       "mean      15.165663     33.235839  \n",
       "std        8.380446    104.520454  \n",
       "min        1.000000  -8322.000000  \n",
       "25%        8.000000     12.000000  \n",
       "50%       15.000000     17.000000  \n",
       "75%       22.000000     30.000000  \n",
       "max       31.000000   4992.000000  "
      ]
     },
     "execution_count": 176,
     "metadata": {},
     "output_type": "execute_result"
    }
   ],
   "source": [
    "Rest_df.describe()"
   ]
  },
  {
   "cell_type": "code",
   "execution_count": null,
   "id": "485c2e0d-e4ab-49f1-adac-fa2177f654a6",
   "metadata": {},
   "outputs": [],
   "source": []
  },
  {
   "cell_type": "code",
   "execution_count": 171,
   "id": "db2569cf-9996-4ded-b80c-821d9cbff63c",
   "metadata": {
    "scrolled": true
   },
   "outputs": [
    {
     "name": "stdout",
     "output_type": "stream",
     "text": [
      "<class 'pandas.core.frame.DataFrame'>\n",
      "Index: 490080 entries, 0 to 536408\n",
      "Data columns (total 13 columns):\n",
      " #   Column       Non-Null Count   Dtype  \n",
      "---  ------       --------------   -----  \n",
      " 0   InvoiceNo    490080 non-null  object \n",
      " 1   StockCode    490080 non-null  object \n",
      " 2   Description  490080 non-null  object \n",
      " 3   Quantity     490080 non-null  int64  \n",
      " 4   UnitPrice    490080 non-null  float64\n",
      " 5   CustomerID   490080 non-null  int64  \n",
      " 6   Country      490080 non-null  object \n",
      " 7   Time         490080 non-null  object \n",
      " 8   Date         490080 non-null  object \n",
      " 9   Year         490080 non-null  int64  \n",
      " 10  Month        490080 non-null  int64  \n",
      " 11  Day          490080 non-null  int64  \n",
      " 12  Total Price  490080 non-null  float64\n",
      "dtypes: float64(2), int64(5), object(6)\n",
      "memory usage: 52.3+ MB\n"
     ]
    }
   ],
   "source": [
    "UK_df.info()"
   ]
  },
  {
   "cell_type": "code",
   "execution_count": 125,
   "id": "e2d1561f-ccd8-4589-8322-ec7fa93da0df",
   "metadata": {},
   "outputs": [
    {
     "name": "stderr",
     "output_type": "stream",
     "text": [
      "C:\\Users\\Alok\\AppData\\Local\\Temp\\ipykernel_10952\\2341888570.py:2: SettingWithCopyWarning: \n",
      "A value is trying to be set on a copy of a slice from a DataFrame\n",
      "\n",
      "See the caveats in the documentation: https://pandas.pydata.org/pandas-docs/stable/user_guide/indexing.html#returning-a-view-versus-a-copy\n",
      "  UK_df['UnitPrice'].fillna(value=0, inplace=True)  # or use .fillna(method='ffill')\n"
     ]
    }
   ],
   "source": []
  },
  {
   "cell_type": "code",
   "execution_count": 39,
   "id": "69f12f8f-9e75-4342-af0d-d197caf57f28",
   "metadata": {},
   "outputs": [],
   "source": [
    "#Highest selling item in UK\n"
   ]
  },
  {
   "cell_type": "code",
   "execution_count": 40,
   "id": "c89c4550-8444-40d9-80a7-b615a4b836e1",
   "metadata": {},
   "outputs": [
    {
     "data": {
      "image/png": "[encoded data removed]",
      "text/plain": [
       "<Figure size 640x480 with 1 Axes>"
      ]
     },
     "metadata": {},
     "output_type": "display_data"
    }
   ],
   "source": [
    "plt.boxplot(UK_df[\"Quantity\"])\n",
    "plt.show()"
   ]
  },
  {
   "cell_type": "code",
   "execution_count": null,
   "id": "14414f7b-f475-4692-bcc1-75e16fda986a",
   "metadata": {},
   "outputs": [],
   "source": []
  },
  {
   "cell_type": "code",
   "execution_count": 92,
   "id": "31873d6a-f335-4156-8a81-183fdb928b9e",
   "metadata": {},
   "outputs": [],
   "source": [
    "def calculate_iqr(series):\n",
    "    Q1 = series.quantile(0.25) \n",
    "    Q3 = series.quantile(0.75)\n",
    "    IQR = Q3 - Q1\n",
    "    upper_fence = Q3 + 1.5 * IQR\n",
    "    lower_fence = Q1 - 1.5 * IQR\n",
    "    \n",
    "    print(\"Upper Fence =\",upper_fence)\n",
    "    print(\"Lower Fence =\",lower_fence)"
   ]
  },
  {
   "cell_type": "code",
   "execution_count": 42,
   "id": "8d74a746-72e0-455f-9dbc-8946ab301cfd",
   "metadata": {},
   "outputs": [
    {
     "name": "stdout",
     "output_type": "stream",
     "text": [
      "Upper Fence = 23.5\n",
      "Lower Fence = -12.5\n"
     ]
    }
   ],
   "source": [
    "calculate_iqr(UK_df[\"Quantity\"])"
   ]
  },
  {
   "cell_type": "code",
   "execution_count": 43,
   "id": "4b3b77f4-c4fa-4d90-9bec-bf25ea69a8f8",
   "metadata": {},
   "outputs": [
    {
     "data": {
      "image/png": "[encoded data removed]",
      "text/plain": [
       "<Figure size 640x480 with 1 Axes>"
      ]
     },
     "metadata": {},
     "output_type": "display_data"
    }
   ],
   "source": [
    "plt.boxplot(UK_df[(UK_df[\"Quantity\"] > -12.5 ) & (UK_df[\"Quantity\"] < 23.5)][\"Quantity\"])\n",
    "plt.show()"
   ]
  },
  {
   "cell_type": "code",
   "execution_count": 45,
   "id": "d5dad1ea-0256-4eca-bd31-1f841490d1fb",
   "metadata": {},
   "outputs": [
    {
     "data": {
      "text/plain": [
       "InvoiceNo      442103\n",
       "StockCode      442103\n",
       "Description    442103\n",
       "Quantity       442103\n",
       "UnitPrice      442103\n",
       "CustomerID     442103\n",
       "Country        442103\n",
       "Total Price    442103\n",
       "Time           442103\n",
       "Date           442103\n",
       "dtype: int64"
      ]
     },
     "execution_count": 45,
     "metadata": {},
     "output_type": "execute_result"
    }
   ],
   "source": [
    "(UK_df[(UK_df[\"Quantity\"] > -12.5 ) & (UK_df[\"Quantity\"] < 23.5)].count())"
   ]
  },
  {
   "cell_type": "code",
   "execution_count": 46,
   "id": "795b0951-f94e-44f5-9d41-2a9d55afab81",
   "metadata": {},
   "outputs": [
    {
     "data": {
      "text/plain": [
       "('The percentage of data which will get eliminated', 9.789626183480248)"
      ]
     },
     "execution_count": 46,
     "metadata": {},
     "output_type": "execute_result"
    }
   ],
   "source": [
    "f\"The percentage of data which will get eliminated\",(490080 - 442103)* 100 /490080"
   ]
  },
  {
   "cell_type": "code",
   "execution_count": 47,
   "id": "f118bb3a-1d06-456c-9ef3-d1cb360230b7",
   "metadata": {},
   "outputs": [
    {
     "name": "stdout",
     "output_type": "stream",
     "text": [
      "Upper Fence = 36.611328125\n",
      "Lower Fence = -16.685546875\n"
     ]
    }
   ],
   "source": [
    "calculate_iqr(UK_df[\"Total Price\"])"
   ]
  },
  {
   "cell_type": "code",
   "execution_count": 48,
   "id": "6d67bab3-b5a5-4a18-87d4-15aba9c09abc",
   "metadata": {},
   "outputs": [
    {
     "data": {
      "text/plain": [
       "452627"
      ]
     },
     "execution_count": 48,
     "metadata": {},
     "output_type": "execute_result"
    }
   ],
   "source": [
    "UK_df[(UK_df[\"Total Price\"] > -16.685546875 ) & (UK_df[\"Total Price\"] < 36.611328125)][\"Quantity\"].count()"
   ]
  },
  {
   "cell_type": "code",
   "execution_count": 49,
   "id": "00724613-a962-42d3-be2c-8ef576d8f611",
   "metadata": {},
   "outputs": [],
   "source": [
    "UK_df[\"Quantity_sqr\"] = UK_df[\"Quantity\"]**2"
   ]
  },
  {
   "cell_type": "code",
   "execution_count": 50,
   "id": "6250417a-7f14-4f9c-bb62-4d1e0a6e22d8",
   "metadata": {},
   "outputs": [
    {
     "data": {
      "text/plain": [
       "InvoiceNo       490080\n",
       "StockCode       490080\n",
       "Description     490080\n",
       "Quantity        490080\n",
       "UnitPrice       490080\n",
       "CustomerID      490080\n",
       "Country         490080\n",
       "Total Price     490080\n",
       "Time            490080\n",
       "Date            490080\n",
       "Quantity_sqr    490080\n",
       "dtype: int64"
      ]
     },
     "execution_count": 50,
     "metadata": {},
     "output_type": "execute_result"
    }
   ],
   "source": [
    "UK_df.count()"
   ]
  },
  {
   "cell_type": "code",
   "execution_count": 51,
   "id": "d0203ba0-48d6-406a-a9d7-2e8d6e72450c",
   "metadata": {},
   "outputs": [
    {
     "data": {
      "text/plain": [
       "1212898929"
      ]
     },
     "execution_count": 51,
     "metadata": {},
     "output_type": "execute_result"
    }
   ],
   "source": [
    "UK_df[\"Quantity_sqr\"].max()"
   ]
  },
  {
   "cell_type": "code",
   "execution_count": 52,
   "id": "be11af73-eff0-4d8c-8191-228c1981e0ea",
   "metadata": {},
   "outputs": [
    {
     "data": {
      "text/plain": [
       "490080"
      ]
     },
     "execution_count": 52,
     "metadata": {},
     "output_type": "execute_result"
    }
   ],
   "source": [
    "UK_df[\"Quantity_sqr\"].count()"
   ]
  },
  {
   "cell_type": "code",
   "execution_count": null,
   "id": "c812ff99-83d5-4252-a08c-a3ca7e75fa08",
   "metadata": {},
   "outputs": [],
   "source": []
  },
  {
   "cell_type": "code",
   "execution_count": 53,
   "id": "222c114b-0195-4863-a0c8-a6d7fe525723",
   "metadata": {},
   "outputs": [
    {
     "name": "stdout",
     "output_type": "stream",
     "text": [
      "Upper Fence = 248.5\n",
      "Lower Fence = -147.5\n"
     ]
    }
   ],
   "source": [
    "calculate_iqr(UK_df[\"Quantity_sqr\"])"
   ]
  },
  {
   "cell_type": "code",
   "execution_count": 54,
   "id": "61ec2af8-e970-4709-aa79-809d7cd3b0b8",
   "metadata": {},
   "outputs": [
    {
     "data": {
      "image/png": "[encoded data removed]",
      "text/plain": [
       "<Figure size 640x480 with 1 Axes>"
      ]
     },
     "metadata": {},
     "output_type": "display_data"
    }
   ],
   "source": [
    "plt.boxplot(UK_df[\"Quantity_sqr\"])\n",
    "plt.show()"
   ]
  },
  {
   "cell_type": "code",
   "execution_count": 55,
   "id": "97e92466-e08c-4b8e-a4d8-d0249ff65828",
   "metadata": {},
   "outputs": [
    {
     "data": {
      "text/plain": [
       "534943   -2029744567\n",
       "534944   -2029744567\n",
       "399501             1\n",
       "290508             1\n",
       "290507             1\n",
       "             ...    \n",
       "223468      92160000\n",
       "223469      92160000\n",
       "497177     157251600\n",
       "60955     1212898929\n",
       "60960     1212898929\n",
       "Name: Quantity_sqr, Length: 490080, dtype: int32"
      ]
     },
     "execution_count": 55,
     "metadata": {},
     "output_type": "execute_result"
    }
   ],
   "source": [
    "UK_df[\"Quantity_sqr\"].sort_values()"
   ]
  },
  {
   "cell_type": "code",
   "execution_count": 56,
   "id": "818cc536-1292-411b-abfd-2e79e5c3c70c",
   "metadata": {},
   "outputs": [
    {
     "data": {
      "text/plain": [
       "431961"
      ]
     },
     "execution_count": 56,
     "metadata": {},
     "output_type": "execute_result"
    }
   ],
   "source": [
    "UK_df[(UK_df[\"Quantity_sqr\"] > (-147.5) ) & (UK_df[\"Quantity_sqr\"] < 248.5)][\"Quantity_sqr\"].count()"
   ]
  },
  {
   "cell_type": "code",
   "execution_count": 57,
   "id": "08058c66-3a9e-4983-9fb3-f711b4578eec",
   "metadata": {},
   "outputs": [
    {
     "data": {
      "text/plain": [
       "490080"
      ]
     },
     "execution_count": 57,
     "metadata": {},
     "output_type": "execute_result"
    }
   ],
   "source": [
    "UK_df[\"Quantity_sqr\"].count()"
   ]
  },
  {
   "cell_type": "code",
   "execution_count": 58,
   "id": "95fe9943-9199-4a42-ae32-fb53ee86b10f",
   "metadata": {},
   "outputs": [
    {
     "data": {
      "text/plain": [
       "58119"
      ]
     },
     "execution_count": 58,
     "metadata": {},
     "output_type": "execute_result"
    }
   ],
   "source": [
    "490080-431961"
   ]
  },
  {
   "cell_type": "code",
   "execution_count": 59,
   "id": "da6d1f27-44d8-4569-a27a-2b59233d0047",
   "metadata": {},
   "outputs": [
    {
     "data": {
      "text/plain": [
       "('The percentage of data which will get eliminated', 11.859084231145935)"
      ]
     },
     "execution_count": 59,
     "metadata": {},
     "output_type": "execute_result"
    }
   ],
   "source": [
    "f\"The percentage of data which will get eliminated\",(58119) * 100 /490080"
   ]
  },
  {
   "cell_type": "code",
   "execution_count": 60,
   "id": "a9a3222f-cf5d-4b91-9309-58877b2a57a5",
   "metadata": {},
   "outputs": [
    {
     "data": {
      "text/plain": [
       "array([[-0.0124605 ],\n",
       "       [-0.0124605 ],\n",
       "       [-0.00362767],\n",
       "       ...,\n",
       "       [ 0.0674257 ],\n",
       "       [ 0.0674257 ],\n",
       "       [ 0.00522039]])"
      ]
     },
     "execution_count": 60,
     "metadata": {},
     "output_type": "execute_result"
    }
   ],
   "source": [
    "pt = PowerTransformer()\n",
    "pt.fit_transform(UK_df[\"Quantity\"].values.reshape(-1,1))"
   ]
  },
  {
   "cell_type": "code",
   "execution_count": 61,
   "id": "98ae1123-0cbb-46e8-a0a9-e4c70b7cb90a",
   "metadata": {},
   "outputs": [],
   "source": [
    "UK_df[\"Quantity_yeo\"] = pt.fit_transform(UK_df[\"Quantity\"].values.reshape(-1,1))"
   ]
  },
  {
   "cell_type": "code",
   "execution_count": 62,
   "id": "4102010d-23c7-44aa-86ab-ff93d1a9ee2f",
   "metadata": {},
   "outputs": [
    {
     "data": {
      "text/plain": [
       "0        -0.012460\n",
       "1        -0.012460\n",
       "2        -0.003628\n",
       "3        -0.012460\n",
       "4        -0.012460\n",
       "            ...   \n",
       "536404    0.014081\n",
       "536405   -0.003628\n",
       "536406    0.067426\n",
       "536407    0.067426\n",
       "536408    0.005220\n",
       "Name: Quantity_yeo, Length: 490080, dtype: float64"
      ]
     },
     "execution_count": 62,
     "metadata": {},
     "output_type": "execute_result"
    }
   ],
   "source": [
    "UK_df[\"Quantity_yeo\"]"
   ]
  },
  {
   "cell_type": "code",
   "execution_count": 63,
   "id": "5c076c60-1e69-479d-ab83-da2205b5ea9a",
   "metadata": {},
   "outputs": [
    {
     "name": "stdout",
     "output_type": "stream",
     "text": [
      "Upper Fence = 0.0647048828604314\n",
      "Lower Fence = -0.09392042934296131\n"
     ]
    }
   ],
   "source": [
    "calculate_iqr(UK_df[\"Quantity_yeo\"])"
   ]
  },
  {
   "cell_type": "code",
   "execution_count": 64,
   "id": "c1ce9bb9-df08-41af-a0f1-05e289635edf",
   "metadata": {},
   "outputs": [
    {
     "data": {
      "text/plain": [
       "442103"
      ]
     },
     "execution_count": 64,
     "metadata": {},
     "output_type": "execute_result"
    }
   ],
   "source": [
    "UK_df[(UK_df[\"Quantity_yeo\"] > (-0.09392042934296131) ) & (UK_df[\"Quantity_yeo\"] < 0.0647048828604314)][\"Quantity_yeo\"].count()"
   ]
  },
  {
   "cell_type": "code",
   "execution_count": 65,
   "id": "10c67397-d68f-499e-95dd-386a03de64d7",
   "metadata": {},
   "outputs": [
    {
     "data": {
      "text/plain": [
       "('The percentage of data which will get eliminated', 9.789626183480248)"
      ]
     },
     "execution_count": 65,
     "metadata": {},
     "output_type": "execute_result"
    }
   ],
   "source": [
    "f\"The percentage of data which will get eliminated\",(490080 - 442103) * 100 /490080"
   ]
  },
  {
   "cell_type": "code",
   "execution_count": 66,
   "id": "0c9f9936-881f-4568-8286-6c35d1aac823",
   "metadata": {},
   "outputs": [
    {
     "data": {
      "text/plain": [
       "InvoiceNo       490080\n",
       "StockCode       490080\n",
       "Description     490080\n",
       "Quantity        490080\n",
       "UnitPrice       490080\n",
       "CustomerID      490080\n",
       "Country         490080\n",
       "Total Price     490080\n",
       "Time            490080\n",
       "Date            490080\n",
       "Quantity_sqr    490080\n",
       "Quantity_yeo    490080\n",
       "dtype: int64"
      ]
     },
     "execution_count": 66,
     "metadata": {},
     "output_type": "execute_result"
    }
   ],
   "source": [
    "UK_df.count()"
   ]
  },
  {
   "cell_type": "code",
   "execution_count": 67,
   "id": "b63689ff-36e4-4592-a6e1-eb4c027d85cb",
   "metadata": {},
   "outputs": [
    {
     "data": {
      "text/plain": [
       "<Axes: xlabel='Quantity_yeo', ylabel='Density'>"
      ]
     },
     "execution_count": 67,
     "metadata": {},
     "output_type": "execute_result"
    },
    {
     "data": {
      "image/png": "[encoded data removed]",
      "text/plain": [
       "<Figure size 640x480 with 1 Axes>"
      ]
     },
     "metadata": {},
     "output_type": "display_data"
    }
   ],
   "source": [
    "sns.kdeplot(UK_df[\"Quantity_yeo\"],color=\"blue\")"
   ]
  },
  {
   "cell_type": "code",
   "execution_count": 68,
   "id": "125a56b5-56de-4262-8a3a-08245c01945c",
   "metadata": {},
   "outputs": [],
   "source": [
    "UK_df[\"z_score_normalized_data\"] = (UK_df[\"Quantity\"] - 8.653209680052) / 228.644256"
   ]
  },
  {
   "cell_type": "code",
   "execution_count": 69,
   "id": "9d5ae480-8a44-482a-ab8a-236022e61235",
   "metadata": {},
   "outputs": [
    {
     "data": {
      "text/plain": [
       "228.64425698124336"
      ]
     },
     "execution_count": 69,
     "metadata": {},
     "output_type": "execute_result"
    }
   ],
   "source": [
    "UK_df[\"Quantity\"].std()"
   ]
  },
  {
   "cell_type": "code",
   "execution_count": 70,
   "id": "b93ad55c-7e5a-4f62-aa74-b6103e1df43f",
   "metadata": {},
   "outputs": [
    {
     "name": "stdout",
     "output_type": "stream",
     "text": [
      "Upper Fence = 0.06493401837283853\n",
      "Lower Fence = -0.09251581496126454\n"
     ]
    }
   ],
   "source": [
    "calculate_iqr(UK_df[\"z_score_normalized_data\"])"
   ]
  },
  {
   "cell_type": "code",
   "execution_count": 71,
   "id": "7d1b7955-1fdf-4f01-8d77-0ff4575dc964",
   "metadata": {},
   "outputs": [
    {
     "data": {
      "text/plain": [
       "<Axes: xlabel='z_score_normalized_data', ylabel='Density'>"
      ]
     },
     "execution_count": 71,
     "metadata": {},
     "output_type": "execute_result"
    },
    {
     "data": {
      "image/png": "[encoded data removed]",
      "text/plain": [
       "<Figure size 640x480 with 1 Axes>"
      ]
     },
     "metadata": {},
     "output_type": "display_data"
    }
   ],
   "source": [
    "sns.kdeplot(UK_df[\"z_score_normalized_data\"],color=\"blue\")"
   ]
  },
  {
   "cell_type": "code",
   "execution_count": 72,
   "id": "7f491756-c1b8-4138-b04a-89bc7a3b873a",
   "metadata": {},
   "outputs": [],
   "source": [
    "UK_df[\"Abs_data\"] = np.abs(UK_df[\"Quantity\"])"
   ]
  },
  {
   "cell_type": "code",
   "execution_count": 73,
   "id": "56144f66-af4e-43e9-8181-1940f884faba",
   "metadata": {},
   "outputs": [
    {
     "name": "stdout",
     "output_type": "stream",
     "text": [
      "Upper Fence = 23.5\n",
      "Lower Fence = -12.5\n"
     ]
    }
   ],
   "source": [
    "calculate_iqr(UK_df[\"Abs_data\"])"
   ]
  },
  {
   "cell_type": "code",
   "execution_count": 165,
   "id": "399c739e-07cf-4834-8301-26ed5135569c",
   "metadata": {},
   "outputs": [
    {
     "data": {
      "text/plain": [
       "490080"
      ]
     },
     "execution_count": 165,
     "metadata": {},
     "output_type": "execute_result"
    }
   ],
   "source": [
    "UK_df[\"Quantity\"].count()"
   ]
  },
  {
   "cell_type": "code",
   "execution_count": 81,
   "id": "5979b08f-33ef-4b7b-a150-7aea2e9b2115",
   "metadata": {},
   "outputs": [
    {
     "name": "stdout",
     "output_type": "stream",
     "text": [
      "Upper Fence = 23.5\n",
      "Lower Fence = -12.5\n"
     ]
    }
   ],
   "source": [
    "calculate_iqr(UK_df[\"Quantity\"])"
   ]
  },
  {
   "cell_type": "code",
   "execution_count": 331,
   "id": "1f0c36aa-394f-4ca8-8398-20e0242b3020",
   "metadata": {},
   "outputs": [],
   "source": [
    "imputed_df = pd.read_csv(\"imputed_df.csv\",encoding=\"latin1\")"
   ]
  },
  {
   "cell_type": "code",
   "execution_count": 25,
   "id": "9355af40-fcf8-4e57-ae15-f41a735e667d",
   "metadata": {},
   "outputs": [],
   "source": []
  },
  {
   "cell_type": "code",
   "execution_count": 26,
   "id": "11717aa8-e60f-4699-b7d9-7a2fec6170f3",
   "metadata": {},
   "outputs": [
    {
     "data": {
      "text/html": [
       "<div>\n",
       "<style scoped>\n",
       "    .dataframe tbody tr th:only-of-type {\n",
       "        vertical-align: middle;\n",
       "    }\n",
       "\n",
       "    .dataframe tbody tr th {\n",
       "        vertical-align: top;\n",
       "    }\n",
       "\n",
       "    .dataframe thead th {\n",
       "        text-align: right;\n",
       "    }\n",
       "</style>\n",
       "<table border=\"1\" class=\"dataframe\">\n",
       "  <thead>\n",
       "    <tr style=\"text-align: right;\">\n",
       "      <th></th>\n",
       "      <th>InvoiceNo</th>\n",
       "      <th>StockCode</th>\n",
       "      <th>Description</th>\n",
       "      <th>Quantity</th>\n",
       "      <th>UnitPrice</th>\n",
       "      <th>CustomerID</th>\n",
       "      <th>Country</th>\n",
       "      <th>Time</th>\n",
       "      <th>Date</th>\n",
       "      <th>Total Price</th>\n",
       "    </tr>\n",
       "  </thead>\n",
       "  <tbody>\n",
       "    <tr>\n",
       "      <th>173442</th>\n",
       "      <td>551884</td>\n",
       "      <td>21043</td>\n",
       "      <td>APRON MODERN VINTAGE COTTON</td>\n",
       "      <td>12</td>\n",
       "      <td>1.95</td>\n",
       "      <td>16109.0</td>\n",
       "      <td>United Kingdom</td>\n",
       "      <td>09:17</td>\n",
       "      <td>05-05-2011</td>\n",
       "      <td>23.4</td>\n",
       "    </tr>\n",
       "  </tbody>\n",
       "</table>\n",
       "</div>"
      ],
      "text/plain": [
       "       InvoiceNo StockCode                  Description  Quantity  UnitPrice  \\\n",
       "173442    551884     21043  APRON MODERN VINTAGE COTTON        12       1.95   \n",
       "\n",
       "        CustomerID         Country   Time        Date  Total Price  \n",
       "173442     16109.0  United Kingdom  09:17  05-05-2011         23.4  "
      ]
     },
     "execution_count": 26,
     "metadata": {},
     "output_type": "execute_result"
    }
   ],
   "source": []
  },
  {
   "cell_type": "code",
   "execution_count": 27,
   "id": "154d56d5-5465-48ed-bbb0-4ca0e2627c6a",
   "metadata": {},
   "outputs": [],
   "source": [
    "imputed_df[\"Quantity\"] = imputed_df[\"Quantity\"].astype(\"int32\")\n",
    "imputed_df[\"UnitPrice\"] = imputed_df[\"UnitPrice\"].astype(\"float16\")\n",
    "imputed_df[\"CustomerID\"] = imputed_df[\"CustomerID\"].astype(\"int16\")\n",
    "imputed_df[\"Total Price\"] = imputed_df[\"Total Price\"].astype(\"int32\")"
   ]
  },
  {
   "cell_type": "code",
   "execution_count": 28,
   "id": "a82a36a6-7c50-4ded-abe4-f023af997a27",
   "metadata": {},
   "outputs": [],
   "source": [
    "imputed_df = imputed_df[imputed_df[\"Description\"] != \"?\"]"
   ]
  },
  {
   "cell_type": "code",
   "execution_count": 29,
   "id": "2591435f-a7db-4213-b2cf-8ced5c158fad",
   "metadata": {},
   "outputs": [
    {
     "name": "stdout",
     "output_type": "stream",
     "text": [
      "<class 'pandas.core.frame.DataFrame'>\n",
      "Index: 536421 entries, 0 to 536423\n",
      "Data columns (total 10 columns):\n",
      " #   Column       Non-Null Count   Dtype  \n",
      "---  ------       --------------   -----  \n",
      " 0   InvoiceNo    536421 non-null  object \n",
      " 1   StockCode    536421 non-null  object \n",
      " 2   Description  536421 non-null  object \n",
      " 3   Quantity     536421 non-null  int32  \n",
      " 4   UnitPrice    536421 non-null  float16\n",
      " 5   CustomerID   536421 non-null  int16  \n",
      " 6   Country      536421 non-null  object \n",
      " 7   Time         536421 non-null  object \n",
      " 8   Date         536421 non-null  object \n",
      " 9   Total Price  536421 non-null  int32  \n",
      "dtypes: float16(1), int16(1), int32(2), object(6)\n",
      "memory usage: 34.8+ MB\n"
     ]
    }
   ],
   "source": [
    "imputed_df.info()"
   ]
  },
  {
   "cell_type": "code",
   "execution_count": 332,
   "id": "8abb1413-d434-4b1a-b679-dc3f8188f836",
   "metadata": {},
   "outputs": [
    {
     "data": {
      "text/plain": [
       "0         08:26\n",
       "1         08:26\n",
       "2         08:26\n",
       "3         08:26\n",
       "4         08:26\n",
       "          ...  \n",
       "536419    12:50\n",
       "536420    12:50\n",
       "536421    12:50\n",
       "536422    12:50\n",
       "536423    12:50\n",
       "Name: Time, Length: 536424, dtype: object"
      ]
     },
     "execution_count": 332,
     "metadata": {},
     "output_type": "execute_result"
    }
   ],
   "source": [
    "imputed_df[\"Time\"]"
   ]
  },
  {
   "cell_type": "code",
   "execution_count": 37,
   "id": "5138e38e-4d56-4a46-93e5-154f204eec3e",
   "metadata": {},
   "outputs": [],
   "source": [
    "    "
   ]
  },
  {
   "cell_type": "code",
   "execution_count": 53,
   "id": "e0b4ec47-82ef-4a6e-886b-901b937eed03",
   "metadata": {},
   "outputs": [
    {
     "data": {
      "text/plain": [
       "datetime.time"
      ]
     },
     "execution_count": 53,
     "metadata": {},
     "output_type": "execute_result"
    }
   ],
   "source": [
    "    "
   ]
  },
  {
   "cell_type": "code",
   "execution_count": 52,
   "id": "355596cb-8714-4c21-92f9-e284eea94503",
   "metadata": {},
   "outputs": [
    {
     "ename": "ValueError",
     "evalue": "unconverted data remains when parsing with format \"%H:%M\": \":00\", at position 0. You might want to try:\n    - passing `format` if your strings have a consistent format;\n    - passing `format='ISO8601'` if your strings are all ISO8601 but not necessarily in exactly the same format;\n    - passing `format='mixed'`, and the format will be inferred for each element individually. You might want to use `dayfirst` alongside this.",
     "output_type": "error",
     "traceback": [
      "\u001b[1;31m---------------------------------------------------------------------------\u001b[0m",
      "\u001b[1;31mValueError\u001b[0m                                Traceback (most recent call last)",
      "Cell \u001b[1;32mIn[52], line 1\u001b[0m\n\u001b[1;32m----> 1\u001b[0m imputed_df[\u001b[38;5;124m\"\u001b[39m\u001b[38;5;124mTime\u001b[39m\u001b[38;5;124m\"\u001b[39m] \u001b[38;5;241m=\u001b[39m \u001b[43mpd\u001b[49m\u001b[38;5;241;43m.\u001b[39;49m\u001b[43mto_datetime\u001b[49m\u001b[43m(\u001b[49m\u001b[43mimputed_df\u001b[49m\u001b[43m[\u001b[49m\u001b[38;5;124;43m\"\u001b[39;49m\u001b[38;5;124;43mTime\u001b[39;49m\u001b[38;5;124;43m\"\u001b[39;49m\u001b[43m]\u001b[49m\u001b[43m,\u001b[49m\u001b[43m \u001b[49m\u001b[38;5;28;43mformat\u001b[39;49m\u001b[38;5;241;43m=\u001b[39;49m\u001b[38;5;124;43m'\u001b[39;49m\u001b[38;5;124;43m%\u001b[39;49m\u001b[38;5;124;43mH:\u001b[39;49m\u001b[38;5;124;43m%\u001b[39;49m\u001b[38;5;124;43mM\u001b[39;49m\u001b[38;5;124;43m'\u001b[39;49m\u001b[43m)\u001b[49m\u001b[38;5;241m.\u001b[39mdt\u001b[38;5;241m.\u001b[39mtime\n",
      "File \u001b[1;32m~\\AppData\\Local\\Programs\\Python\\Python311\\Lib\\site-packages\\pandas\\core\\tools\\datetimes.py:1046\u001b[0m, in \u001b[0;36mto_datetime\u001b[1;34m(arg, errors, dayfirst, yearfirst, utc, format, exact, unit, infer_datetime_format, origin, cache)\u001b[0m\n\u001b[0;32m   1044\u001b[0m             result \u001b[38;5;241m=\u001b[39m arg\u001b[38;5;241m.\u001b[39mtz_localize(\u001b[38;5;124m\"\u001b[39m\u001b[38;5;124mutc\u001b[39m\u001b[38;5;124m\"\u001b[39m)\n\u001b[0;32m   1045\u001b[0m \u001b[38;5;28;01melif\u001b[39;00m \u001b[38;5;28misinstance\u001b[39m(arg, ABCSeries):\n\u001b[1;32m-> 1046\u001b[0m     cache_array \u001b[38;5;241m=\u001b[39m \u001b[43m_maybe_cache\u001b[49m\u001b[43m(\u001b[49m\u001b[43marg\u001b[49m\u001b[43m,\u001b[49m\u001b[43m \u001b[49m\u001b[38;5;28;43mformat\u001b[39;49m\u001b[43m,\u001b[49m\u001b[43m \u001b[49m\u001b[43mcache\u001b[49m\u001b[43m,\u001b[49m\u001b[43m \u001b[49m\u001b[43mconvert_listlike\u001b[49m\u001b[43m)\u001b[49m\n\u001b[0;32m   1047\u001b[0m     \u001b[38;5;28;01mif\u001b[39;00m \u001b[38;5;129;01mnot\u001b[39;00m cache_array\u001b[38;5;241m.\u001b[39mempty:\n\u001b[0;32m   1048\u001b[0m         result \u001b[38;5;241m=\u001b[39m arg\u001b[38;5;241m.\u001b[39mmap(cache_array)\n",
      "File \u001b[1;32m~\\AppData\\Local\\Programs\\Python\\Python311\\Lib\\site-packages\\pandas\\core\\tools\\datetimes.py:250\u001b[0m, in \u001b[0;36m_maybe_cache\u001b[1;34m(arg, format, cache, convert_listlike)\u001b[0m\n\u001b[0;32m    248\u001b[0m unique_dates \u001b[38;5;241m=\u001b[39m unique(arg)\n\u001b[0;32m    249\u001b[0m \u001b[38;5;28;01mif\u001b[39;00m \u001b[38;5;28mlen\u001b[39m(unique_dates) \u001b[38;5;241m<\u001b[39m \u001b[38;5;28mlen\u001b[39m(arg):\n\u001b[1;32m--> 250\u001b[0m     cache_dates \u001b[38;5;241m=\u001b[39m \u001b[43mconvert_listlike\u001b[49m\u001b[43m(\u001b[49m\u001b[43munique_dates\u001b[49m\u001b[43m,\u001b[49m\u001b[43m \u001b[49m\u001b[38;5;28;43mformat\u001b[39;49m\u001b[43m)\u001b[49m\n\u001b[0;32m    251\u001b[0m     \u001b[38;5;66;03m# GH#45319\u001b[39;00m\n\u001b[0;32m    252\u001b[0m     \u001b[38;5;28;01mtry\u001b[39;00m:\n",
      "File \u001b[1;32m~\\AppData\\Local\\Programs\\Python\\Python311\\Lib\\site-packages\\pandas\\core\\tools\\datetimes.py:453\u001b[0m, in \u001b[0;36m_convert_listlike_datetimes\u001b[1;34m(arg, format, name, utc, unit, errors, dayfirst, yearfirst, exact)\u001b[0m\n\u001b[0;32m    451\u001b[0m \u001b[38;5;66;03m# `format` could be inferred, or user didn't ask for mixed-format parsing.\u001b[39;00m\n\u001b[0;32m    452\u001b[0m \u001b[38;5;28;01mif\u001b[39;00m \u001b[38;5;28mformat\u001b[39m \u001b[38;5;129;01mis\u001b[39;00m \u001b[38;5;129;01mnot\u001b[39;00m \u001b[38;5;28;01mNone\u001b[39;00m \u001b[38;5;129;01mand\u001b[39;00m \u001b[38;5;28mformat\u001b[39m \u001b[38;5;241m!=\u001b[39m \u001b[38;5;124m\"\u001b[39m\u001b[38;5;124mmixed\u001b[39m\u001b[38;5;124m\"\u001b[39m:\n\u001b[1;32m--> 453\u001b[0m     \u001b[38;5;28;01mreturn\u001b[39;00m \u001b[43m_array_strptime_with_fallback\u001b[49m\u001b[43m(\u001b[49m\u001b[43marg\u001b[49m\u001b[43m,\u001b[49m\u001b[43m \u001b[49m\u001b[43mname\u001b[49m\u001b[43m,\u001b[49m\u001b[43m \u001b[49m\u001b[43mutc\u001b[49m\u001b[43m,\u001b[49m\u001b[43m \u001b[49m\u001b[38;5;28;43mformat\u001b[39;49m\u001b[43m,\u001b[49m\u001b[43m \u001b[49m\u001b[43mexact\u001b[49m\u001b[43m,\u001b[49m\u001b[43m \u001b[49m\u001b[43merrors\u001b[49m\u001b[43m)\u001b[49m\n\u001b[0;32m    455\u001b[0m result, tz_parsed \u001b[38;5;241m=\u001b[39m objects_to_datetime64ns(\n\u001b[0;32m    456\u001b[0m     arg,\n\u001b[0;32m    457\u001b[0m     dayfirst\u001b[38;5;241m=\u001b[39mdayfirst,\n\u001b[1;32m   (...)\u001b[0m\n\u001b[0;32m    461\u001b[0m     allow_object\u001b[38;5;241m=\u001b[39m\u001b[38;5;28;01mTrue\u001b[39;00m,\n\u001b[0;32m    462\u001b[0m )\n\u001b[0;32m    464\u001b[0m \u001b[38;5;28;01mif\u001b[39;00m tz_parsed \u001b[38;5;129;01mis\u001b[39;00m \u001b[38;5;129;01mnot\u001b[39;00m \u001b[38;5;28;01mNone\u001b[39;00m:\n\u001b[0;32m    465\u001b[0m     \u001b[38;5;66;03m# We can take a shortcut since the datetime64 numpy array\u001b[39;00m\n\u001b[0;32m    466\u001b[0m     \u001b[38;5;66;03m# is in UTC\u001b[39;00m\n",
      "File \u001b[1;32m~\\AppData\\Local\\Programs\\Python\\Python311\\Lib\\site-packages\\pandas\\core\\tools\\datetimes.py:484\u001b[0m, in \u001b[0;36m_array_strptime_with_fallback\u001b[1;34m(arg, name, utc, fmt, exact, errors)\u001b[0m\n\u001b[0;32m    473\u001b[0m \u001b[38;5;28;01mdef\u001b[39;00m \u001b[38;5;21m_array_strptime_with_fallback\u001b[39m(\n\u001b[0;32m    474\u001b[0m     arg,\n\u001b[0;32m    475\u001b[0m     name,\n\u001b[1;32m   (...)\u001b[0m\n\u001b[0;32m    479\u001b[0m     errors: \u001b[38;5;28mstr\u001b[39m,\n\u001b[0;32m    480\u001b[0m ) \u001b[38;5;241m-\u001b[39m\u001b[38;5;241m>\u001b[39m Index:\n\u001b[0;32m    481\u001b[0m \u001b[38;5;250m    \u001b[39m\u001b[38;5;124;03m\"\"\"\u001b[39;00m\n\u001b[0;32m    482\u001b[0m \u001b[38;5;124;03m    Call array_strptime, with fallback behavior depending on 'errors'.\u001b[39;00m\n\u001b[0;32m    483\u001b[0m \u001b[38;5;124;03m    \"\"\"\u001b[39;00m\n\u001b[1;32m--> 484\u001b[0m     result, timezones \u001b[38;5;241m=\u001b[39m \u001b[43marray_strptime\u001b[49m\u001b[43m(\u001b[49m\u001b[43marg\u001b[49m\u001b[43m,\u001b[49m\u001b[43m \u001b[49m\u001b[43mfmt\u001b[49m\u001b[43m,\u001b[49m\u001b[43m \u001b[49m\u001b[43mexact\u001b[49m\u001b[38;5;241;43m=\u001b[39;49m\u001b[43mexact\u001b[49m\u001b[43m,\u001b[49m\u001b[43m \u001b[49m\u001b[43merrors\u001b[49m\u001b[38;5;241;43m=\u001b[39;49m\u001b[43merrors\u001b[49m\u001b[43m,\u001b[49m\u001b[43m \u001b[49m\u001b[43mutc\u001b[49m\u001b[38;5;241;43m=\u001b[39;49m\u001b[43mutc\u001b[49m\u001b[43m)\u001b[49m\n\u001b[0;32m    485\u001b[0m     \u001b[38;5;28;01mif\u001b[39;00m \u001b[38;5;28many\u001b[39m(tz \u001b[38;5;129;01mis\u001b[39;00m \u001b[38;5;129;01mnot\u001b[39;00m \u001b[38;5;28;01mNone\u001b[39;00m \u001b[38;5;28;01mfor\u001b[39;00m tz \u001b[38;5;129;01min\u001b[39;00m timezones):\n\u001b[0;32m    486\u001b[0m         \u001b[38;5;28;01mreturn\u001b[39;00m _return_parsed_timezone_results(result, timezones, utc, name)\n",
      "File \u001b[1;32m~\\AppData\\Local\\Programs\\Python\\Python311\\Lib\\site-packages\\pandas\\_libs\\tslibs\\strptime.pyx:530\u001b[0m, in \u001b[0;36mpandas._libs.tslibs.strptime.array_strptime\u001b[1;34m()\u001b[0m\n",
      "File \u001b[1;32m~\\AppData\\Local\\Programs\\Python\\Python311\\Lib\\site-packages\\pandas\\_libs\\tslibs\\strptime.pyx:355\u001b[0m, in \u001b[0;36mpandas._libs.tslibs.strptime.array_strptime\u001b[1;34m()\u001b[0m\n",
      "\u001b[1;31mValueError\u001b[0m: unconverted data remains when parsing with format \"%H:%M\": \":00\", at position 0. You might want to try:\n    - passing `format` if your strings have a consistent format;\n    - passing `format='ISO8601'` if your strings are all ISO8601 but not necessarily in exactly the same format;\n    - passing `format='mixed'`, and the format will be inferred for each element individually. You might want to use `dayfirst` alongside this."
     ]
    }
   ],
   "source": []
  },
  {
   "cell_type": "code",
   "execution_count": 57,
   "id": "a1b3c6f3-1a46-4c7b-8a6e-99efc99ffd6e",
   "metadata": {},
   "outputs": [
    {
     "data": {
      "text/plain": [
       "0         08:26:00\n",
       "1         08:26:00\n",
       "2         08:26:00\n",
       "3         08:26:00\n",
       "4         08:26:00\n",
       "            ...   \n",
       "536419    12:50:00\n",
       "536420    12:50:00\n",
       "536421    12:50:00\n",
       "536422    12:50:00\n",
       "536423    12:50:00\n",
       "Name: Time, Length: 536421, dtype: object"
      ]
     },
     "execution_count": 57,
     "metadata": {},
     "output_type": "execute_result"
    }
   ],
   "source": [
    "imputed_df[\"Time\"]"
   ]
  },
  {
   "cell_type": "code",
   "execution_count": 59,
   "id": "ba769a42-f4fd-4941-be7e-f7a461c25ee6",
   "metadata": {},
   "outputs": [
    {
     "data": {
      "text/html": [
       "<div>\n",
       "<style scoped>\n",
       "    .dataframe tbody tr th:only-of-type {\n",
       "        vertical-align: middle;\n",
       "    }\n",
       "\n",
       "    .dataframe tbody tr th {\n",
       "        vertical-align: top;\n",
       "    }\n",
       "\n",
       "    .dataframe thead th {\n",
       "        text-align: right;\n",
       "    }\n",
       "</style>\n",
       "<table border=\"1\" class=\"dataframe\">\n",
       "  <thead>\n",
       "    <tr style=\"text-align: right;\">\n",
       "      <th></th>\n",
       "      <th>InvoiceNo</th>\n",
       "      <th>StockCode</th>\n",
       "      <th>Description</th>\n",
       "      <th>Quantity</th>\n",
       "      <th>UnitPrice</th>\n",
       "      <th>CustomerID</th>\n",
       "      <th>Country</th>\n",
       "      <th>Time</th>\n",
       "      <th>Date</th>\n",
       "      <th>Total Price</th>\n",
       "    </tr>\n",
       "  </thead>\n",
       "  <tbody>\n",
       "    <tr>\n",
       "      <th>0</th>\n",
       "      <td>536365</td>\n",
       "      <td>85123A</td>\n",
       "      <td>WHITE HANGING HEART T-LIGHT HOLDER</td>\n",
       "      <td>6</td>\n",
       "      <td>2.550781</td>\n",
       "      <td>17850</td>\n",
       "      <td>United Kingdom</td>\n",
       "      <td>08:26:00</td>\n",
       "      <td>2010-12-01</td>\n",
       "      <td>15</td>\n",
       "    </tr>\n",
       "    <tr>\n",
       "      <th>1</th>\n",
       "      <td>536365</td>\n",
       "      <td>71053</td>\n",
       "      <td>WHITE METAL LANTERN</td>\n",
       "      <td>6</td>\n",
       "      <td>3.390625</td>\n",
       "      <td>17850</td>\n",
       "      <td>United Kingdom</td>\n",
       "      <td>08:26:00</td>\n",
       "      <td>2010-12-01</td>\n",
       "      <td>20</td>\n",
       "    </tr>\n",
       "    <tr>\n",
       "      <th>2</th>\n",
       "      <td>536365</td>\n",
       "      <td>84406B</td>\n",
       "      <td>CREAM CUPID HEARTS COAT HANGER</td>\n",
       "      <td>8</td>\n",
       "      <td>2.750000</td>\n",
       "      <td>17850</td>\n",
       "      <td>United Kingdom</td>\n",
       "      <td>08:26:00</td>\n",
       "      <td>2010-12-01</td>\n",
       "      <td>22</td>\n",
       "    </tr>\n",
       "    <tr>\n",
       "      <th>3</th>\n",
       "      <td>536365</td>\n",
       "      <td>84029G</td>\n",
       "      <td>KNITTED UNION FLAG HOT WATER BOTTLE</td>\n",
       "      <td>6</td>\n",
       "      <td>3.390625</td>\n",
       "      <td>17850</td>\n",
       "      <td>United Kingdom</td>\n",
       "      <td>08:26:00</td>\n",
       "      <td>2010-12-01</td>\n",
       "      <td>20</td>\n",
       "    </tr>\n",
       "    <tr>\n",
       "      <th>4</th>\n",
       "      <td>536365</td>\n",
       "      <td>84029E</td>\n",
       "      <td>RED WOOLLY HOTTIE WHITE HEART.</td>\n",
       "      <td>6</td>\n",
       "      <td>3.390625</td>\n",
       "      <td>17850</td>\n",
       "      <td>United Kingdom</td>\n",
       "      <td>08:26:00</td>\n",
       "      <td>2010-12-01</td>\n",
       "      <td>20</td>\n",
       "    </tr>\n",
       "  </tbody>\n",
       "</table>\n",
       "</div>"
      ],
      "text/plain": [
       "  InvoiceNo StockCode                          Description  Quantity  \\\n",
       "0    536365    85123A   WHITE HANGING HEART T-LIGHT HOLDER         6   \n",
       "1    536365     71053                  WHITE METAL LANTERN         6   \n",
       "2    536365    84406B       CREAM CUPID HEARTS COAT HANGER         8   \n",
       "3    536365    84029G  KNITTED UNION FLAG HOT WATER BOTTLE         6   \n",
       "4    536365    84029E       RED WOOLLY HOTTIE WHITE HEART.         6   \n",
       "\n",
       "   UnitPrice  CustomerID         Country      Time       Date  Total Price  \n",
       "0   2.550781       17850  United Kingdom  08:26:00 2010-12-01           15  \n",
       "1   3.390625       17850  United Kingdom  08:26:00 2010-12-01           20  \n",
       "2   2.750000       17850  United Kingdom  08:26:00 2010-12-01           22  \n",
       "3   3.390625       17850  United Kingdom  08:26:00 2010-12-01           20  \n",
       "4   3.390625       17850  United Kingdom  08:26:00 2010-12-01           20  "
      ]
     },
     "execution_count": 59,
     "metadata": {},
     "output_type": "execute_result"
    }
   ],
   "source": [
    "imputed_df.head()"
   ]
  },
  {
   "cell_type": "code",
   "execution_count": null,
   "id": "e7fc8a56-0f91-4ad7-bf4f-3102c77efec9",
   "metadata": {},
   "outputs": [],
   "source": []
  },
  {
   "cell_type": "code",
   "execution_count": 60,
   "id": "b1543e78-f7af-47da-917a-a4ad11723d90",
   "metadata": {},
   "outputs": [
    {
     "ename": "AttributeError",
     "evalue": "Can only use .str accessor with string values!",
     "output_type": "error",
     "traceback": [
      "\u001b[1;31m---------------------------------------------------------------------------\u001b[0m",
      "\u001b[1;31mAttributeError\u001b[0m                            Traceback (most recent call last)",
      "Cell \u001b[1;32mIn[60], line 1\u001b[0m\n\u001b[1;32m----> 1\u001b[0m \u001b[43mimputed_df\u001b[49m\u001b[43m[\u001b[49m\u001b[38;5;124;43m\"\u001b[39;49m\u001b[38;5;124;43mDate\u001b[39;49m\u001b[38;5;124;43m\"\u001b[39;49m\u001b[43m]\u001b[49m\u001b[38;5;241;43m.\u001b[39;49m\u001b[43mstr\u001b[49m\u001b[38;5;241m.\u001b[39msplit(\u001b[38;5;124m\"\u001b[39m\u001b[38;5;124m-\u001b[39m\u001b[38;5;124m\"\u001b[39m)\u001b[38;5;241m.\u001b[39mapply(\u001b[38;5;28;01mlambda\u001b[39;00m x:x[\u001b[38;5;241m0\u001b[39m])\n",
      "File \u001b[1;32m~\\AppData\\Local\\Programs\\Python\\Python311\\Lib\\site-packages\\pandas\\core\\generic.py:5989\u001b[0m, in \u001b[0;36mNDFrame.__getattr__\u001b[1;34m(self, name)\u001b[0m\n\u001b[0;32m   5982\u001b[0m \u001b[38;5;28;01mif\u001b[39;00m (\n\u001b[0;32m   5983\u001b[0m     name \u001b[38;5;129;01mnot\u001b[39;00m \u001b[38;5;129;01min\u001b[39;00m \u001b[38;5;28mself\u001b[39m\u001b[38;5;241m.\u001b[39m_internal_names_set\n\u001b[0;32m   5984\u001b[0m     \u001b[38;5;129;01mand\u001b[39;00m name \u001b[38;5;129;01mnot\u001b[39;00m \u001b[38;5;129;01min\u001b[39;00m \u001b[38;5;28mself\u001b[39m\u001b[38;5;241m.\u001b[39m_metadata\n\u001b[0;32m   5985\u001b[0m     \u001b[38;5;129;01mand\u001b[39;00m name \u001b[38;5;129;01mnot\u001b[39;00m \u001b[38;5;129;01min\u001b[39;00m \u001b[38;5;28mself\u001b[39m\u001b[38;5;241m.\u001b[39m_accessors\n\u001b[0;32m   5986\u001b[0m     \u001b[38;5;129;01mand\u001b[39;00m \u001b[38;5;28mself\u001b[39m\u001b[38;5;241m.\u001b[39m_info_axis\u001b[38;5;241m.\u001b[39m_can_hold_identifiers_and_holds_name(name)\n\u001b[0;32m   5987\u001b[0m ):\n\u001b[0;32m   5988\u001b[0m     \u001b[38;5;28;01mreturn\u001b[39;00m \u001b[38;5;28mself\u001b[39m[name]\n\u001b[1;32m-> 5989\u001b[0m \u001b[38;5;28;01mreturn\u001b[39;00m \u001b[38;5;28;43mobject\u001b[39;49m\u001b[38;5;241;43m.\u001b[39;49m\u001b[38;5;21;43m__getattribute__\u001b[39;49m\u001b[43m(\u001b[49m\u001b[38;5;28;43mself\u001b[39;49m\u001b[43m,\u001b[49m\u001b[43m \u001b[49m\u001b[43mname\u001b[49m\u001b[43m)\u001b[49m\n",
      "File \u001b[1;32m~\\AppData\\Local\\Programs\\Python\\Python311\\Lib\\site-packages\\pandas\\core\\accessor.py:224\u001b[0m, in \u001b[0;36mCachedAccessor.__get__\u001b[1;34m(self, obj, cls)\u001b[0m\n\u001b[0;32m    221\u001b[0m \u001b[38;5;28;01mif\u001b[39;00m obj \u001b[38;5;129;01mis\u001b[39;00m \u001b[38;5;28;01mNone\u001b[39;00m:\n\u001b[0;32m    222\u001b[0m     \u001b[38;5;66;03m# we're accessing the attribute of the class, i.e., Dataset.geo\u001b[39;00m\n\u001b[0;32m    223\u001b[0m     \u001b[38;5;28;01mreturn\u001b[39;00m \u001b[38;5;28mself\u001b[39m\u001b[38;5;241m.\u001b[39m_accessor\n\u001b[1;32m--> 224\u001b[0m accessor_obj \u001b[38;5;241m=\u001b[39m \u001b[38;5;28;43mself\u001b[39;49m\u001b[38;5;241;43m.\u001b[39;49m\u001b[43m_accessor\u001b[49m\u001b[43m(\u001b[49m\u001b[43mobj\u001b[49m\u001b[43m)\u001b[49m\n\u001b[0;32m    225\u001b[0m \u001b[38;5;66;03m# Replace the property with the accessor object. Inspired by:\u001b[39;00m\n\u001b[0;32m    226\u001b[0m \u001b[38;5;66;03m# https://www.pydanny.com/cached-property.html\u001b[39;00m\n\u001b[0;32m    227\u001b[0m \u001b[38;5;66;03m# We need to use object.__setattr__ because we overwrite __setattr__ on\u001b[39;00m\n\u001b[0;32m    228\u001b[0m \u001b[38;5;66;03m# NDFrame\u001b[39;00m\n\u001b[0;32m    229\u001b[0m \u001b[38;5;28mobject\u001b[39m\u001b[38;5;241m.\u001b[39m\u001b[38;5;21m__setattr__\u001b[39m(obj, \u001b[38;5;28mself\u001b[39m\u001b[38;5;241m.\u001b[39m_name, accessor_obj)\n",
      "File \u001b[1;32m~\\AppData\\Local\\Programs\\Python\\Python311\\Lib\\site-packages\\pandas\\core\\strings\\accessor.py:181\u001b[0m, in \u001b[0;36mStringMethods.__init__\u001b[1;34m(self, data)\u001b[0m\n\u001b[0;32m    178\u001b[0m \u001b[38;5;28;01mdef\u001b[39;00m \u001b[38;5;21m__init__\u001b[39m(\u001b[38;5;28mself\u001b[39m, data) \u001b[38;5;241m-\u001b[39m\u001b[38;5;241m>\u001b[39m \u001b[38;5;28;01mNone\u001b[39;00m:\n\u001b[0;32m    179\u001b[0m     \u001b[38;5;28;01mfrom\u001b[39;00m \u001b[38;5;21;01mpandas\u001b[39;00m\u001b[38;5;21;01m.\u001b[39;00m\u001b[38;5;21;01mcore\u001b[39;00m\u001b[38;5;21;01m.\u001b[39;00m\u001b[38;5;21;01marrays\u001b[39;00m\u001b[38;5;21;01m.\u001b[39;00m\u001b[38;5;21;01mstring_\u001b[39;00m \u001b[38;5;28;01mimport\u001b[39;00m StringDtype\n\u001b[1;32m--> 181\u001b[0m     \u001b[38;5;28mself\u001b[39m\u001b[38;5;241m.\u001b[39m_inferred_dtype \u001b[38;5;241m=\u001b[39m \u001b[38;5;28;43mself\u001b[39;49m\u001b[38;5;241;43m.\u001b[39;49m\u001b[43m_validate\u001b[49m\u001b[43m(\u001b[49m\u001b[43mdata\u001b[49m\u001b[43m)\u001b[49m\n\u001b[0;32m    182\u001b[0m     \u001b[38;5;28mself\u001b[39m\u001b[38;5;241m.\u001b[39m_is_categorical \u001b[38;5;241m=\u001b[39m is_categorical_dtype(data\u001b[38;5;241m.\u001b[39mdtype)\n\u001b[0;32m    183\u001b[0m     \u001b[38;5;28mself\u001b[39m\u001b[38;5;241m.\u001b[39m_is_string \u001b[38;5;241m=\u001b[39m \u001b[38;5;28misinstance\u001b[39m(data\u001b[38;5;241m.\u001b[39mdtype, StringDtype)\n",
      "File \u001b[1;32m~\\AppData\\Local\\Programs\\Python\\Python311\\Lib\\site-packages\\pandas\\core\\strings\\accessor.py:235\u001b[0m, in \u001b[0;36mStringMethods._validate\u001b[1;34m(data)\u001b[0m\n\u001b[0;32m    232\u001b[0m inferred_dtype \u001b[38;5;241m=\u001b[39m lib\u001b[38;5;241m.\u001b[39minfer_dtype(values, skipna\u001b[38;5;241m=\u001b[39m\u001b[38;5;28;01mTrue\u001b[39;00m)\n\u001b[0;32m    234\u001b[0m \u001b[38;5;28;01mif\u001b[39;00m inferred_dtype \u001b[38;5;129;01mnot\u001b[39;00m \u001b[38;5;129;01min\u001b[39;00m allowed_types:\n\u001b[1;32m--> 235\u001b[0m     \u001b[38;5;28;01mraise\u001b[39;00m \u001b[38;5;167;01mAttributeError\u001b[39;00m(\u001b[38;5;124m\"\u001b[39m\u001b[38;5;124mCan only use .str accessor with string values!\u001b[39m\u001b[38;5;124m\"\u001b[39m)\n\u001b[0;32m    236\u001b[0m \u001b[38;5;28;01mreturn\u001b[39;00m inferred_dtype\n",
      "\u001b[1;31mAttributeError\u001b[0m: Can only use .str accessor with string values!"
     ]
    }
   ],
   "source": []
  },
  {
   "cell_type": "code",
   "execution_count": 65,
   "id": "e45472b9-135a-4fa0-b3ab-0d2c744122b8",
   "metadata": {},
   "outputs": [
    {
     "data": {
      "text/plain": [
       "0         12\n",
       "1         12\n",
       "2         12\n",
       "3         12\n",
       "4         12\n",
       "          ..\n",
       "536419    12\n",
       "536420    12\n",
       "536421    12\n",
       "536422    12\n",
       "536423    12\n",
       "Name: InvoiceDate, Length: 536424, dtype: object"
      ]
     },
     "execution_count": 65,
     "metadata": {},
     "output_type": "execute_result"
    }
   ],
   "source": []
  },
  {
   "cell_type": "code",
   "execution_count": 66,
   "id": "76cf4912-8298-46e9-a793-cc5618a30712",
   "metadata": {},
   "outputs": [
    {
     "data": {
      "text/plain": [
       "0         01\n",
       "1         01\n",
       "2         01\n",
       "3         01\n",
       "4         01\n",
       "          ..\n",
       "536419    09\n",
       "536420    09\n",
       "536421    09\n",
       "536422    09\n",
       "536423    09\n",
       "Name: InvoiceDate, Length: 536424, dtype: object"
      ]
     },
     "execution_count": 66,
     "metadata": {},
     "output_type": "execute_result"
    }
   ],
   "source": []
  },
  {
   "cell_type": "code",
   "execution_count": 77,
   "id": "a750f432-c904-44ff-bfe6-6e4231cfc8c8",
   "metadata": {},
   "outputs": [
    {
     "data": {
      "text/plain": [
       "0         2010\n",
       "1         2010\n",
       "2         2010\n",
       "3         2010\n",
       "4         2010\n",
       "          ... \n",
       "536419    2011\n",
       "536420    2011\n",
       "536421    2011\n",
       "536422    2011\n",
       "536423    2011\n",
       "Name: InvoiceDate, Length: 536424, dtype: object"
      ]
     },
     "execution_count": 77,
     "metadata": {},
     "output_type": "execute_result"
    }
   ],
   "source": []
  },
  {
   "cell_type": "code",
   "execution_count": 78,
   "id": "14d30636-3bcb-45cd-ad2a-dffc92843076",
   "metadata": {},
   "outputs": [],
   "source": [
    "    "
   ]
  },
  {
   "cell_type": "code",
   "execution_count": 79,
   "id": "fcbd9f16-5752-429b-bad9-8f692837d047",
   "metadata": {},
   "outputs": [
    {
     "data": {
      "text/plain": [
       "0         2010\n",
       "1         2010\n",
       "2         2010\n",
       "3         2010\n",
       "4         2010\n",
       "          ... \n",
       "536419    2011\n",
       "536420    2011\n",
       "536421    2011\n",
       "536422    2011\n",
       "536423    2011\n",
       "Name: Date, Length: 536424, dtype: object"
      ]
     },
     "execution_count": 79,
     "metadata": {},
     "output_type": "execute_result"
    }
   ],
   "source": []
  },
  {
   "cell_type": "code",
   "execution_count": 83,
   "id": "d9477304-c864-4a66-b0ab-c67f1195abb6",
   "metadata": {},
   "outputs": [
    {
     "data": {
      "text/html": [
       "<div>\n",
       "<style scoped>\n",
       "    .dataframe tbody tr th:only-of-type {\n",
       "        vertical-align: middle;\n",
       "    }\n",
       "\n",
       "    .dataframe tbody tr th {\n",
       "        vertical-align: top;\n",
       "    }\n",
       "\n",
       "    .dataframe thead th {\n",
       "        text-align: right;\n",
       "    }\n",
       "</style>\n",
       "<table border=\"1\" class=\"dataframe\">\n",
       "  <thead>\n",
       "    <tr style=\"text-align: right;\">\n",
       "      <th></th>\n",
       "      <th>InvoiceNo</th>\n",
       "      <th>StockCode</th>\n",
       "      <th>Description</th>\n",
       "      <th>Quantity</th>\n",
       "      <th>InvoiceDate</th>\n",
       "      <th>UnitPrice</th>\n",
       "      <th>CustomerID</th>\n",
       "      <th>Country</th>\n",
       "      <th>date</th>\n",
       "      <th>month</th>\n",
       "      <th>year</th>\n",
       "    </tr>\n",
       "  </thead>\n",
       "  <tbody>\n",
       "    <tr>\n",
       "      <th>0</th>\n",
       "      <td>536365</td>\n",
       "      <td>85123A</td>\n",
       "      <td>WHITE HANGING HEART T-LIGHT HOLDER</td>\n",
       "      <td>6</td>\n",
       "      <td>01-12-2010 08:26</td>\n",
       "      <td>2.55</td>\n",
       "      <td>17850.0</td>\n",
       "      <td>United Kingdom</td>\n",
       "      <td>01</td>\n",
       "      <td>12</td>\n",
       "      <td>2010</td>\n",
       "    </tr>\n",
       "    <tr>\n",
       "      <th>1</th>\n",
       "      <td>536365</td>\n",
       "      <td>71053</td>\n",
       "      <td>WHITE METAL LANTERN</td>\n",
       "      <td>6</td>\n",
       "      <td>01-12-2010 08:26</td>\n",
       "      <td>3.39</td>\n",
       "      <td>17850.0</td>\n",
       "      <td>United Kingdom</td>\n",
       "      <td>01</td>\n",
       "      <td>12</td>\n",
       "      <td>2010</td>\n",
       "    </tr>\n",
       "    <tr>\n",
       "      <th>2</th>\n",
       "      <td>536365</td>\n",
       "      <td>84406B</td>\n",
       "      <td>CREAM CUPID HEARTS COAT HANGER</td>\n",
       "      <td>8</td>\n",
       "      <td>01-12-2010 08:26</td>\n",
       "      <td>2.75</td>\n",
       "      <td>17850.0</td>\n",
       "      <td>United Kingdom</td>\n",
       "      <td>01</td>\n",
       "      <td>12</td>\n",
       "      <td>2010</td>\n",
       "    </tr>\n",
       "    <tr>\n",
       "      <th>3</th>\n",
       "      <td>536365</td>\n",
       "      <td>84029G</td>\n",
       "      <td>KNITTED UNION FLAG HOT WATER BOTTLE</td>\n",
       "      <td>6</td>\n",
       "      <td>01-12-2010 08:26</td>\n",
       "      <td>3.39</td>\n",
       "      <td>17850.0</td>\n",
       "      <td>United Kingdom</td>\n",
       "      <td>01</td>\n",
       "      <td>12</td>\n",
       "      <td>2010</td>\n",
       "    </tr>\n",
       "    <tr>\n",
       "      <th>4</th>\n",
       "      <td>536365</td>\n",
       "      <td>84029E</td>\n",
       "      <td>RED WOOLLY HOTTIE WHITE HEART.</td>\n",
       "      <td>6</td>\n",
       "      <td>01-12-2010 08:26</td>\n",
       "      <td>3.39</td>\n",
       "      <td>17850.0</td>\n",
       "      <td>United Kingdom</td>\n",
       "      <td>01</td>\n",
       "      <td>12</td>\n",
       "      <td>2010</td>\n",
       "    </tr>\n",
       "    <tr>\n",
       "      <th>...</th>\n",
       "      <td>...</td>\n",
       "      <td>...</td>\n",
       "      <td>...</td>\n",
       "      <td>...</td>\n",
       "      <td>...</td>\n",
       "      <td>...</td>\n",
       "      <td>...</td>\n",
       "      <td>...</td>\n",
       "      <td>...</td>\n",
       "      <td>...</td>\n",
       "      <td>...</td>\n",
       "    </tr>\n",
       "    <tr>\n",
       "      <th>536419</th>\n",
       "      <td>581587</td>\n",
       "      <td>22613</td>\n",
       "      <td>PACK OF 20 SPACEBOY NAPKINS</td>\n",
       "      <td>12</td>\n",
       "      <td>09-12-2011 12:50</td>\n",
       "      <td>0.85</td>\n",
       "      <td>12680.0</td>\n",
       "      <td>France</td>\n",
       "      <td>09</td>\n",
       "      <td>12</td>\n",
       "      <td>2011</td>\n",
       "    </tr>\n",
       "    <tr>\n",
       "      <th>536420</th>\n",
       "      <td>581587</td>\n",
       "      <td>22899</td>\n",
       "      <td>CHILDREN'S APRON DOLLY GIRL</td>\n",
       "      <td>6</td>\n",
       "      <td>09-12-2011 12:50</td>\n",
       "      <td>2.10</td>\n",
       "      <td>12680.0</td>\n",
       "      <td>France</td>\n",
       "      <td>09</td>\n",
       "      <td>12</td>\n",
       "      <td>2011</td>\n",
       "    </tr>\n",
       "    <tr>\n",
       "      <th>536421</th>\n",
       "      <td>581587</td>\n",
       "      <td>23254</td>\n",
       "      <td>CHILDRENS CUTLERY DOLLY GIRL</td>\n",
       "      <td>4</td>\n",
       "      <td>09-12-2011 12:50</td>\n",
       "      <td>4.15</td>\n",
       "      <td>12680.0</td>\n",
       "      <td>France</td>\n",
       "      <td>09</td>\n",
       "      <td>12</td>\n",
       "      <td>2011</td>\n",
       "    </tr>\n",
       "    <tr>\n",
       "      <th>536422</th>\n",
       "      <td>581587</td>\n",
       "      <td>23255</td>\n",
       "      <td>CHILDRENS CUTLERY CIRCUS PARADE</td>\n",
       "      <td>4</td>\n",
       "      <td>09-12-2011 12:50</td>\n",
       "      <td>4.15</td>\n",
       "      <td>12680.0</td>\n",
       "      <td>France</td>\n",
       "      <td>09</td>\n",
       "      <td>12</td>\n",
       "      <td>2011</td>\n",
       "    </tr>\n",
       "    <tr>\n",
       "      <th>536423</th>\n",
       "      <td>581587</td>\n",
       "      <td>22138</td>\n",
       "      <td>BAKING SET 9 PIECE RETROSPOT</td>\n",
       "      <td>3</td>\n",
       "      <td>09-12-2011 12:50</td>\n",
       "      <td>4.95</td>\n",
       "      <td>12680.0</td>\n",
       "      <td>France</td>\n",
       "      <td>09</td>\n",
       "      <td>12</td>\n",
       "      <td>2011</td>\n",
       "    </tr>\n",
       "  </tbody>\n",
       "</table>\n",
       "<p>536424 rows × 11 columns</p>\n",
       "</div>"
      ],
      "text/plain": [
       "       InvoiceNo StockCode                          Description  Quantity  \\\n",
       "0         536365    85123A   WHITE HANGING HEART T-LIGHT HOLDER         6   \n",
       "1         536365     71053                  WHITE METAL LANTERN         6   \n",
       "2         536365    84406B       CREAM CUPID HEARTS COAT HANGER         8   \n",
       "3         536365    84029G  KNITTED UNION FLAG HOT WATER BOTTLE         6   \n",
       "4         536365    84029E       RED WOOLLY HOTTIE WHITE HEART.         6   \n",
       "...          ...       ...                                  ...       ...   \n",
       "536419    581587     22613          PACK OF 20 SPACEBOY NAPKINS        12   \n",
       "536420    581587     22899         CHILDREN'S APRON DOLLY GIRL          6   \n",
       "536421    581587     23254        CHILDRENS CUTLERY DOLLY GIRL          4   \n",
       "536422    581587     23255      CHILDRENS CUTLERY CIRCUS PARADE         4   \n",
       "536423    581587     22138        BAKING SET 9 PIECE RETROSPOT          3   \n",
       "\n",
       "             InvoiceDate  UnitPrice  CustomerID         Country date month  \\\n",
       "0       01-12-2010 08:26       2.55     17850.0  United Kingdom   01    12   \n",
       "1       01-12-2010 08:26       3.39     17850.0  United Kingdom   01    12   \n",
       "2       01-12-2010 08:26       2.75     17850.0  United Kingdom   01    12   \n",
       "3       01-12-2010 08:26       3.39     17850.0  United Kingdom   01    12   \n",
       "4       01-12-2010 08:26       3.39     17850.0  United Kingdom   01    12   \n",
       "...                  ...        ...         ...             ...  ...   ...   \n",
       "536419  09-12-2011 12:50       0.85     12680.0          France   09    12   \n",
       "536420  09-12-2011 12:50       2.10     12680.0          France   09    12   \n",
       "536421  09-12-2011 12:50       4.15     12680.0          France   09    12   \n",
       "536422  09-12-2011 12:50       4.15     12680.0          France   09    12   \n",
       "536423  09-12-2011 12:50       4.95     12680.0          France   09    12   \n",
       "\n",
       "        year  \n",
       "0       2010  \n",
       "1       2010  \n",
       "2       2010  \n",
       "3       2010  \n",
       "4       2010  \n",
       "...      ...  \n",
       "536419  2011  \n",
       "536420  2011  \n",
       "536421  2011  \n",
       "536422  2011  \n",
       "536423  2011  \n",
       "\n",
       "[536424 rows x 11 columns]"
      ]
     },
     "execution_count": 83,
     "metadata": {},
     "output_type": "execute_result"
    }
   ],
   "source": []
  },
  {
   "cell_type": "code",
   "execution_count": 333,
   "id": "66c7e622-ae04-4fd6-a94c-676b44663382",
   "metadata": {},
   "outputs": [],
   "source": [
    "imputed_df.drop(\"Date\",axis=1,inplace=True)"
   ]
  },
  {
   "cell_type": "code",
   "execution_count": 335,
   "id": "05104ab4-e637-4091-9330-faa4e4f08c49",
   "metadata": {},
   "outputs": [
    {
     "data": {
      "text/html": [
       "<div>\n",
       "<style scoped>\n",
       "    .dataframe tbody tr th:only-of-type {\n",
       "        vertical-align: middle;\n",
       "    }\n",
       "\n",
       "    .dataframe tbody tr th {\n",
       "        vertical-align: top;\n",
       "    }\n",
       "\n",
       "    .dataframe thead th {\n",
       "        text-align: right;\n",
       "    }\n",
       "</style>\n",
       "<table border=\"1\" class=\"dataframe\">\n",
       "  <thead>\n",
       "    <tr style=\"text-align: right;\">\n",
       "      <th></th>\n",
       "      <th>InvoiceNo</th>\n",
       "      <th>StockCode</th>\n",
       "      <th>Description</th>\n",
       "      <th>Quantity</th>\n",
       "      <th>UnitPrice</th>\n",
       "      <th>CustomerID</th>\n",
       "      <th>Country</th>\n",
       "      <th>Time</th>\n",
       "      <th>Year</th>\n",
       "      <th>Month</th>\n",
       "      <th>Day</th>\n",
       "      <th>Total Price</th>\n",
       "    </tr>\n",
       "  </thead>\n",
       "  <tbody>\n",
       "    <tr>\n",
       "      <th>0</th>\n",
       "      <td>536365</td>\n",
       "      <td>85123A</td>\n",
       "      <td>WHITE HANGING HEART T-LIGHT HOLDER</td>\n",
       "      <td>6</td>\n",
       "      <td>2.55</td>\n",
       "      <td>17850.0</td>\n",
       "      <td>United Kingdom</td>\n",
       "      <td>08:26</td>\n",
       "      <td>2010</td>\n",
       "      <td>12</td>\n",
       "      <td>1</td>\n",
       "      <td>15.30</td>\n",
       "    </tr>\n",
       "    <tr>\n",
       "      <th>1</th>\n",
       "      <td>536365</td>\n",
       "      <td>71053</td>\n",
       "      <td>WHITE METAL LANTERN</td>\n",
       "      <td>6</td>\n",
       "      <td>3.39</td>\n",
       "      <td>17850.0</td>\n",
       "      <td>United Kingdom</td>\n",
       "      <td>08:26</td>\n",
       "      <td>2010</td>\n",
       "      <td>12</td>\n",
       "      <td>1</td>\n",
       "      <td>20.34</td>\n",
       "    </tr>\n",
       "    <tr>\n",
       "      <th>2</th>\n",
       "      <td>536365</td>\n",
       "      <td>84406B</td>\n",
       "      <td>CREAM CUPID HEARTS COAT HANGER</td>\n",
       "      <td>8</td>\n",
       "      <td>2.75</td>\n",
       "      <td>17850.0</td>\n",
       "      <td>United Kingdom</td>\n",
       "      <td>08:26</td>\n",
       "      <td>2010</td>\n",
       "      <td>12</td>\n",
       "      <td>1</td>\n",
       "      <td>22.00</td>\n",
       "    </tr>\n",
       "    <tr>\n",
       "      <th>3</th>\n",
       "      <td>536365</td>\n",
       "      <td>84029G</td>\n",
       "      <td>KNITTED UNION FLAG HOT WATER BOTTLE</td>\n",
       "      <td>6</td>\n",
       "      <td>3.39</td>\n",
       "      <td>17850.0</td>\n",
       "      <td>United Kingdom</td>\n",
       "      <td>08:26</td>\n",
       "      <td>2010</td>\n",
       "      <td>12</td>\n",
       "      <td>1</td>\n",
       "      <td>20.34</td>\n",
       "    </tr>\n",
       "    <tr>\n",
       "      <th>4</th>\n",
       "      <td>536365</td>\n",
       "      <td>84029E</td>\n",
       "      <td>RED WOOLLY HOTTIE WHITE HEART.</td>\n",
       "      <td>6</td>\n",
       "      <td>3.39</td>\n",
       "      <td>17850.0</td>\n",
       "      <td>United Kingdom</td>\n",
       "      <td>08:26</td>\n",
       "      <td>2010</td>\n",
       "      <td>12</td>\n",
       "      <td>1</td>\n",
       "      <td>20.34</td>\n",
       "    </tr>\n",
       "    <tr>\n",
       "      <th>...</th>\n",
       "      <td>...</td>\n",
       "      <td>...</td>\n",
       "      <td>...</td>\n",
       "      <td>...</td>\n",
       "      <td>...</td>\n",
       "      <td>...</td>\n",
       "      <td>...</td>\n",
       "      <td>...</td>\n",
       "      <td>...</td>\n",
       "      <td>...</td>\n",
       "      <td>...</td>\n",
       "      <td>...</td>\n",
       "    </tr>\n",
       "    <tr>\n",
       "      <th>536419</th>\n",
       "      <td>581587</td>\n",
       "      <td>22613</td>\n",
       "      <td>PACK OF 20 SPACEBOY NAPKINS</td>\n",
       "      <td>12</td>\n",
       "      <td>0.85</td>\n",
       "      <td>12680.0</td>\n",
       "      <td>France</td>\n",
       "      <td>12:50</td>\n",
       "      <td>2011</td>\n",
       "      <td>12</td>\n",
       "      <td>9</td>\n",
       "      <td>10.20</td>\n",
       "    </tr>\n",
       "    <tr>\n",
       "      <th>536420</th>\n",
       "      <td>581587</td>\n",
       "      <td>22899</td>\n",
       "      <td>CHILDREN'S APRON DOLLY GIRL</td>\n",
       "      <td>6</td>\n",
       "      <td>2.10</td>\n",
       "      <td>12680.0</td>\n",
       "      <td>France</td>\n",
       "      <td>12:50</td>\n",
       "      <td>2011</td>\n",
       "      <td>12</td>\n",
       "      <td>9</td>\n",
       "      <td>12.60</td>\n",
       "    </tr>\n",
       "    <tr>\n",
       "      <th>536421</th>\n",
       "      <td>581587</td>\n",
       "      <td>23254</td>\n",
       "      <td>CHILDRENS CUTLERY DOLLY GIRL</td>\n",
       "      <td>4</td>\n",
       "      <td>4.15</td>\n",
       "      <td>12680.0</td>\n",
       "      <td>France</td>\n",
       "      <td>12:50</td>\n",
       "      <td>2011</td>\n",
       "      <td>12</td>\n",
       "      <td>9</td>\n",
       "      <td>16.60</td>\n",
       "    </tr>\n",
       "    <tr>\n",
       "      <th>536422</th>\n",
       "      <td>581587</td>\n",
       "      <td>23255</td>\n",
       "      <td>CHILDRENS CUTLERY CIRCUS PARADE</td>\n",
       "      <td>4</td>\n",
       "      <td>4.15</td>\n",
       "      <td>12680.0</td>\n",
       "      <td>France</td>\n",
       "      <td>12:50</td>\n",
       "      <td>2011</td>\n",
       "      <td>12</td>\n",
       "      <td>9</td>\n",
       "      <td>16.60</td>\n",
       "    </tr>\n",
       "    <tr>\n",
       "      <th>536423</th>\n",
       "      <td>581587</td>\n",
       "      <td>22138</td>\n",
       "      <td>BAKING SET 9 PIECE RETROSPOT</td>\n",
       "      <td>3</td>\n",
       "      <td>4.95</td>\n",
       "      <td>12680.0</td>\n",
       "      <td>France</td>\n",
       "      <td>12:50</td>\n",
       "      <td>2011</td>\n",
       "      <td>12</td>\n",
       "      <td>9</td>\n",
       "      <td>14.85</td>\n",
       "    </tr>\n",
       "  </tbody>\n",
       "</table>\n",
       "<p>536424 rows × 12 columns</p>\n",
       "</div>"
      ],
      "text/plain": [
       "       InvoiceNo StockCode                          Description  Quantity  \\\n",
       "0         536365    85123A   WHITE HANGING HEART T-LIGHT HOLDER         6   \n",
       "1         536365     71053                  WHITE METAL LANTERN         6   \n",
       "2         536365    84406B       CREAM CUPID HEARTS COAT HANGER         8   \n",
       "3         536365    84029G  KNITTED UNION FLAG HOT WATER BOTTLE         6   \n",
       "4         536365    84029E       RED WOOLLY HOTTIE WHITE HEART.         6   \n",
       "...          ...       ...                                  ...       ...   \n",
       "536419    581587     22613          PACK OF 20 SPACEBOY NAPKINS        12   \n",
       "536420    581587     22899         CHILDREN'S APRON DOLLY GIRL          6   \n",
       "536421    581587     23254        CHILDRENS CUTLERY DOLLY GIRL          4   \n",
       "536422    581587     23255      CHILDRENS CUTLERY CIRCUS PARADE         4   \n",
       "536423    581587     22138        BAKING SET 9 PIECE RETROSPOT          3   \n",
       "\n",
       "        UnitPrice  CustomerID         Country   Time  Year  Month  Day  \\\n",
       "0            2.55     17850.0  United Kingdom  08:26  2010     12    1   \n",
       "1            3.39     17850.0  United Kingdom  08:26  2010     12    1   \n",
       "2            2.75     17850.0  United Kingdom  08:26  2010     12    1   \n",
       "3            3.39     17850.0  United Kingdom  08:26  2010     12    1   \n",
       "4            3.39     17850.0  United Kingdom  08:26  2010     12    1   \n",
       "...           ...         ...             ...    ...   ...    ...  ...   \n",
       "536419       0.85     12680.0          France  12:50  2011     12    9   \n",
       "536420       2.10     12680.0          France  12:50  2011     12    9   \n",
       "536421       4.15     12680.0          France  12:50  2011     12    9   \n",
       "536422       4.15     12680.0          France  12:50  2011     12    9   \n",
       "536423       4.95     12680.0          France  12:50  2011     12    9   \n",
       "\n",
       "        Total Price  \n",
       "0             15.30  \n",
       "1             20.34  \n",
       "2             22.00  \n",
       "3             20.34  \n",
       "4             20.34  \n",
       "...             ...  \n",
       "536419        10.20  \n",
       "536420        12.60  \n",
       "536421        16.60  \n",
       "536422        16.60  \n",
       "536423        14.85  \n",
       "\n",
       "[536424 rows x 12 columns]"
      ]
     },
     "execution_count": 335,
     "metadata": {},
     "output_type": "execute_result"
    }
   ],
   "source": [
    "imputed_df"
   ]
  },
  {
   "cell_type": "code",
   "execution_count": 336,
   "id": "5d24d1fe-8482-459c-9b24-fb129fe5aa11",
   "metadata": {},
   "outputs": [
    {
     "data": {
      "text/plain": [
       "dtype('int64')"
      ]
     },
     "execution_count": 336,
     "metadata": {},
     "output_type": "execute_result"
    }
   ],
   "source": [
    "imputed_df[\"Month\"].dtypes"
   ]
  },
  {
   "cell_type": "code",
   "execution_count": 71,
   "id": "e118fa60-4336-46c2-8d85-1781700846ee",
   "metadata": {
    "jupyter": {
     "source_hidden": true
    }
   },
   "outputs": [
    {
     "data": {
      "text/plain": [
       "0         08:26\n",
       "1         08:26\n",
       "2         08:26\n",
       "3         08:26\n",
       "4         08:26\n",
       "          ...  \n",
       "536419    12:50\n",
       "536420    12:50\n",
       "536421    12:50\n",
       "536422    12:50\n",
       "536423    12:50\n",
       "Name: InvoiceDate, Length: 536424, dtype: object"
      ]
     },
     "execution_count": 71,
     "metadata": {},
     "output_type": "execute_result"
    }
   ],
   "source": [
    "imputed_df[\"InvoiceDate\"].str.split(' ').apply(lambda x: x[1])"
   ]
  },
  {
   "cell_type": "code",
   "execution_count": 87,
   "id": "f8740390-d769-4531-8bf8-7a0a5ea70d60",
   "metadata": {},
   "outputs": [
    {
     "data": {
      "text/html": [
       "<div>\n",
       "<style scoped>\n",
       "    .dataframe tbody tr th:only-of-type {\n",
       "        vertical-align: middle;\n",
       "    }\n",
       "\n",
       "    .dataframe tbody tr th {\n",
       "        vertical-align: top;\n",
       "    }\n",
       "\n",
       "    .dataframe thead th {\n",
       "        text-align: right;\n",
       "    }\n",
       "</style>\n",
       "<table border=\"1\" class=\"dataframe\">\n",
       "  <thead>\n",
       "    <tr style=\"text-align: right;\">\n",
       "      <th></th>\n",
       "      <th>InvoiceNo</th>\n",
       "      <th>StockCode</th>\n",
       "      <th>Description</th>\n",
       "      <th>Quantity</th>\n",
       "      <th>InvoiceDate</th>\n",
       "      <th>UnitPrice</th>\n",
       "      <th>CustomerID</th>\n",
       "      <th>Country</th>\n",
       "      <th>date</th>\n",
       "      <th>month</th>\n",
       "      <th>year</th>\n",
       "    </tr>\n",
       "  </thead>\n",
       "  <tbody>\n",
       "    <tr>\n",
       "      <th>0</th>\n",
       "      <td>536365</td>\n",
       "      <td>85123A</td>\n",
       "      <td>WHITE HANGING HEART T-LIGHT HOLDER</td>\n",
       "      <td>6</td>\n",
       "      <td>01-12-2010 08:26</td>\n",
       "      <td>2.55</td>\n",
       "      <td>17850.0</td>\n",
       "      <td>United Kingdom</td>\n",
       "      <td>01</td>\n",
       "      <td>12</td>\n",
       "      <td>2010</td>\n",
       "    </tr>\n",
       "    <tr>\n",
       "      <th>1</th>\n",
       "      <td>536365</td>\n",
       "      <td>71053</td>\n",
       "      <td>WHITE METAL LANTERN</td>\n",
       "      <td>6</td>\n",
       "      <td>01-12-2010 08:26</td>\n",
       "      <td>3.39</td>\n",
       "      <td>17850.0</td>\n",
       "      <td>United Kingdom</td>\n",
       "      <td>01</td>\n",
       "      <td>12</td>\n",
       "      <td>2010</td>\n",
       "    </tr>\n",
       "    <tr>\n",
       "      <th>2</th>\n",
       "      <td>536365</td>\n",
       "      <td>84406B</td>\n",
       "      <td>CREAM CUPID HEARTS COAT HANGER</td>\n",
       "      <td>8</td>\n",
       "      <td>01-12-2010 08:26</td>\n",
       "      <td>2.75</td>\n",
       "      <td>17850.0</td>\n",
       "      <td>United Kingdom</td>\n",
       "      <td>01</td>\n",
       "      <td>12</td>\n",
       "      <td>2010</td>\n",
       "    </tr>\n",
       "    <tr>\n",
       "      <th>3</th>\n",
       "      <td>536365</td>\n",
       "      <td>84029G</td>\n",
       "      <td>KNITTED UNION FLAG HOT WATER BOTTLE</td>\n",
       "      <td>6</td>\n",
       "      <td>01-12-2010 08:26</td>\n",
       "      <td>3.39</td>\n",
       "      <td>17850.0</td>\n",
       "      <td>United Kingdom</td>\n",
       "      <td>01</td>\n",
       "      <td>12</td>\n",
       "      <td>2010</td>\n",
       "    </tr>\n",
       "    <tr>\n",
       "      <th>4</th>\n",
       "      <td>536365</td>\n",
       "      <td>84029E</td>\n",
       "      <td>RED WOOLLY HOTTIE WHITE HEART.</td>\n",
       "      <td>6</td>\n",
       "      <td>01-12-2010 08:26</td>\n",
       "      <td>3.39</td>\n",
       "      <td>17850.0</td>\n",
       "      <td>United Kingdom</td>\n",
       "      <td>01</td>\n",
       "      <td>12</td>\n",
       "      <td>2010</td>\n",
       "    </tr>\n",
       "  </tbody>\n",
       "</table>\n",
       "</div>"
      ],
      "text/plain": [
       "  InvoiceNo StockCode                          Description  Quantity  \\\n",
       "0    536365    85123A   WHITE HANGING HEART T-LIGHT HOLDER         6   \n",
       "1    536365     71053                  WHITE METAL LANTERN         6   \n",
       "2    536365    84406B       CREAM CUPID HEARTS COAT HANGER         8   \n",
       "3    536365    84029G  KNITTED UNION FLAG HOT WATER BOTTLE         6   \n",
       "4    536365    84029E       RED WOOLLY HOTTIE WHITE HEART.         6   \n",
       "\n",
       "        InvoiceDate  UnitPrice  CustomerID         Country date month  year  \n",
       "0  01-12-2010 08:26       2.55     17850.0  United Kingdom   01    12  2010  \n",
       "1  01-12-2010 08:26       3.39     17850.0  United Kingdom   01    12  2010  \n",
       "2  01-12-2010 08:26       2.75     17850.0  United Kingdom   01    12  2010  \n",
       "3  01-12-2010 08:26       3.39     17850.0  United Kingdom   01    12  2010  \n",
       "4  01-12-2010 08:26       3.39     17850.0  United Kingdom   01    12  2010  "
      ]
     },
     "execution_count": 87,
     "metadata": {},
     "output_type": "execute_result"
    }
   ],
   "source": [
    "imputed_df.head()"
   ]
  },
  {
   "cell_type": "code",
   "execution_count": 303,
   "id": "04bfbc92-7678-44d4-a775-90f8d7b7079b",
   "metadata": {},
   "outputs": [],
   "source": [
    "imputed_df = pd.read_csv(\"imputed_df.csv\",encoding=\"latin1\")"
   ]
  },
  {
   "cell_type": "code",
   "execution_count": 337,
   "id": "bafecc37-6d00-440f-9081-9ecfbfd25b94",
   "metadata": {},
   "outputs": [],
   "source": [
    "uk_mask = imputed_df[imputed_df[\"Country\"] == \"United Kingdom\"]\n",
    "rest_mask = imputed_df[imputed_df[\"Country\"] != \"United Kingdom\"]"
   ]
  },
  {
   "cell_type": "code",
   "execution_count": 338,
   "id": "fb7e023d-d5f0-43ef-81e9-d26607953dc9",
   "metadata": {},
   "outputs": [
    {
     "data": {
      "text/html": [
       "<div>\n",
       "<style scoped>\n",
       "    .dataframe tbody tr th:only-of-type {\n",
       "        vertical-align: middle;\n",
       "    }\n",
       "\n",
       "    .dataframe tbody tr th {\n",
       "        vertical-align: top;\n",
       "    }\n",
       "\n",
       "    .dataframe thead th {\n",
       "        text-align: right;\n",
       "    }\n",
       "</style>\n",
       "<table border=\"1\" class=\"dataframe\">\n",
       "  <thead>\n",
       "    <tr style=\"text-align: right;\">\n",
       "      <th></th>\n",
       "      <th>InvoiceNo</th>\n",
       "      <th>StockCode</th>\n",
       "      <th>Description</th>\n",
       "      <th>Quantity</th>\n",
       "      <th>UnitPrice</th>\n",
       "      <th>CustomerID</th>\n",
       "      <th>Country</th>\n",
       "      <th>Time</th>\n",
       "      <th>Year</th>\n",
       "      <th>Month</th>\n",
       "      <th>Day</th>\n",
       "      <th>Total Price</th>\n",
       "    </tr>\n",
       "  </thead>\n",
       "  <tbody>\n",
       "    <tr>\n",
       "      <th>221051</th>\n",
       "      <td>556473</td>\n",
       "      <td>22358</td>\n",
       "      <td>KINGS CHOICE TEA CADDY</td>\n",
       "      <td>2</td>\n",
       "      <td>2.95</td>\n",
       "      <td>17265.0</td>\n",
       "      <td>United Kingdom</td>\n",
       "      <td>12:00</td>\n",
       "      <td>2011</td>\n",
       "      <td>6</td>\n",
       "      <td>12</td>\n",
       "      <td>5.9</td>\n",
       "    </tr>\n",
       "  </tbody>\n",
       "</table>\n",
       "</div>"
      ],
      "text/plain": [
       "       InvoiceNo StockCode              Description  Quantity  UnitPrice  \\\n",
       "221051    556473     22358  KINGS CHOICE TEA CADDY          2       2.95   \n",
       "\n",
       "        CustomerID         Country   Time  Year  Month  Day  Total Price  \n",
       "221051     17265.0  United Kingdom  12:00  2011      6   12          5.9  "
      ]
     },
     "execution_count": 338,
     "metadata": {},
     "output_type": "execute_result"
    }
   ],
   "source": [
    "uk_mask.head()\n",
    "imputed_df[\"Total Price\"] = imputed_df[\"Quantity\"] * imputed_df[\"UnitPrice\"]\n",
    "imputed_df.sample(1)"
   ]
  },
  {
   "cell_type": "code",
   "execution_count": 339,
   "id": "cba7955e-dac7-4fd4-a96d-d1db1b855687",
   "metadata": {},
   "outputs": [
    {
     "name": "stdout",
     "output_type": "stream",
     "text": [
      "1.0\n",
      "10.0\n"
     ]
    }
   ],
   "source": [
    "print(uk_mask[\"Quantity\"].describe()[4])\n",
    "print(uk_mask[\"Quantity\"].describe()[6])"
   ]
  },
  {
   "cell_type": "code",
   "execution_count": null,
   "id": "dd4c8ed0-6baf-4a86-a2fd-5f0409f8506e",
   "metadata": {},
   "outputs": [],
   "source": []
  },
  {
   "cell_type": "code",
   "execution_count": 340,
   "id": "cc5649a8-0c28-494f-9201-1124c042aa6d",
   "metadata": {},
   "outputs": [
    {
     "name": "stdout",
     "output_type": "stream",
     "text": [
      "Upper Fence = 23.5\n",
      "Lower Fence = -12.5\n"
     ]
    }
   ],
   "source": [
    "calculate_iqr(uk_mask[\"Quantity\"])"
   ]
  },
  {
   "cell_type": "code",
   "execution_count": 341,
   "id": "0ac6d63b-9097-47ab-92ee-bf5e07efbe5a",
   "metadata": {},
   "outputs": [
    {
     "data": {
      "image/png": "[encoded data removed]",
      "text/plain": [
       "<Figure size 640x480 with 1 Axes>"
      ]
     },
     "metadata": {},
     "output_type": "display_data"
    }
   ],
   "source": [
    "sns.boxplot(uk_mask[\"Quantity\"])\n",
    "plt.show()"
   ]
  },
  {
   "cell_type": "code",
   "execution_count": 342,
   "id": "cbb3641f-9018-4e89-b46b-052838bf2965",
   "metadata": {},
   "outputs": [],
   "source": [
    "def calculate_iqr(series):\n",
    "    upper_fence = series.describe()[6] + 1.5 * (series.describe()[6] - series.describe()[4]) \n",
    "    lower_fence = series.describe()[4] - 1.5 * (series.describe()[6] - series.describe()[4])\n",
    "    \n",
    "    print(\"Upper Fence =\",upper_fence)\n",
    "    print(\"Lower Fence =\",lower_fence)"
   ]
  },
  {
   "cell_type": "code",
   "execution_count": 343,
   "id": "8f742220-6906-462a-90ce-455ec547bf7f",
   "metadata": {},
   "outputs": [
    {
     "data": {
      "text/plain": [
       "1.0"
      ]
     },
     "execution_count": 343,
     "metadata": {},
     "output_type": "execute_result"
    }
   ],
   "source": [
    "uk_mask[\"Quantity\"].quantile(0.25) "
   ]
  },
  {
   "cell_type": "code",
   "execution_count": 344,
   "id": "8a9c0ace-eb5e-46af-bd7f-56347130d9f1",
   "metadata": {},
   "outputs": [
    {
     "data": {
      "text/plain": [
       "10.0"
      ]
     },
     "execution_count": 344,
     "metadata": {},
     "output_type": "execute_result"
    }
   ],
   "source": [
    "uk_mask[\"Quantity\"].quantile(0.75) "
   ]
  },
  {
   "cell_type": "code",
   "execution_count": 345,
   "id": "318af68b-06cc-48a2-8115-6fad7755e119",
   "metadata": {},
   "outputs": [
    {
     "name": "stdout",
     "output_type": "stream",
     "text": [
      "1.0\n",
      "10.0\n"
     ]
    }
   ],
   "source": [
    "print(uk_mask[\"Quantity\"].describe()[4])\n",
    "print(uk_mask[\"Quantity\"].describe()[6])"
   ]
  },
  {
   "cell_type": "code",
   "execution_count": 346,
   "id": "245107ef-c331-4682-98d3-7f847e26fe7a",
   "metadata": {},
   "outputs": [
    {
     "name": "stdout",
     "output_type": "stream",
     "text": [
      "Upper Fence = 23.5\n",
      "Lower Fence = -12.5\n"
     ]
    }
   ],
   "source": [
    "calculate_iqr(uk_mask[\"Quantity\"])"
   ]
  },
  {
   "cell_type": "code",
   "execution_count": 347,
   "id": "a9f00214-eeed-47be-9d0c-70b5da98cab1",
   "metadata": {},
   "outputs": [],
   "source": [
    "uk_mask_outlier_free_quantity = uk_mask[~((uk_mask[\"Quantity\"] > 23.5) | (uk_mask[\"Quantity\"] < -12.5))]"
   ]
  },
  {
   "cell_type": "code",
   "execution_count": 348,
   "id": "91d3c7b1-15c6-4c9d-a621-77800d315bbc",
   "metadata": {},
   "outputs": [
    {
     "data": {
      "text/html": [
       "<div>\n",
       "<style scoped>\n",
       "    .dataframe tbody tr th:only-of-type {\n",
       "        vertical-align: middle;\n",
       "    }\n",
       "\n",
       "    .dataframe tbody tr th {\n",
       "        vertical-align: top;\n",
       "    }\n",
       "\n",
       "    .dataframe thead th {\n",
       "        text-align: right;\n",
       "    }\n",
       "</style>\n",
       "<table border=\"1\" class=\"dataframe\">\n",
       "  <thead>\n",
       "    <tr style=\"text-align: right;\">\n",
       "      <th></th>\n",
       "      <th>InvoiceNo</th>\n",
       "      <th>StockCode</th>\n",
       "      <th>Description</th>\n",
       "      <th>Quantity</th>\n",
       "      <th>UnitPrice</th>\n",
       "      <th>CustomerID</th>\n",
       "      <th>Country</th>\n",
       "      <th>Time</th>\n",
       "      <th>Year</th>\n",
       "      <th>Month</th>\n",
       "      <th>Day</th>\n",
       "      <th>Total Price</th>\n",
       "    </tr>\n",
       "  </thead>\n",
       "  <tbody>\n",
       "    <tr>\n",
       "      <th>0</th>\n",
       "      <td>536365</td>\n",
       "      <td>85123A</td>\n",
       "      <td>WHITE HANGING HEART T-LIGHT HOLDER</td>\n",
       "      <td>6</td>\n",
       "      <td>2.55</td>\n",
       "      <td>17850.0</td>\n",
       "      <td>United Kingdom</td>\n",
       "      <td>08:26</td>\n",
       "      <td>2010</td>\n",
       "      <td>12</td>\n",
       "      <td>1</td>\n",
       "      <td>15.30</td>\n",
       "    </tr>\n",
       "    <tr>\n",
       "      <th>1</th>\n",
       "      <td>536365</td>\n",
       "      <td>71053</td>\n",
       "      <td>WHITE METAL LANTERN</td>\n",
       "      <td>6</td>\n",
       "      <td>3.39</td>\n",
       "      <td>17850.0</td>\n",
       "      <td>United Kingdom</td>\n",
       "      <td>08:26</td>\n",
       "      <td>2010</td>\n",
       "      <td>12</td>\n",
       "      <td>1</td>\n",
       "      <td>20.34</td>\n",
       "    </tr>\n",
       "    <tr>\n",
       "      <th>2</th>\n",
       "      <td>536365</td>\n",
       "      <td>84406B</td>\n",
       "      <td>CREAM CUPID HEARTS COAT HANGER</td>\n",
       "      <td>8</td>\n",
       "      <td>2.75</td>\n",
       "      <td>17850.0</td>\n",
       "      <td>United Kingdom</td>\n",
       "      <td>08:26</td>\n",
       "      <td>2010</td>\n",
       "      <td>12</td>\n",
       "      <td>1</td>\n",
       "      <td>22.00</td>\n",
       "    </tr>\n",
       "    <tr>\n",
       "      <th>3</th>\n",
       "      <td>536365</td>\n",
       "      <td>84029G</td>\n",
       "      <td>KNITTED UNION FLAG HOT WATER BOTTLE</td>\n",
       "      <td>6</td>\n",
       "      <td>3.39</td>\n",
       "      <td>17850.0</td>\n",
       "      <td>United Kingdom</td>\n",
       "      <td>08:26</td>\n",
       "      <td>2010</td>\n",
       "      <td>12</td>\n",
       "      <td>1</td>\n",
       "      <td>20.34</td>\n",
       "    </tr>\n",
       "    <tr>\n",
       "      <th>4</th>\n",
       "      <td>536365</td>\n",
       "      <td>84029E</td>\n",
       "      <td>RED WOOLLY HOTTIE WHITE HEART.</td>\n",
       "      <td>6</td>\n",
       "      <td>3.39</td>\n",
       "      <td>17850.0</td>\n",
       "      <td>United Kingdom</td>\n",
       "      <td>08:26</td>\n",
       "      <td>2010</td>\n",
       "      <td>12</td>\n",
       "      <td>1</td>\n",
       "      <td>20.34</td>\n",
       "    </tr>\n",
       "    <tr>\n",
       "      <th>...</th>\n",
       "      <td>...</td>\n",
       "      <td>...</td>\n",
       "      <td>...</td>\n",
       "      <td>...</td>\n",
       "      <td>...</td>\n",
       "      <td>...</td>\n",
       "      <td>...</td>\n",
       "      <td>...</td>\n",
       "      <td>...</td>\n",
       "      <td>...</td>\n",
       "      <td>...</td>\n",
       "      <td>...</td>\n",
       "    </tr>\n",
       "    <tr>\n",
       "      <th>536402</th>\n",
       "      <td>581585</td>\n",
       "      <td>23328</td>\n",
       "      <td>SET 6 SCHOOL MILK BOTTLES IN CRATE</td>\n",
       "      <td>4</td>\n",
       "      <td>3.75</td>\n",
       "      <td>15804.0</td>\n",
       "      <td>United Kingdom</td>\n",
       "      <td>12:31</td>\n",
       "      <td>2011</td>\n",
       "      <td>12</td>\n",
       "      <td>9</td>\n",
       "      <td>15.00</td>\n",
       "    </tr>\n",
       "    <tr>\n",
       "      <th>536403</th>\n",
       "      <td>581585</td>\n",
       "      <td>23145</td>\n",
       "      <td>ZINC T-LIGHT HOLDER STAR LARGE</td>\n",
       "      <td>12</td>\n",
       "      <td>0.95</td>\n",
       "      <td>15804.0</td>\n",
       "      <td>United Kingdom</td>\n",
       "      <td>12:31</td>\n",
       "      <td>2011</td>\n",
       "      <td>12</td>\n",
       "      <td>9</td>\n",
       "      <td>11.40</td>\n",
       "    </tr>\n",
       "    <tr>\n",
       "      <th>536404</th>\n",
       "      <td>581585</td>\n",
       "      <td>22466</td>\n",
       "      <td>FAIRY TALE COTTAGE NIGHT LIGHT</td>\n",
       "      <td>12</td>\n",
       "      <td>1.95</td>\n",
       "      <td>15804.0</td>\n",
       "      <td>United Kingdom</td>\n",
       "      <td>12:31</td>\n",
       "      <td>2011</td>\n",
       "      <td>12</td>\n",
       "      <td>9</td>\n",
       "      <td>23.40</td>\n",
       "    </tr>\n",
       "    <tr>\n",
       "      <th>536405</th>\n",
       "      <td>581586</td>\n",
       "      <td>22061</td>\n",
       "      <td>LARGE CAKE STAND  HANGING STRAWBERY</td>\n",
       "      <td>8</td>\n",
       "      <td>2.95</td>\n",
       "      <td>13113.0</td>\n",
       "      <td>United Kingdom</td>\n",
       "      <td>12:49</td>\n",
       "      <td>2011</td>\n",
       "      <td>12</td>\n",
       "      <td>9</td>\n",
       "      <td>23.60</td>\n",
       "    </tr>\n",
       "    <tr>\n",
       "      <th>536408</th>\n",
       "      <td>581586</td>\n",
       "      <td>20685</td>\n",
       "      <td>DOORMAT RED RETROSPOT</td>\n",
       "      <td>10</td>\n",
       "      <td>7.08</td>\n",
       "      <td>13113.0</td>\n",
       "      <td>United Kingdom</td>\n",
       "      <td>12:49</td>\n",
       "      <td>2011</td>\n",
       "      <td>12</td>\n",
       "      <td>9</td>\n",
       "      <td>70.80</td>\n",
       "    </tr>\n",
       "  </tbody>\n",
       "</table>\n",
       "<p>442105 rows × 12 columns</p>\n",
       "</div>"
      ],
      "text/plain": [
       "       InvoiceNo StockCode                          Description  Quantity  \\\n",
       "0         536365    85123A   WHITE HANGING HEART T-LIGHT HOLDER         6   \n",
       "1         536365     71053                  WHITE METAL LANTERN         6   \n",
       "2         536365    84406B       CREAM CUPID HEARTS COAT HANGER         8   \n",
       "3         536365    84029G  KNITTED UNION FLAG HOT WATER BOTTLE         6   \n",
       "4         536365    84029E       RED WOOLLY HOTTIE WHITE HEART.         6   \n",
       "...          ...       ...                                  ...       ...   \n",
       "536402    581585     23328   SET 6 SCHOOL MILK BOTTLES IN CRATE         4   \n",
       "536403    581585     23145       ZINC T-LIGHT HOLDER STAR LARGE        12   \n",
       "536404    581585     22466       FAIRY TALE COTTAGE NIGHT LIGHT        12   \n",
       "536405    581586     22061  LARGE CAKE STAND  HANGING STRAWBERY         8   \n",
       "536408    581586     20685                DOORMAT RED RETROSPOT        10   \n",
       "\n",
       "        UnitPrice  CustomerID         Country   Time  Year  Month  Day  \\\n",
       "0            2.55     17850.0  United Kingdom  08:26  2010     12    1   \n",
       "1            3.39     17850.0  United Kingdom  08:26  2010     12    1   \n",
       "2            2.75     17850.0  United Kingdom  08:26  2010     12    1   \n",
       "3            3.39     17850.0  United Kingdom  08:26  2010     12    1   \n",
       "4            3.39     17850.0  United Kingdom  08:26  2010     12    1   \n",
       "...           ...         ...             ...    ...   ...    ...  ...   \n",
       "536402       3.75     15804.0  United Kingdom  12:31  2011     12    9   \n",
       "536403       0.95     15804.0  United Kingdom  12:31  2011     12    9   \n",
       "536404       1.95     15804.0  United Kingdom  12:31  2011     12    9   \n",
       "536405       2.95     13113.0  United Kingdom  12:49  2011     12    9   \n",
       "536408       7.08     13113.0  United Kingdom  12:49  2011     12    9   \n",
       "\n",
       "        Total Price  \n",
       "0             15.30  \n",
       "1             20.34  \n",
       "2             22.00  \n",
       "3             20.34  \n",
       "4             20.34  \n",
       "...             ...  \n",
       "536402        15.00  \n",
       "536403        11.40  \n",
       "536404        23.40  \n",
       "536405        23.60  \n",
       "536408        70.80  \n",
       "\n",
       "[442105 rows x 12 columns]"
      ]
     },
     "execution_count": 348,
     "metadata": {},
     "output_type": "execute_result"
    }
   ],
   "source": [
    "uk_mask[~((uk_mask[\"Quantity\"] > 23.5) | (uk_mask[\"Quantity\"] < -12.5))]"
   ]
  },
  {
   "cell_type": "code",
   "execution_count": 349,
   "id": "edd2b2c0-d518-4150-b355-d33a97bd1ce6",
   "metadata": {},
   "outputs": [
    {
     "data": {
      "text/plain": [
       "442105"
      ]
     },
     "execution_count": 349,
     "metadata": {},
     "output_type": "execute_result"
    }
   ],
   "source": [
    "((uk_mask[\"Quantity\"] < 23.5) & (uk_mask[\"Quantity\"] > -12.5)).sum()"
   ]
  },
  {
   "cell_type": "code",
   "execution_count": 350,
   "id": "0598b5a7-a500-434c-bf1c-5741af90ff75",
   "metadata": {},
   "outputs": [
    {
     "data": {
      "text/plain": [
       "442105"
      ]
     },
     "execution_count": 350,
     "metadata": {},
     "output_type": "execute_result"
    }
   ],
   "source": [
    "uk_mask_outlier_free_quantity[\"Quantity\"].count()"
   ]
  },
  {
   "cell_type": "code",
   "execution_count": 351,
   "id": "a63f3d42-6def-40b9-bdf7-a1b8243ba81b",
   "metadata": {},
   "outputs": [],
   "source": [
    "uk_mask_outlier_quantity = uk_mask[(uk_mask[\"Quantity\"] > 23.5) | (uk_mask[\"Quantity\"] < -12.5)]"
   ]
  },
  {
   "cell_type": "code",
   "execution_count": 352,
   "id": "f94c6ef5-b678-437a-adf9-03fd1d84919a",
   "metadata": {},
   "outputs": [
    {
     "data": {
      "text/plain": [
       "9.789770304213777"
      ]
     },
     "execution_count": 352,
     "metadata": {},
     "output_type": "execute_result"
    }
   ],
   "source": [
    "47978*100 / 490083"
   ]
  },
  {
   "cell_type": "code",
   "execution_count": 353,
   "id": "26ec32c1-cef3-4e0c-91aa-b396a429d9a4",
   "metadata": {},
   "outputs": [
    {
     "data": {
      "text/plain": [
       "442105"
      ]
     },
     "execution_count": 353,
     "metadata": {},
     "output_type": "execute_result"
    }
   ],
   "source": [
    "490083-47978"
   ]
  },
  {
   "cell_type": "code",
   "execution_count": 354,
   "id": "7e21105c-21e4-49f0-b859-83073a0b0938",
   "metadata": {},
   "outputs": [
    {
     "data": {
      "text/html": [
       "<div>\n",
       "<style scoped>\n",
       "    .dataframe tbody tr th:only-of-type {\n",
       "        vertical-align: middle;\n",
       "    }\n",
       "\n",
       "    .dataframe tbody tr th {\n",
       "        vertical-align: top;\n",
       "    }\n",
       "\n",
       "    .dataframe thead th {\n",
       "        text-align: right;\n",
       "    }\n",
       "</style>\n",
       "<table border=\"1\" class=\"dataframe\">\n",
       "  <thead>\n",
       "    <tr style=\"text-align: right;\">\n",
       "      <th></th>\n",
       "      <th>Quantity</th>\n",
       "      <th>UnitPrice</th>\n",
       "      <th>CustomerID</th>\n",
       "      <th>Year</th>\n",
       "      <th>Month</th>\n",
       "      <th>Day</th>\n",
       "      <th>Total Price</th>\n",
       "    </tr>\n",
       "  </thead>\n",
       "  <tbody>\n",
       "    <tr>\n",
       "      <th>count</th>\n",
       "      <td>442105.000000</td>\n",
       "      <td>442105.000000</td>\n",
       "      <td>442105.000000</td>\n",
       "      <td>442105.000000</td>\n",
       "      <td>442105.000000</td>\n",
       "      <td>442105.000000</td>\n",
       "      <td>442105.000000</td>\n",
       "    </tr>\n",
       "    <tr>\n",
       "      <th>mean</th>\n",
       "      <td>4.370161</td>\n",
       "      <td>4.912597</td>\n",
       "      <td>16192.344192</td>\n",
       "      <td>2010.917746</td>\n",
       "      <td>7.566130</td>\n",
       "      <td>15.017048</td>\n",
       "      <td>10.821011</td>\n",
       "    </tr>\n",
       "    <tr>\n",
       "      <th>std</th>\n",
       "      <td>4.434145</td>\n",
       "      <td>105.127243</td>\n",
       "      <td>1695.199593</td>\n",
       "      <td>0.274752</td>\n",
       "      <td>3.534431</td>\n",
       "      <td>8.688568</td>\n",
       "      <td>106.131320</td>\n",
       "    </tr>\n",
       "    <tr>\n",
       "      <th>min</th>\n",
       "      <td>-12.000000</td>\n",
       "      <td>-11062.060000</td>\n",
       "      <td>12747.000000</td>\n",
       "      <td>2010.000000</td>\n",
       "      <td>1.000000</td>\n",
       "      <td>1.000000</td>\n",
       "      <td>-38970.000000</td>\n",
       "    </tr>\n",
       "    <tr>\n",
       "      <th>25%</th>\n",
       "      <td>1.000000</td>\n",
       "      <td>1.250000</td>\n",
       "      <td>14664.000000</td>\n",
       "      <td>2011.000000</td>\n",
       "      <td>5.000000</td>\n",
       "      <td>7.000000</td>\n",
       "      <td>3.260000</td>\n",
       "    </tr>\n",
       "    <tr>\n",
       "      <th>50%</th>\n",
       "      <td>2.000000</td>\n",
       "      <td>2.460000</td>\n",
       "      <td>16710.000000</td>\n",
       "      <td>2011.000000</td>\n",
       "      <td>8.000000</td>\n",
       "      <td>15.000000</td>\n",
       "      <td>7.500000</td>\n",
       "    </tr>\n",
       "    <tr>\n",
       "      <th>75%</th>\n",
       "      <td>6.000000</td>\n",
       "      <td>4.150000</td>\n",
       "      <td>17841.000000</td>\n",
       "      <td>2011.000000</td>\n",
       "      <td>11.000000</td>\n",
       "      <td>22.000000</td>\n",
       "      <td>15.600000</td>\n",
       "    </tr>\n",
       "    <tr>\n",
       "      <th>max</th>\n",
       "      <td>23.000000</td>\n",
       "      <td>38970.000000</td>\n",
       "      <td>18287.000000</td>\n",
       "      <td>2011.000000</td>\n",
       "      <td>12.000000</td>\n",
       "      <td>31.000000</td>\n",
       "      <td>13541.330000</td>\n",
       "    </tr>\n",
       "  </tbody>\n",
       "</table>\n",
       "</div>"
      ],
      "text/plain": [
       "            Quantity      UnitPrice     CustomerID           Year  \\\n",
       "count  442105.000000  442105.000000  442105.000000  442105.000000   \n",
       "mean        4.370161       4.912597   16192.344192    2010.917746   \n",
       "std         4.434145     105.127243    1695.199593       0.274752   \n",
       "min       -12.000000  -11062.060000   12747.000000    2010.000000   \n",
       "25%         1.000000       1.250000   14664.000000    2011.000000   \n",
       "50%         2.000000       2.460000   16710.000000    2011.000000   \n",
       "75%         6.000000       4.150000   17841.000000    2011.000000   \n",
       "max        23.000000   38970.000000   18287.000000    2011.000000   \n",
       "\n",
       "               Month            Day    Total Price  \n",
       "count  442105.000000  442105.000000  442105.000000  \n",
       "mean        7.566130      15.017048      10.821011  \n",
       "std         3.534431       8.688568     106.131320  \n",
       "min         1.000000       1.000000  -38970.000000  \n",
       "25%         5.000000       7.000000       3.260000  \n",
       "50%         8.000000      15.000000       7.500000  \n",
       "75%        11.000000      22.000000      15.600000  \n",
       "max        12.000000      31.000000   13541.330000  "
      ]
     },
     "execution_count": 354,
     "metadata": {},
     "output_type": "execute_result"
    }
   ],
   "source": [
    "uk_mask_outlier_free_quantity.describe()"
   ]
  },
  {
   "cell_type": "code",
   "execution_count": 355,
   "id": "493a0553-c852-4268-808d-e761dbe2680b",
   "metadata": {},
   "outputs": [
    {
     "data": {
      "image/png": "[encoded data removed]",
      "text/plain": [
       "<Figure size 640x480 with 1 Axes>"
      ]
     },
     "metadata": {},
     "output_type": "display_data"
    }
   ],
   "source": [
    "plt.figure(10)\n",
    "sns.kdeplot(uk_mask_outlier_free_quantity[\"Quantity\"])\n",
    "plt.show()"
   ]
  },
  {
   "cell_type": "code",
   "execution_count": 356,
   "id": "1dd72233-f1c7-4f06-ac3d-4c8b3662a761",
   "metadata": {},
   "outputs": [
    {
     "name": "stdout",
     "output_type": "stream",
     "text": [
      "Upper Fence = 8.5\n",
      "Lower Fence = -3.1000000000000005\n"
     ]
    }
   ],
   "source": [
    "calculate_iqr(uk_mask_outlier_free_quantity[\"UnitPrice\"])"
   ]
  },
  {
   "cell_type": "code",
   "execution_count": 357,
   "id": "ff577f72-d42e-4d70-9d41-a7637f408309",
   "metadata": {},
   "outputs": [
    {
     "data": {
      "text/plain": [
       "297438   -11062.06\n",
       "297439   -11062.06\n",
       "115558        8.62\n",
       "110410        8.65\n",
       "95679         8.74\n",
       "            ...   \n",
       "16063     13541.33\n",
       "43150     16453.71\n",
       "43149     16888.02\n",
       "519280    17836.46\n",
       "220642    38970.00\n",
       "Name: UnitPrice, Length: 28914, dtype: float64"
      ]
     },
     "execution_count": 357,
     "metadata": {},
     "output_type": "execute_result"
    }
   ],
   "source": [
    "uk_mask_outlier_free_quantity[((uk_mask_outlier_free_quantity[\"UnitPrice\"] > 8.5) | (uk_mask_outlier_free_quantity[\"UnitPrice\"] < -3.1))][\"UnitPrice\"].sort_values()"
   ]
  },
  {
   "cell_type": "code",
   "execution_count": 358,
   "id": "db5f90cc-4e53-4207-85c4-f2ec3f1bb29d",
   "metadata": {},
   "outputs": [],
   "source": [
    "uk_mask_outlier_free_quantity_Unitprice = uk_mask_outlier_free_quantity[~((uk_mask_outlier_free_quantity[\"UnitPrice\"] > 8.5) | (uk_mask_outlier_free_quantity[\"UnitPrice\"] <= -3.1))]"
   ]
  },
  {
   "cell_type": "code",
   "execution_count": 359,
   "id": "2ae42331-d9de-47f9-893f-e6ed22bc3031",
   "metadata": {},
   "outputs": [],
   "source": [
    "uk_mask_outlier_quantity_Unitprice = uk_mask_outlier_free_quantity[((uk_mask_outlier_free_quantity[\"UnitPrice\"] > 8.5) | (uk_mask_outlier_free_quantity[\"UnitPrice\"] < -3.1))]"
   ]
  },
  {
   "cell_type": "code",
   "execution_count": 360,
   "id": "adeb7557-40c0-4c81-a490-d42b86e8e6ba",
   "metadata": {},
   "outputs": [
    {
     "name": "stdout",
     "output_type": "stream",
     "text": [
      "Upper Fence = 8.0\n",
      "Lower Fence = -2.8000000000000007\n"
     ]
    }
   ],
   "source": [
    "calculate_iqr(uk_mask_outlier_free_quantity_Unitprice[\"UnitPrice\"])"
   ]
  },
  {
   "cell_type": "code",
   "execution_count": 361,
   "id": "f3e1bfdd-7bec-41b4-bdbe-80478b945c0d",
   "metadata": {},
   "outputs": [
    {
     "data": {
      "image/png": "[encoded data removed]",
      "text/plain": [
       "<Figure size 640x480 with 1 Axes>"
      ]
     },
     "metadata": {},
     "output_type": "display_data"
    }
   ],
   "source": [
    "plt.figure(10)\n",
    "sns.kdeplot(uk_mask_outlier_free_quantity_Unitprice[\"UnitPrice\"])\n",
    "plt.show()"
   ]
  },
  {
   "cell_type": "code",
   "execution_count": 362,
   "id": "8b6ebea4-47df-43f5-96d4-d41e875274d5",
   "metadata": {},
   "outputs": [
    {
     "data": {
      "text/html": [
       "<div>\n",
       "<style scoped>\n",
       "    .dataframe tbody tr th:only-of-type {\n",
       "        vertical-align: middle;\n",
       "    }\n",
       "\n",
       "    .dataframe tbody tr th {\n",
       "        vertical-align: top;\n",
       "    }\n",
       "\n",
       "    .dataframe thead th {\n",
       "        text-align: right;\n",
       "    }\n",
       "</style>\n",
       "<table border=\"1\" class=\"dataframe\">\n",
       "  <thead>\n",
       "    <tr style=\"text-align: right;\">\n",
       "      <th></th>\n",
       "      <th>Quantity</th>\n",
       "      <th>UnitPrice</th>\n",
       "      <th>CustomerID</th>\n",
       "      <th>Year</th>\n",
       "      <th>Month</th>\n",
       "      <th>Day</th>\n",
       "      <th>Total Price</th>\n",
       "    </tr>\n",
       "  </thead>\n",
       "  <tbody>\n",
       "    <tr>\n",
       "      <th>count</th>\n",
       "      <td>413191.000000</td>\n",
       "      <td>413191.000000</td>\n",
       "      <td>413191.000000</td>\n",
       "      <td>413191.000000</td>\n",
       "      <td>413191.000000</td>\n",
       "      <td>413191.000000</td>\n",
       "      <td>413191.000000</td>\n",
       "    </tr>\n",
       "    <tr>\n",
       "      <th>mean</th>\n",
       "      <td>4.550702</td>\n",
       "      <td>2.786901</td>\n",
       "      <td>16168.296865</td>\n",
       "      <td>2010.919081</td>\n",
       "      <td>7.578452</td>\n",
       "      <td>15.007764</td>\n",
       "      <td>10.176361</td>\n",
       "    </tr>\n",
       "    <tr>\n",
       "      <th>std</th>\n",
       "      <td>4.491816</td>\n",
       "      <td>2.042384</td>\n",
       "      <td>1694.298137</td>\n",
       "      <td>0.272711</td>\n",
       "      <td>3.528913</td>\n",
       "      <td>8.686127</td>\n",
       "      <td>11.744963</td>\n",
       "    </tr>\n",
       "    <tr>\n",
       "      <th>min</th>\n",
       "      <td>-12.000000</td>\n",
       "      <td>0.000000</td>\n",
       "      <td>12747.000000</td>\n",
       "      <td>2010.000000</td>\n",
       "      <td>1.000000</td>\n",
       "      <td>1.000000</td>\n",
       "      <td>-102.000000</td>\n",
       "    </tr>\n",
       "    <tr>\n",
       "      <th>25%</th>\n",
       "      <td>1.000000</td>\n",
       "      <td>1.250000</td>\n",
       "      <td>14649.000000</td>\n",
       "      <td>2011.000000</td>\n",
       "      <td>5.000000</td>\n",
       "      <td>7.000000</td>\n",
       "      <td>2.950000</td>\n",
       "    </tr>\n",
       "    <tr>\n",
       "      <th>50%</th>\n",
       "      <td>3.000000</td>\n",
       "      <td>2.100000</td>\n",
       "      <td>16642.000000</td>\n",
       "      <td>2011.000000</td>\n",
       "      <td>8.000000</td>\n",
       "      <td>15.000000</td>\n",
       "      <td>6.580000</td>\n",
       "    </tr>\n",
       "    <tr>\n",
       "      <th>75%</th>\n",
       "      <td>6.000000</td>\n",
       "      <td>3.950000</td>\n",
       "      <td>17841.000000</td>\n",
       "      <td>2011.000000</td>\n",
       "      <td>11.000000</td>\n",
       "      <td>22.000000</td>\n",
       "      <td>15.000000</td>\n",
       "    </tr>\n",
       "    <tr>\n",
       "      <th>max</th>\n",
       "      <td>23.000000</td>\n",
       "      <td>8.500000</td>\n",
       "      <td>18287.000000</td>\n",
       "      <td>2011.000000</td>\n",
       "      <td>12.000000</td>\n",
       "      <td>31.000000</td>\n",
       "      <td>194.810000</td>\n",
       "    </tr>\n",
       "  </tbody>\n",
       "</table>\n",
       "</div>"
      ],
      "text/plain": [
       "            Quantity      UnitPrice     CustomerID           Year  \\\n",
       "count  413191.000000  413191.000000  413191.000000  413191.000000   \n",
       "mean        4.550702       2.786901   16168.296865    2010.919081   \n",
       "std         4.491816       2.042384    1694.298137       0.272711   \n",
       "min       -12.000000       0.000000   12747.000000    2010.000000   \n",
       "25%         1.000000       1.250000   14649.000000    2011.000000   \n",
       "50%         3.000000       2.100000   16642.000000    2011.000000   \n",
       "75%         6.000000       3.950000   17841.000000    2011.000000   \n",
       "max        23.000000       8.500000   18287.000000    2011.000000   \n",
       "\n",
       "               Month            Day    Total Price  \n",
       "count  413191.000000  413191.000000  413191.000000  \n",
       "mean        7.578452      15.007764      10.176361  \n",
       "std         3.528913       8.686127      11.744963  \n",
       "min         1.000000       1.000000    -102.000000  \n",
       "25%         5.000000       7.000000       2.950000  \n",
       "50%         8.000000      15.000000       6.580000  \n",
       "75%        11.000000      22.000000      15.000000  \n",
       "max        12.000000      31.000000     194.810000  "
      ]
     },
     "execution_count": 362,
     "metadata": {},
     "output_type": "execute_result"
    }
   ],
   "source": [
    "uk_mask_outlier_free_quantity_Unitprice.describe()"
   ]
  },
  {
   "cell_type": "code",
   "execution_count": null,
   "id": "06d44b77-549d-442a-ba33-1537c6fe3d7b",
   "metadata": {},
   "outputs": [],
   "source": []
  },
  {
   "cell_type": "code",
   "execution_count": 363,
   "id": "26b458d1-3fb1-4a6a-a21c-add14649b17e",
   "metadata": {},
   "outputs": [
    {
     "data": {
      "text/plain": [
       "16495"
      ]
     },
     "execution_count": 363,
     "metadata": {},
     "output_type": "execute_result"
    }
   ],
   "source": [
    "((uk_mask_outlier_free_quantity_Unitprice[\"Total Price\"]>33.075) | (uk_mask_outlier_free_quantity_Unitprice[\"Total Price\"]<-15.125)).sum()"
   ]
  },
  {
   "cell_type": "code",
   "execution_count": 364,
   "id": "4f92d656-dd94-4ea8-bd97-998e0469ddef",
   "metadata": {},
   "outputs": [
    {
     "data": {
      "image/png": "[encoded data removed]",
      "text/plain": [
       "<Figure size 640x480 with 1 Axes>"
      ]
     },
     "metadata": {},
     "output_type": "display_data"
    }
   ],
   "source": [
    "plt.figure(10)\n",
    "sns.kdeplot(uk_mask_outlier_free_quantity_Unitprice[\"Total Price\"])\n",
    "plt.show()"
   ]
  },
  {
   "cell_type": "code",
   "execution_count": 365,
   "id": "9defd486-1edd-4d5b-b5c1-6a59bb8ae612",
   "metadata": {},
   "outputs": [
    {
     "data": {
      "image/png": "[encoded data removed]",
      "text/plain": [
       "<Figure size 640x480 with 1 Axes>"
      ]
     },
     "metadata": {},
     "output_type": "display_data"
    }
   ],
   "source": [
    "plt.figure(10)\n",
    "sns.boxplot(uk_mask_outlier_free_quantity_Unitprice[\"Total Price\"])\n",
    "plt.show()"
   ]
  },
  {
   "cell_type": "code",
   "execution_count": 398,
   "id": "46fc004c-1e9b-4b73-8be8-f8998adb2449",
   "metadata": {},
   "outputs": [],
   "source": [
    "uk_mask_outlier_quantity_Unitprice_tp = uk_mask_outlier_free_quantity_Unitprice[((uk_mask_outlier_free_quantity_Unitprice[\"Total Price\"]>33.075) | (uk_mask_outlier_free_quantity_Unitprice[\"Total Price\"]<-15.125))]"
   ]
  },
  {
   "cell_type": "code",
   "execution_count": 411,
   "id": "9a98da80-63bf-43ab-a5f4-2042a53732ce",
   "metadata": {},
   "outputs": [],
   "source": [
    "uk_mask_outlier_free_quantity_Unitprice_tp = uk_mask_outlier_free_quantity_Unitprice[~((uk_mask_outlier_free_quantity_Unitprice[\"Total Price\"]>33.075) | (uk_mask_outlier_free_quantity_Unitprice[\"Total Price\"]<-15.125))]"
   ]
  },
  {
   "cell_type": "code",
   "execution_count": 412,
   "id": "aa8dff42-a683-4650-845c-29e244ddc0dd",
   "metadata": {},
   "outputs": [
    {
     "data": {
      "text/plain": [
       "InvoiceNo      396696\n",
       "StockCode      396696\n",
       "Description    396696\n",
       "Quantity       396696\n",
       "UnitPrice      396696\n",
       "CustomerID     396696\n",
       "Country        396696\n",
       "Time           396696\n",
       "Year           396696\n",
       "Month          396696\n",
       "Day            396696\n",
       "Total Price    396696\n",
       "dtype: int64"
      ]
     },
     "execution_count": 412,
     "metadata": {},
     "output_type": "execute_result"
    }
   ],
   "source": [
    "uk_mask_outlier_free_quantity_Unitprice_tp.count()"
   ]
  },
  {
   "cell_type": "code",
   "execution_count": 413,
   "id": "d373905f-1646-4d5c-b42c-7b9964758d66",
   "metadata": {},
   "outputs": [
    {
     "data": {
      "text/plain": [
       "InvoiceNo      490083\n",
       "StockCode      490083\n",
       "Description    490083\n",
       "Quantity       490083\n",
       "UnitPrice      490083\n",
       "CustomerID     490083\n",
       "Country        490083\n",
       "Time           490083\n",
       "Year           490083\n",
       "Month          490083\n",
       "Day            490083\n",
       "Total Price    490083\n",
       "dtype: int64"
      ]
     },
     "execution_count": 413,
     "metadata": {},
     "output_type": "execute_result"
    }
   ],
   "source": [
    "uk_mask.count()"
   ]
  },
  {
   "cell_type": "code",
   "execution_count": 414,
   "id": "a5bcd343-aa31-43e6-a161-44f2c83f588e",
   "metadata": {},
   "outputs": [
    {
     "data": {
      "text/plain": [
       "93387"
      ]
     },
     "execution_count": 414,
     "metadata": {},
     "output_type": "execute_result"
    }
   ],
   "source": [
    "490083-396696"
   ]
  },
  {
   "cell_type": "code",
   "execution_count": 415,
   "id": "d9d90a3d-528e-4fcf-9313-0d471d5ef203",
   "metadata": {},
   "outputs": [
    {
     "data": {
      "text/plain": [
       "19.055343686681645"
      ]
     },
     "execution_count": 415,
     "metadata": {},
     "output_type": "execute_result"
    }
   ],
   "source": [
    "93387*100 / 490083"
   ]
  },
  {
   "cell_type": "code",
   "execution_count": 416,
   "id": "afe0d7a1-a736-4760-8809-c59c2eb2a298",
   "metadata": {},
   "outputs": [],
   "source": [
    "uk_dv = uk_mask_outlier_free_quantity_Unitprice_tp"
   ]
  },
  {
   "cell_type": "code",
   "execution_count": 417,
   "id": "b6bee3ad-9eb9-4f65-9587-553ab0cdb883",
   "metadata": {},
   "outputs": [
    {
     "data": {
      "text/plain": [
       "InvoiceNo\n",
       "573585     924\n",
       "581219     653\n",
       "581492     644\n",
       "558475     622\n",
       "580729     619\n",
       "          ... \n",
       "550928       1\n",
       "550929       1\n",
       "550930       1\n",
       "C571336      1\n",
       "581586       1\n",
       "Name: count, Length: 18740, dtype: int64"
      ]
     },
     "execution_count": 417,
     "metadata": {},
     "output_type": "execute_result"
    }
   ],
   "source": [
    "uk_dv[\"InvoiceNo\"].value_counts()"
   ]
  },
  {
   "cell_type": "code",
   "execution_count": 402,
   "id": "cb2da841-1ae2-4f56-b32e-6332d4ee8449",
   "metadata": {},
   "outputs": [
    {
     "data": {
      "text/plain": [
       "0         536365\n",
       "1         536365\n",
       "2         536365\n",
       "3         536365\n",
       "4         536365\n",
       "           ...  \n",
       "536401    581585\n",
       "536402    581585\n",
       "536403    581585\n",
       "536404    581585\n",
       "536405    581586\n",
       "Name: InvoiceNo, Length: 396696, dtype: object"
      ]
     },
     "execution_count": 402,
     "metadata": {},
     "output_type": "execute_result"
    }
   ],
   "source": [
    "uk_mask_outlier_free_quantity_Unitprice_tp[\"InvoiceNo\"]"
   ]
  },
  {
   "cell_type": "code",
   "execution_count": 373,
   "id": "92416112-ce72-4eae-8dc2-a2c12d19e52c",
   "metadata": {
    "jupyter": {
     "source_hidden": true
    }
   },
   "outputs": [
    {
     "data": {
      "text/plain": [
       "InvoiceNo      396696\n",
       "StockCode      396696\n",
       "Description    396696\n",
       "Quantity       396696\n",
       "UnitPrice      396696\n",
       "CustomerID     396696\n",
       "Country        396696\n",
       "Time           396696\n",
       "Year           396696\n",
       "Month          396696\n",
       "Day            396696\n",
       "Total Price    396696\n",
       "dtype: int64"
      ]
     },
     "execution_count": 373,
     "metadata": {},
     "output_type": "execute_result"
    }
   ],
   "source": [
    "uk_dv.count()"
   ]
  },
  {
   "cell_type": "code",
   "execution_count": 403,
   "id": "213ed041-5bd6-4dc4-ba3a-7369cc399704",
   "metadata": {},
   "outputs": [
    {
     "data": {
      "text/plain": [
       "490083"
      ]
     },
     "execution_count": 403,
     "metadata": {},
     "output_type": "execute_result"
    }
   ],
   "source": [
    "uk_mask[\"UnitPrice\"].count()"
   ]
  },
  {
   "cell_type": "code",
   "execution_count": 404,
   "id": "ceccff66-b619-44c6-b918-ed077a6159d0",
   "metadata": {},
   "outputs": [
    {
     "name": "stdout",
     "output_type": "stream",
     "text": [
      "Upper Fence = 36.625\n",
      "Lower Fence = -16.694999999999997\n"
     ]
    }
   ],
   "source": [
    "calculate_iqr(uk_mask[\"Total Price\"])"
   ]
  },
  {
   "cell_type": "code",
   "execution_count": 405,
   "id": "5af337ea-15c5-4e09-b225-1f12453390da",
   "metadata": {},
   "outputs": [
    {
     "name": "stdout",
     "output_type": "stream",
     "text": [
      "<class 'pandas.core.frame.DataFrame'>\n",
      "Index: 396696 entries, 0 to 536405\n",
      "Data columns (total 12 columns):\n",
      " #   Column       Non-Null Count   Dtype  \n",
      "---  ------       --------------   -----  \n",
      " 0   InvoiceNo    396696 non-null  int64  \n",
      " 1   StockCode    396696 non-null  object \n",
      " 2   Description  396696 non-null  object \n",
      " 3   Quantity     396696 non-null  int64  \n",
      " 4   UnitPrice    396696 non-null  float64\n",
      " 5   CustomerID   396696 non-null  float64\n",
      " 6   Country      396696 non-null  object \n",
      " 7   Time         396696 non-null  object \n",
      " 8   Year         396696 non-null  int16  \n",
      " 9   Month        396696 non-null  int8   \n",
      " 10  Day          396696 non-null  int8   \n",
      " 11  Total Price  396696 non-null  float64\n",
      "dtypes: float64(3), int16(1), int64(2), int8(2), object(4)\n",
      "memory usage: 31.8+ MB\n"
     ]
    }
   ],
   "source": [
    "uk_dv.info()"
   ]
  },
  {
   "cell_type": "code",
   "execution_count": 406,
   "id": "984ba8c8-47e7-43ae-b205-c88fdbc6672d",
   "metadata": {},
   "outputs": [
    {
     "data": {
      "text/html": [
       "<div>\n",
       "<style scoped>\n",
       "    .dataframe tbody tr th:only-of-type {\n",
       "        vertical-align: middle;\n",
       "    }\n",
       "\n",
       "    .dataframe tbody tr th {\n",
       "        vertical-align: top;\n",
       "    }\n",
       "\n",
       "    .dataframe thead th {\n",
       "        text-align: right;\n",
       "    }\n",
       "</style>\n",
       "<table border=\"1\" class=\"dataframe\">\n",
       "  <thead>\n",
       "    <tr style=\"text-align: right;\">\n",
       "      <th></th>\n",
       "      <th>InvoiceNo</th>\n",
       "      <th>StockCode</th>\n",
       "      <th>Description</th>\n",
       "      <th>Quantity</th>\n",
       "      <th>UnitPrice</th>\n",
       "      <th>CustomerID</th>\n",
       "      <th>Country</th>\n",
       "      <th>Time</th>\n",
       "      <th>Year</th>\n",
       "      <th>Month</th>\n",
       "      <th>Day</th>\n",
       "      <th>Total Price</th>\n",
       "    </tr>\n",
       "  </thead>\n",
       "  <tbody>\n",
       "    <tr>\n",
       "      <th>0</th>\n",
       "      <td>573585</td>\n",
       "      <td>85123A</td>\n",
       "      <td>WHITE HANGING HEART T-LIGHT HOLDER</td>\n",
       "      <td>6</td>\n",
       "      <td>2.55</td>\n",
       "      <td>17850.0</td>\n",
       "      <td>United Kingdom</td>\n",
       "      <td>08:26</td>\n",
       "      <td>-38</td>\n",
       "      <td>12</td>\n",
       "      <td>1</td>\n",
       "      <td>15.30</td>\n",
       "    </tr>\n",
       "    <tr>\n",
       "      <th>1</th>\n",
       "      <td>573585</td>\n",
       "      <td>71053</td>\n",
       "      <td>WHITE METAL LANTERN</td>\n",
       "      <td>6</td>\n",
       "      <td>3.39</td>\n",
       "      <td>17850.0</td>\n",
       "      <td>United Kingdom</td>\n",
       "      <td>08:26</td>\n",
       "      <td>-38</td>\n",
       "      <td>12</td>\n",
       "      <td>1</td>\n",
       "      <td>20.34</td>\n",
       "    </tr>\n",
       "    <tr>\n",
       "      <th>2</th>\n",
       "      <td>573585</td>\n",
       "      <td>84406B</td>\n",
       "      <td>CREAM CUPID HEARTS COAT HANGER</td>\n",
       "      <td>8</td>\n",
       "      <td>2.75</td>\n",
       "      <td>17850.0</td>\n",
       "      <td>United Kingdom</td>\n",
       "      <td>08:26</td>\n",
       "      <td>-38</td>\n",
       "      <td>12</td>\n",
       "      <td>1</td>\n",
       "      <td>22.00</td>\n",
       "    </tr>\n",
       "    <tr>\n",
       "      <th>3</th>\n",
       "      <td>573585</td>\n",
       "      <td>84029G</td>\n",
       "      <td>KNITTED UNION FLAG HOT WATER BOTTLE</td>\n",
       "      <td>6</td>\n",
       "      <td>3.39</td>\n",
       "      <td>17850.0</td>\n",
       "      <td>United Kingdom</td>\n",
       "      <td>08:26</td>\n",
       "      <td>-38</td>\n",
       "      <td>12</td>\n",
       "      <td>1</td>\n",
       "      <td>20.34</td>\n",
       "    </tr>\n",
       "    <tr>\n",
       "      <th>4</th>\n",
       "      <td>573585</td>\n",
       "      <td>84029E</td>\n",
       "      <td>RED WOOLLY HOTTIE WHITE HEART.</td>\n",
       "      <td>6</td>\n",
       "      <td>3.39</td>\n",
       "      <td>17850.0</td>\n",
       "      <td>United Kingdom</td>\n",
       "      <td>08:26</td>\n",
       "      <td>-38</td>\n",
       "      <td>12</td>\n",
       "      <td>1</td>\n",
       "      <td>20.34</td>\n",
       "    </tr>\n",
       "  </tbody>\n",
       "</table>\n",
       "</div>"
      ],
      "text/plain": [
       "   InvoiceNo StockCode                          Description  Quantity  \\\n",
       "0     573585    85123A   WHITE HANGING HEART T-LIGHT HOLDER         6   \n",
       "1     573585     71053                  WHITE METAL LANTERN         6   \n",
       "2     573585    84406B       CREAM CUPID HEARTS COAT HANGER         8   \n",
       "3     573585    84029G  KNITTED UNION FLAG HOT WATER BOTTLE         6   \n",
       "4     573585    84029E       RED WOOLLY HOTTIE WHITE HEART.         6   \n",
       "\n",
       "   UnitPrice  CustomerID         Country   Time  Year  Month  Day  Total Price  \n",
       "0       2.55     17850.0  United Kingdom  08:26   -38     12    1        15.30  \n",
       "1       3.39     17850.0  United Kingdom  08:26   -38     12    1        20.34  \n",
       "2       2.75     17850.0  United Kingdom  08:26   -38     12    1        22.00  \n",
       "3       3.39     17850.0  United Kingdom  08:26   -38     12    1        20.34  \n",
       "4       3.39     17850.0  United Kingdom  08:26   -38     12    1        20.34  "
      ]
     },
     "execution_count": 406,
     "metadata": {},
     "output_type": "execute_result"
    }
   ],
   "source": [
    "uk_dv.head()"
   ]
  },
  {
   "cell_type": "code",
   "execution_count": 407,
   "id": "a56fc6c3-e955-4fcf-b098-5a1238795edc",
   "metadata": {},
   "outputs": [
    {
     "name": "stdout",
     "output_type": "stream",
     "text": [
      "<class 'pandas.core.frame.DataFrame'>\n",
      "Index: 396696 entries, 0 to 536405\n",
      "Data columns (total 12 columns):\n",
      " #   Column       Non-Null Count   Dtype  \n",
      "---  ------       --------------   -----  \n",
      " 0   InvoiceNo    396696 non-null  int64  \n",
      " 1   StockCode    396696 non-null  object \n",
      " 2   Description  396696 non-null  object \n",
      " 3   Quantity     396696 non-null  int64  \n",
      " 4   UnitPrice    396696 non-null  float64\n",
      " 5   CustomerID   396696 non-null  float64\n",
      " 6   Country      396696 non-null  object \n",
      " 7   Time         396696 non-null  object \n",
      " 8   Year         396696 non-null  int16  \n",
      " 9   Month        396696 non-null  int8   \n",
      " 10  Day          396696 non-null  int8   \n",
      " 11  Total Price  396696 non-null  float64\n",
      "dtypes: float64(3), int16(1), int64(2), int8(2), object(4)\n",
      "memory usage: 31.8+ MB\n"
     ]
    }
   ],
   "source": [
    "uk_dv.info()"
   ]
  },
  {
   "cell_type": "code",
   "execution_count": 408,
   "id": "c8aa232a-aee4-4117-b54d-2b103f93559b",
   "metadata": {},
   "outputs": [
    {
     "name": "stderr",
     "output_type": "stream",
     "text": [
      "C:\\Users\\Alok\\AppData\\Local\\Temp\\ipykernel_12676\\3585685248.py:1: SettingWithCopyWarning: \n",
      "A value is trying to be set on a copy of a slice from a DataFrame.\n",
      "Try using .loc[row_indexer,col_indexer] = value instead\n",
      "\n",
      "See the caveats in the documentation: https://pandas.pydata.org/pandas-docs/stable/user_guide/indexing.html#returning-a-view-versus-a-copy\n",
      "  uk_dv[\"Year\"] = uk_dv[\"Year\"].astype(\"int16\")\n",
      "C:\\Users\\Alok\\AppData\\Local\\Temp\\ipykernel_12676\\3585685248.py:2: SettingWithCopyWarning: \n",
      "A value is trying to be set on a copy of a slice from a DataFrame.\n",
      "Try using .loc[row_indexer,col_indexer] = value instead\n",
      "\n",
      "See the caveats in the documentation: https://pandas.pydata.org/pandas-docs/stable/user_guide/indexing.html#returning-a-view-versus-a-copy\n",
      "  uk_dv[\"Day\"] = uk_dv[\"Day\"].astype(\"int8\")\n",
      "C:\\Users\\Alok\\AppData\\Local\\Temp\\ipykernel_12676\\3585685248.py:3: SettingWithCopyWarning: \n",
      "A value is trying to be set on a copy of a slice from a DataFrame.\n",
      "Try using .loc[row_indexer,col_indexer] = value instead\n",
      "\n",
      "See the caveats in the documentation: https://pandas.pydata.org/pandas-docs/stable/user_guide/indexing.html#returning-a-view-versus-a-copy\n",
      "  uk_dv[\"Month\"] = uk_dv[\"Month\"].astype(\"int8\")\n"
     ]
    }
   ],
   "source": [
    "uk_dv[\"Year\"] = uk_dv[\"Year\"].astype(\"int16\")\n",
    "uk_dv[\"Day\"] = uk_dv[\"Day\"].astype(\"int8\")\n",
    "uk_dv[\"Month\"] = uk_dv[\"Month\"].astype(\"int8\")"
   ]
  },
  {
   "cell_type": "code",
   "execution_count": 409,
   "id": "948cfed7-a6b2-44cd-8029-3c9c19cff660",
   "metadata": {},
   "outputs": [
    {
     "name": "stdout",
     "output_type": "stream",
     "text": [
      "<class 'pandas.core.frame.DataFrame'>\n",
      "Index: 396696 entries, 0 to 536405\n",
      "Data columns (total 12 columns):\n",
      " #   Column       Non-Null Count   Dtype  \n",
      "---  ------       --------------   -----  \n",
      " 0   InvoiceNo    396696 non-null  int64  \n",
      " 1   StockCode    396696 non-null  object \n",
      " 2   Description  396696 non-null  object \n",
      " 3   Quantity     396696 non-null  int64  \n",
      " 4   UnitPrice    396696 non-null  float64\n",
      " 5   CustomerID   396696 non-null  float64\n",
      " 6   Country      396696 non-null  object \n",
      " 7   Time         396696 non-null  object \n",
      " 8   Year         396696 non-null  int16  \n",
      " 9   Month        396696 non-null  int8   \n",
      " 10  Day          396696 non-null  int8   \n",
      " 11  Total Price  396696 non-null  float64\n",
      "dtypes: float64(3), int16(1), int64(2), int8(2), object(4)\n",
      "memory usage: 31.8+ MB\n"
     ]
    }
   ],
   "source": [
    "uk_dv.info()"
   ]
  },
  {
   "cell_type": "markdown",
   "id": "b86a2983-e434-4f95-9624-49d064466cf8",
   "metadata": {},
   "source": [
    "# Data Visualization"
   ]
  },
  {
   "cell_type": "code",
   "execution_count": 418,
   "id": "1cf3449c-f0ee-457e-a8df-000bf00fec41",
   "metadata": {},
   "outputs": [
    {
     "data": {
      "text/plain": [
       "InvoiceNo\n",
       "573585     924\n",
       "581219     653\n",
       "581492     644\n",
       "558475     622\n",
       "580729     619\n",
       "          ... \n",
       "550928       1\n",
       "550929       1\n",
       "550930       1\n",
       "C571336      1\n",
       "581586       1\n",
       "Name: count, Length: 18740, dtype: int64"
      ]
     },
     "execution_count": 418,
     "metadata": {},
     "output_type": "execute_result"
    }
   ],
   "source": [
    "uk_dv[\"InvoiceNo\"].value_counts()"
   ]
  },
  {
   "cell_type": "code",
   "execution_count": 427,
   "id": "d2733dcc-aaf4-43a1-bbd6-bec404784c6f",
   "metadata": {},
   "outputs": [
    {
     "data": {
      "text/plain": [
       "<Axes: xlabel='InvoiceNo'>"
      ]
     },
     "execution_count": 427,
     "metadata": {},
     "output_type": "execute_result"
    },
    {
     "data": {
      "image/png": "[encoded data removed]",
      "text/plain": [
       "<Figure size 640x480 with 1 Axes>"
      ]
     },
     "metadata": {},
     "output_type": "display_data"
    }
   ],
   "source": [
    "uk_dv[\"InvoiceNo\"].value_counts().plot(kind=\"bar\")\n",
    "plt.show()"
   ]
  },
  {
   "cell_type": "code",
   "execution_count": 420,
   "id": "bf39d633-7eb3-4ed5-9be3-6823d755aaaa",
   "metadata": {},
   "outputs": [
    {
     "data": {
      "text/html": [
       "<div>\n",
       "<style scoped>\n",
       "    .dataframe tbody tr th:only-of-type {\n",
       "        vertical-align: middle;\n",
       "    }\n",
       "\n",
       "    .dataframe tbody tr th {\n",
       "        vertical-align: top;\n",
       "    }\n",
       "\n",
       "    .dataframe thead th {\n",
       "        text-align: right;\n",
       "    }\n",
       "</style>\n",
       "<table border=\"1\" class=\"dataframe\">\n",
       "  <thead>\n",
       "    <tr style=\"text-align: right;\">\n",
       "      <th></th>\n",
       "      <th>InvoiceNo</th>\n",
       "      <th>StockCode</th>\n",
       "      <th>Description</th>\n",
       "      <th>Quantity</th>\n",
       "      <th>UnitPrice</th>\n",
       "      <th>CustomerID</th>\n",
       "      <th>Country</th>\n",
       "      <th>Time</th>\n",
       "      <th>Year</th>\n",
       "      <th>Month</th>\n",
       "      <th>Day</th>\n",
       "      <th>Total Price</th>\n",
       "    </tr>\n",
       "  </thead>\n",
       "  <tbody>\n",
       "    <tr>\n",
       "      <th>0</th>\n",
       "      <td>536365</td>\n",
       "      <td>85123A</td>\n",
       "      <td>WHITE HANGING HEART T-LIGHT HOLDER</td>\n",
       "      <td>6</td>\n",
       "      <td>2.55</td>\n",
       "      <td>17850.0</td>\n",
       "      <td>United Kingdom</td>\n",
       "      <td>08:26</td>\n",
       "      <td>2010</td>\n",
       "      <td>12</td>\n",
       "      <td>1</td>\n",
       "      <td>15.30</td>\n",
       "    </tr>\n",
       "    <tr>\n",
       "      <th>1</th>\n",
       "      <td>536365</td>\n",
       "      <td>71053</td>\n",
       "      <td>WHITE METAL LANTERN</td>\n",
       "      <td>6</td>\n",
       "      <td>3.39</td>\n",
       "      <td>17850.0</td>\n",
       "      <td>United Kingdom</td>\n",
       "      <td>08:26</td>\n",
       "      <td>2010</td>\n",
       "      <td>12</td>\n",
       "      <td>1</td>\n",
       "      <td>20.34</td>\n",
       "    </tr>\n",
       "    <tr>\n",
       "      <th>2</th>\n",
       "      <td>536365</td>\n",
       "      <td>84406B</td>\n",
       "      <td>CREAM CUPID HEARTS COAT HANGER</td>\n",
       "      <td>8</td>\n",
       "      <td>2.75</td>\n",
       "      <td>17850.0</td>\n",
       "      <td>United Kingdom</td>\n",
       "      <td>08:26</td>\n",
       "      <td>2010</td>\n",
       "      <td>12</td>\n",
       "      <td>1</td>\n",
       "      <td>22.00</td>\n",
       "    </tr>\n",
       "    <tr>\n",
       "      <th>3</th>\n",
       "      <td>536365</td>\n",
       "      <td>84029G</td>\n",
       "      <td>KNITTED UNION FLAG HOT WATER BOTTLE</td>\n",
       "      <td>6</td>\n",
       "      <td>3.39</td>\n",
       "      <td>17850.0</td>\n",
       "      <td>United Kingdom</td>\n",
       "      <td>08:26</td>\n",
       "      <td>2010</td>\n",
       "      <td>12</td>\n",
       "      <td>1</td>\n",
       "      <td>20.34</td>\n",
       "    </tr>\n",
       "    <tr>\n",
       "      <th>4</th>\n",
       "      <td>536365</td>\n",
       "      <td>84029E</td>\n",
       "      <td>RED WOOLLY HOTTIE WHITE HEART.</td>\n",
       "      <td>6</td>\n",
       "      <td>3.39</td>\n",
       "      <td>17850.0</td>\n",
       "      <td>United Kingdom</td>\n",
       "      <td>08:26</td>\n",
       "      <td>2010</td>\n",
       "      <td>12</td>\n",
       "      <td>1</td>\n",
       "      <td>20.34</td>\n",
       "    </tr>\n",
       "  </tbody>\n",
       "</table>\n",
       "</div>"
      ],
      "text/plain": [
       "  InvoiceNo StockCode                          Description  Quantity  \\\n",
       "0    536365    85123A   WHITE HANGING HEART T-LIGHT HOLDER         6   \n",
       "1    536365     71053                  WHITE METAL LANTERN         6   \n",
       "2    536365    84406B       CREAM CUPID HEARTS COAT HANGER         8   \n",
       "3    536365    84029G  KNITTED UNION FLAG HOT WATER BOTTLE         6   \n",
       "4    536365    84029E       RED WOOLLY HOTTIE WHITE HEART.         6   \n",
       "\n",
       "   UnitPrice  CustomerID         Country   Time  Year  Month  Day  Total Price  \n",
       "0       2.55     17850.0  United Kingdom  08:26  2010     12    1        15.30  \n",
       "1       3.39     17850.0  United Kingdom  08:26  2010     12    1        20.34  \n",
       "2       2.75     17850.0  United Kingdom  08:26  2010     12    1        22.00  \n",
       "3       3.39     17850.0  United Kingdom  08:26  2010     12    1        20.34  \n",
       "4       3.39     17850.0  United Kingdom  08:26  2010     12    1        20.34  "
      ]
     },
     "execution_count": 420,
     "metadata": {},
     "output_type": "execute_result"
    }
   ],
   "source": [
    "uk_dv.head()"
   ]
  },
  {
   "cell_type": "code",
   "execution_count": 426,
   "id": "0334db8f-ac2e-49ee-8a8d-6ed4ef97dec2",
   "metadata": {},
   "outputs": [
    {
     "data": {
      "text/plain": [
       "426401     6.58\n",
       "426402    24.45\n",
       "426403    24.45\n",
       "426407     1.66\n",
       "426408     1.66\n",
       "          ...  \n",
       "427508     5.80\n",
       "427509     2.90\n",
       "427510     6.21\n",
       "427511     0.83\n",
       "427514    11.58\n",
       "Name: Total Price, Length: 924, dtype: float64"
      ]
     },
     "execution_count": 426,
     "metadata": {},
     "output_type": "execute_result"
    }
   ],
   "source": [
    "uk_dv[uk_dv[\"InvoiceNo\"] == \"573585\"][\"Total Price\"]"
   ]
  },
  {
   "cell_type": "code",
   "execution_count": 257,
   "id": "fd3aeed7-665d-4547-a5d4-6dd4c92f8282",
   "metadata": {},
   "outputs": [
    {
     "data": {
      "text/plain": [
       "18740"
      ]
     },
     "execution_count": 257,
     "metadata": {},
     "output_type": "execute_result"
    }
   ],
   "source": [
    "uk_dv[\"InvoiceNo\"].nunique()"
   ]
  },
  {
   "cell_type": "code",
   "execution_count": null,
   "id": "6a790564-a82e-44d8-8a7b-e57690c615df",
   "metadata": {},
   "outputs": [],
   "source": []
  },
  {
   "cell_type": "code",
   "execution_count": 283,
   "id": "000f0bfd-dba2-41c4-80c0-473e639b941a",
   "metadata": {},
   "outputs": [
    {
     "ename": "AttributeError",
     "evalue": "Can only use .dt accessor with datetimelike values",
     "output_type": "error",
     "traceback": [
      "\u001b[1;31m---------------------------------------------------------------------------\u001b[0m",
      "\u001b[1;31mAttributeError\u001b[0m                            Traceback (most recent call last)",
      "Cell \u001b[1;32mIn[283], line 1\u001b[0m\n\u001b[1;32m----> 1\u001b[0m \u001b[43mimputed_df\u001b[49m\u001b[43m[\u001b[49m\u001b[38;5;124;43m'\u001b[39;49m\u001b[38;5;124;43mDate\u001b[39;49m\u001b[38;5;124;43m'\u001b[39;49m\u001b[43m]\u001b[49m\u001b[38;5;241;43m.\u001b[39;49m\u001b[43mdt\u001b[49m\u001b[38;5;241m.\u001b[39mday\n",
      "File \u001b[1;32m~\\AppData\\Local\\Programs\\Python\\Python311\\Lib\\site-packages\\pandas\\core\\generic.py:5989\u001b[0m, in \u001b[0;36mNDFrame.__getattr__\u001b[1;34m(self, name)\u001b[0m\n\u001b[0;32m   5982\u001b[0m \u001b[38;5;28;01mif\u001b[39;00m (\n\u001b[0;32m   5983\u001b[0m     name \u001b[38;5;129;01mnot\u001b[39;00m \u001b[38;5;129;01min\u001b[39;00m \u001b[38;5;28mself\u001b[39m\u001b[38;5;241m.\u001b[39m_internal_names_set\n\u001b[0;32m   5984\u001b[0m     \u001b[38;5;129;01mand\u001b[39;00m name \u001b[38;5;129;01mnot\u001b[39;00m \u001b[38;5;129;01min\u001b[39;00m \u001b[38;5;28mself\u001b[39m\u001b[38;5;241m.\u001b[39m_metadata\n\u001b[0;32m   5985\u001b[0m     \u001b[38;5;129;01mand\u001b[39;00m name \u001b[38;5;129;01mnot\u001b[39;00m \u001b[38;5;129;01min\u001b[39;00m \u001b[38;5;28mself\u001b[39m\u001b[38;5;241m.\u001b[39m_accessors\n\u001b[0;32m   5986\u001b[0m     \u001b[38;5;129;01mand\u001b[39;00m \u001b[38;5;28mself\u001b[39m\u001b[38;5;241m.\u001b[39m_info_axis\u001b[38;5;241m.\u001b[39m_can_hold_identifiers_and_holds_name(name)\n\u001b[0;32m   5987\u001b[0m ):\n\u001b[0;32m   5988\u001b[0m     \u001b[38;5;28;01mreturn\u001b[39;00m \u001b[38;5;28mself\u001b[39m[name]\n\u001b[1;32m-> 5989\u001b[0m \u001b[38;5;28;01mreturn\u001b[39;00m \u001b[38;5;28;43mobject\u001b[39;49m\u001b[38;5;241;43m.\u001b[39;49m\u001b[38;5;21;43m__getattribute__\u001b[39;49m\u001b[43m(\u001b[49m\u001b[38;5;28;43mself\u001b[39;49m\u001b[43m,\u001b[49m\u001b[43m \u001b[49m\u001b[43mname\u001b[49m\u001b[43m)\u001b[49m\n",
      "File \u001b[1;32m~\\AppData\\Local\\Programs\\Python\\Python311\\Lib\\site-packages\\pandas\\core\\accessor.py:224\u001b[0m, in \u001b[0;36mCachedAccessor.__get__\u001b[1;34m(self, obj, cls)\u001b[0m\n\u001b[0;32m    221\u001b[0m \u001b[38;5;28;01mif\u001b[39;00m obj \u001b[38;5;129;01mis\u001b[39;00m \u001b[38;5;28;01mNone\u001b[39;00m:\n\u001b[0;32m    222\u001b[0m     \u001b[38;5;66;03m# we're accessing the attribute of the class, i.e., Dataset.geo\u001b[39;00m\n\u001b[0;32m    223\u001b[0m     \u001b[38;5;28;01mreturn\u001b[39;00m \u001b[38;5;28mself\u001b[39m\u001b[38;5;241m.\u001b[39m_accessor\n\u001b[1;32m--> 224\u001b[0m accessor_obj \u001b[38;5;241m=\u001b[39m \u001b[38;5;28;43mself\u001b[39;49m\u001b[38;5;241;43m.\u001b[39;49m\u001b[43m_accessor\u001b[49m\u001b[43m(\u001b[49m\u001b[43mobj\u001b[49m\u001b[43m)\u001b[49m\n\u001b[0;32m    225\u001b[0m \u001b[38;5;66;03m# Replace the property with the accessor object. Inspired by:\u001b[39;00m\n\u001b[0;32m    226\u001b[0m \u001b[38;5;66;03m# https://www.pydanny.com/cached-property.html\u001b[39;00m\n\u001b[0;32m    227\u001b[0m \u001b[38;5;66;03m# We need to use object.__setattr__ because we overwrite __setattr__ on\u001b[39;00m\n\u001b[0;32m    228\u001b[0m \u001b[38;5;66;03m# NDFrame\u001b[39;00m\n\u001b[0;32m    229\u001b[0m \u001b[38;5;28mobject\u001b[39m\u001b[38;5;241m.\u001b[39m\u001b[38;5;21m__setattr__\u001b[39m(obj, \u001b[38;5;28mself\u001b[39m\u001b[38;5;241m.\u001b[39m_name, accessor_obj)\n",
      "File \u001b[1;32m~\\AppData\\Local\\Programs\\Python\\Python311\\Lib\\site-packages\\pandas\\core\\indexes\\accessors.py:580\u001b[0m, in \u001b[0;36mCombinedDatetimelikeProperties.__new__\u001b[1;34m(cls, data)\u001b[0m\n\u001b[0;32m    577\u001b[0m \u001b[38;5;28;01melif\u001b[39;00m is_period_dtype(data\u001b[38;5;241m.\u001b[39mdtype):\n\u001b[0;32m    578\u001b[0m     \u001b[38;5;28;01mreturn\u001b[39;00m PeriodProperties(data, orig)\n\u001b[1;32m--> 580\u001b[0m \u001b[38;5;28;01mraise\u001b[39;00m \u001b[38;5;167;01mAttributeError\u001b[39;00m(\u001b[38;5;124m\"\u001b[39m\u001b[38;5;124mCan only use .dt accessor with datetimelike values\u001b[39m\u001b[38;5;124m\"\u001b[39m)\n",
      "\u001b[1;31mAttributeError\u001b[0m: Can only use .dt accessor with datetimelike values"
     ]
    }
   ],
   "source": [
    "imputed_df['Date'].dt.day"
   ]
  },
  {
   "cell_type": "code",
   "execution_count": 280,
   "id": "0eac7b9c-5993-450e-9fdd-fdb250b83bc5",
   "metadata": {},
   "outputs": [],
   "source": [
    "imputed_df[\"Date\"] = imputed_df[\"InvoiceDate\"].str.split(\" \").apply(lambda x: x[0])"
   ]
  },
  {
   "cell_type": "code",
   "execution_count": 292,
   "id": "c1fea6b5-ef82-49c4-9aab-1a52326d3370",
   "metadata": {},
   "outputs": [
    {
     "data": {
      "text/plain": [
       "0         01-12-2010\n",
       "1         01-12-2010\n",
       "2         01-12-2010\n",
       "3         01-12-2010\n",
       "4         01-12-2010\n",
       "             ...    \n",
       "536419    09-12-2011\n",
       "536420    09-12-2011\n",
       "536421    09-12-2011\n",
       "536422    09-12-2011\n",
       "536423    09-12-2011\n",
       "Name: Date, Length: 536424, dtype: object"
      ]
     },
     "execution_count": 292,
     "metadata": {},
     "output_type": "execute_result"
    }
   ],
   "source": [
    "imputed_df[\"Date\"]"
   ]
  },
  {
   "cell_type": "code",
   "execution_count": 293,
   "id": "d56ccdde-9eb7-4b71-9324-c73f53eecc45",
   "metadata": {},
   "outputs": [],
   "source": []
  },
  {
   "cell_type": "code",
   "execution_count": 297,
   "id": "e6ed3947-2030-4f08-9714-2005e1d43417",
   "metadata": {},
   "outputs": [
    {
     "data": {
      "text/plain": [
       "Timestamp('2010-12-01 00:00:00')"
      ]
     },
     "execution_count": 297,
     "metadata": {},
     "output_type": "execute_result"
    }
   ],
   "source": []
  },
  {
   "cell_type": "code",
   "execution_count": 298,
   "id": "ab49b258-8373-4f36-91a0-7f1aadc347a9",
   "metadata": {},
   "outputs": [],
   "source": []
  },
  {
   "cell_type": "code",
   "execution_count": 302,
   "id": "2e75eb0d-81b9-4a66-9359-26788751e457",
   "metadata": {},
   "outputs": [
    {
     "data": {
      "text/plain": [
       "dtype('int32')"
      ]
     },
     "execution_count": 302,
     "metadata": {},
     "output_type": "execute_result"
    }
   ],
   "source": []
  },
  {
   "cell_type": "code",
   "execution_count": null,
   "id": "e8b483a3-8415-493c-8bf0-95e2c4bfafe6",
   "metadata": {},
   "outputs": [],
   "source": []
  }
 ],
 "metadata": {
  "kernelspec": {
   "display_name": "Python 3 (ipykernel)",
   "language": "python",
   "name": "python3"
  },
  "language_info": {
   "codemirror_mode": {
    "name": "ipython",
    "version": 3
   },
   "file_extension": ".py",
   "mimetype": "text/x-python",
   "name": "python",
   "nbconvert_exporter": "python",
   "pygments_lexer": "ipython3",
   "version": "3.11.3"
  }
 },
 "nbformat": 4,
 "nbformat_minor": 5
}
