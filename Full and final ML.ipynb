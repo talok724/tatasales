{
 "cells": [
  {
   "cell_type": "code",
   "execution_count": 1,
   "id": "8386f8c3-745e-4fa0-897a-958ceba2e739",
   "metadata": {},
   "outputs": [],
   "source": [
    "import pandas as pd  # pandas library for dataframe\n",
    "import numpy as np   # numpy library for number\n",
    "import matplotlib.pyplot as plt\n",
    "%matplotlib inline\n",
    "import seaborn as sns\n",
    "from sklearn.impute import SimpleImputer\n",
    "import warnings\n",
    "warnings.filterwarnings(\"ignore\")\n",
    "from sklearn.linear_model import LinearRegression\n",
    "from sklearn.metrics import mean_squared_error, r2_score\n",
    "from sklearn.tree import DecisionTreeRegressor\n",
    "from sklearn.metrics import r2_score, mean_squared_error\n",
    "from sklearn.model_selection import train_test_split, GridSearchCV"
   ]
  },
  {
   "cell_type": "code",
   "execution_count": 2,
   "id": "d10262c4-9bb7-4e8d-b1ef-2e9419b988fa",
   "metadata": {},
   "outputs": [],
   "source": [
    "raw_df = pd.read_csv(f\"UK_sales_for_ML.csv\",encoding=\"latin1\")"
   ]
  },
  {
   "cell_type": "code",
   "execution_count": 3,
   "id": "d8c245b7-40da-4072-9a3d-d90061238f84",
   "metadata": {},
   "outputs": [
    {
     "data": {
      "text/html": [
       "<div>\n",
       "<style scoped>\n",
       "    .dataframe tbody tr th:only-of-type {\n",
       "        vertical-align: middle;\n",
       "    }\n",
       "\n",
       "    .dataframe tbody tr th {\n",
       "        vertical-align: top;\n",
       "    }\n",
       "\n",
       "    .dataframe thead th {\n",
       "        text-align: right;\n",
       "    }\n",
       "</style>\n",
       "<table border=\"1\" class=\"dataframe\">\n",
       "  <thead>\n",
       "    <tr style=\"text-align: right;\">\n",
       "      <th></th>\n",
       "      <th>InvoiceNo</th>\n",
       "      <th>StockCode</th>\n",
       "      <th>Description</th>\n",
       "      <th>Quantity</th>\n",
       "      <th>InvoiceDate</th>\n",
       "      <th>UnitPrice</th>\n",
       "      <th>CustomerID</th>\n",
       "      <th>Country</th>\n",
       "      <th>UnitPrice_log</th>\n",
       "      <th>Quantity_log</th>\n",
       "      <th>Revenue</th>\n",
       "      <th>Year</th>\n",
       "      <th>Month</th>\n",
       "      <th>Day</th>\n",
       "      <th>day_of_week</th>\n",
       "      <th>day_name</th>\n",
       "      <th>quarter</th>\n",
       "    </tr>\n",
       "  </thead>\n",
       "  <tbody>\n",
       "    <tr>\n",
       "      <th>0</th>\n",
       "      <td>536365</td>\n",
       "      <td>85123A</td>\n",
       "      <td>WHITE HANGING HEART T-LIGHT HOLDER</td>\n",
       "      <td>6</td>\n",
       "      <td>2010-12-01 08:26:00</td>\n",
       "      <td>2.55</td>\n",
       "      <td>17850.0</td>\n",
       "      <td>United Kingdom</td>\n",
       "      <td>1.266948</td>\n",
       "      <td>1.94591</td>\n",
       "      <td>15</td>\n",
       "      <td>2010</td>\n",
       "      <td>12</td>\n",
       "      <td>1</td>\n",
       "      <td>2</td>\n",
       "      <td>Wednesday</td>\n",
       "      <td>4</td>\n",
       "    </tr>\n",
       "  </tbody>\n",
       "</table>\n",
       "</div>"
      ],
      "text/plain": [
       "   InvoiceNo StockCode                         Description  Quantity  \\\n",
       "0     536365    85123A  WHITE HANGING HEART T-LIGHT HOLDER         6   \n",
       "\n",
       "           InvoiceDate  UnitPrice  CustomerID         Country  UnitPrice_log  \\\n",
       "0  2010-12-01 08:26:00       2.55     17850.0  United Kingdom       1.266948   \n",
       "\n",
       "   Quantity_log  Revenue  Year  Month  Day  day_of_week   day_name  quarter  \n",
       "0       1.94591       15  2010     12    1            2  Wednesday        4  "
      ]
     },
     "execution_count": 3,
     "metadata": {},
     "output_type": "execute_result"
    }
   ],
   "source": [
    "raw_df.head(1)"
   ]
  },
  {
   "cell_type": "code",
   "execution_count": 4,
   "id": "e8d57633-5bf7-46c6-9fad-6372fcda776c",
   "metadata": {},
   "outputs": [
    {
     "name": "stdout",
     "output_type": "stream",
     "text": [
      "<class 'pandas.core.frame.DataFrame'>\n",
      "RangeIndex: 471726 entries, 0 to 471725\n",
      "Data columns (total 17 columns):\n",
      " #   Column         Non-Null Count   Dtype  \n",
      "---  ------         --------------   -----  \n",
      " 0   InvoiceNo      471726 non-null  int64  \n",
      " 1   StockCode      471726 non-null  object \n",
      " 2   Description    471726 non-null  object \n",
      " 3   Quantity       471726 non-null  int64  \n",
      " 4   InvoiceDate    471726 non-null  object \n",
      " 5   UnitPrice      471726 non-null  float64\n",
      " 6   CustomerID     471726 non-null  float64\n",
      " 7   Country        471726 non-null  object \n",
      " 8   UnitPrice_log  471726 non-null  float64\n",
      " 9   Quantity_log   471726 non-null  float64\n",
      " 10  Revenue        471726 non-null  int64  \n",
      " 11  Year           471726 non-null  int64  \n",
      " 12  Month          471726 non-null  int64  \n",
      " 13  Day            471726 non-null  int64  \n",
      " 14  day_of_week    471726 non-null  int64  \n",
      " 15  day_name       471726 non-null  object \n",
      " 16  quarter        471726 non-null  int64  \n",
      "dtypes: float64(4), int64(8), object(5)\n",
      "memory usage: 61.2+ MB\n"
     ]
    }
   ],
   "source": [
    "raw_df.info()"
   ]
  },
  {
   "cell_type": "code",
   "execution_count": 5,
   "id": "2f8ef5c6-630c-4036-b1ae-47574c5ba13e",
   "metadata": {},
   "outputs": [],
   "source": [
    "raw_df[\"InvoiceNo\"] = raw_df[\"InvoiceNo\"].astype(\"int32\")\n",
    "raw_df[\"CustomerID\"] = raw_df[\"CustomerID\"].astype(\"int16\")\n",
    "raw_df[\"Quantity\"] = raw_df[\"Quantity\"].astype(\"int16\")\n",
    "raw_df[\"UnitPrice\"] = raw_df[\"UnitPrice\"].astype(\"float16\")\n",
    "raw_df[\"Revenue\"] = raw_df[\"Revenue\"].astype(\"int16\")\n",
    "raw_df[\"quarter\"] = raw_df[\"quarter\"].astype(\"int8\")\n",
    "raw_df[\"day_of_week\"] = raw_df[\"day_of_week\"].astype(\"int8\")\n",
    "raw_df[\"Year\"] = raw_df[\"Year\"].astype(\"int16\")\n",
    "raw_df[\"Month\"] = raw_df[\"Month\"].astype(\"int8\")\n",
    "raw_df[\"Day\"] = raw_df[\"Day\"].astype(\"int8\")"
   ]
  },
  {
   "cell_type": "code",
   "execution_count": 6,
   "id": "352a5773-88af-42af-8dc8-1e4679d8f6aa",
   "metadata": {},
   "outputs": [
    {
     "name": "stdout",
     "output_type": "stream",
     "text": [
      "<class 'pandas.core.frame.DataFrame'>\n",
      "RangeIndex: 471726 entries, 0 to 471725\n",
      "Data columns (total 17 columns):\n",
      " #   Column         Non-Null Count   Dtype  \n",
      "---  ------         --------------   -----  \n",
      " 0   InvoiceNo      471726 non-null  int32  \n",
      " 1   StockCode      471726 non-null  object \n",
      " 2   Description    471726 non-null  object \n",
      " 3   Quantity       471726 non-null  int16  \n",
      " 4   InvoiceDate    471726 non-null  object \n",
      " 5   UnitPrice      471726 non-null  float16\n",
      " 6   CustomerID     471726 non-null  int16  \n",
      " 7   Country        471726 non-null  object \n",
      " 8   UnitPrice_log  471726 non-null  float64\n",
      " 9   Quantity_log   471726 non-null  float64\n",
      " 10  Revenue        471726 non-null  int16  \n",
      " 11  Year           471726 non-null  int16  \n",
      " 12  Month          471726 non-null  int8   \n",
      " 13  Day            471726 non-null  int8   \n",
      " 14  day_of_week    471726 non-null  int8   \n",
      " 15  day_name       471726 non-null  object \n",
      " 16  quarter        471726 non-null  int8   \n",
      "dtypes: float16(1), float64(2), int16(4), int32(1), int8(4), object(5)\n",
      "memory usage: 33.3+ MB\n"
     ]
    }
   ],
   "source": [
    "raw_df.info()"
   ]
  },
  {
   "cell_type": "markdown",
   "id": "162d3f9c-32d3-4240-b6e9-fd8ded871123",
   "metadata": {},
   "source": [
    "# Polynomial Regression"
   ]
  },
  {
   "cell_type": "code",
   "execution_count": 7,
   "id": "1783688f-f3c6-4804-996b-28d194227440",
   "metadata": {},
   "outputs": [],
   "source": [
    "from sklearn.preprocessing import MinMaxScaler\n",
    "X= raw_df[['CustomerID','Quantity_log', 'UnitPrice_log', 'Day','Month','Year']]\n",
    "y = raw_df[\"Revenue\"]\n",
    "\n",
    "MM = MinMaxScaler()\n",
    "X_scaled = MM.fit_transform(X)\n"
   ]
  },
  {
   "cell_type": "code",
   "execution_count": 8,
   "id": "207228dd-8801-4fda-ad21-13026635ec8d",
   "metadata": {},
   "outputs": [
    {
     "data": {
      "text/html": [
       "<div>\n",
       "<style scoped>\n",
       "    .dataframe tbody tr th:only-of-type {\n",
       "        vertical-align: middle;\n",
       "    }\n",
       "\n",
       "    .dataframe tbody tr th {\n",
       "        vertical-align: top;\n",
       "    }\n",
       "\n",
       "    .dataframe thead th {\n",
       "        text-align: right;\n",
       "    }\n",
       "</style>\n",
       "<table border=\"1\" class=\"dataframe\">\n",
       "  <thead>\n",
       "    <tr style=\"text-align: right;\">\n",
       "      <th></th>\n",
       "      <th>CustomerID</th>\n",
       "      <th>Quantity_log</th>\n",
       "      <th>UnitPrice_log</th>\n",
       "      <th>Day</th>\n",
       "      <th>Month</th>\n",
       "      <th>Year</th>\n",
       "    </tr>\n",
       "  </thead>\n",
       "  <tbody>\n",
       "    <tr>\n",
       "      <th>0</th>\n",
       "      <td>0.921119</td>\n",
       "      <td>0.294379</td>\n",
       "      <td>0.441137</td>\n",
       "      <td>0.0</td>\n",
       "      <td>1.0</td>\n",
       "      <td>0.0</td>\n",
       "    </tr>\n",
       "  </tbody>\n",
       "</table>\n",
       "</div>"
      ],
      "text/plain": [
       "   CustomerID  Quantity_log  UnitPrice_log  Day  Month  Year\n",
       "0    0.921119      0.294379       0.441137  0.0    1.0   0.0"
      ]
     },
     "execution_count": 8,
     "metadata": {},
     "output_type": "execute_result"
    }
   ],
   "source": [
    "pd.DataFrame(X_scaled,columns=X.columns).head(1)"
   ]
  },
  {
   "cell_type": "code",
   "execution_count": 9,
   "id": "af3e21a1-8f54-476f-a7d3-ef14d34e7a73",
   "metadata": {},
   "outputs": [
    {
     "name": "stdout",
     "output_type": "stream",
     "text": [
      "Training data Set : r2 score = 0.97 & MSE = 24.99\n",
      "Testing data Set : r2 score = 0.97 & MSE = 22.91\n"
     ]
    }
   ],
   "source": [
    "from sklearn.preprocessing import PolynomialFeatures\n",
    "\n",
    "poly = PolynomialFeatures(degree=3,include_bias=False,interaction_only=False)\n",
    "\n",
    "# Fit and transform the feature set to generate polynomial features\n",
    "X_poly = poly.fit_transform(X_scaled)\n",
    "\n",
    "\n",
    "X_train, X_test, y_train, y_test = train_test_split(X_poly, y, test_size=0.2, random_state=42)\n",
    "LR = LinearRegression()\n",
    "LR.fit(X_train, y_train)\n",
    "y_pred_pr = LR.predict(X_test)\n",
    "\n",
    "# Predict on the training data\n",
    "y_train_pred = LR.predict(X_train)\n",
    "\n",
    "# Print the results\n",
    "\n",
    "print(f\"Training data Set : r2 score = {r2_score(y_train,y_train_pred):.2f} & MSE = {mean_squared_error(y_train, y_train_pred):.2f}\")\n",
    "print(f\"Testing data Set : r2 score = {r2_score(y_test,y_pred_pr):.2f} & MSE = {mean_squared_error(y_test, y_pred_pr):.2f}\")\n"
   ]
  },
  {
   "cell_type": "code",
   "execution_count": 10,
   "id": "e92f9a7d-8ebf-4e08-b959-428a9b03f41d",
   "metadata": {},
   "outputs": [
    {
     "name": "stdout",
     "output_type": "stream",
     "text": [
      "Mean neg_mean_squared_error across folds: 23.31\n",
      "Mean r2 score: 0.97\n"
     ]
    }
   ],
   "source": [
    "from sklearn.model_selection import cross_validate, cross_val_score\n",
    "\n",
    "# Perform cross-validation\n",
    "scores = cross_validate(LR, X_test, y_test, cv=10, scoring=[\"neg_mean_squared_error\", \"r2\"])\n",
    "\n",
    "# Calculate and print the mean neg_mean_squared_error and mean R2 score\n",
    "print(f'Mean neg_mean_squared_error across folds: {-scores[\"test_neg_mean_squared_error\"].mean():.2f}')\n",
    "print(f'Mean r2 score: {scores[\"test_r2\"].mean():.2f}')"
   ]
  },
  {
   "cell_type": "code",
   "execution_count": 11,
   "id": "8c082a0f-e945-48bb-bd29-2f9b430ae9d1",
   "metadata": {},
   "outputs": [
    {
     "data": {
      "text/html": [
       "<div>\n",
       "<style scoped>\n",
       "    .dataframe tbody tr th:only-of-type {\n",
       "        vertical-align: middle;\n",
       "    }\n",
       "\n",
       "    .dataframe tbody tr th {\n",
       "        vertical-align: top;\n",
       "    }\n",
       "\n",
       "    .dataframe thead th {\n",
       "        text-align: right;\n",
       "    }\n",
       "</style>\n",
       "<table border=\"1\" class=\"dataframe\">\n",
       "  <thead>\n",
       "    <tr style=\"text-align: right;\">\n",
       "      <th></th>\n",
       "      <th>0</th>\n",
       "      <th>1</th>\n",
       "      <th>2</th>\n",
       "      <th>3</th>\n",
       "      <th>4</th>\n",
       "      <th>5</th>\n",
       "      <th>6</th>\n",
       "      <th>7</th>\n",
       "      <th>8</th>\n",
       "      <th>9</th>\n",
       "      <th>...</th>\n",
       "      <th>73</th>\n",
       "      <th>74</th>\n",
       "      <th>75</th>\n",
       "      <th>76</th>\n",
       "      <th>77</th>\n",
       "      <th>78</th>\n",
       "      <th>79</th>\n",
       "      <th>80</th>\n",
       "      <th>81</th>\n",
       "      <th>82</th>\n",
       "    </tr>\n",
       "  </thead>\n",
       "  <tbody>\n",
       "    <tr>\n",
       "      <th>0</th>\n",
       "      <td>0.140072</td>\n",
       "      <td>0.000000</td>\n",
       "      <td>0.512755</td>\n",
       "      <td>0.233333</td>\n",
       "      <td>1.000000</td>\n",
       "      <td>0.0</td>\n",
       "      <td>0.019620</td>\n",
       "      <td>0.000000</td>\n",
       "      <td>0.071823</td>\n",
       "      <td>0.032684</td>\n",
       "      <td>...</td>\n",
       "      <td>0.012704</td>\n",
       "      <td>0.054444</td>\n",
       "      <td>0.000000</td>\n",
       "      <td>0.233333</td>\n",
       "      <td>0.000000</td>\n",
       "      <td>0.000000</td>\n",
       "      <td>1.000000</td>\n",
       "      <td>0.000000</td>\n",
       "      <td>0.000000</td>\n",
       "      <td>0.0</td>\n",
       "    </tr>\n",
       "    <tr>\n",
       "      <th>1</th>\n",
       "      <td>0.149819</td>\n",
       "      <td>0.400588</td>\n",
       "      <td>0.391649</td>\n",
       "      <td>0.233333</td>\n",
       "      <td>0.727273</td>\n",
       "      <td>1.0</td>\n",
       "      <td>0.022446</td>\n",
       "      <td>0.060016</td>\n",
       "      <td>0.058677</td>\n",
       "      <td>0.034958</td>\n",
       "      <td>...</td>\n",
       "      <td>0.012704</td>\n",
       "      <td>0.039596</td>\n",
       "      <td>0.054444</td>\n",
       "      <td>0.123416</td>\n",
       "      <td>0.169697</td>\n",
       "      <td>0.233333</td>\n",
       "      <td>0.384673</td>\n",
       "      <td>0.528926</td>\n",
       "      <td>0.727273</td>\n",
       "      <td>1.0</td>\n",
       "    </tr>\n",
       "    <tr>\n",
       "      <th>2</th>\n",
       "      <td>0.553069</td>\n",
       "      <td>0.000000</td>\n",
       "      <td>0.750273</td>\n",
       "      <td>0.533333</td>\n",
       "      <td>1.000000</td>\n",
       "      <td>0.0</td>\n",
       "      <td>0.305885</td>\n",
       "      <td>0.000000</td>\n",
       "      <td>0.414952</td>\n",
       "      <td>0.294970</td>\n",
       "      <td>...</td>\n",
       "      <td>0.151704</td>\n",
       "      <td>0.284444</td>\n",
       "      <td>0.000000</td>\n",
       "      <td>0.533333</td>\n",
       "      <td>0.000000</td>\n",
       "      <td>0.000000</td>\n",
       "      <td>1.000000</td>\n",
       "      <td>0.000000</td>\n",
       "      <td>0.000000</td>\n",
       "      <td>0.0</td>\n",
       "    </tr>\n",
       "    <tr>\n",
       "      <th>3</th>\n",
       "      <td>0.890253</td>\n",
       "      <td>0.685629</td>\n",
       "      <td>0.339251</td>\n",
       "      <td>0.466667</td>\n",
       "      <td>0.727273</td>\n",
       "      <td>1.0</td>\n",
       "      <td>0.792550</td>\n",
       "      <td>0.610383</td>\n",
       "      <td>0.302019</td>\n",
       "      <td>0.415451</td>\n",
       "      <td>...</td>\n",
       "      <td>0.101630</td>\n",
       "      <td>0.158384</td>\n",
       "      <td>0.217778</td>\n",
       "      <td>0.246832</td>\n",
       "      <td>0.339394</td>\n",
       "      <td>0.466667</td>\n",
       "      <td>0.384673</td>\n",
       "      <td>0.528926</td>\n",
       "      <td>0.727273</td>\n",
       "      <td>1.0</td>\n",
       "    </tr>\n",
       "    <tr>\n",
       "      <th>4</th>\n",
       "      <td>0.759386</td>\n",
       "      <td>0.095278</td>\n",
       "      <td>0.210234</td>\n",
       "      <td>0.266667</td>\n",
       "      <td>1.000000</td>\n",
       "      <td>1.0</td>\n",
       "      <td>0.576668</td>\n",
       "      <td>0.072353</td>\n",
       "      <td>0.159649</td>\n",
       "      <td>0.202503</td>\n",
       "      <td>...</td>\n",
       "      <td>0.018963</td>\n",
       "      <td>0.071111</td>\n",
       "      <td>0.071111</td>\n",
       "      <td>0.266667</td>\n",
       "      <td>0.266667</td>\n",
       "      <td>0.266667</td>\n",
       "      <td>1.000000</td>\n",
       "      <td>1.000000</td>\n",
       "      <td>1.000000</td>\n",
       "      <td>1.0</td>\n",
       "    </tr>\n",
       "    <tr>\n",
       "      <th>...</th>\n",
       "      <td>...</td>\n",
       "      <td>...</td>\n",
       "      <td>...</td>\n",
       "      <td>...</td>\n",
       "      <td>...</td>\n",
       "      <td>...</td>\n",
       "      <td>...</td>\n",
       "      <td>...</td>\n",
       "      <td>...</td>\n",
       "      <td>...</td>\n",
       "      <td>...</td>\n",
       "      <td>...</td>\n",
       "      <td>...</td>\n",
       "      <td>...</td>\n",
       "      <td>...</td>\n",
       "      <td>...</td>\n",
       "      <td>...</td>\n",
       "      <td>...</td>\n",
       "      <td>...</td>\n",
       "      <td>...</td>\n",
       "      <td>...</td>\n",
       "    </tr>\n",
       "    <tr>\n",
       "      <th>377375</th>\n",
       "      <td>0.891516</td>\n",
       "      <td>0.294379</td>\n",
       "      <td>0.339251</td>\n",
       "      <td>0.333333</td>\n",
       "      <td>0.636364</td>\n",
       "      <td>1.0</td>\n",
       "      <td>0.794801</td>\n",
       "      <td>0.262444</td>\n",
       "      <td>0.302448</td>\n",
       "      <td>0.297172</td>\n",
       "      <td>...</td>\n",
       "      <td>0.037037</td>\n",
       "      <td>0.070707</td>\n",
       "      <td>0.111111</td>\n",
       "      <td>0.134986</td>\n",
       "      <td>0.212121</td>\n",
       "      <td>0.333333</td>\n",
       "      <td>0.257701</td>\n",
       "      <td>0.404959</td>\n",
       "      <td>0.636364</td>\n",
       "      <td>1.0</td>\n",
       "    </tr>\n",
       "    <tr>\n",
       "      <th>377376</th>\n",
       "      <td>0.163718</td>\n",
       "      <td>0.215313</td>\n",
       "      <td>0.570783</td>\n",
       "      <td>0.866667</td>\n",
       "      <td>0.818182</td>\n",
       "      <td>1.0</td>\n",
       "      <td>0.026804</td>\n",
       "      <td>0.035251</td>\n",
       "      <td>0.093448</td>\n",
       "      <td>0.141889</td>\n",
       "      <td>...</td>\n",
       "      <td>0.650963</td>\n",
       "      <td>0.614545</td>\n",
       "      <td>0.751111</td>\n",
       "      <td>0.580165</td>\n",
       "      <td>0.709091</td>\n",
       "      <td>0.866667</td>\n",
       "      <td>0.547708</td>\n",
       "      <td>0.669421</td>\n",
       "      <td>0.818182</td>\n",
       "      <td>1.0</td>\n",
       "    </tr>\n",
       "    <tr>\n",
       "      <th>377377</th>\n",
       "      <td>0.969495</td>\n",
       "      <td>0.258156</td>\n",
       "      <td>0.391649</td>\n",
       "      <td>0.300000</td>\n",
       "      <td>0.272727</td>\n",
       "      <td>1.0</td>\n",
       "      <td>0.939920</td>\n",
       "      <td>0.250281</td>\n",
       "      <td>0.379702</td>\n",
       "      <td>0.290848</td>\n",
       "      <td>...</td>\n",
       "      <td>0.027000</td>\n",
       "      <td>0.024545</td>\n",
       "      <td>0.090000</td>\n",
       "      <td>0.022314</td>\n",
       "      <td>0.081818</td>\n",
       "      <td>0.300000</td>\n",
       "      <td>0.020285</td>\n",
       "      <td>0.074380</td>\n",
       "      <td>0.272727</td>\n",
       "      <td>1.0</td>\n",
       "    </tr>\n",
       "    <tr>\n",
       "      <th>377378</th>\n",
       "      <td>0.669495</td>\n",
       "      <td>0.095278</td>\n",
       "      <td>0.569427</td>\n",
       "      <td>0.833333</td>\n",
       "      <td>0.272727</td>\n",
       "      <td>1.0</td>\n",
       "      <td>0.448223</td>\n",
       "      <td>0.063788</td>\n",
       "      <td>0.381228</td>\n",
       "      <td>0.557912</td>\n",
       "      <td>...</td>\n",
       "      <td>0.578704</td>\n",
       "      <td>0.189394</td>\n",
       "      <td>0.694444</td>\n",
       "      <td>0.061983</td>\n",
       "      <td>0.227273</td>\n",
       "      <td>0.833333</td>\n",
       "      <td>0.020285</td>\n",
       "      <td>0.074380</td>\n",
       "      <td>0.272727</td>\n",
       "      <td>1.0</td>\n",
       "    </tr>\n",
       "    <tr>\n",
       "      <th>377379</th>\n",
       "      <td>0.275271</td>\n",
       "      <td>0.400588</td>\n",
       "      <td>0.376622</td>\n",
       "      <td>0.966667</td>\n",
       "      <td>0.181818</td>\n",
       "      <td>1.0</td>\n",
       "      <td>0.075774</td>\n",
       "      <td>0.110270</td>\n",
       "      <td>0.103673</td>\n",
       "      <td>0.266095</td>\n",
       "      <td>...</td>\n",
       "      <td>0.903296</td>\n",
       "      <td>0.169899</td>\n",
       "      <td>0.934444</td>\n",
       "      <td>0.031956</td>\n",
       "      <td>0.175758</td>\n",
       "      <td>0.966667</td>\n",
       "      <td>0.006011</td>\n",
       "      <td>0.033058</td>\n",
       "      <td>0.181818</td>\n",
       "      <td>1.0</td>\n",
       "    </tr>\n",
       "  </tbody>\n",
       "</table>\n",
       "<p>377380 rows × 83 columns</p>\n",
       "</div>"
      ],
      "text/plain": [
       "              0         1         2         3         4    5         6   \\\n",
       "0       0.140072  0.000000  0.512755  0.233333  1.000000  0.0  0.019620   \n",
       "1       0.149819  0.400588  0.391649  0.233333  0.727273  1.0  0.022446   \n",
       "2       0.553069  0.000000  0.750273  0.533333  1.000000  0.0  0.305885   \n",
       "3       0.890253  0.685629  0.339251  0.466667  0.727273  1.0  0.792550   \n",
       "4       0.759386  0.095278  0.210234  0.266667  1.000000  1.0  0.576668   \n",
       "...          ...       ...       ...       ...       ...  ...       ...   \n",
       "377375  0.891516  0.294379  0.339251  0.333333  0.636364  1.0  0.794801   \n",
       "377376  0.163718  0.215313  0.570783  0.866667  0.818182  1.0  0.026804   \n",
       "377377  0.969495  0.258156  0.391649  0.300000  0.272727  1.0  0.939920   \n",
       "377378  0.669495  0.095278  0.569427  0.833333  0.272727  1.0  0.448223   \n",
       "377379  0.275271  0.400588  0.376622  0.966667  0.181818  1.0  0.075774   \n",
       "\n",
       "              7         8         9   ...        73        74        75  \\\n",
       "0       0.000000  0.071823  0.032684  ...  0.012704  0.054444  0.000000   \n",
       "1       0.060016  0.058677  0.034958  ...  0.012704  0.039596  0.054444   \n",
       "2       0.000000  0.414952  0.294970  ...  0.151704  0.284444  0.000000   \n",
       "3       0.610383  0.302019  0.415451  ...  0.101630  0.158384  0.217778   \n",
       "4       0.072353  0.159649  0.202503  ...  0.018963  0.071111  0.071111   \n",
       "...          ...       ...       ...  ...       ...       ...       ...   \n",
       "377375  0.262444  0.302448  0.297172  ...  0.037037  0.070707  0.111111   \n",
       "377376  0.035251  0.093448  0.141889  ...  0.650963  0.614545  0.751111   \n",
       "377377  0.250281  0.379702  0.290848  ...  0.027000  0.024545  0.090000   \n",
       "377378  0.063788  0.381228  0.557912  ...  0.578704  0.189394  0.694444   \n",
       "377379  0.110270  0.103673  0.266095  ...  0.903296  0.169899  0.934444   \n",
       "\n",
       "              76        77        78        79        80        81   82  \n",
       "0       0.233333  0.000000  0.000000  1.000000  0.000000  0.000000  0.0  \n",
       "1       0.123416  0.169697  0.233333  0.384673  0.528926  0.727273  1.0  \n",
       "2       0.533333  0.000000  0.000000  1.000000  0.000000  0.000000  0.0  \n",
       "3       0.246832  0.339394  0.466667  0.384673  0.528926  0.727273  1.0  \n",
       "4       0.266667  0.266667  0.266667  1.000000  1.000000  1.000000  1.0  \n",
       "...          ...       ...       ...       ...       ...       ...  ...  \n",
       "377375  0.134986  0.212121  0.333333  0.257701  0.404959  0.636364  1.0  \n",
       "377376  0.580165  0.709091  0.866667  0.547708  0.669421  0.818182  1.0  \n",
       "377377  0.022314  0.081818  0.300000  0.020285  0.074380  0.272727  1.0  \n",
       "377378  0.061983  0.227273  0.833333  0.020285  0.074380  0.272727  1.0  \n",
       "377379  0.031956  0.175758  0.966667  0.006011  0.033058  0.181818  1.0  \n",
       "\n",
       "[377380 rows x 83 columns]"
      ]
     },
     "execution_count": 11,
     "metadata": {},
     "output_type": "execute_result"
    }
   ],
   "source": [
    "pd.DataFrame(X_train)"
   ]
  },
  {
   "cell_type": "code",
   "execution_count": 12,
   "id": "bb1e0e77-dee2-4306-9548-f4c0c841f61f",
   "metadata": {},
   "outputs": [
    {
     "name": "stdout",
     "output_type": "stream",
     "text": [
      "Training data Set : r2 score = 0.97 & MSE = 24.99\n",
      "Testing data Set : r2 score = 0.97 & MSE = 22.91\n"
     ]
    }
   ],
   "source": [
    "from sklearn.linear_model import Ridge\n",
    "\n",
    "Ridge1 = Ridge(alpha=0.01)  # Adjust alpha as needed\n",
    "Ridge1.fit(X_train, y_train)\n",
    "\n",
    "y_pred_r = Ridge1.predict(X_test)\n",
    "\n",
    "# Predict on the training data\n",
    "y_train_pred = Ridge1.predict(X_train)\n",
    "\n",
    "# Print the results\n",
    "print(f\"Training data Set : r2 score = {r2_score(y_train,y_train_pred):.2f} & MSE = {mean_squared_error(y_train, y_train_pred):.2f}\")\n",
    "\n",
    "print(f\"Testing data Set : r2 score = {r2_score(y_test,y_pred_r):.2f} & MSE = {mean_squared_error(y_test, y_pred_r):.2f}\")\n"
   ]
  },
  {
   "cell_type": "code",
   "execution_count": 13,
   "id": "3cb657a8-c786-493d-a067-66e89cb39814",
   "metadata": {},
   "outputs": [
    {
     "name": "stdout",
     "output_type": "stream",
     "text": [
      "Mean neg_mean_squared_error across folds: 23.31\n",
      "Mean r2 score: 0.97\n"
     ]
    }
   ],
   "source": [
    "scores_Ridge1 = cross_validate(Ridge1, X_test, y_test, cv=10, scoring=[\"neg_mean_squared_error\", \"r2\"])\n",
    "\n",
    "# Calculate and print the mean neg_mean_squared_error and mean R2 score\n",
    "print(f'Mean neg_mean_squared_error across folds: {-scores_Ridge1[\"test_neg_mean_squared_error\"].mean():.2f}')\n",
    "print(f'Mean r2 score: {scores_Ridge1[\"test_r2\"].mean():.2f}')"
   ]
  },
  {
   "cell_type": "code",
   "execution_count": 14,
   "id": "ece38366-6c63-4526-a956-b15ff4d5ff8a",
   "metadata": {},
   "outputs": [
    {
     "name": "stdout",
     "output_type": "stream",
     "text": [
      "Training data Set : r2 score = 0.94 & MSE = 48.33\n",
      "Testing data Set : r2 score = 0.95 & MSE = 46.93\n"
     ]
    }
   ],
   "source": [
    "from sklearn.linear_model import Lasso\n",
    "\n",
    "# Example of using Ridge regression with polynomial features\n",
    "\n",
    "Lasso1 = Lasso(alpha=0.01)  # Adjust alpha as needed\n",
    "Lasso1.fit(X_train, y_train)\n",
    "\n",
    "y_pred_l = Lasso1.predict(X_test)\n",
    "\n",
    "# Predict on the training data\n",
    "y_train_pred = Lasso1.predict(X_train)\n",
    "\n",
    "# Print the results\n",
    "print(f\"Training data Set : r2 score = {r2_score(y_train,y_train_pred):.2f} & MSE = {mean_squared_error(y_train, y_train_pred):.2f}\")\n",
    "\n",
    "print(f\"Testing data Set : r2 score = {r2_score(y_test,y_pred_l):.2f} & MSE = {mean_squared_error(y_test, y_pred_l):.2f}\")\n"
   ]
  },
  {
   "cell_type": "code",
   "execution_count": 15,
   "id": "90480dd4-12e6-474d-b0b4-6b0a1626b5dc",
   "metadata": {},
   "outputs": [
    {
     "name": "stdout",
     "output_type": "stream",
     "text": [
      "Mean neg_mean_squared_error across folds: 23.31\n",
      "Mean r2 score: 0.97\n"
     ]
    }
   ],
   "source": [
    "scores_Lasso1 = cross_validate(Ridge1, X_test, y_test, cv=10, scoring=[\"neg_mean_squared_error\", \"r2\"])\n",
    "\n",
    "# Calculate and print the mean neg_mean_squared_error and mean R2 score\n",
    "print(f'Mean neg_mean_squared_error across folds: {-scores_Lasso1[\"test_neg_mean_squared_error\"].mean():.2f}')\n",
    "print(f'Mean r2 score: {scores_Lasso1[\"test_r2\"].mean():.2f}')"
   ]
  },
  {
   "cell_type": "code",
   "execution_count": 16,
   "id": "386b5560-623a-46e3-a3f0-5261b4bca337",
   "metadata": {
    "scrolled": true
   },
   "outputs": [
    {
     "data": {
      "text/html": [
       "<div>\n",
       "<style scoped>\n",
       "    .dataframe tbody tr th:only-of-type {\n",
       "        vertical-align: middle;\n",
       "    }\n",
       "\n",
       "    .dataframe tbody tr th {\n",
       "        vertical-align: top;\n",
       "    }\n",
       "\n",
       "    .dataframe thead th {\n",
       "        text-align: right;\n",
       "    }\n",
       "</style>\n",
       "<table border=\"1\" class=\"dataframe\">\n",
       "  <thead>\n",
       "    <tr style=\"text-align: right;\">\n",
       "      <th></th>\n",
       "      <th>PR</th>\n",
       "      <th>Ridge</th>\n",
       "      <th>Lasso</th>\n",
       "    </tr>\n",
       "  </thead>\n",
       "  <tbody>\n",
       "    <tr>\n",
       "      <th>Training_r2_score</th>\n",
       "      <td>0.97</td>\n",
       "      <td>0.97</td>\n",
       "      <td>0.93</td>\n",
       "    </tr>\n",
       "    <tr>\n",
       "      <th>Training_mse</th>\n",
       "      <td>24.96</td>\n",
       "      <td>24.96</td>\n",
       "      <td>50.12</td>\n",
       "    </tr>\n",
       "    <tr>\n",
       "      <th>Testing_r2_score</th>\n",
       "      <td>0.97</td>\n",
       "      <td>0.97</td>\n",
       "      <td>0.94</td>\n",
       "    </tr>\n",
       "    <tr>\n",
       "      <th>Testing_mse</th>\n",
       "      <td>22.82</td>\n",
       "      <td>22.82</td>\n",
       "      <td>48.72</td>\n",
       "    </tr>\n",
       "    <tr>\n",
       "      <th>Cross_val_scores_mse</th>\n",
       "      <td>23.19</td>\n",
       "      <td>23.20</td>\n",
       "      <td>23.20</td>\n",
       "    </tr>\n",
       "    <tr>\n",
       "      <th>Cross_val_scores_r2</th>\n",
       "      <td>0.97</td>\n",
       "      <td>0.97</td>\n",
       "      <td>0.97</td>\n",
       "    </tr>\n",
       "  </tbody>\n",
       "</table>\n",
       "</div>"
      ],
      "text/plain": [
       "                         PR  Ridge  Lasso\n",
       "Training_r2_score      0.97   0.97   0.93\n",
       "Training_mse          24.96  24.96  50.12\n",
       "Testing_r2_score       0.97   0.97   0.94\n",
       "Testing_mse           22.82  22.82  48.72\n",
       "Cross_val_scores_mse  23.19  23.20  23.20\n",
       "Cross_val_scores_r2    0.97   0.97   0.97"
      ]
     },
     "execution_count": 16,
     "metadata": {},
     "output_type": "execute_result"
    }
   ],
   "source": [
    "metrices = pd.DataFrame({\n",
    "            \"PR\":[0.97,24.96,0.97,22.82,23.19,0.97],\n",
    "            \"Ridge\":[0.97,24.96,0.97,22.82,23.20,0.97],\n",
    "            \"Lasso\":[0.93,50.12,0.94,48.72,23.20,0.97]\n",
    "        })\n",
    "metrices.index=[\"Training_r2_score\",\"Training_mse\",\"Testing_r2_score\",\"Testing_mse\",\"Cross_val_scores_mse\",\"Cross_val_scores_r2\"]\n",
    "metrices"
   ]
  },
  {
   "cell_type": "markdown",
   "id": "90e8db8d-8708-4bbf-9f7b-1c64cc8eba20",
   "metadata": {},
   "source": [
    "# Decision Tree"
   ]
  },
  {
   "cell_type": "code",
   "execution_count": 17,
   "id": "a034a578-ab8b-4f05-a222-fff05c6128e8",
   "metadata": {},
   "outputs": [],
   "source": [
    "\n",
    "X_train, X_test, y_train, y_test = train_test_split(X, y, test_size=0.2, random_state=42)\n",
    "from sklearn.tree import DecisionTreeRegressor\n",
    "\n",
    "DT = DecisionTreeRegressor(max_depth=15,\n",
    "                              splitter = \"random\",\n",
    "                              min_samples_leaf = 4,\n",
    "                              min_samples_split = 13,\n",
    "                              random_state=42)\n",
    "DT.fit(X_train, y_train)\n",
    "y_train_pred = DT.predict(X_train)\n",
    "y_pred_dt = DT.predict(X_test)\n"
   ]
  },
  {
   "cell_type": "code",
   "execution_count": 18,
   "id": "954d520d-ca40-479f-8f43-c877ee328b76",
   "metadata": {},
   "outputs": [
    {
     "name": "stdout",
     "output_type": "stream",
     "text": [
      "Training data Set : r2 score = 1.00 & MSE = 3.74\n",
      "Testing data Set : r2 score = 0.99 & MSE = 6.55\n"
     ]
    }
   ],
   "source": [
    "print(f\"Training data Set : r2 score = {r2_score(y_train,y_train_pred):.2f} & MSE = {mean_squared_error(y_train, y_train_pred):.2f}\")\n",
    "\n",
    "print(f\"Testing data Set : r2 score = {r2_score(y_test,y_pred_dt):.2f} & MSE = {mean_squared_error(y_test, y_pred_dt):.2f}\")"
   ]
  },
  {
   "cell_type": "code",
   "execution_count": 19,
   "id": "608c44de-06bf-42a0-887e-f152c5b1bc21",
   "metadata": {},
   "outputs": [
    {
     "name": "stdout",
     "output_type": "stream",
     "text": [
      "Mean neg_mean_squared_error across folds: 25.69\n",
      "Mean r2 score: 0.97\n"
     ]
    }
   ],
   "source": [
    "scores_DT = cross_validate(DT, X_test, y_test, cv=10, scoring=[\"neg_mean_squared_error\", \"r2\"])\n",
    "\n",
    "# Calculate and print the mean neg_mean_squared_error and mean R2 score\n",
    "print(f'Mean neg_mean_squared_error across folds: {-scores_DT[\"test_neg_mean_squared_error\"].mean():.2f}')\n",
    "print(f'Mean r2 score: {scores_DT[\"test_r2\"].mean():.2f}')"
   ]
  },
  {
   "cell_type": "code",
   "execution_count": 20,
   "id": "3532fa90-f430-4aa6-92ce-02064ef256a5",
   "metadata": {},
   "outputs": [
    {
     "name": "stdout",
     "output_type": "stream",
     "text": [
      "Best parameters: {'max_depth': 15, 'min_samples_leaf': 2, 'min_samples_split': 13}\n",
      "Best R-squared score: 0.9939248872679295\n"
     ]
    }
   ],
   "source": [
    "from sklearn.model_selection import GridSearchCV\n",
    "\n",
    "# Define the parameter grid\n",
    "param_grid = {\n",
    "    'max_depth': [13, 15, 10],\n",
    "    'min_samples_split': [13, 15, 100],\n",
    "    'min_samples_leaf': [1, 2, 4]\n",
    "}\n",
    "\n",
    "# Initialize GridSearchCV\n",
    "grid_search = GridSearchCV(estimator=DecisionTreeRegressor(random_state=42), param_grid=param_grid, cv=5, n_jobs=-1, scoring='r2')\n",
    "\n",
    "# Fit the grid search\n",
    "grid_search.fit(X_train, y_train)\n",
    "\n",
    "# Best parameters and score\n",
    "print(f'Best parameters: {grid_search.best_params_}')\n",
    "print(f'Best R-squared score: {grid_search.best_score_}')\n"
   ]
  },
  {
   "cell_type": "code",
   "execution_count": 21,
   "id": "8bf8b703-9431-4403-8b88-dbd7515d0d6f",
   "metadata": {},
   "outputs": [
    {
     "name": "stdout",
     "output_type": "stream",
     "text": [
      "R² score = 0.961 & MSE = 30.923\n"
     ]
    }
   ],
   "source": [
    "from sklearn.ensemble import RandomForestRegressor\n",
    "\n",
    "# Set the maximum depth of each tree\n",
    "rf = RandomForestRegressor(\n",
    "                            n_estimators=100,\n",
    "                            max_depth=10,\n",
    "                            min_samples_split=10,\n",
    "                            min_samples_leaf=5,\n",
    "                            max_features='sqrt'\n",
    ")\n",
    "rf.fit(X_train, y_train)\n",
    "\n",
    "# Predict and evaluate the model\n",
    "y_train_pred = rf.predict(X_train)\n",
    "r2 = r2_score(y_train, y_train_pred)\n",
    "mse = mean_squared_error(y_train, y_train_pred)\n",
    "\n",
    "print(f\"R² score = {r2:.3f} & MSE = {mse:.3f}\")\n"
   ]
  },
  {
   "cell_type": "code",
   "execution_count": 22,
   "id": "fcddaec5-28b9-457b-8897-4b97635910f8",
   "metadata": {},
   "outputs": [
    {
     "data": {
      "text/plain": [
       "(0.9477362152383245, 42.790161820631326)"
      ]
     },
     "execution_count": 22,
     "metadata": {},
     "output_type": "execute_result"
    }
   ],
   "source": [
    "from sklearn.model_selection import cross_validate\n",
    "scores = cross_validate(rf, X, y, cv=10, scoring=['r2', 'neg_mean_squared_error'])\n",
    "\n",
    "# Extract and print the results\n",
    "mean_r2 = scores['test_r2'].mean()\n",
    "mean_mse = -scores['test_neg_mean_squared_error'].mean()\n",
    "mean_r2,mean_mse"
   ]
  },
  {
   "cell_type": "code",
   "execution_count": 23,
   "id": "50b5deda-697c-4d62-9ef2-37932d66c2eb",
   "metadata": {},
   "outputs": [
    {
     "name": "stdout",
     "output_type": "stream",
     "text": [
      "R² score = 0.947 & MSE = 42.219\n"
     ]
    }
   ],
   "source": [
    "from sklearn.ensemble import GradientBoostingRegressor\n",
    "\n",
    "gb = GradientBoostingRegressor(\n",
    "    n_estimators=200,          # Number of boosting stages\n",
    "    learning_rate=0.05,        # Learning rate\n",
    "    max_depth=3,               # Depth of each tree\n",
    "    subsample=0.8,             # Fraction of samples used for training each tree\n",
    "    min_samples_leaf=4,        # Minimum samples per leaf\n",
    "    max_features='sqrt'        # Number of features considered for best split\n",
    ")\n",
    "gb.fit(X_train, y_train)\n",
    "\n",
    "# Predict and evaluate the model\n",
    "y_train_pred = gb.predict(X_train)\n",
    "r2 = r2_score(y_train, y_train_pred)\n",
    "mse = mean_squared_error(y_train, y_train_pred)\n",
    "\n",
    "print(f\"R² score = {r2:.3f} & MSE = {mse:.3f}\")\n"
   ]
  },
  {
   "cell_type": "code",
   "execution_count": 24,
   "id": "40ae11ac-1198-48f0-a688-ab73b7225488",
   "metadata": {},
   "outputs": [
    {
     "data": {
      "text/plain": [
       "(0.94997952167561, 41.11998356732412)"
      ]
     },
     "execution_count": 24,
     "metadata": {},
     "output_type": "execute_result"
    }
   ],
   "source": [
    "from sklearn.model_selection import cross_validate\n",
    "scores = cross_validate(gb, X, y, cv=10, scoring=['r2', 'neg_mean_squared_error'])\n",
    "\n",
    "# Extract and print the results\n",
    "mean_r2 = scores['test_r2'].mean()\n",
    "mean_mse = -scores['test_neg_mean_squared_error'].mean()\n",
    "mean_r2,mean_mse"
   ]
  },
  {
   "cell_type": "code",
   "execution_count": 38,
   "id": "9998db15-5791-46a1-a006-bc1b2b74c68f",
   "metadata": {},
   "outputs": [],
   "source": [
    "from sklearn.compose import ColumnTransformer\n",
    "from sklearn.preprocessing import FunctionTransformer\n",
    "preprocessor = ColumnTransformer(\n",
    "    transformers=[\n",
    "        ('ft', FunctionTransformer(np.log1p), ['Quantity_log', 'UnitPrice_log'])  # Apply log transform\n",
    "    ],\n",
    "    remainder='passthrough'  # Keep other columns as they are\n",
    ")"
   ]
  },
  {
   "cell_type": "code",
   "execution_count": 39,
   "id": "208c4bd2-3d13-44ea-ace9-0f846360c011",
   "metadata": {},
   "outputs": [],
   "source": [
    "from sklearn.pipeline import Pipeline\n",
    "pipeline = Pipeline(steps=[\n",
    "    ('preprocessor', preprocessor),                     # Preprocess selected features\n",
    "    ('scaler', MinMaxScaler()),                         # Scale features\n",
    "    ('rf', RandomForestRegressor(\n",
    "        n_estimators=100,\n",
    "        max_depth=10,\n",
    "        min_samples_split=10,\n",
    "        min_samples_leaf=5,\n",
    "        max_features='sqrt'\n",
    "    ))  # Random Forest model\n",
    "])"
   ]
  },
  {
   "cell_type": "code",
   "execution_count": 40,
   "id": "07263075-a9aa-412f-8f08-c84f4d522f48",
   "metadata": {},
   "outputs": [],
   "source": [
    "X_train, X_test, y_train, y_test = train_test_split(X, y, test_size=0.2, random_state=42)\n",
    "\n",
    "# Fit the pipeline\n",
    "pipeline.fit(X_train, y_train)\n",
    "\n",
    "# Make predictions\n",
    "y_pred = pipeline.predict(X_test)"
   ]
  },
  {
   "cell_type": "code",
   "execution_count": null,
   "id": "e391157e-b22e-407d-baba-6fc848440110",
   "metadata": {},
   "outputs": [],
   "source": [
    "pd.DataFrame(X)"
   ]
  },
  {
   "cell_type": "code",
   "execution_count": 42,
   "id": "aa466d80-947f-45ee-bb6d-ac06779d4ef5",
   "metadata": {},
   "outputs": [],
   "source": [
    "import pickle\n",
    "pickle.dump(X,open(\"X.pkl\",\"wb\"))\n",
    "pickle.dump(pipeline,open(\"pipeline.pkl\",\"wb\"))"
   ]
  },
  {
   "cell_type": "code",
   "execution_count": null,
   "id": "2a522b48-3c71-4b5f-b854-b04f50db14bd",
   "metadata": {},
   "outputs": [],
   "source": []
  },
  {
   "cell_type": "code",
   "execution_count": null,
   "id": "c865bbcc-a12c-41cd-b18f-00144a70dd23",
   "metadata": {},
   "outputs": [],
   "source": []
  },
  {
   "cell_type": "code",
   "execution_count": null,
   "id": "feb0ac62-2655-490a-9105-d48883707582",
   "metadata": {},
   "outputs": [],
   "source": []
  }
 ],
 "metadata": {
  "kernelspec": {
   "display_name": "Python 3 (ipykernel)",
   "language": "python",
   "name": "python3"
  },
  "language_info": {
   "codemirror_mode": {
    "name": "ipython",
    "version": 3
   },
   "file_extension": ".py",
   "mimetype": "text/x-python",
   "name": "python",
   "nbconvert_exporter": "python",
   "pygments_lexer": "ipython3",
   "version": "3.11.3"
  }
 },
 "nbformat": 4,
 "nbformat_minor": 5
}
