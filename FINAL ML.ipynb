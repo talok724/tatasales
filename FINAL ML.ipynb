{
 "cells": [
  {
   "cell_type": "code",
   "execution_count": 1,
   "id": "be2403ba-6003-4b3b-b39b-36fdbf4926af",
   "metadata": {},
   "outputs": [
    {
     "name": "stderr",
     "output_type": "stream",
     "text": [
      "[nltk_data] Downloading package stopwords to\n",
      "[nltk_data]     C:\\Users\\Alok\\AppData\\Roaming\\nltk_data...\n",
      "[nltk_data]   Package stopwords is already up-to-date!\n"
     ]
    }
   ],
   "source": [
    "import pandas as pd  # pandas library for dataframe\n",
    "import numpy as np   # numpy library for number\n",
    "import matplotlib.pyplot as plt\n",
    "%matplotlib inline\n",
    "from sklearn.preprocessing import PowerTransformer\n",
    "import seaborn as sns\n",
    "from sklearn.impute import SimpleImputer\n",
    "import warnings\n",
    "warnings.filterwarnings(\"ignore\")\n",
    "from wordcloud import WordCloud\n",
    "import nltk\n",
    "nltk.download('stopwords')\n",
    "from nltk.corpus import stopwords\n",
    "from collections import Counter\n",
    "from sklearn.model_selection import train_test_split\n",
    "from sklearn.preprocessing import StandardScaler\n",
    "from sklearn.linear_model import LinearRegression\n",
    "from sklearn.metrics import mean_squared_error, r2_score\n",
    "from sklearn.tree import DecisionTreeClassifier, plot_tree\n",
    "from sklearn.tree import DecisionTreeRegressor\n",
    "from sklearn.model_selection import cross_val_score\n",
    "from datetime import date\n",
    "\n",
    "from sklearn.model_selection import train_test_split, GridSearchCV"
   ]
  },
  {
   "cell_type": "code",
   "execution_count": 2,
   "id": "da3cc9e6-aa70-476b-8d1f-f4c9b12c6fd6",
   "metadata": {},
   "outputs": [],
   "source": [
    "original_df = pd.read_csv(\"UK_SALES_DATA_FOR_ML.csv\",encoding=\"latin1\")"
   ]
  },
  {
   "cell_type": "code",
   "execution_count": 3,
   "id": "97023e4a-65b8-46f6-b974-d1a7666aa911",
   "metadata": {},
   "outputs": [],
   "source": [
    "raw_df = original_df.copy()"
   ]
  },
  {
   "cell_type": "code",
   "execution_count": 4,
   "id": "0f881a62-b1b3-4306-a41e-22a8133e3c13",
   "metadata": {},
   "outputs": [],
   "source": [
    "raw_df['InvoiceDate'] = pd.to_datetime(raw_df['InvoiceDate'])\n",
    "raw_df['Day_of_Week_Num'] = raw_df['InvoiceDate'].dt.weekday"
   ]
  },
  {
   "cell_type": "code",
   "execution_count": 5,
   "id": "4370420c-5124-446e-ae3d-a07a347a0c7f",
   "metadata": {},
   "outputs": [
    {
     "name": "stdout",
     "output_type": "stream",
     "text": [
      "<class 'pandas.core.frame.DataFrame'>\n",
      "RangeIndex: 471669 entries, 0 to 471668\n",
      "Data columns (total 16 columns):\n",
      " #   Column           Non-Null Count   Dtype         \n",
      "---  ------           --------------   -----         \n",
      " 0   InvoiceNo        471669 non-null  int64         \n",
      " 1   StockCode        471669 non-null  object        \n",
      " 2   Description      471669 non-null  object        \n",
      " 3   Quantity         471669 non-null  int64         \n",
      " 4   InvoiceDate      471669 non-null  datetime64[ns]\n",
      " 5   UnitPrice        471669 non-null  float64       \n",
      " 6   CustomerID       471669 non-null  int64         \n",
      " 7   Country          471669 non-null  object        \n",
      " 8   Quantity_log     471669 non-null  float64       \n",
      " 9   UnitPrice_log    471669 non-null  float64       \n",
      " 10  Revenue          471669 non-null  int64         \n",
      " 11  Revenue_log      471669 non-null  float64       \n",
      " 12  Year             471669 non-null  int64         \n",
      " 13  Month            471669 non-null  int64         \n",
      " 14  Day              471669 non-null  int64         \n",
      " 15  Day_of_Week_Num  471669 non-null  int32         \n",
      "dtypes: datetime64[ns](1), float64(4), int32(1), int64(7), object(3)\n",
      "memory usage: 55.8+ MB\n"
     ]
    }
   ],
   "source": [
    "raw_df.info()"
   ]
  },
  {
   "cell_type": "code",
   "execution_count": 6,
   "id": "7520c7e7-3420-4188-af3b-eb9017f30b05",
   "metadata": {},
   "outputs": [
    {
     "data": {
      "text/plain": [
       "0         2\n",
       "1         2\n",
       "2         2\n",
       "3         2\n",
       "4         2\n",
       "         ..\n",
       "471664    4\n",
       "471665    4\n",
       "471666    4\n",
       "471667    4\n",
       "471668    4\n",
       "Name: Day_of_Week_Num, Length: 471669, dtype: int32"
      ]
     },
     "execution_count": 6,
     "metadata": {},
     "output_type": "execute_result"
    }
   ],
   "source": [
    "raw_df['Day_of_Week_Num']"
   ]
  },
  {
   "cell_type": "code",
   "execution_count": 7,
   "id": "7d636edd-81f4-44a6-8183-5fc6ab0ca5a2",
   "metadata": {},
   "outputs": [],
   "source": [
    "def calculate_iqr(series):\n",
    "    # Calculate Q1 and Q3\n",
    "    Q1 = series.quantile(0.25)\n",
    "    Q3 = series.quantile(0.75)\n",
    "    \n",
    "    # Calculate IQR\n",
    "    IQR = Q3 - Q1\n",
    "    \n",
    "    # Calculate upper and lower fences\n",
    "    upper_fence = Q3 + 1.5 * IQR\n",
    "    lower_fence = Q1 - 1.5 * IQR\n",
    "    \n",
    "    # Print the fences\n",
    "    print(\"Upper Fence =\", upper_fence)\n",
    "    print(\"Lower Fence =\", lower_fence)\n",
    "    \n",
    "    # Return the fences for further use\n",
    "    return lower_fence, upper_fence\n"
   ]
  },
  {
   "cell_type": "code",
   "execution_count": 8,
   "id": "21529b44-89e6-4494-b9ac-6da8af56133b",
   "metadata": {},
   "outputs": [
    {
     "data": {
      "text/html": [
       "<div>\n",
       "<style scoped>\n",
       "    .dataframe tbody tr th:only-of-type {\n",
       "        vertical-align: middle;\n",
       "    }\n",
       "\n",
       "    .dataframe tbody tr th {\n",
       "        vertical-align: top;\n",
       "    }\n",
       "\n",
       "    .dataframe thead th {\n",
       "        text-align: right;\n",
       "    }\n",
       "</style>\n",
       "<table border=\"1\" class=\"dataframe\">\n",
       "  <thead>\n",
       "    <tr style=\"text-align: right;\">\n",
       "      <th></th>\n",
       "      <th>InvoiceNo</th>\n",
       "      <th>StockCode</th>\n",
       "      <th>Description</th>\n",
       "      <th>Quantity</th>\n",
       "      <th>InvoiceDate</th>\n",
       "      <th>UnitPrice</th>\n",
       "      <th>CustomerID</th>\n",
       "      <th>Country</th>\n",
       "      <th>Quantity_log</th>\n",
       "      <th>UnitPrice_log</th>\n",
       "      <th>Revenue</th>\n",
       "      <th>Revenue_log</th>\n",
       "      <th>Year</th>\n",
       "      <th>Month</th>\n",
       "      <th>Day</th>\n",
       "      <th>Day_of_Week_Num</th>\n",
       "    </tr>\n",
       "  </thead>\n",
       "  <tbody>\n",
       "    <tr>\n",
       "      <th>0</th>\n",
       "      <td>536365</td>\n",
       "      <td>85123A</td>\n",
       "      <td>WHITE HANGING HEART T-LIGHT HOLDER</td>\n",
       "      <td>6</td>\n",
       "      <td>2010-12-01</td>\n",
       "      <td>2.55</td>\n",
       "      <td>17850</td>\n",
       "      <td>United Kingdom</td>\n",
       "      <td>1.94591</td>\n",
       "      <td>1.266948</td>\n",
       "      <td>15</td>\n",
       "      <td>2.791165</td>\n",
       "      <td>2010</td>\n",
       "      <td>12</td>\n",
       "      <td>1</td>\n",
       "      <td>2</td>\n",
       "    </tr>\n",
       "  </tbody>\n",
       "</table>\n",
       "</div>"
      ],
      "text/plain": [
       "   InvoiceNo StockCode                         Description  Quantity  \\\n",
       "0     536365    85123A  WHITE HANGING HEART T-LIGHT HOLDER         6   \n",
       "\n",
       "  InvoiceDate  UnitPrice  CustomerID         Country  Quantity_log  \\\n",
       "0  2010-12-01       2.55       17850  United Kingdom       1.94591   \n",
       "\n",
       "   UnitPrice_log  Revenue  Revenue_log  Year  Month  Day  Day_of_Week_Num  \n",
       "0       1.266948       15     2.791165  2010     12    1                2  "
      ]
     },
     "execution_count": 8,
     "metadata": {},
     "output_type": "execute_result"
    }
   ],
   "source": [
    "raw_df.head(1)"
   ]
  },
  {
   "cell_type": "code",
   "execution_count": 9,
   "id": "5cf459dc-fed9-4c2e-a0d0-8f0fcda08a2c",
   "metadata": {},
   "outputs": [
    {
     "name": "stdout",
     "output_type": "stream",
     "text": [
      "Upper Fence = 4.955017411\n",
      "Lower Fence = -1.863974957\n"
     ]
    },
    {
     "data": {
      "text/plain": [
       "(-1.863974957, 4.955017411)"
      ]
     },
     "execution_count": 9,
     "metadata": {},
     "output_type": "execute_result"
    }
   ],
   "source": [
    "calculate_iqr(raw_df[\"Quantity_log\"])"
   ]
  },
  {
   "cell_type": "code",
   "execution_count": 10,
   "id": "af2be308-ca4a-46d5-8316-af1a3528c61a",
   "metadata": {},
   "outputs": [],
   "source": [
    "raw_df = raw_df[raw_df[\"Quantity_log\"]<4.95]"
   ]
  },
  {
   "cell_type": "code",
   "execution_count": 11,
   "id": "ddbdc276-d516-41e6-a1a3-dfe765d1f9a1",
   "metadata": {},
   "outputs": [
    {
     "name": "stdout",
     "output_type": "stream",
     "text": [
      "Upper Fence = 2.87136895\n",
      "Lower Fence = -0.4253330499999999\n"
     ]
    },
    {
     "data": {
      "text/plain": [
       "(-0.4253330499999999, 2.87136895)"
      ]
     },
     "execution_count": 11,
     "metadata": {},
     "output_type": "execute_result"
    }
   ],
   "source": [
    "calculate_iqr(raw_df[\"UnitPrice_log\"])"
   ]
  },
  {
   "cell_type": "code",
   "execution_count": 12,
   "id": "f044679c-f8cb-4de3-a6a7-35908fb944fa",
   "metadata": {},
   "outputs": [],
   "source": [
    "raw_df = raw_df[raw_df[\"UnitPrice_log\"]<2.87]"
   ]
  },
  {
   "cell_type": "code",
   "execution_count": 13,
   "id": "aa52edfd-3f30-40a8-a2e7-cc2fdeed3c90",
   "metadata": {},
   "outputs": [
    {
     "name": "stdout",
     "output_type": "stream",
     "text": [
      "Upper Fence = 4.958196644601163\n",
      "Lower Fence = -0.618962694983189\n"
     ]
    },
    {
     "data": {
      "text/plain": [
       "(-0.618962694983189, 4.958196644601163)"
      ]
     },
     "execution_count": 13,
     "metadata": {},
     "output_type": "execute_result"
    }
   ],
   "source": [
    "calculate_iqr(raw_df[\"Revenue_log\"])"
   ]
  },
  {
   "cell_type": "code",
   "execution_count": 14,
   "id": "e9a6d7e1-42d8-448d-adec-738f957b7cdc",
   "metadata": {},
   "outputs": [],
   "source": [
    "raw_df = raw_df[raw_df[\"Revenue_log\"]<4.958]"
   ]
  },
  {
   "cell_type": "code",
   "execution_count": 15,
   "id": "7922ea1a-6259-43c7-801f-9950dad6f080",
   "metadata": {},
   "outputs": [
    {
     "data": {
      "text/html": [
       "<div>\n",
       "<style scoped>\n",
       "    .dataframe tbody tr th:only-of-type {\n",
       "        vertical-align: middle;\n",
       "    }\n",
       "\n",
       "    .dataframe tbody tr th {\n",
       "        vertical-align: top;\n",
       "    }\n",
       "\n",
       "    .dataframe thead th {\n",
       "        text-align: right;\n",
       "    }\n",
       "</style>\n",
       "<table border=\"1\" class=\"dataframe\">\n",
       "  <thead>\n",
       "    <tr style=\"text-align: right;\">\n",
       "      <th></th>\n",
       "      <th>InvoiceNo</th>\n",
       "      <th>Quantity</th>\n",
       "      <th>InvoiceDate</th>\n",
       "      <th>UnitPrice</th>\n",
       "      <th>CustomerID</th>\n",
       "      <th>Quantity_log</th>\n",
       "      <th>UnitPrice_log</th>\n",
       "      <th>Revenue</th>\n",
       "      <th>Revenue_log</th>\n",
       "      <th>Year</th>\n",
       "      <th>Month</th>\n",
       "      <th>Day</th>\n",
       "      <th>Day_of_Week_Num</th>\n",
       "    </tr>\n",
       "  </thead>\n",
       "  <tbody>\n",
       "    <tr>\n",
       "      <th>count</th>\n",
       "      <td>467470.000000</td>\n",
       "      <td>467470.000000</td>\n",
       "      <td>467470</td>\n",
       "      <td>467470.000000</td>\n",
       "      <td>467470.000000</td>\n",
       "      <td>467470.000000</td>\n",
       "      <td>467470.000000</td>\n",
       "      <td>467470.000000</td>\n",
       "      <td>467470.000000</td>\n",
       "      <td>467470.000000</td>\n",
       "      <td>467470.000000</td>\n",
       "      <td>467470.000000</td>\n",
       "      <td>467470.000000</td>\n",
       "    </tr>\n",
       "    <tr>\n",
       "      <th>mean</th>\n",
       "      <td>559966.425781</td>\n",
       "      <td>7.077817</td>\n",
       "      <td>2011-07-03 23:59:48.356044032</td>\n",
       "      <td>3.078431</td>\n",
       "      <td>15558.299457</td>\n",
       "      <td>1.615243</td>\n",
       "      <td>1.218116</td>\n",
       "      <td>12.487939</td>\n",
       "      <td>2.209310</td>\n",
       "      <td>2010.920053</td>\n",
       "      <td>7.571915</td>\n",
       "      <td>15.015466</td>\n",
       "      <td>2.439406</td>\n",
       "    </tr>\n",
       "    <tr>\n",
       "      <th>min</th>\n",
       "      <td>536365.000000</td>\n",
       "      <td>1.000000</td>\n",
       "      <td>2010-12-01 00:00:00</td>\n",
       "      <td>0.001000</td>\n",
       "      <td>12747.000000</td>\n",
       "      <td>0.693147</td>\n",
       "      <td>0.000999</td>\n",
       "      <td>0.000000</td>\n",
       "      <td>0.001000</td>\n",
       "      <td>2010.000000</td>\n",
       "      <td>1.000000</td>\n",
       "      <td>1.000000</td>\n",
       "      <td>0.000000</td>\n",
       "    </tr>\n",
       "    <tr>\n",
       "      <th>25%</th>\n",
       "      <td>547871.000000</td>\n",
       "      <td>1.000000</td>\n",
       "      <td>2011-03-27 00:00:00</td>\n",
       "      <td>1.250000</td>\n",
       "      <td>14159.000000</td>\n",
       "      <td>0.693147</td>\n",
       "      <td>0.810930</td>\n",
       "      <td>3.000000</td>\n",
       "      <td>1.472472</td>\n",
       "      <td>2011.000000</td>\n",
       "      <td>5.000000</td>\n",
       "      <td>7.000000</td>\n",
       "      <td>1.000000</td>\n",
       "    </tr>\n",
       "    <tr>\n",
       "      <th>50%</th>\n",
       "      <td>560580.000000</td>\n",
       "      <td>3.000000</td>\n",
       "      <td>2011-07-19 00:00:00</td>\n",
       "      <td>2.080000</td>\n",
       "      <td>15532.000000</td>\n",
       "      <td>1.386294</td>\n",
       "      <td>1.124929</td>\n",
       "      <td>8.000000</td>\n",
       "      <td>2.228939</td>\n",
       "      <td>2011.000000</td>\n",
       "      <td>8.000000</td>\n",
       "      <td>15.000000</td>\n",
       "      <td>2.000000</td>\n",
       "    </tr>\n",
       "    <tr>\n",
       "      <th>75%</th>\n",
       "      <td>572047.000000</td>\n",
       "      <td>10.000000</td>\n",
       "      <td>2011-10-20 00:00:00</td>\n",
       "      <td>4.130000</td>\n",
       "      <td>16950.000000</td>\n",
       "      <td>2.397895</td>\n",
       "      <td>1.635106</td>\n",
       "      <td>16.000000</td>\n",
       "      <td>2.862201</td>\n",
       "      <td>2011.000000</td>\n",
       "      <td>11.000000</td>\n",
       "      <td>22.000000</td>\n",
       "      <td>4.000000</td>\n",
       "    </tr>\n",
       "    <tr>\n",
       "      <th>max</th>\n",
       "      <td>581586.000000</td>\n",
       "      <td>140.000000</td>\n",
       "      <td>2011-12-09 00:00:00</td>\n",
       "      <td>16.630000</td>\n",
       "      <td>18287.000000</td>\n",
       "      <td>4.948760</td>\n",
       "      <td>2.869602</td>\n",
       "      <td>140.000000</td>\n",
       "      <td>4.955334</td>\n",
       "      <td>2011.000000</td>\n",
       "      <td>12.000000</td>\n",
       "      <td>31.000000</td>\n",
       "      <td>6.000000</td>\n",
       "    </tr>\n",
       "    <tr>\n",
       "      <th>std</th>\n",
       "      <td>13498.528795</td>\n",
       "      <td>10.887006</td>\n",
       "      <td>NaN</td>\n",
       "      <td>2.852475</td>\n",
       "      <td>1612.305075</td>\n",
       "      <td>0.890347</td>\n",
       "      <td>0.588372</td>\n",
       "      <td>15.990014</td>\n",
       "      <td>0.913860</td>\n",
       "      <td>0.271212</td>\n",
       "      <td>3.519931</td>\n",
       "      <td>8.686296</td>\n",
       "      <td>1.866160</td>\n",
       "    </tr>\n",
       "  </tbody>\n",
       "</table>\n",
       "</div>"
      ],
      "text/plain": [
       "           InvoiceNo       Quantity                    InvoiceDate  \\\n",
       "count  467470.000000  467470.000000                         467470   \n",
       "mean   559966.425781       7.077817  2011-07-03 23:59:48.356044032   \n",
       "min    536365.000000       1.000000            2010-12-01 00:00:00   \n",
       "25%    547871.000000       1.000000            2011-03-27 00:00:00   \n",
       "50%    560580.000000       3.000000            2011-07-19 00:00:00   \n",
       "75%    572047.000000      10.000000            2011-10-20 00:00:00   \n",
       "max    581586.000000     140.000000            2011-12-09 00:00:00   \n",
       "std     13498.528795      10.887006                            NaN   \n",
       "\n",
       "           UnitPrice     CustomerID   Quantity_log  UnitPrice_log  \\\n",
       "count  467470.000000  467470.000000  467470.000000  467470.000000   \n",
       "mean        3.078431   15558.299457       1.615243       1.218116   \n",
       "min         0.001000   12747.000000       0.693147       0.000999   \n",
       "25%         1.250000   14159.000000       0.693147       0.810930   \n",
       "50%         2.080000   15532.000000       1.386294       1.124929   \n",
       "75%         4.130000   16950.000000       2.397895       1.635106   \n",
       "max        16.630000   18287.000000       4.948760       2.869602   \n",
       "std         2.852475    1612.305075       0.890347       0.588372   \n",
       "\n",
       "             Revenue    Revenue_log           Year          Month  \\\n",
       "count  467470.000000  467470.000000  467470.000000  467470.000000   \n",
       "mean       12.487939       2.209310    2010.920053       7.571915   \n",
       "min         0.000000       0.001000    2010.000000       1.000000   \n",
       "25%         3.000000       1.472472    2011.000000       5.000000   \n",
       "50%         8.000000       2.228939    2011.000000       8.000000   \n",
       "75%        16.000000       2.862201    2011.000000      11.000000   \n",
       "max       140.000000       4.955334    2011.000000      12.000000   \n",
       "std        15.990014       0.913860       0.271212       3.519931   \n",
       "\n",
       "                 Day  Day_of_Week_Num  \n",
       "count  467470.000000    467470.000000  \n",
       "mean       15.015466         2.439406  \n",
       "min         1.000000         0.000000  \n",
       "25%         7.000000         1.000000  \n",
       "50%        15.000000         2.000000  \n",
       "75%        22.000000         4.000000  \n",
       "max        31.000000         6.000000  \n",
       "std         8.686296         1.866160  "
      ]
     },
     "execution_count": 15,
     "metadata": {},
     "output_type": "execute_result"
    }
   ],
   "source": [
    "raw_df.describe()"
   ]
  },
  {
   "cell_type": "code",
   "execution_count": 16,
   "id": "da790cd5-d2c1-4a91-ab9d-b3058ab87550",
   "metadata": {},
   "outputs": [
    {
     "data": {
      "image/png": "[encoded data removed]",
      "text/plain": [
       "<Figure size 1000x600 with 7 Axes>"
      ]
     },
     "metadata": {},
     "output_type": "display_data"
    }
   ],
   "source": [
    "plt.figure(figsize=(10,6))\n",
    "plt.title(\"Outliers in the different columns of the data\")\n",
    "plt.subplot(3,2,1)\n",
    "sns.boxplot(raw_df[\"Revenue_log\"])\n",
    "plt.subplot(3,2,2)\n",
    "sns.boxplot(raw_df[\"Revenue\"])\n",
    "plt.subplot(3,2,3)\n",
    "sns.boxplot(raw_df[\"UnitPrice_log\"])\n",
    "plt.subplot(3,2,4)\n",
    "sns.boxplot(raw_df[\"UnitPrice\"])\n",
    "plt.subplot(3,2,5)\n",
    "sns.boxplot(raw_df[\"Quantity_log\"])\n",
    "plt.subplot(3,2,6)\n",
    "sns.boxplot(raw_df[\"Quantity\"])\n",
    "plt.tight_layout()\n"
   ]
  },
  {
   "cell_type": "code",
   "execution_count": 17,
   "id": "8c944e12-8d8a-4db5-ad57-e08a8645a79a",
   "metadata": {},
   "outputs": [
    {
     "data": {
      "text/plain": [
       "Index(['InvoiceNo', 'StockCode', 'Description', 'Quantity', 'InvoiceDate',\n",
       "       'UnitPrice', 'CustomerID', 'Country', 'Quantity_log', 'UnitPrice_log',\n",
       "       'Revenue', 'Revenue_log', 'Year', 'Month', 'Day', 'Day_of_Week_Num'],\n",
       "      dtype='object')"
      ]
     },
     "execution_count": 17,
     "metadata": {},
     "output_type": "execute_result"
    }
   ],
   "source": [
    "raw_df.columns"
   ]
  },
  {
   "cell_type": "code",
   "execution_count": 18,
   "id": "01cb7a0e-09d5-4769-b96b-2597ce6c4cbc",
   "metadata": {},
   "outputs": [
    {
     "name": "stdout",
     "output_type": "stream",
     "text": [
      "Mean Squared Error: 0.03\n",
      "R-squared: 0.96\n"
     ]
    },
    {
     "data": {
      "image/png": "[encoded data removed]",
      "text/plain": [
       "<Figure size 1000x600 with 1 Axes>"
      ]
     },
     "metadata": {},
     "output_type": "display_data"
    }
   ],
   "source": [
    "# Select features and target\n",
    "X = raw_df[['Quantity_log', 'UnitPrice_log', 'Month', 'Day']]\n",
    "y = raw_df['Revenue_log']\n",
    "\n",
    "# Split data into training and testing sets\n",
    "X_train, X_test, y_train, y_test = train_test_split(X, y, test_size=0.3, random_state=42)\n",
    "\n",
    "# Initialize and train the model\n",
    "model = LinearRegression()\n",
    "model.fit(X_train, y_train)\n",
    "\n",
    "# Make predictions\n",
    "y_pred = model.predict(X_test)\n",
    "\n",
    "# Evaluate the model\n",
    "mse = mean_squared_error(y_test, y_pred)\n",
    "r2 = r2_score(y_test, y_pred)\n",
    "print(f'Mean Squared Error: {mse:.2f}')\n",
    "print(f'R-squared: {r2:.2f}')\n",
    "\n",
    "# Plotting actual vs predicted revenue\n",
    "plt.figure(figsize=(10, 6))\n",
    "plt.scatter(y_test, y_pred, alpha=0.7)\n",
    "plt.xlabel(\"Actual Revenue\")\n",
    "plt.ylabel(\"Predicted Revenue\")\n",
    "plt.title(\"Actual vs Predicted Revenue\")\n",
    "plt.plot([y.min(), y.max()], [y.min(), y.max()], 'r--')  # Diagonal line for reference\n",
    "plt.show()\n"
   ]
  },
  {
   "cell_type": "code",
   "execution_count": 19,
   "id": "b22de7e8-08fc-4d9e-a1bd-1146de2ea059",
   "metadata": {},
   "outputs": [
    {
     "data": {
      "text/html": [
       "<div>\n",
       "<style scoped>\n",
       "    .dataframe tbody tr th:only-of-type {\n",
       "        vertical-align: middle;\n",
       "    }\n",
       "\n",
       "    .dataframe tbody tr th {\n",
       "        vertical-align: top;\n",
       "    }\n",
       "\n",
       "    .dataframe thead th {\n",
       "        text-align: right;\n",
       "    }\n",
       "</style>\n",
       "<table border=\"1\" class=\"dataframe\">\n",
       "  <thead>\n",
       "    <tr style=\"text-align: right;\">\n",
       "      <th></th>\n",
       "      <th>Quantity_log</th>\n",
       "      <th>UnitPrice_log</th>\n",
       "      <th>Month</th>\n",
       "      <th>Day</th>\n",
       "    </tr>\n",
       "  </thead>\n",
       "  <tbody>\n",
       "    <tr>\n",
       "      <th>Quantity_log</th>\n",
       "      <td>1.000000</td>\n",
       "      <td>-0.426340</td>\n",
       "      <td>-0.012486</td>\n",
       "      <td>0.002432</td>\n",
       "    </tr>\n",
       "    <tr>\n",
       "      <th>UnitPrice_log</th>\n",
       "      <td>-0.426340</td>\n",
       "      <td>1.000000</td>\n",
       "      <td>-0.014074</td>\n",
       "      <td>-0.000015</td>\n",
       "    </tr>\n",
       "    <tr>\n",
       "      <th>Month</th>\n",
       "      <td>-0.012486</td>\n",
       "      <td>-0.014074</td>\n",
       "      <td>1.000000</td>\n",
       "      <td>-0.118373</td>\n",
       "    </tr>\n",
       "    <tr>\n",
       "      <th>Day</th>\n",
       "      <td>0.002432</td>\n",
       "      <td>-0.000015</td>\n",
       "      <td>-0.118373</td>\n",
       "      <td>1.000000</td>\n",
       "    </tr>\n",
       "  </tbody>\n",
       "</table>\n",
       "</div>"
      ],
      "text/plain": [
       "               Quantity_log  UnitPrice_log     Month       Day\n",
       "Quantity_log       1.000000      -0.426340 -0.012486  0.002432\n",
       "UnitPrice_log     -0.426340       1.000000 -0.014074 -0.000015\n",
       "Month             -0.012486      -0.014074  1.000000 -0.118373\n",
       "Day                0.002432      -0.000015 -0.118373  1.000000"
      ]
     },
     "execution_count": 19,
     "metadata": {},
     "output_type": "execute_result"
    }
   ],
   "source": [
    "X.corr()"
   ]
  },
  {
   "cell_type": "code",
   "execution_count": 20,
   "id": "61ddd3f3-a8f2-4495-879d-9d75a1952aab",
   "metadata": {},
   "outputs": [
    {
     "name": "stdout",
     "output_type": "stream",
     "text": [
      "Mean MSE: 9.79\n",
      "Standard Deviation of MSE: 0.88\n",
      "Mean R-squared: 0.96\n",
      "Standard Deviation of R-squared: 0.00\n"
     ]
    }
   ],
   "source": [
    "from sklearn.model_selection import cross_val_score, KFold\n",
    "from sklearn.ensemble import RandomForestRegressor\n",
    "from sklearn.metrics import make_scorer, mean_squared_error\n",
    "import numpy as np\n",
    "\n",
    "# Define the features and target variable\n",
    "X = raw_df[['Quantity_log', 'UnitPrice_log', 'Month', 'Day']]\n",
    "y = raw_df['Revenue']\n",
    "\n",
    "# Initialize the Random Forest Regressor\n",
    "model = RandomForestRegressor(n_estimators=30, max_depth=7, max_features='sqrt', random_state=42)\n",
    "\n",
    "# Set up K-Fold cross-validation\n",
    "kf = KFold(n_splits=5, shuffle=True, random_state=42)\n",
    "\n",
    "# Evaluate the model using cross-validation (using MSE as the scoring metric)\n",
    "mse_scores = cross_val_score(model, X, y, cv=kf, scoring=make_scorer(mean_squared_error))\n",
    "\n",
    "# Calculate the mean and standard deviation of the MSE across folds\n",
    "mean_mse = np.mean(mse_scores)\n",
    "std_mse = np.std(mse_scores)\n",
    "\n",
    "print(f'Mean MSE: {mean_mse:.2f}')\n",
    "print(f'Standard Deviation of MSE: {std_mse:.2f}')\n",
    "\n",
    "# You can also check the R-squared scores using a similar approach\n",
    "r2_scores = cross_val_score(model, X, y, cv=kf, scoring='r2')\n",
    "mean_r2 = np.mean(r2_scores)\n",
    "std_r2 = np.std(r2_scores)\n",
    "\n",
    "print(f'Mean R-squared: {mean_r2:.2f}')\n",
    "print(f'Standard Deviation of R-squared: {std_r2:.2f}')\n"
   ]
  },
  {
   "cell_type": "code",
   "execution_count": null,
   "id": "0ede71a6-aca9-432b-9a29-f7b9d37f01e3",
   "metadata": {},
   "outputs": [],
   "source": []
  },
  {
   "cell_type": "markdown",
   "id": "4f7963df-2e3c-447c-8e03-430245272711",
   "metadata": {},
   "source": [
    "# Customer Purchase Prediction"
   ]
  },
  {
   "cell_type": "code",
   "execution_count": 21,
   "id": "734818d5-f0c9-4ff0-ada5-d06cb447454c",
   "metadata": {},
   "outputs": [],
   "source": [
    "customer_data = raw_df.groupby('CustomerID').agg({\n",
    "    'InvoiceNo': 'nunique',     # Number of purchases\n",
    "    'Quantity': 'sum',          # Total quantity purchased\n",
    "    'Revenue': 'sum',           # Total revenue generated\n",
    "    'InvoiceDate': ['min', 'max'],  # First and last purchase dates\n",
    "}).reset_index()\n",
    "\n",
    "# Rename columns for clarity\n",
    "customer_data.columns = ['CustomerID', 'Unique_Invoice', 'Total_Quantity', 'Total_Revenue', 'First_Purchase', 'Last_Purchase']\n"
   ]
  },
  {
   "cell_type": "code",
   "execution_count": 22,
   "id": "2e442a41-5728-4c31-99cd-4445e5f4bc66",
   "metadata": {},
   "outputs": [
    {
     "data": {
      "text/html": [
       "<div>\n",
       "<style scoped>\n",
       "    .dataframe tbody tr th:only-of-type {\n",
       "        vertical-align: middle;\n",
       "    }\n",
       "\n",
       "    .dataframe tbody tr th {\n",
       "        vertical-align: top;\n",
       "    }\n",
       "\n",
       "    .dataframe thead th {\n",
       "        text-align: right;\n",
       "    }\n",
       "</style>\n",
       "<table border=\"1\" class=\"dataframe\">\n",
       "  <thead>\n",
       "    <tr style=\"text-align: right;\">\n",
       "      <th></th>\n",
       "      <th>CustomerID</th>\n",
       "      <th>Unique_Invoice</th>\n",
       "      <th>Total_Quantity</th>\n",
       "      <th>Total_Revenue</th>\n",
       "      <th>First_Purchase</th>\n",
       "      <th>Last_Purchase</th>\n",
       "    </tr>\n",
       "  </thead>\n",
       "  <tbody>\n",
       "    <tr>\n",
       "      <th>0</th>\n",
       "      <td>12747</td>\n",
       "      <td>11</td>\n",
       "      <td>1059</td>\n",
       "      <td>2773</td>\n",
       "      <td>2010-12-05</td>\n",
       "      <td>2011-12-07</td>\n",
       "    </tr>\n",
       "    <tr>\n",
       "      <th>1</th>\n",
       "      <td>12748</td>\n",
       "      <td>218</td>\n",
       "      <td>23636</td>\n",
       "      <td>34134</td>\n",
       "      <td>2010-12-01</td>\n",
       "      <td>2011-12-09</td>\n",
       "    </tr>\n",
       "    <tr>\n",
       "      <th>2</th>\n",
       "      <td>12749</td>\n",
       "      <td>6</td>\n",
       "      <td>1800</td>\n",
       "      <td>5315</td>\n",
       "      <td>2011-05-10</td>\n",
       "      <td>2011-12-06</td>\n",
       "    </tr>\n",
       "    <tr>\n",
       "      <th>3</th>\n",
       "      <td>12820</td>\n",
       "      <td>4</td>\n",
       "      <td>722</td>\n",
       "      <td>916</td>\n",
       "      <td>2011-01-17</td>\n",
       "      <td>2011-12-06</td>\n",
       "    </tr>\n",
       "    <tr>\n",
       "      <th>4</th>\n",
       "      <td>12821</td>\n",
       "      <td>1</td>\n",
       "      <td>70</td>\n",
       "      <td>90</td>\n",
       "      <td>2011-05-09</td>\n",
       "      <td>2011-05-09</td>\n",
       "    </tr>\n",
       "    <tr>\n",
       "      <th>...</th>\n",
       "      <td>...</td>\n",
       "      <td>...</td>\n",
       "      <td>...</td>\n",
       "      <td>...</td>\n",
       "      <td>...</td>\n",
       "      <td>...</td>\n",
       "    </tr>\n",
       "    <tr>\n",
       "      <th>3842</th>\n",
       "      <td>18280</td>\n",
       "      <td>6</td>\n",
       "      <td>1264</td>\n",
       "      <td>5257</td>\n",
       "      <td>2011-03-07</td>\n",
       "      <td>2011-03-07</td>\n",
       "    </tr>\n",
       "    <tr>\n",
       "      <th>3843</th>\n",
       "      <td>18281</td>\n",
       "      <td>1</td>\n",
       "      <td>52</td>\n",
       "      <td>46</td>\n",
       "      <td>2011-06-12</td>\n",
       "      <td>2011-06-12</td>\n",
       "    </tr>\n",
       "    <tr>\n",
       "      <th>3844</th>\n",
       "      <td>18282</td>\n",
       "      <td>2</td>\n",
       "      <td>103</td>\n",
       "      <td>171</td>\n",
       "      <td>2011-08-05</td>\n",
       "      <td>2011-12-02</td>\n",
       "    </tr>\n",
       "    <tr>\n",
       "      <th>3845</th>\n",
       "      <td>18283</td>\n",
       "      <td>17</td>\n",
       "      <td>2132</td>\n",
       "      <td>3172</td>\n",
       "      <td>2011-01-06</td>\n",
       "      <td>2011-12-06</td>\n",
       "    </tr>\n",
       "    <tr>\n",
       "      <th>3846</th>\n",
       "      <td>18287</td>\n",
       "      <td>3</td>\n",
       "      <td>1586</td>\n",
       "      <td>1815</td>\n",
       "      <td>2011-05-22</td>\n",
       "      <td>2011-10-28</td>\n",
       "    </tr>\n",
       "  </tbody>\n",
       "</table>\n",
       "<p>3847 rows × 6 columns</p>\n",
       "</div>"
      ],
      "text/plain": [
       "      CustomerID  Unique_Invoice  Total_Quantity  Total_Revenue  \\\n",
       "0          12747              11            1059           2773   \n",
       "1          12748             218           23636          34134   \n",
       "2          12749               6            1800           5315   \n",
       "3          12820               4             722            916   \n",
       "4          12821               1              70             90   \n",
       "...          ...             ...             ...            ...   \n",
       "3842       18280               6            1264           5257   \n",
       "3843       18281               1              52             46   \n",
       "3844       18282               2             103            171   \n",
       "3845       18283              17            2132           3172   \n",
       "3846       18287               3            1586           1815   \n",
       "\n",
       "     First_Purchase Last_Purchase  \n",
       "0        2010-12-05    2011-12-07  \n",
       "1        2010-12-01    2011-12-09  \n",
       "2        2011-05-10    2011-12-06  \n",
       "3        2011-01-17    2011-12-06  \n",
       "4        2011-05-09    2011-05-09  \n",
       "...             ...           ...  \n",
       "3842     2011-03-07    2011-03-07  \n",
       "3843     2011-06-12    2011-06-12  \n",
       "3844     2011-08-05    2011-12-02  \n",
       "3845     2011-01-06    2011-12-06  \n",
       "3846     2011-05-22    2011-10-28  \n",
       "\n",
       "[3847 rows x 6 columns]"
      ]
     },
     "execution_count": 22,
     "metadata": {},
     "output_type": "execute_result"
    }
   ],
   "source": [
    "customer_data"
   ]
  },
  {
   "cell_type": "markdown",
   "id": "b552029a-e9ab-4dd5-8767-7630f63ea73a",
   "metadata": {},
   "source": [
    "Recency, Frequency, Monetary (RFM) Features: Create additional features that capture key aspects of customer behavior: <br>\n",
    "Recency: Days since the last purchase.<br>\n",
    "Frequency: Number of purchases made.<br>\n",
    "Monetary: Total amount spent.<br>"
   ]
  },
  {
   "cell_type": "code",
   "execution_count": null,
   "id": "69d956b9-9c25-40ca-bc40-a59525f17630",
   "metadata": {},
   "outputs": [],
   "source": []
  },
  {
   "cell_type": "code",
   "execution_count": 23,
   "id": "34084c7c-5f26-478e-9853-8b06483ffdd3",
   "metadata": {},
   "outputs": [],
   "source": [
    "# Calculate Recency\n",
    "customer_data['Recency'] = (pd.to_datetime(date.today()) - customer_data['Last_Purchase']).dt.days\n",
    "customer_data['Avg_Order_Value'] = customer_data['Total_Revenue'] / customer_data['Unique_Invoice']\n",
    "\n",
    "# Frequency and Monetary are already included in the aggregated data (Num_Purchases and Total_Revenue)\n"
   ]
  },
  {
   "cell_type": "code",
   "execution_count": 24,
   "id": "dcd79ef2-b774-4227-92c5-91ca29bb09c3",
   "metadata": {},
   "outputs": [
    {
     "data": {
      "text/plain": [
       "4700.0"
      ]
     },
     "execution_count": 24,
     "metadata": {},
     "output_type": "execute_result"
    }
   ],
   "source": [
    "customer_data['Recency'].median()"
   ]
  },
  {
   "cell_type": "code",
   "execution_count": 25,
   "id": "4ca341d5-b2cf-40ad-a99e-d233381bab12",
   "metadata": {},
   "outputs": [
    {
     "data": {
      "text/plain": [
       "Target\n",
       "1    1939\n",
       "0    1908\n",
       "Name: count, dtype: int64"
      ]
     },
     "execution_count": 25,
     "metadata": {},
     "output_type": "execute_result"
    }
   ],
   "source": [
    "# Example: Target is 1 if the customer made a purchase within the last 30 days, otherwise 0\n",
    "customer_data['Target'] = customer_data['Recency'].apply(lambda x: 1 if x <= customer_data['Recency'].median() else 0)\n",
    "customer_data['Target'].value_counts()"
   ]
  },
  {
   "cell_type": "code",
   "execution_count": null,
   "id": "a4b9d1d7-c905-4d35-b2b3-e8d31a870054",
   "metadata": {},
   "outputs": [],
   "source": []
  },
  {
   "cell_type": "code",
   "execution_count": null,
   "id": "b81ee509-89a1-406b-bd4e-98d09acafa31",
   "metadata": {},
   "outputs": [],
   "source": []
  },
  {
   "cell_type": "code",
   "execution_count": 26,
   "id": "a692dd6b-eeaa-42a0-b0d4-bcd12ea01fd2",
   "metadata": {},
   "outputs": [],
   "source": [
    "from sklearn.model_selection import train_test_split\n",
    "from sklearn.ensemble import RandomForestClassifier\n",
    "from sklearn.metrics import accuracy_score, confusion_matrix, classification_report\n",
    "\n",
    "# Split data into features (X) and target (y)\n",
    "X = customer_data[['Unique_Invoice', 'Total_Quantity', 'Total_Revenue', 'Recency', 'Avg_Order_Value']]\n",
    "y = customer_data['Target']\n",
    "\n",
    "# Train-test split\n",
    "X_train, X_test, y_train, y_test = train_test_split(X, y, test_size=0.2, random_state=42)\n",
    "\n",
    "# Train a Random Forest model\n",
    "model = RandomForestClassifier(n_estimators=100, random_state=42)\n",
    "model.fit(X_train, y_train)\n",
    "\n",
    "# Predict on test data\n",
    "y_pred = model.predict(X_test)\n"
   ]
  },
  {
   "cell_type": "code",
   "execution_count": 27,
   "id": "98efdf9e-3244-47ea-bb6d-103378b17f13",
   "metadata": {},
   "outputs": [
    {
     "name": "stdout",
     "output_type": "stream",
     "text": [
      "[[341   0]\n",
      " [  0 429]]\n"
     ]
    }
   ],
   "source": [
    "cm = confusion_matrix(y_test, y_pred)\n",
    "print(cm)\n"
   ]
  },
  {
   "cell_type": "code",
   "execution_count": 28,
   "id": "4973b0d4-ed70-4a45-8782-33202dc43db3",
   "metadata": {},
   "outputs": [
    {
     "name": "stdout",
     "output_type": "stream",
     "text": [
      "              precision    recall  f1-score   support\n",
      "\n",
      "           0       1.00      1.00      1.00       341\n",
      "           1       1.00      1.00      1.00       429\n",
      "\n",
      "    accuracy                           1.00       770\n",
      "   macro avg       1.00      1.00      1.00       770\n",
      "weighted avg       1.00      1.00      1.00       770\n",
      "\n"
     ]
    }
   ],
   "source": [
    "print(classification_report(y_test, y_pred))\n"
   ]
  },
  {
   "cell_type": "code",
   "execution_count": 29,
   "id": "502b76ea-b8e7-4edb-b02c-1e9a68cb793b",
   "metadata": {},
   "outputs": [
    {
     "name": "stdout",
     "output_type": "stream",
     "text": [
      "Unique_Invoice: 0.06009626687285456\n",
      "Total_Quantity: 0.032475564543536985\n",
      "Total_Revenue: 0.01950699240227351\n",
      "Recency: 0.882190967454011\n",
      "Avg_Order_Value: 0.005730208727323961\n"
     ]
    }
   ],
   "source": [
    "feature_importances = model.feature_importances_\n",
    "for feature, importance in zip(X.columns, feature_importances):\n",
    "    print(f'{feature}: {importance}')\n",
    "    "
   ]
  },
  {
   "cell_type": "code",
   "execution_count": 30,
   "id": "6c155069-f335-415b-9b15-add4dd3ae069",
   "metadata": {},
   "outputs": [
    {
     "name": "stdout",
     "output_type": "stream",
     "text": [
      "<class 'pandas.core.frame.DataFrame'>\n",
      "Index: 467470 entries, 0 to 471668\n",
      "Data columns (total 16 columns):\n",
      " #   Column           Non-Null Count   Dtype         \n",
      "---  ------           --------------   -----         \n",
      " 0   InvoiceNo        467470 non-null  int64         \n",
      " 1   StockCode        467470 non-null  object        \n",
      " 2   Description      467470 non-null  object        \n",
      " 3   Quantity         467470 non-null  int64         \n",
      " 4   InvoiceDate      467470 non-null  datetime64[ns]\n",
      " 5   UnitPrice        467470 non-null  float64       \n",
      " 6   CustomerID       467470 non-null  int64         \n",
      " 7   Country          467470 non-null  object        \n",
      " 8   Quantity_log     467470 non-null  float64       \n",
      " 9   UnitPrice_log    467470 non-null  float64       \n",
      " 10  Revenue          467470 non-null  int64         \n",
      " 11  Revenue_log      467470 non-null  float64       \n",
      " 12  Year             467470 non-null  int64         \n",
      " 13  Month            467470 non-null  int64         \n",
      " 14  Day              467470 non-null  int64         \n",
      " 15  Day_of_Week_Num  467470 non-null  int32         \n",
      "dtypes: datetime64[ns](1), float64(4), int32(1), int64(7), object(3)\n",
      "memory usage: 58.8+ MB\n"
     ]
    }
   ],
   "source": [
    "raw_df.info()"
   ]
  },
  {
   "cell_type": "code",
   "execution_count": 31,
   "id": "190d9835-7c48-4336-ac20-b4a3602945ee",
   "metadata": {},
   "outputs": [
    {
     "data": {
      "text/html": [
       "<div>\n",
       "<style scoped>\n",
       "    .dataframe tbody tr th:only-of-type {\n",
       "        vertical-align: middle;\n",
       "    }\n",
       "\n",
       "    .dataframe tbody tr th {\n",
       "        vertical-align: top;\n",
       "    }\n",
       "\n",
       "    .dataframe thead th {\n",
       "        text-align: right;\n",
       "    }\n",
       "</style>\n",
       "<table border=\"1\" class=\"dataframe\">\n",
       "  <thead>\n",
       "    <tr style=\"text-align: right;\">\n",
       "      <th></th>\n",
       "      <th>CustomerID</th>\n",
       "      <th>Unique_Invoice</th>\n",
       "      <th>Total_Quantity</th>\n",
       "      <th>Total_Revenue</th>\n",
       "      <th>First_Purchase</th>\n",
       "      <th>Last_Purchase</th>\n",
       "      <th>Recency</th>\n",
       "      <th>Avg_Order_Value</th>\n",
       "      <th>Target</th>\n",
       "    </tr>\n",
       "  </thead>\n",
       "  <tbody>\n",
       "    <tr>\n",
       "      <th>0</th>\n",
       "      <td>12747</td>\n",
       "      <td>11</td>\n",
       "      <td>1059</td>\n",
       "      <td>2773</td>\n",
       "      <td>2010-12-05</td>\n",
       "      <td>2011-12-07</td>\n",
       "      <td>4652</td>\n",
       "      <td>252.090909</td>\n",
       "      <td>1</td>\n",
       "    </tr>\n",
       "    <tr>\n",
       "      <th>1</th>\n",
       "      <td>12748</td>\n",
       "      <td>218</td>\n",
       "      <td>23636</td>\n",
       "      <td>34134</td>\n",
       "      <td>2010-12-01</td>\n",
       "      <td>2011-12-09</td>\n",
       "      <td>4650</td>\n",
       "      <td>156.577982</td>\n",
       "      <td>1</td>\n",
       "    </tr>\n",
       "    <tr>\n",
       "      <th>2</th>\n",
       "      <td>12749</td>\n",
       "      <td>6</td>\n",
       "      <td>1800</td>\n",
       "      <td>5315</td>\n",
       "      <td>2011-05-10</td>\n",
       "      <td>2011-12-06</td>\n",
       "      <td>4653</td>\n",
       "      <td>885.833333</td>\n",
       "      <td>1</td>\n",
       "    </tr>\n",
       "    <tr>\n",
       "      <th>3</th>\n",
       "      <td>12820</td>\n",
       "      <td>4</td>\n",
       "      <td>722</td>\n",
       "      <td>916</td>\n",
       "      <td>2011-01-17</td>\n",
       "      <td>2011-12-06</td>\n",
       "      <td>4653</td>\n",
       "      <td>229.000000</td>\n",
       "      <td>1</td>\n",
       "    </tr>\n",
       "    <tr>\n",
       "      <th>4</th>\n",
       "      <td>12821</td>\n",
       "      <td>1</td>\n",
       "      <td>70</td>\n",
       "      <td>90</td>\n",
       "      <td>2011-05-09</td>\n",
       "      <td>2011-05-09</td>\n",
       "      <td>4864</td>\n",
       "      <td>90.000000</td>\n",
       "      <td>0</td>\n",
       "    </tr>\n",
       "    <tr>\n",
       "      <th>...</th>\n",
       "      <td>...</td>\n",
       "      <td>...</td>\n",
       "      <td>...</td>\n",
       "      <td>...</td>\n",
       "      <td>...</td>\n",
       "      <td>...</td>\n",
       "      <td>...</td>\n",
       "      <td>...</td>\n",
       "      <td>...</td>\n",
       "    </tr>\n",
       "    <tr>\n",
       "      <th>3842</th>\n",
       "      <td>18280</td>\n",
       "      <td>6</td>\n",
       "      <td>1264</td>\n",
       "      <td>5257</td>\n",
       "      <td>2011-03-07</td>\n",
       "      <td>2011-03-07</td>\n",
       "      <td>4927</td>\n",
       "      <td>876.166667</td>\n",
       "      <td>0</td>\n",
       "    </tr>\n",
       "    <tr>\n",
       "      <th>3843</th>\n",
       "      <td>18281</td>\n",
       "      <td>1</td>\n",
       "      <td>52</td>\n",
       "      <td>46</td>\n",
       "      <td>2011-06-12</td>\n",
       "      <td>2011-06-12</td>\n",
       "      <td>4830</td>\n",
       "      <td>46.000000</td>\n",
       "      <td>0</td>\n",
       "    </tr>\n",
       "    <tr>\n",
       "      <th>3844</th>\n",
       "      <td>18282</td>\n",
       "      <td>2</td>\n",
       "      <td>103</td>\n",
       "      <td>171</td>\n",
       "      <td>2011-08-05</td>\n",
       "      <td>2011-12-02</td>\n",
       "      <td>4657</td>\n",
       "      <td>85.500000</td>\n",
       "      <td>1</td>\n",
       "    </tr>\n",
       "    <tr>\n",
       "      <th>3845</th>\n",
       "      <td>18283</td>\n",
       "      <td>17</td>\n",
       "      <td>2132</td>\n",
       "      <td>3172</td>\n",
       "      <td>2011-01-06</td>\n",
       "      <td>2011-12-06</td>\n",
       "      <td>4653</td>\n",
       "      <td>186.588235</td>\n",
       "      <td>1</td>\n",
       "    </tr>\n",
       "    <tr>\n",
       "      <th>3846</th>\n",
       "      <td>18287</td>\n",
       "      <td>3</td>\n",
       "      <td>1586</td>\n",
       "      <td>1815</td>\n",
       "      <td>2011-05-22</td>\n",
       "      <td>2011-10-28</td>\n",
       "      <td>4692</td>\n",
       "      <td>605.000000</td>\n",
       "      <td>1</td>\n",
       "    </tr>\n",
       "  </tbody>\n",
       "</table>\n",
       "<p>3847 rows × 9 columns</p>\n",
       "</div>"
      ],
      "text/plain": [
       "      CustomerID  Unique_Invoice  Total_Quantity  Total_Revenue  \\\n",
       "0          12747              11            1059           2773   \n",
       "1          12748             218           23636          34134   \n",
       "2          12749               6            1800           5315   \n",
       "3          12820               4             722            916   \n",
       "4          12821               1              70             90   \n",
       "...          ...             ...             ...            ...   \n",
       "3842       18280               6            1264           5257   \n",
       "3843       18281               1              52             46   \n",
       "3844       18282               2             103            171   \n",
       "3845       18283              17            2132           3172   \n",
       "3846       18287               3            1586           1815   \n",
       "\n",
       "     First_Purchase Last_Purchase  Recency  Avg_Order_Value  Target  \n",
       "0        2010-12-05    2011-12-07     4652       252.090909       1  \n",
       "1        2010-12-01    2011-12-09     4650       156.577982       1  \n",
       "2        2011-05-10    2011-12-06     4653       885.833333       1  \n",
       "3        2011-01-17    2011-12-06     4653       229.000000       1  \n",
       "4        2011-05-09    2011-05-09     4864        90.000000       0  \n",
       "...             ...           ...      ...              ...     ...  \n",
       "3842     2011-03-07    2011-03-07     4927       876.166667       0  \n",
       "3843     2011-06-12    2011-06-12     4830        46.000000       0  \n",
       "3844     2011-08-05    2011-12-02     4657        85.500000       1  \n",
       "3845     2011-01-06    2011-12-06     4653       186.588235       1  \n",
       "3846     2011-05-22    2011-10-28     4692       605.000000       1  \n",
       "\n",
       "[3847 rows x 9 columns]"
      ]
     },
     "execution_count": 31,
     "metadata": {},
     "output_type": "execute_result"
    }
   ],
   "source": [
    "customer_data"
   ]
  },
  {
   "cell_type": "code",
   "execution_count": 32,
   "id": "a0c3fd6a-f0e6-45b6-ba5a-50e1d3699f4f",
   "metadata": {
    "scrolled": true
   },
   "outputs": [
    {
     "data": {
      "text/plain": [
       "Index(['InvoiceNo', 'StockCode', 'Description', 'Quantity', 'InvoiceDate',\n",
       "       'UnitPrice', 'CustomerID', 'Country', 'Quantity_log', 'UnitPrice_log',\n",
       "       'Revenue', 'Revenue_log', 'Year', 'Month', 'Day', 'Day_of_Week_Num'],\n",
       "      dtype='object')"
      ]
     },
     "execution_count": 32,
     "metadata": {},
     "output_type": "execute_result"
    }
   ],
   "source": [
    "raw_df.columns"
   ]
  },
  {
   "cell_type": "code",
   "execution_count": 33,
   "id": "eb600217-f9a6-409f-a9e7-8c99469891a9",
   "metadata": {},
   "outputs": [
    {
     "data": {
      "text/plain": [
       "<bound method Series.sort_index of StockCode\n",
       "85123A    2063\n",
       "85099B    1764\n",
       "47566     1454\n",
       "20725     1358\n",
       "84879     1338\n",
       "          ... \n",
       "21686        1\n",
       "90021        1\n",
       "84856S       1\n",
       "37461        1\n",
       "72783        1\n",
       "Name: count, Length: 3862, dtype: int64>"
      ]
     },
     "execution_count": 33,
     "metadata": {},
     "output_type": "execute_result"
    }
   ],
   "source": [
    "raw_df[\"StockCode\"].value_counts().sort_index"
   ]
  },
  {
   "cell_type": "code",
   "execution_count": null,
   "id": "8a24ea14-5a5d-4f51-970b-8521bfc7e4e6",
   "metadata": {},
   "outputs": [],
   "source": []
  },
  {
   "cell_type": "code",
   "execution_count": 34,
   "id": "9dd6c682-bf93-424a-b032-ba0672176924",
   "metadata": {},
   "outputs": [
    {
     "data": {
      "text/html": [
       "<div>\n",
       "<style scoped>\n",
       "    .dataframe tbody tr th:only-of-type {\n",
       "        vertical-align: middle;\n",
       "    }\n",
       "\n",
       "    .dataframe tbody tr th {\n",
       "        vertical-align: top;\n",
       "    }\n",
       "\n",
       "    .dataframe thead th {\n",
       "        text-align: right;\n",
       "    }\n",
       "</style>\n",
       "<table border=\"1\" class=\"dataframe\">\n",
       "  <thead>\n",
       "    <tr style=\"text-align: right;\">\n",
       "      <th></th>\n",
       "      <th>UnitPrice_log</th>\n",
       "      <th>Year</th>\n",
       "      <th>Month</th>\n",
       "      <th>Day</th>\n",
       "      <th>Day_of_Week_Num</th>\n",
       "    </tr>\n",
       "  </thead>\n",
       "  <tbody>\n",
       "    <tr>\n",
       "      <th>0</th>\n",
       "      <td>1.266948</td>\n",
       "      <td>2010</td>\n",
       "      <td>12</td>\n",
       "      <td>1</td>\n",
       "      <td>2</td>\n",
       "    </tr>\n",
       "    <tr>\n",
       "      <th>1</th>\n",
       "      <td>1.479329</td>\n",
       "      <td>2010</td>\n",
       "      <td>12</td>\n",
       "      <td>1</td>\n",
       "      <td>2</td>\n",
       "    </tr>\n",
       "    <tr>\n",
       "      <th>2</th>\n",
       "      <td>1.321756</td>\n",
       "      <td>2010</td>\n",
       "      <td>12</td>\n",
       "      <td>1</td>\n",
       "      <td>2</td>\n",
       "    </tr>\n",
       "    <tr>\n",
       "      <th>3</th>\n",
       "      <td>1.479329</td>\n",
       "      <td>2010</td>\n",
       "      <td>12</td>\n",
       "      <td>1</td>\n",
       "      <td>2</td>\n",
       "    </tr>\n",
       "    <tr>\n",
       "      <th>4</th>\n",
       "      <td>1.479329</td>\n",
       "      <td>2010</td>\n",
       "      <td>12</td>\n",
       "      <td>1</td>\n",
       "      <td>2</td>\n",
       "    </tr>\n",
       "    <tr>\n",
       "      <th>...</th>\n",
       "      <td>...</td>\n",
       "      <td>...</td>\n",
       "      <td>...</td>\n",
       "      <td>...</td>\n",
       "      <td>...</td>\n",
       "    </tr>\n",
       "    <tr>\n",
       "      <th>471663</th>\n",
       "      <td>0.667829</td>\n",
       "      <td>2011</td>\n",
       "      <td>12</td>\n",
       "      <td>9</td>\n",
       "      <td>4</td>\n",
       "    </tr>\n",
       "    <tr>\n",
       "      <th>471664</th>\n",
       "      <td>1.081805</td>\n",
       "      <td>2011</td>\n",
       "      <td>12</td>\n",
       "      <td>9</td>\n",
       "      <td>4</td>\n",
       "    </tr>\n",
       "    <tr>\n",
       "      <th>471665</th>\n",
       "      <td>1.373716</td>\n",
       "      <td>2011</td>\n",
       "      <td>12</td>\n",
       "      <td>9</td>\n",
       "      <td>4</td>\n",
       "    </tr>\n",
       "    <tr>\n",
       "      <th>471666</th>\n",
       "      <td>0.810930</td>\n",
       "      <td>2011</td>\n",
       "      <td>12</td>\n",
       "      <td>9</td>\n",
       "      <td>4</td>\n",
       "    </tr>\n",
       "    <tr>\n",
       "      <th>471668</th>\n",
       "      <td>2.089392</td>\n",
       "      <td>2011</td>\n",
       "      <td>12</td>\n",
       "      <td>9</td>\n",
       "      <td>4</td>\n",
       "    </tr>\n",
       "  </tbody>\n",
       "</table>\n",
       "<p>467470 rows × 5 columns</p>\n",
       "</div>"
      ],
      "text/plain": [
       "        UnitPrice_log  Year  Month  Day  Day_of_Week_Num\n",
       "0            1.266948  2010     12    1                2\n",
       "1            1.479329  2010     12    1                2\n",
       "2            1.321756  2010     12    1                2\n",
       "3            1.479329  2010     12    1                2\n",
       "4            1.479329  2010     12    1                2\n",
       "...               ...   ...    ...  ...              ...\n",
       "471663       0.667829  2011     12    9                4\n",
       "471664       1.081805  2011     12    9                4\n",
       "471665       1.373716  2011     12    9                4\n",
       "471666       0.810930  2011     12    9                4\n",
       "471668       2.089392  2011     12    9                4\n",
       "\n",
       "[467470 rows x 5 columns]"
      ]
     },
     "execution_count": 34,
     "metadata": {},
     "output_type": "execute_result"
    }
   ],
   "source": [
    "raw_df[['UnitPrice_log', 'Year', 'Month', 'Day', 'Day_of_Week_Num']]"
   ]
  },
  {
   "cell_type": "code",
   "execution_count": null,
   "id": "b131a5c5-b262-441b-875c-16715f733eed",
   "metadata": {},
   "outputs": [],
   "source": []
  },
  {
   "cell_type": "code",
   "execution_count": 2,
   "id": "c5e11cb7-c7cc-4b44-904d-6fd466f843a8",
   "metadata": {},
   "outputs": [
    {
     "ename": "NameError",
     "evalue": "name 'raw_df' is not defined",
     "output_type": "error",
     "traceback": [
      "\u001b[1;31m---------------------------------------------------------------------------\u001b[0m",
      "\u001b[1;31mNameError\u001b[0m                                 Traceback (most recent call last)",
      "Cell \u001b[1;32mIn[2], line 1\u001b[0m\n\u001b[1;32m----> 1\u001b[0m sales_forcasting \u001b[38;5;241m=\u001b[39m \u001b[43mraw_df\u001b[49m\u001b[38;5;241m.\u001b[39mgroupby(\u001b[38;5;124m\"\u001b[39m\u001b[38;5;124mInvoiceDate\u001b[39m\u001b[38;5;124m\"\u001b[39m)\u001b[38;5;241m.\u001b[39magg({\n\u001b[0;32m      2\u001b[0m     \u001b[38;5;124m\"\u001b[39m\u001b[38;5;124mQuantity_log\u001b[39m\u001b[38;5;124m\"\u001b[39m: \u001b[38;5;124m\"\u001b[39m\u001b[38;5;124msum\u001b[39m\u001b[38;5;124m\"\u001b[39m,\n\u001b[0;32m      3\u001b[0m     \u001b[38;5;124m\"\u001b[39m\u001b[38;5;124mUnitPrice_log\u001b[39m\u001b[38;5;124m\"\u001b[39m: \u001b[38;5;124m\"\u001b[39m\u001b[38;5;124msum\u001b[39m\u001b[38;5;124m\"\u001b[39m,\n\u001b[0;32m      4\u001b[0m     })\u001b[38;5;241m.\u001b[39mreset_index()\n",
      "\u001b[1;31mNameError\u001b[0m: name 'raw_df' is not defined"
     ]
    }
   ],
   "source": [
    "sales_forcasting = raw_df.groupby(\"InvoiceDate\").agg({\n",
    "    \"Quantity_log\": \"sum\",\n",
    "    \"UnitPrice_log\": \"sum\",\n",
    "    }).reset_index()"
   ]
  },
  {
   "cell_type": "code",
   "execution_count": 3,
   "id": "6a89df08-858d-43ef-a6f6-87b07d841283",
   "metadata": {},
   "outputs": [
    {
     "ename": "NameError",
     "evalue": "name 'sales_forcasting' is not defined",
     "output_type": "error",
     "traceback": [
      "\u001b[1;31m---------------------------------------------------------------------------\u001b[0m",
      "\u001b[1;31mNameError\u001b[0m                                 Traceback (most recent call last)",
      "Cell \u001b[1;32mIn[3], line 1\u001b[0m\n\u001b[1;32m----> 1\u001b[0m sales_forcasting[\u001b[38;5;124m\"\u001b[39m\u001b[38;5;124mRevenue_log\u001b[39m\u001b[38;5;124m\"\u001b[39m] \u001b[38;5;241m=\u001b[39m \u001b[43msales_forcasting\u001b[49m[\u001b[38;5;124m\"\u001b[39m\u001b[38;5;124mQuantity_log\u001b[39m\u001b[38;5;124m\"\u001b[39m] \u001b[38;5;241m*\u001b[39m sales_forcasting[\u001b[38;5;124m\"\u001b[39m\u001b[38;5;124mUnitPrice_log\u001b[39m\u001b[38;5;124m\"\u001b[39m]\n\u001b[0;32m      2\u001b[0m sales_forcasting[\u001b[38;5;124m\"\u001b[39m\u001b[38;5;124mdate\u001b[39m\u001b[38;5;124m\"\u001b[39m] \u001b[38;5;241m=\u001b[39m sales_forcasting[\u001b[38;5;124m\"\u001b[39m\u001b[38;5;124mInvoiceDate\u001b[39m\u001b[38;5;124m\"\u001b[39m]\u001b[38;5;241m.\u001b[39mdt\u001b[38;5;241m.\u001b[39mday\n\u001b[0;32m      3\u001b[0m sales_forcasting[\u001b[38;5;124m\"\u001b[39m\u001b[38;5;124mmonth\u001b[39m\u001b[38;5;124m\"\u001b[39m] \u001b[38;5;241m=\u001b[39m sales_forcasting[\u001b[38;5;124m\"\u001b[39m\u001b[38;5;124mInvoiceDate\u001b[39m\u001b[38;5;124m\"\u001b[39m]\u001b[38;5;241m.\u001b[39mdt\u001b[38;5;241m.\u001b[39mmonth\n",
      "\u001b[1;31mNameError\u001b[0m: name 'sales_forcasting' is not defined"
     ]
    }
   ],
   "source": [
    "sales_forcasting[\"Revenue_log\"] = sales_forcasting[\"Quantity_log\"] * sales_forcasting[\"UnitPrice_log\"]\n",
    "sales_forcasting[\"date\"] = sales_forcasting[\"InvoiceDate\"].dt.day\n",
    "sales_forcasting[\"month\"] = sales_forcasting[\"InvoiceDate\"].dt.month\n",
    "sales_forcasting[\"year\"] = sales_forcasting[\"InvoiceDate\"].dt.year\n",
    "sales_forcasting[\"day_of_week\"] = sales_forcasting[\"InvoiceDate\"].dt.dayofweek\n",
    "sales_forcasting['Revenue_lag1'] = sales_forcasting['Revenue_log'].shift(1)\n",
    "sales_forcasting['Revenue_rolling_mean_7'] = sales_forcasting['Revenue_log'].rolling(window=7).mean()\n",
    "sales_forcasting['Revenue_log'] = sales_forcasting['Revenue_log'].shift(-1)"
   ]
  },
  {
   "cell_type": "code",
   "execution_count": 4,
   "id": "e74cc346-4e30-40ac-ac5b-60fa7e851659",
   "metadata": {},
   "outputs": [
    {
     "ename": "NameError",
     "evalue": "name 'sales_forcasting' is not defined",
     "output_type": "error",
     "traceback": [
      "\u001b[1;31m---------------------------------------------------------------------------\u001b[0m",
      "\u001b[1;31mNameError\u001b[0m                                 Traceback (most recent call last)",
      "Cell \u001b[1;32mIn[4], line 1\u001b[0m\n\u001b[1;32m----> 1\u001b[0m \u001b[43msales_forcasting\u001b[49m\u001b[38;5;241m.\u001b[39mhead()\n",
      "\u001b[1;31mNameError\u001b[0m: name 'sales_forcasting' is not defined"
     ]
    }
   ],
   "source": [
    "sales_forcasting.head()"
   ]
  },
  {
   "cell_type": "code",
   "execution_count": 38,
   "id": "5b663983-c5b2-414f-9cd5-39029199f9cc",
   "metadata": {},
   "outputs": [],
   "source": [
    "sales_forcasting.dropna(inplace=True)"
   ]
  },
  {
   "cell_type": "code",
   "execution_count": 1,
   "id": "0f0bfd49-a466-4e87-a808-f94670a2e9e9",
   "metadata": {},
   "outputs": [
    {
     "ename": "NameError",
     "evalue": "name 'sales_forcasting' is not defined",
     "output_type": "error",
     "traceback": [
      "\u001b[1;31m---------------------------------------------------------------------------\u001b[0m",
      "\u001b[1;31mNameError\u001b[0m                                 Traceback (most recent call last)",
      "Cell \u001b[1;32mIn[1], line 1\u001b[0m\n\u001b[1;32m----> 1\u001b[0m \u001b[43msales_forcasting\u001b[49m\u001b[38;5;241m.\u001b[39mtail()\n",
      "\u001b[1;31mNameError\u001b[0m: name 'sales_forcasting' is not defined"
     ]
    }
   ],
   "source": [
    "sales_forcasting.tail()"
   ]
  },
  {
   "cell_type": "code",
   "execution_count": 5,
   "id": "6c2c301f-4bc2-45ec-aadd-98f0ce55cb83",
   "metadata": {},
   "outputs": [
    {
     "ename": "NameError",
     "evalue": "name 'sns' is not defined",
     "output_type": "error",
     "traceback": [
      "\u001b[1;31m---------------------------------------------------------------------------\u001b[0m",
      "\u001b[1;31mNameError\u001b[0m                                 Traceback (most recent call last)",
      "Cell \u001b[1;32mIn[5], line 1\u001b[0m\n\u001b[1;32m----> 1\u001b[0m \u001b[43msns\u001b[49m\u001b[38;5;241m.\u001b[39mheatmap(sales_forcasting\u001b[38;5;241m.\u001b[39mcorr())\n",
      "\u001b[1;31mNameError\u001b[0m: name 'sns' is not defined"
     ]
    }
   ],
   "source": []
  },
  {
   "cell_type": "code",
   "execution_count": 41,
   "id": "55a36c51-fa7a-4074-bc48-12386ac2ee0a",
   "metadata": {},
   "outputs": [
    {
     "name": "stdout",
     "output_type": "stream",
     "text": [
      "RMSE: 9771585.648921695\n"
     ]
    }
   ],
   "source": [
    "    from sklearn.model_selection import train_test_split\n",
    "    from sklearn.ensemble import RandomForestRegressor\n",
    "    from sklearn.metrics import mean_squared_error\n",
    "    from sklearn.preprocessing import StandardScaler\n",
    "    \n",
    "    # Features and target variable\n",
    "    X = sales_forcasting[['day_of_week','year','Revenue_rolling_mean_7']]\n",
    "    y = sales_forcasting['Revenue_log']\n",
    "    scaler = StandardScaler()\n",
    "    \n",
    "    # Fit the scaler on the training data and transform the features\n",
    "    X_scaled = scaler.fit_transform(X)\n",
    "    \n",
    "    \n",
    "    X_train, X_test, y_train, y_test = train_test_split(X_scaled, y, test_size=0.2, shuffle=False)\n",
    "    model = RandomForestRegressor(n_estimators=100)\n",
    "    model.fit(X_train, y_train)\n",
    "    \n",
    "    predictions = model.predict(X_test)\n",
    "    rmse = np.sqrt(mean_squared_error(y_test, predictions))\n",
    "    print(f\"RMSE: {rmse}\")"
   ]
  },
  {
   "cell_type": "code",
   "execution_count": 42,
   "id": "2df6411f-895e-46f9-965f-da55f276e605",
   "metadata": {},
   "outputs": [
    {
     "data": {
      "image/png": "[encoded data removed]",
      "text/plain": [
       "<Figure size 640x480 with 1 Axes>"
      ]
     },
     "metadata": {},
     "output_type": "display_data"
    }
   ],
   "source": [
    "plt.plot(y_test.index, y_test, label='Actual Sales')\n",
    "plt.plot(y_test.index, predictions, label='Predicted Sales')\n",
    "plt.legend()\n",
    "plt.show()\n"
   ]
  },
  {
   "cell_type": "code",
   "execution_count": 43,
   "id": "9ff424be-38ef-44e0-ac38-5249e65ca075",
   "metadata": {},
   "outputs": [
    {
     "name": "stdout",
     "output_type": "stream",
     "text": [
      "day_of_week: 0.19493808121335685\n",
      "year: 0.0221446250776826\n",
      "Revenue_rolling_mean_7: 0.7829172937089605\n"
     ]
    }
   ],
   "source": [
    "feature_importances = model.feature_importances_\n",
    "for feature, importance in zip(X.columns, feature_importances):\n",
    "    print(f'{feature}: {importance}')\n",
    "    "
   ]
  },
  {
   "cell_type": "code",
   "execution_count": 6,
   "id": "6c4ae9c9-983e-44a8-8233-42c678d3241d",
   "metadata": {},
   "outputs": [
    {
     "ename": "NameError",
     "evalue": "name 'sales_forcasting' is not defined",
     "output_type": "error",
     "traceback": [
      "\u001b[1;31m---------------------------------------------------------------------------\u001b[0m",
      "\u001b[1;31mNameError\u001b[0m                                 Traceback (most recent call last)",
      "Cell \u001b[1;32mIn[6], line 8\u001b[0m\n\u001b[0;32m      5\u001b[0m \u001b[38;5;28;01mfrom\u001b[39;00m \u001b[38;5;21;01msklearn\u001b[39;00m\u001b[38;5;21;01m.\u001b[39;00m\u001b[38;5;21;01mpreprocessing\u001b[39;00m \u001b[38;5;28;01mimport\u001b[39;00m StandardScaler\n\u001b[0;32m      7\u001b[0m \u001b[38;5;66;03m# Features and target variable\u001b[39;00m\n\u001b[1;32m----> 8\u001b[0m X \u001b[38;5;241m=\u001b[39m \u001b[43msales_forcasting\u001b[49m[[\u001b[38;5;124m'\u001b[39m\u001b[38;5;124mday_of_week\u001b[39m\u001b[38;5;124m'\u001b[39m,\u001b[38;5;124m'\u001b[39m\u001b[38;5;124myear\u001b[39m\u001b[38;5;124m'\u001b[39m,\u001b[38;5;124m'\u001b[39m\u001b[38;5;124mRevenue_rolling_mean_7\u001b[39m\u001b[38;5;124m'\u001b[39m]]\n\u001b[0;32m      9\u001b[0m y \u001b[38;5;241m=\u001b[39m sales_forcasting[\u001b[38;5;124m'\u001b[39m\u001b[38;5;124mRevenue_log\u001b[39m\u001b[38;5;124m'\u001b[39m]\n\u001b[0;32m     10\u001b[0m scaler \u001b[38;5;241m=\u001b[39m StandardScaler()\n",
      "\u001b[1;31mNameError\u001b[0m: name 'sales_forcasting' is not defined"
     ]
    }
   ],
   "source": [
    "from sklearn.model_selection import train_test_split\n",
    "from sklearn.ensemble import GradientBoostingRegressor\n",
    "from sklearn.metrics import mean_squared_error\n",
    "import numpy as np\n",
    "from sklearn.preprocessing import StandardScaler\n",
    "\n",
    "# Features and target variable\n",
    "X = sales_forcasting[['day_of_week','year','Revenue_rolling_mean_7']]\n",
    "y = sales_forcasting['Revenue_log']\n",
    "scaler = StandardScaler()\n",
    "\n",
    "# Fit the scaler on the training data and transform the features\n",
    "X_scaled = scaler.fit_transform(X)\n",
    "\n",
    "# Split the data into training and testing sets\n",
    "X_train, X_test, y_train, y_test = train_test_split(X_scaled, y, test_size=0.2, shuffle=False)\n",
    "\n",
    "# Initialize and train the Gradient Boosting model\n",
    "gb_model = GradientBoostingRegressor(n_estimators=100, learning_rate=0.1, max_depth=3, random_state=42)\n",
    "gb_model.fit(X_train, y_train)\n",
    "\n",
    "# Make predictions on the test set\n",
    "gb_predictions = gb_model.predict(X_test)\n",
    "\n",
    "# Calculate RMSE\n",
    "gb_rmse = np.sqrt(mean_squared_error(y_test, gb_predictions))\n",
    "print(f\"Gradient Boosting RMSE: {gb_rmse}\")\n"
   ]
  },
  {
   "cell_type": "code",
   "execution_count": 45,
   "id": "2026dc4a-9d48-4c64-ad8e-2c8d44419ee8",
   "metadata": {},
   "outputs": [
    {
     "ename": "ModuleNotFoundError",
     "evalue": "No module named 'xgboost'",
     "output_type": "error",
     "traceback": [
      "\u001b[1;31m---------------------------------------------------------------------------\u001b[0m",
      "\u001b[1;31mModuleNotFoundError\u001b[0m                       Traceback (most recent call last)",
      "Cell \u001b[1;32mIn[45], line 1\u001b[0m\n\u001b[1;32m----> 1\u001b[0m \u001b[38;5;28;01mimport\u001b[39;00m \u001b[38;5;21;01mxgboost\u001b[39;00m \u001b[38;5;28;01mas\u001b[39;00m \u001b[38;5;21;01mxgb\u001b[39;00m\n\u001b[0;32m      2\u001b[0m \u001b[38;5;28;01mfrom\u001b[39;00m \u001b[38;5;21;01msklearn\u001b[39;00m\u001b[38;5;21;01m.\u001b[39;00m\u001b[38;5;21;01mmodel_selection\u001b[39;00m \u001b[38;5;28;01mimport\u001b[39;00m train_test_split\n\u001b[0;32m      3\u001b[0m \u001b[38;5;28;01mfrom\u001b[39;00m \u001b[38;5;21;01msklearn\u001b[39;00m\u001b[38;5;21;01m.\u001b[39;00m\u001b[38;5;21;01mmetrics\u001b[39;00m \u001b[38;5;28;01mimport\u001b[39;00m mean_squared_error\n",
      "\u001b[1;31mModuleNotFoundError\u001b[0m: No module named 'xgboost'"
     ]
    }
   ],
   "source": []
  },
  {
   "cell_type": "code",
   "execution_count": null,
   "id": "7b7f6b66-53fe-4211-a189-b14cb297c9a4",
   "metadata": {},
   "outputs": [],
   "source": []
  },
  {
   "cell_type": "code",
   "execution_count": null,
   "id": "0a51c405-3abd-414b-98ff-4a508da40e80",
   "metadata": {},
   "outputs": [],
   "source": []
  }
 ],
 "metadata": {
  "kernelspec": {
   "display_name": "Python 3 (ipykernel)",
   "language": "python",
   "name": "python3"
  },
  "language_info": {
   "codemirror_mode": {
    "name": "ipython",
    "version": 3
   },
   "file_extension": ".py",
   "mimetype": "text/x-python",
   "name": "python",
   "nbconvert_exporter": "python",
   "pygments_lexer": "ipython3",
   "version": "3.11.3"
  }
 },
 "nbformat": 4,
 "nbformat_minor": 5
}
