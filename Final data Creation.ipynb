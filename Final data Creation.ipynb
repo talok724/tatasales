{
 "cells": [
  {
   "cell_type": "code",
   "execution_count": 2,
   "id": "52d36a4d-c665-46ae-afa0-ba7e48f5b971",
   "metadata": {},
   "outputs": [],
   "source": [
    "import pandas as pd  # pandas library for dataframe\n",
    "import numpy as np   # numpy library for number\n",
    "import matplotlib.pyplot as plt\n",
    "%matplotlib inline\n",
    "from sklearn.preprocessing import PowerTransformer\n",
    "import seaborn as sns\n",
    "from sklearn.impute import SimpleImputer\n"
   ]
  },
  {
   "cell_type": "code",
   "execution_count": 3,
   "id": "73b65f36-549f-47f1-9fa6-b97eaa54d867",
   "metadata": {},
   "outputs": [],
   "source": [
    "original_df = pd.read_csv(\"Online Retail Data Set.csv\",encoding=\"latin1\")"
   ]
  },
  {
   "cell_type": "code",
   "execution_count": 4,
   "id": "71364f4a-4173-45f3-8608-f8d559b44c91",
   "metadata": {},
   "outputs": [],
   "source": [
    "raw_df = original_df.copy()"
   ]
  },
  {
   "cell_type": "code",
   "execution_count": 5,
   "id": "a4e917fb-b116-4c9c-88ef-3cd02ebb1795",
   "metadata": {},
   "outputs": [
    {
     "name": "stdout",
     "output_type": "stream",
     "text": [
      "<class 'pandas.core.frame.DataFrame'>\n",
      "RangeIndex: 541909 entries, 0 to 541908\n",
      "Data columns (total 8 columns):\n",
      " #   Column       Non-Null Count   Dtype  \n",
      "---  ------       --------------   -----  \n",
      " 0   InvoiceNo    541909 non-null  object \n",
      " 1   StockCode    541909 non-null  object \n",
      " 2   Description  541692 non-null  object \n",
      " 3   Quantity     541909 non-null  int64  \n",
      " 4   InvoiceDate  541909 non-null  object \n",
      " 5   UnitPrice    541909 non-null  float64\n",
      " 6   CustomerID   415334 non-null  float64\n",
      " 7   Country      541909 non-null  object \n",
      "dtypes: float64(2), int64(1), object(5)\n",
      "memory usage: 33.1+ MB\n"
     ]
    }
   ],
   "source": [
    "raw_df.info()"
   ]
  },
  {
   "cell_type": "code",
   "execution_count": 6,
   "id": "79d2a1f4-1c7e-4f97-8dbc-a3709056ed7f",
   "metadata": {},
   "outputs": [
    {
     "data": {
      "text/plain": [
       "5268"
      ]
     },
     "execution_count": 6,
     "metadata": {},
     "output_type": "execute_result"
    }
   ],
   "source": [
    "raw_df.duplicated().sum()"
   ]
  },
  {
   "cell_type": "code",
   "execution_count": 7,
   "id": "0c666b08-606e-48ec-b342-93a945be61b8",
   "metadata": {},
   "outputs": [
    {
     "data": {
      "text/plain": [
       "(541909, 8)"
      ]
     },
     "execution_count": 7,
     "metadata": {},
     "output_type": "execute_result"
    }
   ],
   "source": [
    "raw_df.shape"
   ]
  },
  {
   "cell_type": "code",
   "execution_count": 20,
   "id": "fe495544-b3d2-402e-8037-fac04bce41ca",
   "metadata": {},
   "outputs": [
    {
     "data": {
      "text/plain": [
       "536641"
      ]
     },
     "execution_count": 20,
     "metadata": {},
     "output_type": "execute_result"
    }
   ],
   "source": [
    "541909-5268"
   ]
  },
  {
   "cell_type": "code",
   "execution_count": 9,
   "id": "abd37c98-d8cf-4e08-ab15-ac77df61efc6",
   "metadata": {},
   "outputs": [
    {
     "data": {
      "text/plain": [
       "0.9721189350979592"
      ]
     },
     "execution_count": 9,
     "metadata": {},
     "output_type": "execute_result"
    }
   ],
   "source": [
    "raw_df.duplicated().sum() / raw_df.shape[0]*100"
   ]
  },
  {
   "cell_type": "code",
   "execution_count": 10,
   "id": "0adb0559-c7cf-4600-8fa8-ba8c5fac976b",
   "metadata": {},
   "outputs": [],
   "source": [
    "raw_df.drop_duplicates(inplace=True)"
   ]
  },
  {
   "cell_type": "code",
   "execution_count": 11,
   "id": "72164310-04ae-45a5-a8e4-30881e5d6489",
   "metadata": {},
   "outputs": [],
   "source": [
    "# Remove rows with missing descriptions\n",
    "raw_df = raw_df[raw_df[\"Description\"] != \"?\"]\n",
    "\n",
    "# Separate 'SAMPLES' records and remove them from the main dataframe\n",
    "samples_df = raw_df[raw_df[\"Description\"] == \"SAMPLES\"]\n",
    "raw_df = raw_df[raw_df[\"Description\"] != \"SAMPLES\"]\n",
    "\n",
    "# Separate 'Manual' adjustments and remove them from the main dataframe\n",
    "Manual_adjustments = raw_df[raw_df[\"Description\"] == \"Manual\"]\n",
    "raw_df = raw_df[raw_df[\"Description\"] != \"Manual\"]\n",
    "\n",
    "# Separate transport-related rows and remove them from the main dataframe\n",
    "Transport = raw_df[raw_df[\"Description\"].isin([\"DOTCOM POSTAGE\", \"POSTAGE\", \"CARRIAGE\", \"Next Day Carriage\"])]\n",
    "raw_df = raw_df[~raw_df[\"Description\"].isin([\"DOTCOM POSTAGE\", \"POSTAGE\", \"CARRIAGE\", \"Next Day Carriage\"])]\n",
    "\n",
    "# Separate bank and adjustment-related charges and remove them from the main dataframe\n",
    "Charges = raw_df[raw_df[\"Description\"].isin([\"Adjust bad debt\", \"Bank Charges\", \"AMAZON FEE\"])]\n",
    "raw_df = raw_df[~raw_df[\"Description\"].isin([\"Adjust bad debt\", \"Bank Charges\", \"AMAZON FEE\"])]\n",
    "\n",
    "# Separate 'CRUK Commission' and remove it from the main dataframe\n",
    "CRUK_Commission = raw_df[raw_df[\"Description\"] == \"CRUK Commission\"]\n",
    "raw_df = raw_df[raw_df[\"Description\"] != \"CRUK Commission\"]\n",
    "\n",
    "# Separate rows where UnitPrice is 0 and remove them from the main dataframe\n",
    "Unit_price_0 = raw_df[raw_df[\"UnitPrice\"] == 0]\n",
    "raw_df = raw_df[raw_df[\"UnitPrice\"] != 0]\n",
    "\n",
    "# Remove rows with StockCode 'D' and separate 'Discount' rows\n",
    "Discount = raw_df[raw_df[\"StockCode\"] == \"D\"]\n",
    "raw_df = raw_df[raw_df[\"StockCode\"] != \"D\"]\n",
    "\n",
    "# Remove rows with negative or zero Quantity (returns) and keep the return products separately\n",
    "Return_products = raw_df[raw_df[\"Quantity\"] < 0]\n",
    "raw_df = raw_df[raw_df[\"Quantity\"] > 0]\n"
   ]
  },
  {
   "cell_type": "code",
   "execution_count": 13,
   "id": "9539b13d-2837-44d7-8f65-04eee6fa447f",
   "metadata": {},
   "outputs": [
    {
     "data": {
      "text/plain": [
       "522492"
      ]
     },
     "execution_count": 13,
     "metadata": {},
     "output_type": "execute_result"
    }
   ],
   "source": [
    "raw_df.shape[0]"
   ]
  },
  {
   "cell_type": "code",
   "execution_count": 21,
   "id": "ee63b221-3eaf-4542-a3c2-4c7b3cae020c",
   "metadata": {},
   "outputs": [
    {
     "name": "stdout",
     "output_type": "stream",
     "text": [
      "The % rows which are transfered or removed from the original data: 2.63658572490734\n"
     ]
    }
   ],
   "source": [
    "# Here the noumber of the rows which are transfered to the other data is 14149\n",
    "# And the number of rows which are remaining after dropping the duplicated values are 536641\n",
    "\n",
    "print(f\"The % rows which are transfered or removed from the original data: {14149 * 100 / 536641}\")"
   ]
  },
  {
   "cell_type": "code",
   "execution_count": 8,
   "id": "bd66edec-8f80-45f2-a929-35cc2f26d7ae",
   "metadata": {},
   "outputs": [
    {
     "data": {
      "text/plain": [
       "InvoiceNo           0\n",
       "StockCode           0\n",
       "Description         0\n",
       "Quantity            0\n",
       "InvoiceDate         0\n",
       "UnitPrice           0\n",
       "CustomerID     123214\n",
       "Country             0\n",
       "dtype: int64"
      ]
     },
     "execution_count": 8,
     "metadata": {},
     "output_type": "execute_result"
    }
   ],
   "source": [
    "raw_df.isnull().sum()"
   ]
  },
  {
   "cell_type": "code",
   "execution_count": 23,
   "id": "e89f9671-8d95-4c77-87b4-9f0f7dd1c0a3",
   "metadata": {},
   "outputs": [
    {
     "data": {
      "text/plain": [
       "121826"
      ]
     },
     "execution_count": 23,
     "metadata": {},
     "output_type": "execute_result"
    }
   ],
   "source": [
    "raw_df[raw_df[\"Country\"] == \"United Kingdom\"][\"CustomerID\"].isnull().sum()"
   ]
  },
  {
   "cell_type": "code",
   "execution_count": 24,
   "id": "a2755e8a-88c6-4033-b222-5f40985aa60c",
   "metadata": {},
   "outputs": [
    {
     "data": {
      "text/plain": [
       "23.316337857804523"
      ]
     },
     "execution_count": 24,
     "metadata": {},
     "output_type": "execute_result"
    }
   ],
   "source": [
    "#to check the percentage of the null values in the customer id col\n",
    "((raw_df[raw_df[\"Country\"] == \"United Kingdom\"][\"CustomerID\"].isnull().sum())/raw_df.shape[0]) * 100"
   ]
  },
  {
   "cell_type": "code",
   "execution_count": 25,
   "id": "fbac3cb4-c474-4cf3-9de7-d04764b4b086",
   "metadata": {},
   "outputs": [
    {
     "data": {
      "text/plain": [
       "InvoiceNo           0\n",
       "StockCode           0\n",
       "Description         0\n",
       "Quantity            0\n",
       "InvoiceDate         0\n",
       "UnitPrice           0\n",
       "CustomerID     123214\n",
       "Country             0\n",
       "dtype: int64"
      ]
     },
     "execution_count": 25,
     "metadata": {},
     "output_type": "execute_result"
    }
   ],
   "source": [
    "raw_df.isnull().sum()"
   ]
  },
  {
   "cell_type": "code",
   "execution_count": null,
   "id": "bdada8dd-90b3-4811-b51d-4f2f7c3b75ed",
   "metadata": {},
   "outputs": [],
   "source": []
  },
  {
   "cell_type": "code",
   "execution_count": 26,
   "id": "60a8e166-c715-49fa-9c9c-6292ea6c2c2e",
   "metadata": {},
   "outputs": [
    {
     "data": {
      "image/png": "[encoded data removed]",
      "text/plain": [
       "<Figure size 1000x500 with 3 Axes>"
      ]
     },
     "metadata": {},
     "output_type": "display_data"
    }
   ],
   "source": [
    "plt.figure(figsize=(10,5))\n",
    "plt.subplot(1,3,1)\n",
    "sns.kdeplot(raw_df[\"CustomerID\"])\n",
    "plt.title(\"Original Customer ID\")\n",
    "\n",
    "plt.subplot(1,3,2)\n",
    "sns.kdeplot(raw_df[\"CustomerID\"].fillna(method = \"bfill\"))\n",
    "plt.title(\"Customer ID with Back Fill\")\n",
    "\n",
    "plt.subplot(1,3,3)\n",
    "sns.kdeplot(raw_df[\"CustomerID\"].fillna(method = \"ffill\"))\n",
    "plt.title(\"Customer ID with Front Fill\")\n",
    "plt.tight_layout()"
   ]
  },
  {
   "cell_type": "code",
   "execution_count": null,
   "id": "4706c243-34e2-4056-9575-bac32b83d06a",
   "metadata": {},
   "outputs": [],
   "source": []
  },
  {
   "cell_type": "code",
   "execution_count": 27,
   "id": "94288905-2dbc-4b00-b25a-3ac10a43685e",
   "metadata": {},
   "outputs": [
    {
     "data": {
      "text/plain": [
       "InvoiceNo      19773\n",
       "StockCode       3912\n",
       "Description     4017\n",
       "Quantity         374\n",
       "InvoiceDate    18332\n",
       "UnitPrice        499\n",
       "CustomerID      4334\n",
       "Country           38\n",
       "dtype: int64"
      ]
     },
     "execution_count": 27,
     "metadata": {},
     "output_type": "execute_result"
    }
   ],
   "source": [
    "raw_df.nunique()"
   ]
  },
  {
   "cell_type": "code",
   "execution_count": 28,
   "id": "8fadfeca-f112-4a80-98f2-8a6a4075c675",
   "metadata": {},
   "outputs": [
    {
     "data": {
      "text/html": [
       "<div>\n",
       "<style scoped>\n",
       "    .dataframe tbody tr th:only-of-type {\n",
       "        vertical-align: middle;\n",
       "    }\n",
       "\n",
       "    .dataframe tbody tr th {\n",
       "        vertical-align: top;\n",
       "    }\n",
       "\n",
       "    .dataframe thead th {\n",
       "        text-align: right;\n",
       "    }\n",
       "</style>\n",
       "<table border=\"1\" class=\"dataframe\">\n",
       "  <thead>\n",
       "    <tr style=\"text-align: right;\">\n",
       "      <th></th>\n",
       "      <th>Quantity</th>\n",
       "      <th>UnitPrice</th>\n",
       "      <th>CustomerID</th>\n",
       "    </tr>\n",
       "  </thead>\n",
       "  <tbody>\n",
       "    <tr>\n",
       "      <th>count</th>\n",
       "      <td>522492.000000</td>\n",
       "      <td>522492.000000</td>\n",
       "      <td>399278.000000</td>\n",
       "    </tr>\n",
       "    <tr>\n",
       "      <th>mean</th>\n",
       "      <td>10.643878</td>\n",
       "      <td>3.273247</td>\n",
       "      <td>15298.418365</td>\n",
       "    </tr>\n",
       "    <tr>\n",
       "      <th>std</th>\n",
       "      <td>156.601288</td>\n",
       "      <td>4.393903</td>\n",
       "      <td>1709.782341</td>\n",
       "    </tr>\n",
       "    <tr>\n",
       "      <th>min</th>\n",
       "      <td>1.000000</td>\n",
       "      <td>0.001000</td>\n",
       "      <td>12346.000000</td>\n",
       "    </tr>\n",
       "    <tr>\n",
       "      <th>25%</th>\n",
       "      <td>1.000000</td>\n",
       "      <td>1.250000</td>\n",
       "      <td>13969.000000</td>\n",
       "    </tr>\n",
       "    <tr>\n",
       "      <th>50%</th>\n",
       "      <td>4.000000</td>\n",
       "      <td>2.080000</td>\n",
       "      <td>15159.000000</td>\n",
       "    </tr>\n",
       "    <tr>\n",
       "      <th>75%</th>\n",
       "      <td>12.000000</td>\n",
       "      <td>4.130000</td>\n",
       "      <td>16807.000000</td>\n",
       "    </tr>\n",
       "    <tr>\n",
       "      <th>max</th>\n",
       "      <td>80995.000000</td>\n",
       "      <td>649.500000</td>\n",
       "      <td>18287.000000</td>\n",
       "    </tr>\n",
       "  </tbody>\n",
       "</table>\n",
       "</div>"
      ],
      "text/plain": [
       "            Quantity      UnitPrice     CustomerID\n",
       "count  522492.000000  522492.000000  399278.000000\n",
       "mean       10.643878       3.273247   15298.418365\n",
       "std       156.601288       4.393903    1709.782341\n",
       "min         1.000000       0.001000   12346.000000\n",
       "25%         1.000000       1.250000   13969.000000\n",
       "50%         4.000000       2.080000   15159.000000\n",
       "75%        12.000000       4.130000   16807.000000\n",
       "max     80995.000000     649.500000   18287.000000"
      ]
     },
     "execution_count": 28,
     "metadata": {},
     "output_type": "execute_result"
    }
   ],
   "source": [
    "raw_df.describe()"
   ]
  },
  {
   "cell_type": "code",
   "execution_count": 30,
   "id": "81abfb06-c60e-4c0f-9808-4aff8350d833",
   "metadata": {},
   "outputs": [
    {
     "data": {
      "text/plain": [
       "Country\n",
       "United Kingdom          478826\n",
       "Germany                   8643\n",
       "France                    8085\n",
       "EIRE                      7768\n",
       "Spain                     2417\n",
       "Netherlands               2322\n",
       "Belgium                   1935\n",
       "Switzerland               1927\n",
       "Portugal                  1455\n",
       "Australia                 1180\n",
       "Norway                    1048\n",
       "Channel Islands            743\n",
       "Italy                      741\n",
       "Finland                    647\n",
       "Cyprus                     601\n",
       "Unspecified                442\n",
       "Sweden                     427\n",
       "Austria                    384\n",
       "Denmark                    367\n",
       "Poland                     325\n",
       "Japan                      321\n",
       "Israel                     292\n",
       "Hong Kong                  275\n",
       "Singapore                  215\n",
       "Iceland                    182\n",
       "USA                        179\n",
       "Canada                     150\n",
       "Greece                     142\n",
       "Malta                      109\n",
       "United Arab Emirates        67\n",
       "European Community          57\n",
       "RSA                         57\n",
       "Lebanon                     45\n",
       "Lithuania                   35\n",
       "Brazil                      32\n",
       "Czech Republic              24\n",
       "Bahrain                     18\n",
       "Saudi Arabia                 9\n",
       "Name: count, dtype: int64"
      ]
     },
     "execution_count": 30,
     "metadata": {},
     "output_type": "execute_result"
    }
   ],
   "source": [
    "raw_df[\"Country\"].value_counts()"
   ]
  },
  {
   "cell_type": "code",
   "execution_count": null,
   "id": "df84c117-1506-4251-b7ee-9387e3ae13b6",
   "metadata": {},
   "outputs": [],
   "source": []
  },
  {
   "cell_type": "code",
   "execution_count": null,
   "id": "fa806eb7-709e-48a0-bd76-88a67aae72e9",
   "metadata": {},
   "outputs": [],
   "source": []
  },
  {
   "cell_type": "code",
   "execution_count": null,
   "id": "b3f60a95-bbce-4e27-b75b-ad82ff928d59",
   "metadata": {},
   "outputs": [],
   "source": []
  },
  {
   "cell_type": "code",
   "execution_count": 31,
   "id": "134a7c26-28b2-4155-89e4-bebbfd2c8fb0",
   "metadata": {},
   "outputs": [
    {
     "data": {
      "text/html": [
       "<div>\n",
       "<style scoped>\n",
       "    .dataframe tbody tr th:only-of-type {\n",
       "        vertical-align: middle;\n",
       "    }\n",
       "\n",
       "    .dataframe tbody tr th {\n",
       "        vertical-align: top;\n",
       "    }\n",
       "\n",
       "    .dataframe thead th {\n",
       "        text-align: right;\n",
       "    }\n",
       "</style>\n",
       "<table border=\"1\" class=\"dataframe\">\n",
       "  <thead>\n",
       "    <tr style=\"text-align: right;\">\n",
       "      <th></th>\n",
       "      <th>InvoiceNo</th>\n",
       "      <th>StockCode</th>\n",
       "      <th>Description</th>\n",
       "      <th>Quantity</th>\n",
       "      <th>InvoiceDate</th>\n",
       "      <th>UnitPrice</th>\n",
       "      <th>CustomerID</th>\n",
       "      <th>Country</th>\n",
       "    </tr>\n",
       "  </thead>\n",
       "  <tbody>\n",
       "    <tr>\n",
       "      <th>223792</th>\n",
       "      <td>556491</td>\n",
       "      <td>21363</td>\n",
       "      <td>HOME SMALL WOOD LETTERS</td>\n",
       "      <td>1</td>\n",
       "      <td>12-06-2011 14:15</td>\n",
       "      <td>4.95</td>\n",
       "      <td>16794.0</td>\n",
       "      <td>United Kingdom</td>\n",
       "    </tr>\n",
       "  </tbody>\n",
       "</table>\n",
       "</div>"
      ],
      "text/plain": [
       "       InvoiceNo StockCode              Description  Quantity  \\\n",
       "223792    556491     21363  HOME SMALL WOOD LETTERS         1   \n",
       "\n",
       "             InvoiceDate  UnitPrice  CustomerID         Country  \n",
       "223792  12-06-2011 14:15       4.95     16794.0  United Kingdom  "
      ]
     },
     "execution_count": 31,
     "metadata": {},
     "output_type": "execute_result"
    }
   ],
   "source": [
    "raw_df.sample()"
   ]
  },
  {
   "cell_type": "code",
   "execution_count": null,
   "id": "cdbe7884-5783-478b-987e-53bd67762e14",
   "metadata": {},
   "outputs": [],
   "source": []
  },
  {
   "cell_type": "code",
   "execution_count": null,
   "id": "ac2380f0-6e94-43f4-8838-5fbf931ced90",
   "metadata": {},
   "outputs": [],
   "source": []
  },
  {
   "cell_type": "code",
   "execution_count": 32,
   "id": "d77d4626-555d-43c7-b1af-2dda614665a3",
   "metadata": {
    "scrolled": true
   },
   "outputs": [
    {
     "name": "stderr",
     "output_type": "stream",
     "text": [
      "C:\\Users\\Alok\\AppData\\Local\\Temp\\ipykernel_3232\\1538881863.py:2: SettingWithCopyWarning: \n",
      "A value is trying to be set on a copy of a slice from a DataFrame.\n",
      "Try using .loc[row_indexer,col_indexer] = value instead\n",
      "\n",
      "See the caveats in the documentation: https://pandas.pydata.org/pandas-docs/stable/user_guide/indexing.html#returning-a-view-versus-a-copy\n",
      "  uk_mask['CustomerID'] = uk_mask['CustomerID'].fillna(method='ffill')\n"
     ]
    }
   ],
   "source": [
    "uk_mask = raw_df[raw_df[\"Country\"] == \"United Kingdom\"]\n",
    "uk_mask['CustomerID'] = uk_mask['CustomerID'].fillna(method='ffill')\n",
    "raw_df.loc[uk_mask.index, 'CustomerID'] = uk_mask['CustomerID']"
   ]
  },
  {
   "cell_type": "code",
   "execution_count": 33,
   "id": "34355de5-a04a-4759-b39e-d2c99604d273",
   "metadata": {},
   "outputs": [
    {
     "name": "stderr",
     "output_type": "stream",
     "text": [
      "C:\\Users\\Alok\\AppData\\Local\\Temp\\ipykernel_3232\\1323955997.py:2: SettingWithCopyWarning: \n",
      "A value is trying to be set on a copy of a slice from a DataFrame.\n",
      "Try using .loc[row_indexer,col_indexer] = value instead\n",
      "\n",
      "See the caveats in the documentation: https://pandas.pydata.org/pandas-docs/stable/user_guide/indexing.html#returning-a-view-versus-a-copy\n",
      "  rest_mask['CustomerID'] = rest_mask['CustomerID'].fillna(method='ffill')\n"
     ]
    }
   ],
   "source": [
    "rest_mask = raw_df[raw_df[\"Country\"] != \"United Kingdom\"]\n",
    "rest_mask['CustomerID'] = rest_mask['CustomerID'].fillna(method='ffill')\n",
    "raw_df.loc[rest_mask.index, 'CustomerID'] = rest_mask['CustomerID']"
   ]
  },
  {
   "cell_type": "code",
   "execution_count": 34,
   "id": "1befa5d9-56c8-464c-9381-93c567b0860b",
   "metadata": {},
   "outputs": [
    {
     "data": {
      "text/plain": [
       "<Axes: xlabel='CustomerID', ylabel='Density'>"
      ]
     },
     "execution_count": 34,
     "metadata": {},
     "output_type": "execute_result"
    },
    {
     "data": {
      "image/png": "[encoded data removed]",
      "text/plain": [
       "<Figure size 1000x500 with 2 Axes>"
      ]
     },
     "metadata": {},
     "output_type": "display_data"
    }
   ],
   "source": [
    "plt.figure(figsize=(10,5))\n",
    "plt.subplot(1,2,1)\n",
    "sns.kdeplot(original_df[\"CustomerID\"])\n",
    "\n",
    "plt.subplot(1,2,2)\n",
    "sns.kdeplot(raw_df[\"CustomerID\"])"
   ]
  },
  {
   "cell_type": "code",
   "execution_count": 35,
   "id": "8d579d5b-cf13-4065-83f2-9b284018bb99",
   "metadata": {},
   "outputs": [
    {
     "data": {
      "text/plain": [
       "InvoiceNo      0\n",
       "StockCode      0\n",
       "Description    0\n",
       "Quantity       0\n",
       "InvoiceDate    0\n",
       "UnitPrice      0\n",
       "CustomerID     0\n",
       "Country        0\n",
       "dtype: int64"
      ]
     },
     "execution_count": 35,
     "metadata": {},
     "output_type": "execute_result"
    }
   ],
   "source": [
    "raw_df.isnull().sum()"
   ]
  },
  {
   "cell_type": "code",
   "execution_count": null,
   "id": "b9f0e984-6942-45f5-b848-f70609f83ee1",
   "metadata": {},
   "outputs": [],
   "source": []
  },
  {
   "cell_type": "code",
   "execution_count": 36,
   "id": "0567158d-ca10-4058-b860-2abeafc72e7f",
   "metadata": {},
   "outputs": [
    {
     "name": "stdout",
     "output_type": "stream",
     "text": [
      "<class 'pandas.core.frame.DataFrame'>\n",
      "Index: 522492 entries, 0 to 541908\n",
      "Data columns (total 8 columns):\n",
      " #   Column       Non-Null Count   Dtype  \n",
      "---  ------       --------------   -----  \n",
      " 0   InvoiceNo    522492 non-null  object \n",
      " 1   StockCode    522492 non-null  object \n",
      " 2   Description  522492 non-null  object \n",
      " 3   Quantity     522492 non-null  int64  \n",
      " 4   InvoiceDate  522492 non-null  object \n",
      " 5   UnitPrice    522492 non-null  float64\n",
      " 6   CustomerID   522492 non-null  float64\n",
      " 7   Country      522492 non-null  object \n",
      "dtypes: float64(2), int64(1), object(5)\n",
      "memory usage: 52.0+ MB\n"
     ]
    }
   ],
   "source": [
    "raw_df.info()"
   ]
  },
  {
   "cell_type": "code",
   "execution_count": null,
   "id": "41a5f6a9-db75-4f58-8127-dd6cd37b6b9c",
   "metadata": {
    "scrolled": true
   },
   "outputs": [],
   "source": []
  },
  {
   "cell_type": "code",
   "execution_count": null,
   "id": "ef463bed-b2d1-4952-a958-daceee021d6a",
   "metadata": {},
   "outputs": [],
   "source": []
  },
  {
   "cell_type": "code",
   "execution_count": null,
   "id": "95ca8655-e8d7-453c-a810-c9986d777ed2",
   "metadata": {},
   "outputs": [],
   "source": []
  },
  {
   "cell_type": "code",
   "execution_count": null,
   "id": "0d3596f2-4761-4f1f-9d92-fc12051452eb",
   "metadata": {},
   "outputs": [],
   "source": []
  },
  {
   "cell_type": "code",
   "execution_count": null,
   "id": "907d8416-342a-468d-8174-ae7b65b9397b",
   "metadata": {},
   "outputs": [],
   "source": []
  },
  {
   "cell_type": "code",
   "execution_count": 22,
   "id": "47870190-4a8e-4c15-9df3-25dd99602b63",
   "metadata": {},
   "outputs": [
    {
     "data": {
      "text/html": [
       "<div>\n",
       "<style scoped>\n",
       "    .dataframe tbody tr th:only-of-type {\n",
       "        vertical-align: middle;\n",
       "    }\n",
       "\n",
       "    .dataframe tbody tr th {\n",
       "        vertical-align: top;\n",
       "    }\n",
       "\n",
       "    .dataframe thead th {\n",
       "        text-align: right;\n",
       "    }\n",
       "</style>\n",
       "<table border=\"1\" class=\"dataframe\">\n",
       "  <thead>\n",
       "    <tr style=\"text-align: right;\">\n",
       "      <th></th>\n",
       "      <th>InvoiceNo</th>\n",
       "      <th>StockCode</th>\n",
       "      <th>Description</th>\n",
       "      <th>Quantity</th>\n",
       "      <th>InvoiceDate</th>\n",
       "      <th>UnitPrice</th>\n",
       "      <th>CustomerID</th>\n",
       "      <th>Country</th>\n",
       "    </tr>\n",
       "  </thead>\n",
       "  <tbody>\n",
       "    <tr>\n",
       "      <th>406279</th>\n",
       "      <td>571746</td>\n",
       "      <td>23133</td>\n",
       "      <td>LARGE IVORY HEART WALL ORGANISER</td>\n",
       "      <td>2</td>\n",
       "      <td>19-10-2011 10:56</td>\n",
       "      <td>8.25</td>\n",
       "      <td>17043.0</td>\n",
       "      <td>United Kingdom</td>\n",
       "    </tr>\n",
       "  </tbody>\n",
       "</table>\n",
       "</div>"
      ],
      "text/plain": [
       "       InvoiceNo StockCode                       Description  Quantity  \\\n",
       "406279    571746     23133  LARGE IVORY HEART WALL ORGANISER         2   \n",
       "\n",
       "             InvoiceDate  UnitPrice  CustomerID         Country  \n",
       "406279  19-10-2011 10:56       8.25     17043.0  United Kingdom  "
      ]
     },
     "execution_count": 22,
     "metadata": {},
     "output_type": "execute_result"
    }
   ],
   "source": [
    "\n",
    "raw_df.sample(1)"
   ]
  },
  {
   "cell_type": "code",
   "execution_count": 23,
   "id": "188816f6-f2e0-47fe-8577-3669a6ac58b5",
   "metadata": {},
   "outputs": [],
   "source": [
    "# raw_df.to_csv(\"imputed_df.csv\",index=False)"
   ]
  },
  {
   "cell_type": "code",
   "execution_count": 37,
   "id": "1a37325d-d093-4939-b974-8c80e6376327",
   "metadata": {},
   "outputs": [],
   "source": [
    "imputed_df = pd.read_csv(\"imputed_df.csv\",encoding=\"latin1\")"
   ]
  },
  {
   "cell_type": "code",
   "execution_count": 38,
   "id": "c9c3f113-6815-4592-9837-a2c0ae36687f",
   "metadata": {},
   "outputs": [
    {
     "name": "stdout",
     "output_type": "stream",
     "text": [
      "<class 'pandas.core.frame.DataFrame'>\n",
      "RangeIndex: 522492 entries, 0 to 522491\n",
      "Data columns (total 8 columns):\n",
      " #   Column       Non-Null Count   Dtype  \n",
      "---  ------       --------------   -----  \n",
      " 0   InvoiceNo    522492 non-null  int64  \n",
      " 1   StockCode    522492 non-null  object \n",
      " 2   Description  522492 non-null  object \n",
      " 3   Quantity     522492 non-null  int64  \n",
      " 4   InvoiceDate  522492 non-null  object \n",
      " 5   UnitPrice    522492 non-null  float64\n",
      " 6   CustomerID   522492 non-null  float64\n",
      " 7   Country      522492 non-null  object \n",
      "dtypes: float64(2), int64(2), object(4)\n",
      "memory usage: 31.9+ MB\n"
     ]
    }
   ],
   "source": [
    "imputed_df.info()"
   ]
  },
  {
   "cell_type": "code",
   "execution_count": 26,
   "id": "b2b2477d-92c0-4691-be1e-e1ff7f76ec5d",
   "metadata": {},
   "outputs": [],
   "source": [
    "imputed_df[\"Quantity\"] = imputed_df[\"Quantity\"].astype(\"int32\")\n",
    "imputed_df[\"UnitPrice\"] = imputed_df[\"UnitPrice\"].astype(\"float32\")\n",
    "imputed_df[\"CustomerID\"] = imputed_df[\"CustomerID\"].astype(\"int16\")"
   ]
  },
  {
   "cell_type": "code",
   "execution_count": 27,
   "id": "93a5de9b-3ce0-4446-aeef-2be41234e507",
   "metadata": {},
   "outputs": [
    {
     "data": {
      "text/html": [
       "<div>\n",
       "<style scoped>\n",
       "    .dataframe tbody tr th:only-of-type {\n",
       "        vertical-align: middle;\n",
       "    }\n",
       "\n",
       "    .dataframe tbody tr th {\n",
       "        vertical-align: top;\n",
       "    }\n",
       "\n",
       "    .dataframe thead th {\n",
       "        text-align: right;\n",
       "    }\n",
       "</style>\n",
       "<table border=\"1\" class=\"dataframe\">\n",
       "  <thead>\n",
       "    <tr style=\"text-align: right;\">\n",
       "      <th></th>\n",
       "      <th>InvoiceNo</th>\n",
       "      <th>Quantity</th>\n",
       "      <th>UnitPrice</th>\n",
       "      <th>CustomerID</th>\n",
       "    </tr>\n",
       "  </thead>\n",
       "  <tbody>\n",
       "    <tr>\n",
       "      <th>count</th>\n",
       "      <td>522492.000000</td>\n",
       "      <td>522492.000000</td>\n",
       "      <td>522492.000000</td>\n",
       "      <td>522492.000000</td>\n",
       "    </tr>\n",
       "    <tr>\n",
       "      <th>mean</th>\n",
       "      <td>559960.589221</td>\n",
       "      <td>10.643878</td>\n",
       "      <td>3.273247</td>\n",
       "      <td>15362.162506</td>\n",
       "    </tr>\n",
       "    <tr>\n",
       "      <th>std</th>\n",
       "      <td>13420.821461</td>\n",
       "      <td>156.601288</td>\n",
       "      <td>4.393903</td>\n",
       "      <td>1705.928914</td>\n",
       "    </tr>\n",
       "    <tr>\n",
       "      <th>min</th>\n",
       "      <td>536365.000000</td>\n",
       "      <td>1.000000</td>\n",
       "      <td>0.001000</td>\n",
       "      <td>12346.000000</td>\n",
       "    </tr>\n",
       "    <tr>\n",
       "      <th>25%</th>\n",
       "      <td>547906.000000</td>\n",
       "      <td>1.000000</td>\n",
       "      <td>1.250000</td>\n",
       "      <td>13984.000000</td>\n",
       "    </tr>\n",
       "    <tr>\n",
       "      <th>50%</th>\n",
       "      <td>560688.000000</td>\n",
       "      <td>4.000000</td>\n",
       "      <td>2.080000</td>\n",
       "      <td>15297.000000</td>\n",
       "    </tr>\n",
       "    <tr>\n",
       "      <th>75%</th>\n",
       "      <td>571797.000000</td>\n",
       "      <td>12.000000</td>\n",
       "      <td>4.130000</td>\n",
       "      <td>16877.000000</td>\n",
       "    </tr>\n",
       "    <tr>\n",
       "      <th>max</th>\n",
       "      <td>581587.000000</td>\n",
       "      <td>80995.000000</td>\n",
       "      <td>649.500000</td>\n",
       "      <td>18287.000000</td>\n",
       "    </tr>\n",
       "  </tbody>\n",
       "</table>\n",
       "</div>"
      ],
      "text/plain": [
       "           InvoiceNo       Quantity      UnitPrice     CustomerID\n",
       "count  522492.000000  522492.000000  522492.000000  522492.000000\n",
       "mean   559960.589221      10.643878       3.273247   15362.162506\n",
       "std     13420.821461     156.601288       4.393903    1705.928914\n",
       "min    536365.000000       1.000000       0.001000   12346.000000\n",
       "25%    547906.000000       1.000000       1.250000   13984.000000\n",
       "50%    560688.000000       4.000000       2.080000   15297.000000\n",
       "75%    571797.000000      12.000000       4.130000   16877.000000\n",
       "max    581587.000000   80995.000000     649.500000   18287.000000"
      ]
     },
     "execution_count": 27,
     "metadata": {},
     "output_type": "execute_result"
    }
   ],
   "source": [
    "imputed_df.describe()"
   ]
  },
  {
   "cell_type": "code",
   "execution_count": null,
   "id": "16059fde-ec21-4f69-8fe9-a6db8d4cccc3",
   "metadata": {},
   "outputs": [],
   "source": []
  },
  {
   "cell_type": "code",
   "execution_count": 39,
   "id": "ee821e7d-8b81-44ad-8d98-e7b50745ced2",
   "metadata": {},
   "outputs": [
    {
     "name": "stdout",
     "output_type": "stream",
     "text": [
      "<class 'pandas.core.frame.DataFrame'>\n",
      "RangeIndex: 522492 entries, 0 to 522491\n",
      "Data columns (total 8 columns):\n",
      " #   Column       Non-Null Count   Dtype  \n",
      "---  ------       --------------   -----  \n",
      " 0   InvoiceNo    522492 non-null  int64  \n",
      " 1   StockCode    522492 non-null  object \n",
      " 2   Description  522492 non-null  object \n",
      " 3   Quantity     522492 non-null  int64  \n",
      " 4   InvoiceDate  522492 non-null  object \n",
      " 5   UnitPrice    522492 non-null  float64\n",
      " 6   CustomerID   522492 non-null  float64\n",
      " 7   Country      522492 non-null  object \n",
      "dtypes: float64(2), int64(2), object(4)\n",
      "memory usage: 31.9+ MB\n"
     ]
    }
   ],
   "source": [
    "imputed_df.info()"
   ]
  },
  {
   "cell_type": "code",
   "execution_count": 40,
   "id": "69ba7778-b3a8-41cf-8ec8-d80a86d15047",
   "metadata": {},
   "outputs": [
    {
     "data": {
      "text/html": [
       "<div>\n",
       "<style scoped>\n",
       "    .dataframe tbody tr th:only-of-type {\n",
       "        vertical-align: middle;\n",
       "    }\n",
       "\n",
       "    .dataframe tbody tr th {\n",
       "        vertical-align: top;\n",
       "    }\n",
       "\n",
       "    .dataframe thead th {\n",
       "        text-align: right;\n",
       "    }\n",
       "</style>\n",
       "<table border=\"1\" class=\"dataframe\">\n",
       "  <thead>\n",
       "    <tr style=\"text-align: right;\">\n",
       "      <th></th>\n",
       "      <th>InvoiceNo</th>\n",
       "      <th>StockCode</th>\n",
       "      <th>Description</th>\n",
       "      <th>Quantity</th>\n",
       "      <th>InvoiceDate</th>\n",
       "      <th>UnitPrice</th>\n",
       "      <th>CustomerID</th>\n",
       "      <th>Country</th>\n",
       "    </tr>\n",
       "  </thead>\n",
       "  <tbody>\n",
       "    <tr>\n",
       "      <th>0</th>\n",
       "      <td>536365</td>\n",
       "      <td>85123A</td>\n",
       "      <td>WHITE HANGING HEART T-LIGHT HOLDER</td>\n",
       "      <td>6</td>\n",
       "      <td>01-12-2010 08:26</td>\n",
       "      <td>2.55</td>\n",
       "      <td>17850.0</td>\n",
       "      <td>United Kingdom</td>\n",
       "    </tr>\n",
       "    <tr>\n",
       "      <th>1</th>\n",
       "      <td>536365</td>\n",
       "      <td>71053</td>\n",
       "      <td>WHITE METAL LANTERN</td>\n",
       "      <td>6</td>\n",
       "      <td>01-12-2010 08:26</td>\n",
       "      <td>3.39</td>\n",
       "      <td>17850.0</td>\n",
       "      <td>United Kingdom</td>\n",
       "    </tr>\n",
       "    <tr>\n",
       "      <th>2</th>\n",
       "      <td>536365</td>\n",
       "      <td>84406B</td>\n",
       "      <td>CREAM CUPID HEARTS COAT HANGER</td>\n",
       "      <td>8</td>\n",
       "      <td>01-12-2010 08:26</td>\n",
       "      <td>2.75</td>\n",
       "      <td>17850.0</td>\n",
       "      <td>United Kingdom</td>\n",
       "    </tr>\n",
       "    <tr>\n",
       "      <th>3</th>\n",
       "      <td>536365</td>\n",
       "      <td>84029G</td>\n",
       "      <td>KNITTED UNION FLAG HOT WATER BOTTLE</td>\n",
       "      <td>6</td>\n",
       "      <td>01-12-2010 08:26</td>\n",
       "      <td>3.39</td>\n",
       "      <td>17850.0</td>\n",
       "      <td>United Kingdom</td>\n",
       "    </tr>\n",
       "    <tr>\n",
       "      <th>4</th>\n",
       "      <td>536365</td>\n",
       "      <td>84029E</td>\n",
       "      <td>RED WOOLLY HOTTIE WHITE HEART.</td>\n",
       "      <td>6</td>\n",
       "      <td>01-12-2010 08:26</td>\n",
       "      <td>3.39</td>\n",
       "      <td>17850.0</td>\n",
       "      <td>United Kingdom</td>\n",
       "    </tr>\n",
       "  </tbody>\n",
       "</table>\n",
       "</div>"
      ],
      "text/plain": [
       "   InvoiceNo StockCode                          Description  Quantity  \\\n",
       "0     536365    85123A   WHITE HANGING HEART T-LIGHT HOLDER         6   \n",
       "1     536365     71053                  WHITE METAL LANTERN         6   \n",
       "2     536365    84406B       CREAM CUPID HEARTS COAT HANGER         8   \n",
       "3     536365    84029G  KNITTED UNION FLAG HOT WATER BOTTLE         6   \n",
       "4     536365    84029E       RED WOOLLY HOTTIE WHITE HEART.         6   \n",
       "\n",
       "        InvoiceDate  UnitPrice  CustomerID         Country  \n",
       "0  01-12-2010 08:26       2.55     17850.0  United Kingdom  \n",
       "1  01-12-2010 08:26       3.39     17850.0  United Kingdom  \n",
       "2  01-12-2010 08:26       2.75     17850.0  United Kingdom  \n",
       "3  01-12-2010 08:26       3.39     17850.0  United Kingdom  \n",
       "4  01-12-2010 08:26       3.39     17850.0  United Kingdom  "
      ]
     },
     "execution_count": 40,
     "metadata": {},
     "output_type": "execute_result"
    }
   ],
   "source": [
    "imputed_df.head()"
   ]
  },
  {
   "cell_type": "code",
   "execution_count": null,
   "id": "3fba49f0-d91d-4084-b459-1017fb42fc3d",
   "metadata": {},
   "outputs": [],
   "source": []
  },
  {
   "cell_type": "code",
   "execution_count": 41,
   "id": "72bc580b-1b5b-4ae3-8d85-c088a99b9b1a",
   "metadata": {},
   "outputs": [],
   "source": [
    "UK_sales = imputed_df[imputed_df[\"Country\"] == \"United Kingdom\"]\n",
    "Rest_country_sales = imputed_df[imputed_df[\"Country\"] != \"United Kingdom\"]"
   ]
  },
  {
   "cell_type": "code",
   "execution_count": 42,
   "id": "323af82a-127e-4866-8c6b-39b600aab35d",
   "metadata": {},
   "outputs": [
    {
     "data": {
      "text/plain": [
       "Quantity\n",
       "1        141051\n",
       "2         77741\n",
       "12        50201\n",
       "3         35035\n",
       "6         34946\n",
       "          ...  \n",
       "828           1\n",
       "512           1\n",
       "1400          1\n",
       "291           1\n",
       "80995         1\n",
       "Name: count, Length: 368, dtype: int64"
      ]
     },
     "execution_count": 42,
     "metadata": {},
     "output_type": "execute_result"
    }
   ],
   "source": [
    "UK_sales[\"Quantity\"].value_counts()"
   ]
  },
  {
   "cell_type": "code",
   "execution_count": null,
   "id": "fd078e40-2440-4516-bc95-bd8efa08303f",
   "metadata": {},
   "outputs": [],
   "source": []
  },
  {
   "cell_type": "code",
   "execution_count": null,
   "id": "73fe276e-9d20-48cc-b9c1-e775a676d0b9",
   "metadata": {},
   "outputs": [],
   "source": []
  },
  {
   "cell_type": "code",
   "execution_count": 55,
   "id": "417483b8-b065-4916-8d08-27d2a5f0589b",
   "metadata": {},
   "outputs": [],
   "source": [
    "def calculate_iqr(series):\n",
    "    # Calculate Q1 and Q3\n",
    "    Q1 = series.quantile(0.25)\n",
    "    Q3 = series.quantile(0.75)\n",
    "    \n",
    "    # Calculate IQR\n",
    "    IQR = Q3 - Q1\n",
    "    \n",
    "    # Calculate upper and lower fences\n",
    "    upper_fence = Q3 + 1.5 * IQR\n",
    "    lower_fence = Q1 - 1.5 * IQR\n",
    "    \n",
    "    # Print the fences\n",
    "    print(\"Upper Fence =\", upper_fence)\n",
    "    print(\"Lower Fence =\", lower_fence)"
   ]
  },
  {
   "cell_type": "code",
   "execution_count": 56,
   "id": "f6a2f7ae-8639-4a08-9ce6-f41fac0fa888",
   "metadata": {},
   "outputs": [
    {
     "data": {
      "text/html": [
       "<div>\n",
       "<style scoped>\n",
       "    .dataframe tbody tr th:only-of-type {\n",
       "        vertical-align: middle;\n",
       "    }\n",
       "\n",
       "    .dataframe tbody tr th {\n",
       "        vertical-align: top;\n",
       "    }\n",
       "\n",
       "    .dataframe thead th {\n",
       "        text-align: right;\n",
       "    }\n",
       "</style>\n",
       "<table border=\"1\" class=\"dataframe\">\n",
       "  <thead>\n",
       "    <tr style=\"text-align: right;\">\n",
       "      <th></th>\n",
       "      <th>InvoiceNo</th>\n",
       "      <th>StockCode</th>\n",
       "      <th>Description</th>\n",
       "      <th>Quantity</th>\n",
       "      <th>InvoiceDate</th>\n",
       "      <th>UnitPrice</th>\n",
       "      <th>CustomerID</th>\n",
       "      <th>Country</th>\n",
       "    </tr>\n",
       "  </thead>\n",
       "  <tbody>\n",
       "    <tr>\n",
       "      <th>315453</th>\n",
       "      <td>565648</td>\n",
       "      <td>23436</td>\n",
       "      <td>VINTAGE CHRISTMAS GIFT BAG LARGE</td>\n",
       "      <td>3</td>\n",
       "      <td>05-09-2011 16:22</td>\n",
       "      <td>1.25</td>\n",
       "      <td>18196.0</td>\n",
       "      <td>United Kingdom</td>\n",
       "    </tr>\n",
       "  </tbody>\n",
       "</table>\n",
       "</div>"
      ],
      "text/plain": [
       "        InvoiceNo StockCode                        Description  Quantity  \\\n",
       "315453     565648     23436  VINTAGE CHRISTMAS GIFT BAG LARGE          3   \n",
       "\n",
       "             InvoiceDate  UnitPrice  CustomerID         Country  \n",
       "315453  05-09-2011 16:22       1.25     18196.0  United Kingdom  "
      ]
     },
     "execution_count": 56,
     "metadata": {},
     "output_type": "execute_result"
    }
   ],
   "source": [
    "UK_sales.sample()"
   ]
  },
  {
   "cell_type": "code",
   "execution_count": 57,
   "id": "28d4b16a-ebb0-4047-8fe8-7891b40cc706",
   "metadata": {},
   "outputs": [
    {
     "name": "stdout",
     "output_type": "stream",
     "text": [
      "<class 'pandas.core.frame.DataFrame'>\n",
      "Index: 478826 entries, 0 to 522476\n",
      "Data columns (total 8 columns):\n",
      " #   Column       Non-Null Count   Dtype  \n",
      "---  ------       --------------   -----  \n",
      " 0   InvoiceNo    478826 non-null  int64  \n",
      " 1   StockCode    478826 non-null  object \n",
      " 2   Description  478826 non-null  object \n",
      " 3   Quantity     478826 non-null  int64  \n",
      " 4   InvoiceDate  478826 non-null  object \n",
      " 5   UnitPrice    478826 non-null  float64\n",
      " 6   CustomerID   478826 non-null  float64\n",
      " 7   Country      478826 non-null  object \n",
      "dtypes: float64(2), int64(2), object(4)\n",
      "memory usage: 32.9+ MB\n"
     ]
    }
   ],
   "source": [
    "UK_sales.info()"
   ]
  },
  {
   "cell_type": "code",
   "execution_count": 58,
   "id": "6d8c22b3-afb2-4516-964a-a9475368c41f",
   "metadata": {},
   "outputs": [
    {
     "name": "stdout",
     "output_type": "stream",
     "text": [
      "Upper Fence = 23.5\n",
      "Lower Fence = -12.5\n"
     ]
    }
   ],
   "source": [
    "calculate_iqr(UK_sales[\"Quantity\"])"
   ]
  },
  {
   "cell_type": "code",
   "execution_count": 59,
   "id": "b2fdc6d4-1ce9-42f5-939c-df5ab7be79a2",
   "metadata": {},
   "outputs": [
    {
     "data": {
      "text/plain": [
       "count    478826.000000\n",
       "mean          9.688421\n",
       "std         162.912221\n",
       "min           1.000000\n",
       "25%           1.000000\n",
       "50%           3.000000\n",
       "75%          10.000000\n",
       "max       80995.000000\n",
       "Name: Quantity, dtype: float64"
      ]
     },
     "execution_count": 59,
     "metadata": {},
     "output_type": "execute_result"
    }
   ],
   "source": [
    "UK_sales[\"Quantity\"].describe()"
   ]
  },
  {
   "cell_type": "code",
   "execution_count": 60,
   "id": "efda19b1-d00f-455a-89a7-3812e3cb4498",
   "metadata": {},
   "outputs": [
    {
     "data": {
      "image/png": "[encoded data removed]",
      "text/plain": [
       "<Figure size 1000x400 with 2 Axes>"
      ]
     },
     "metadata": {},
     "output_type": "display_data"
    }
   ],
   "source": [
    "plt.figure(figsize=(10,4))\n",
    "\n",
    "plt.subplot(1,2,1)\n",
    "sns.boxplot(UK_sales[\"Quantity\"])\n",
    "\n",
    "plt.subplot(1,2,2)\n",
    "sns.kdeplot(UK_sales[\"Quantity\"])\n",
    "\n",
    "plt.tight_layout()\n"
   ]
  },
  {
   "cell_type": "code",
   "execution_count": 61,
   "id": "e507c341-8cde-4682-85c0-e12a6cc9bd75",
   "metadata": {},
   "outputs": [
    {
     "data": {
      "text/plain": [
       "454.3459350864091"
      ]
     },
     "execution_count": 61,
     "metadata": {},
     "output_type": "execute_result"
    }
   ],
   "source": [
    "UK_sales[\"Quantity\"].skew()"
   ]
  },
  {
   "cell_type": "code",
   "execution_count": 62,
   "id": "14f07473-e61a-4451-abd7-1ee65c5eb979",
   "metadata": {},
   "outputs": [
    {
     "name": "stdout",
     "output_type": "stream",
     "text": [
      "Upper Fence = 23.5\n",
      "Lower Fence = -12.5\n"
     ]
    }
   ],
   "source": [
    "calculate_iqr(UK_sales[\"Quantity\"])"
   ]
  },
  {
   "cell_type": "code",
   "execution_count": 63,
   "id": "1d26a9b2-c0c6-410e-99cb-7a874024df34",
   "metadata": {},
   "outputs": [
    {
     "name": "stderr",
     "output_type": "stream",
     "text": [
      "C:\\Users\\Alok\\AppData\\Local\\Temp\\ipykernel_3232\\3666331187.py:1: SettingWithCopyWarning: \n",
      "A value is trying to be set on a copy of a slice from a DataFrame.\n",
      "Try using .loc[row_indexer,col_indexer] = value instead\n",
      "\n",
      "See the caveats in the documentation: https://pandas.pydata.org/pandas-docs/stable/user_guide/indexing.html#returning-a-view-versus-a-copy\n",
      "  UK_sales[\"Quantity_log\"] = np.log1p(UK_sales[\"Quantity\"])\n"
     ]
    },
    {
     "data": {
      "text/plain": [
       "1.0829452101580714"
      ]
     },
     "execution_count": 63,
     "metadata": {},
     "output_type": "execute_result"
    }
   ],
   "source": [
    "UK_sales[\"Quantity_log\"] = np.log1p(UK_sales[\"Quantity\"])\n",
    "UK_sales[\"Quantity_log\"].skew()"
   ]
  },
  {
   "cell_type": "code",
   "execution_count": 64,
   "id": "9b210818-badc-40cf-8cf9-5b40fcbc9800",
   "metadata": {},
   "outputs": [
    {
     "data": {
      "text/plain": [
       "<Axes: xlabel='Quantity_log', ylabel='Count'>"
      ]
     },
     "execution_count": 64,
     "metadata": {},
     "output_type": "execute_result"
    },
    {
     "data": {
      "image/png": "[encoded data removed]",
      "text/plain": [
       "<Figure size 640x480 with 1 Axes>"
      ]
     },
     "metadata": {},
     "output_type": "display_data"
    }
   ],
   "source": [
    "sns.histplot(UK_sales[\"Quantity_log\"], kde=True)"
   ]
  },
  {
   "cell_type": "code",
   "execution_count": 65,
   "id": "6b0115a7-3656-460e-be34-8dfc29366320",
   "metadata": {},
   "outputs": [
    {
     "name": "stdout",
     "output_type": "stream",
     "text": [
      "Upper Fence = 4.955017411156009\n",
      "Lower Fence = -1.8639749577976925\n"
     ]
    }
   ],
   "source": [
    "calculate_iqr(UK_sales[\"Quantity_log\"])"
   ]
  },
  {
   "cell_type": "code",
   "execution_count": 66,
   "id": "b8c01b4b-c2f8-4e9a-9e2c-a0f71e10a178",
   "metadata": {},
   "outputs": [
    {
     "data": {
      "text/plain": [
       "<Axes: xlabel='Quantity_log', ylabel='Count'>"
      ]
     },
     "execution_count": 66,
     "metadata": {},
     "output_type": "execute_result"
    },
    {
     "data": {
      "image/png": "[encoded data removed]",
      "text/plain": [
       "<Figure size 640x480 with 1 Axes>"
      ]
     },
     "metadata": {},
     "output_type": "display_data"
    }
   ],
   "source": [
    "sns.histplot(UK_sales[\"Quantity_log\"][UK_sales[\"Quantity_log\"]<4.95], kde=True)"
   ]
  },
  {
   "cell_type": "code",
   "execution_count": 67,
   "id": "73ab589a-091c-44ac-b4d6-18970ece8602",
   "metadata": {},
   "outputs": [
    {
     "data": {
      "text/plain": [
       "InvoiceNo       478826\n",
       "StockCode       478826\n",
       "Description     478826\n",
       "Quantity        478826\n",
       "InvoiceDate     478826\n",
       "UnitPrice       478826\n",
       "CustomerID      478826\n",
       "Country         478826\n",
       "Quantity_log    478826\n",
       "dtype: int64"
      ]
     },
     "execution_count": 67,
     "metadata": {},
     "output_type": "execute_result"
    }
   ],
   "source": [
    "UK_sales.count()"
   ]
  },
  {
   "cell_type": "code",
   "execution_count": 44,
   "id": "bc139830-c266-4072-8984-b5e0f29f6973",
   "metadata": {},
   "outputs": [],
   "source": [
    "quantity_outliers = UK_sales[UK_sales[\"Quantity_log\"]> 4.955] \n",
    "UK_sales = UK_sales[UK_sales[\"Quantity_log\"]< 4.955] "
   ]
  },
  {
   "cell_type": "code",
   "execution_count": 45,
   "id": "7f5cba85-8bec-4243-b813-371d52bace31",
   "metadata": {},
   "outputs": [
    {
     "data": {
      "image/png": "[encoded data removed]",
      "text/plain": [
       "<Figure size 1000x400 with 2 Axes>"
      ]
     },
     "metadata": {},
     "output_type": "display_data"
    }
   ],
   "source": [
    "plt.figure(figsize=(10,4))\n",
    "\n",
    "plt.subplot(1,2,1)\n",
    "sns.boxplot(UK_sales[\"UnitPrice\"])\n",
    "\n",
    "plt.subplot(1,2,2)\n",
    "sns.kdeplot(UK_sales[\"UnitPrice\"])\n",
    "\n",
    "plt.tight_layout()\n"
   ]
  },
  {
   "cell_type": "code",
   "execution_count": 46,
   "id": "d9f388bb-a363-4471-9877-1dd03aadbc6a",
   "metadata": {},
   "outputs": [
    {
     "data": {
      "text/plain": [
       "26.399843"
      ]
     },
     "execution_count": 46,
     "metadata": {},
     "output_type": "execute_result"
    }
   ],
   "source": [
    "UK_sales[\"UnitPrice\"].skew()"
   ]
  },
  {
   "cell_type": "code",
   "execution_count": 47,
   "id": "59fb7e63-3316-428b-9394-80af756e6ad5",
   "metadata": {},
   "outputs": [
    {
     "name": "stdout",
     "output_type": "stream",
     "text": [
      "Upper Fence = 8.450000286102295\n",
      "Lower Fence = -3.070000171661377\n"
     ]
    },
    {
     "data": {
      "text/plain": [
       "(-3.070000171661377, 8.450000286102295)"
      ]
     },
     "execution_count": 47,
     "metadata": {},
     "output_type": "execute_result"
    }
   ],
   "source": [
    "calculate_iqr(UK_sales[\"UnitPrice\"])"
   ]
  },
  {
   "cell_type": "code",
   "execution_count": 48,
   "id": "63a16164-6639-45bb-ae21-7365848ac319",
   "metadata": {},
   "outputs": [
    {
     "data": {
      "text/plain": [
       "0.69375813"
      ]
     },
     "execution_count": 48,
     "metadata": {},
     "output_type": "execute_result"
    }
   ],
   "source": [
    "UK_sales[\"UnitPrice_log\"] = np.log1p(UK_sales[\"UnitPrice\"])\n",
    "UK_sales[\"UnitPrice_log\"].skew()"
   ]
  },
  {
   "cell_type": "code",
   "execution_count": 49,
   "id": "6a73968b-abd6-43ae-9a26-17196c673e13",
   "metadata": {},
   "outputs": [
    {
     "data": {
      "text/plain": [
       "<Axes: xlabel='UnitPrice_log', ylabel='Count'>"
      ]
     },
     "execution_count": 49,
     "metadata": {},
     "output_type": "execute_result"
    },
    {
     "data": {
      "image/png": "[encoded data removed]",
      "text/plain": [
       "<Figure size 640x480 with 1 Axes>"
      ]
     },
     "metadata": {},
     "output_type": "display_data"
    }
   ],
   "source": [
    "sns.histplot(UK_sales[\"UnitPrice_log\"],kde=True)"
   ]
  },
  {
   "cell_type": "code",
   "execution_count": 50,
   "id": "8a24cf69-9e92-42e2-99bb-fd0f4cb10d5c",
   "metadata": {},
   "outputs": [
    {
     "name": "stdout",
     "output_type": "stream",
     "text": [
      "Upper Fence = 2.871369034051895\n",
      "Lower Fence = -0.4253331124782562\n"
     ]
    },
    {
     "data": {
      "text/plain": [
       "(-0.4253331124782562, 2.871369034051895)"
      ]
     },
     "execution_count": 50,
     "metadata": {},
     "output_type": "execute_result"
    }
   ],
   "source": [
    "calculate_iqr(UK_sales[\"UnitPrice_log\"][UK_sales[\"UnitPrice_log\"]<2.87])"
   ]
  },
  {
   "cell_type": "code",
   "execution_count": 51,
   "id": "1e2f4e60-25a1-487b-9dc7-1f55a8505be1",
   "metadata": {},
   "outputs": [],
   "source": [
    "UnitPrice_outliers = UK_sales[UK_sales[\"UnitPrice_log\"]>2.87]\n",
    "UK_sales = UK_sales[UK_sales[\"UnitPrice_log\"]<2.87]\n"
   ]
  },
  {
   "cell_type": "code",
   "execution_count": 52,
   "id": "87e83eb6-f0d7-47a0-9c69-b5d6580a242c",
   "metadata": {},
   "outputs": [],
   "source": [
    "# UK_sales.to_csv(\"UK_SALES_DATA.csv\",index=False)"
   ]
  },
  {
   "cell_type": "code",
   "execution_count": null,
   "id": "896321a2-60ea-40b7-85d5-c73b171f87fc",
   "metadata": {},
   "outputs": [],
   "source": []
  },
  {
   "cell_type": "code",
   "execution_count": null,
   "id": "cfbc55fa-4584-4264-8c08-444bba688f3a",
   "metadata": {},
   "outputs": [],
   "source": []
  },
  {
   "cell_type": "code",
   "execution_count": null,
   "id": "fa0c0e30-cb7b-4085-a4c4-7a751e2cb7bc",
   "metadata": {},
   "outputs": [],
   "source": []
  },
  {
   "cell_type": "code",
   "execution_count": null,
   "id": "b75843d8-cdf8-443b-b788-c31a1537592d",
   "metadata": {},
   "outputs": [],
   "source": []
  },
  {
   "cell_type": "code",
   "execution_count": null,
   "id": "39c44afd-8503-42c9-b2e4-e21dd775c73d",
   "metadata": {},
   "outputs": [],
   "source": []
  },
  {
   "cell_type": "code",
   "execution_count": null,
   "id": "8d7f54ab-50f0-4710-a553-e91935050b89",
   "metadata": {},
   "outputs": [],
   "source": []
  },
  {
   "cell_type": "code",
   "execution_count": null,
   "id": "c563cae1-1a4e-431b-9277-cfdbcfcf0740",
   "metadata": {},
   "outputs": [],
   "source": []
  },
  {
   "cell_type": "code",
   "execution_count": null,
   "id": "b508b1a7-deb0-4469-b30d-fbd17f377784",
   "metadata": {},
   "outputs": [],
   "source": []
  },
  {
   "cell_type": "code",
   "execution_count": null,
   "id": "a7c9dd3b-0308-4411-bb05-f591d74c7422",
   "metadata": {},
   "outputs": [],
   "source": []
  },
  {
   "cell_type": "code",
   "execution_count": null,
   "id": "9f3c60e0-3bce-469d-bd73-1a41dede9d99",
   "metadata": {},
   "outputs": [],
   "source": []
  },
  {
   "cell_type": "code",
   "execution_count": null,
   "id": "e5b8dcb3-a9ad-4557-9c1b-cecfb64e2f03",
   "metadata": {},
   "outputs": [],
   "source": []
  },
  {
   "cell_type": "code",
   "execution_count": null,
   "id": "5590736d-5eb8-4ab4-b8dd-1c927e578bb1",
   "metadata": {},
   "outputs": [],
   "source": []
  },
  {
   "cell_type": "code",
   "execution_count": null,
   "id": "613b4daf-3269-4f36-a204-497deb893ec5",
   "metadata": {},
   "outputs": [],
   "source": []
  },
  {
   "cell_type": "code",
   "execution_count": null,
   "id": "ed74d66c-f24f-413f-a025-fbc68bed1597",
   "metadata": {},
   "outputs": [],
   "source": []
  },
  {
   "cell_type": "code",
   "execution_count": null,
   "id": "7f9ee020-c157-4611-a858-63bf941be5f0",
   "metadata": {},
   "outputs": [],
   "source": []
  },
  {
   "cell_type": "code",
   "execution_count": null,
   "id": "05a116ec-89da-4706-8dfe-a5291f362f22",
   "metadata": {},
   "outputs": [],
   "source": []
  }
 ],
 "metadata": {
  "kernelspec": {
   "display_name": "Python 3 (ipykernel)",
   "language": "python",
   "name": "python3"
  },
  "language_info": {
   "codemirror_mode": {
    "name": "ipython",
    "version": 3
   },
   "file_extension": ".py",
   "mimetype": "text/x-python",
   "name": "python",
   "nbconvert_exporter": "python",
   "pygments_lexer": "ipython3",
   "version": "3.11.3"
  }
 },
 "nbformat": 4,
 "nbformat_minor": 5
}
